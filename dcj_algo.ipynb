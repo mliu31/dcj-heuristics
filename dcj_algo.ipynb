{
 "cells": [
  {
   "cell_type": "code",
   "execution_count": 1,
   "metadata": {},
   "outputs": [
    {
     "data": {
      "text/plain": [
       "print_adj_set_as_adj_list (generic function with 1 method)"
      ]
     },
     "execution_count": 1,
     "metadata": {},
     "output_type": "execute_result"
    }
   ],
   "source": [
    "using NBInclude\n",
    "@nbinclude(\"dcj_datastructs.ipynb\")"
   ]
  },
  {
   "cell_type": "code",
   "execution_count": 2,
   "metadata": {},
   "outputs": [
    {
     "data": {
      "text/plain": [
       "process_adj_list (generic function with 1 method)"
      ]
     },
     "execution_count": 2,
     "metadata": {},
     "output_type": "execute_result"
    }
   ],
   "source": [
    "# process adj list \n",
    "# create dictionary of gene ID --> index/location of gene's head and tail \n",
    "\n",
    "function process_adj_list_helper(ge::GeneEnd, idx::Ref{Int}, gid_to_loc::DefaultDict{Int, Vector{Int}})\n",
    "    if ge.gene == Telomere() \n",
    "        return\n",
    "    end  \n",
    "\n",
    "    if ge.head == true\n",
    "        gid_to_loc[ge.gene.id][2] = idx[]\n",
    "    else \n",
    "        gid_to_loc[ge.gene.id][1] = idx[]\n",
    "    end\n",
    "end \n",
    "\n",
    "function process_adj_list(adj_list:: Vector{Adjacency})\n",
    "    geneid_to_location = DefaultDict{Int, Vector{Int}}(() -> zeros(Int, 2)) # tail = idx 1, head = 2 in array\n",
    "    idx = Ref{Int}(1)\n",
    "\n",
    "    for adj in adj_list\n",
    "        process_adj_list_helper(adj.left, idx, geneid_to_location)\n",
    "        process_adj_list_helper(adj.right, idx, geneid_to_location)\n",
    "        idx[] += 1\n",
    "    end \n",
    "    \n",
    "    return geneid_to_location \n",
    "end "
   ]
  },
  {
   "cell_type": "code",
   "execution_count": 3,
   "metadata": {},
   "outputs": [
    {
     "data": {
      "text/plain": [
       "reassign_locs (generic function with 1 method)"
      ]
     },
     "execution_count": 3,
     "metadata": {},
     "output_type": "execute_result"
    }
   ],
   "source": [
    "# helpers for dcj operations and distance\n",
    "\n",
    "# finds target gene end in source adjacency list \n",
    "# returns index and left/right in the source adj list\n",
    "function find_tar_ge_in_src_adjlist(target_ge::GeneEnd, src_gid_to_l::DefaultDict{Int, Vector{Int}}, tar_gid_to_l::DefaultDict{Int, Vector{Int}}, src_adj_list::Vector{Adjacency})\n",
    "    (target_ge.head == true) ? th_idx = 2 : th_idx = 1\n",
    "    # (left_tar_ge == true) ? tar_lr = 'L' : tar_lr = 'R'\n",
    "        \n",
    "    gene_id = target_ge.gene.id\n",
    "\n",
    "    src_ge_idx = src_gid_to_l[gene_id][th_idx]\n",
    "\n",
    "    adj = src_adj_list[src_ge_idx]\n",
    "    if adj.left.gene.id == gene_id\n",
    "        src_ge = adj.left\n",
    "        # src_lr = 'L'\n",
    "    else \n",
    "        src_ge = adj.right \n",
    "        # src_lr = 'R' \n",
    "    end \n",
    "\n",
    "    # print(\"\\n   GENEEND: \")\n",
    "    # show(target_ge)\n",
    "    # print(\"\\n     src genome idx: \", src_ge_idx, \" \", src_lr)\n",
    "    # print(\"\\n     target genome idx: \", tar_gid_to_l[gene_id][th_idx], \" \", tar_lr, \"\\n\")\n",
    "\n",
    "    return [src_ge, src_ge_idx]\n",
    "end \n",
    "\n",
    "function other_adjacency_end(ge::GeneEnd, adj::Adjacency)\n",
    "    if adj.left == ge\n",
    "        return adj.right\n",
    "    else\n",
    "        return adj.left\n",
    "    end \n",
    "end\n",
    "\n",
    "function non_telo_end(adj::Adjacency)\n",
    "    if adj.left.gene == Telomere()\n",
    "        return adj.right\n",
    "    else\n",
    "        return adj.left\n",
    "    end \n",
    "end\n",
    "\n",
    "function combine_ge(u::GeneEnd, u_idx::Int, v::GeneEnd, v_idx::Int)\n",
    "    if u_idx < v_idx \n",
    "        u_lt_v = true \n",
    "    else \n",
    "        u_lt_v = false \n",
    "    end \n",
    "\n",
    "    if !u_lt_v \n",
    "        return Adjacency(v, u)\n",
    "    else \n",
    "        return Adjacency(u, v)\n",
    "    end\n",
    "\n",
    "end \n",
    "\n",
    "function reassign_locs(gid_to_l, adj_list, u_idx, v_idx)\n",
    "    for (i, adj) in pairs(view(adj_list, min(u_idx, v_idx):max(u_idx, v_idx)))\n",
    "        left = adj.left \n",
    "        right = adj.right \n",
    "\n",
    "        idx = Ref{Int}(i + min(u_idx, v_idx) - 1)\n",
    "\n",
    "        process_adj_list_helper(left, idx, gid_to_l)\n",
    "        process_adj_list_helper(right, idx, gid_to_l)\n",
    "    end \n",
    "end \n",
    "\n"
   ]
  },
  {
   "cell_type": "code",
   "execution_count": 4,
   "metadata": {},
   "outputs": [
    {
     "data": {
      "text/plain": [
       "find_dcj_dist_ops (generic function with 1 method)"
      ]
     },
     "execution_count": 4,
     "metadata": {},
     "output_type": "execute_result"
    }
   ],
   "source": [
    "function update_adj_set(p::GeneEnd, q::GeneEnd, u::GeneEnd, v::GeneEnd, u_idx::Int, v_idx::Int, src_adj_list::Vector{Adjacency}, src_adj_set::Set{Adjacency}) \n",
    "    #  replace adj u and v in A by ( {p, q} and (u\\{p}) U (v\\{q}) )\n",
    "    pq = combine_ge(p, u_idx, q, v_idx)\n",
    "\n",
    "    other_ge_u = other_adjacency_end(u, src_adj_list[u_idx])\n",
    "    other_ge_v = other_adjacency_end(v, src_adj_list[v_idx])\n",
    "    excluding_pq = combine_ge(other_ge_u, u_idx, other_ge_v, v_idx) \n",
    "    \n",
    "    # print(\"******exlcuding pq\")\n",
    "    # show(excluding_pq)\n",
    "    # print(\"********\")\n",
    "\n",
    "    #  remove adj with u, v in src_adj_set \n",
    "    delete!(src_adj_set, src_adj_list[u_idx])\n",
    "    delete!(src_adj_set, src_adj_list[v_idx])\n",
    "    \n",
    "    #  add adjusted adjacencies to src_adj_set\n",
    "    push!(src_adj_set, pq)\n",
    "    push!(src_adj_set, excluding_pq)\n",
    "\n",
    "    # print(\"  src_adj_set:\")\n",
    "    # show(src_adj_set)\n",
    "    # print(\"\\n\")\n",
    "end \n",
    "\n",
    "function update_adj_list_gid_loc_dict() \n",
    "    # update adj lists \n",
    "        print(\"\\nDCJ Operation (Cycle) :: \")\n",
    "        show(src_adj_list, u_idx, v_idx)\n",
    "        \n",
    "        print(\"\\n\")\n",
    "        show(pq)\n",
    "        show(excluding_pq)\n",
    "        if u_idx < v_idx \n",
    "            src_adj_list[u_idx] = pq\n",
    "            src_adj_list[v_idx] = excluding_pq\n",
    "            reverse!(view(src_adj_list, u_idx+1:v_idx-1))\n",
    "        else \n",
    "            src_adj_list[u_idx] = excluding_pq\n",
    "            src_adj_list[v_idx] = pq\n",
    "            reverse!(view(src_adj_list, v_idx+1:u_idx-1))\n",
    "        end  \n",
    "    \n",
    "        # update gid-->loc dicts \n",
    "        reassign_locs(src_gid_to_l, src_adj_list, u_idx, v_idx)\n",
    "end \n",
    "\n",
    "# find dcj operations and distance\n",
    "\n",
    "function find_dcj_dist_ops(src_adj_list::Vector{Adjacency}, tar_adj_list::Vector{Adjacency}, src_gid_to_l::DefaultDict{Int, Vector{Int}}, tar_gid_to_l::DefaultDict{Int, Vector{Int}}, src_adj_set::Set{Adjacency}, target_adj_set::Set{Adjacency})\n",
    "    count = 0  \n",
    "    # cycles = 0 \n",
    "    # odd_paths = 0 \n",
    "    telomere_idxs = Vector{Int}()\n",
    "\n",
    "    print(\"indexing through target adj list...\")\n",
    "    \n",
    "    # for each adj {p, q} in target genome \n",
    "    for (i, adj) in pairs(tar_adj_list) \n",
    "        print(\"\\n\\n\")\n",
    "        show(src_adj_list)\n",
    "         \n",
    "        print(\"\\nADJ \", i, \" :::: \")\n",
    "        show(adj)\n",
    "        print(\"\\n\")\n",
    "\n",
    "        p = adj.left  \n",
    "        q = adj.right  \n",
    "\n",
    "        if p.gene == Telomere() || q.gene == Telomere()  # telomeres handled in next loop\n",
    "            push!(telomere_idxs, i)  \n",
    "        else \n",
    "            #  let u be element of genome A that contains p \n",
    "            #  let v be element of genome A that contains q \n",
    "            u, u_idx = find_tar_ge_in_src_adjlist(p, src_gid_to_l, tar_gid_to_l, src_adj_list)  \n",
    "            v, v_idx = find_tar_ge_in_src_adjlist(q, src_gid_to_l, tar_gid_to_l, src_adj_list)  \n",
    "            \n",
    "            #  if u != v, replace u and v in A by {p, q} and (u\\{p}) U (v\\{q})\n",
    "            if u_idx != v_idx             \n",
    "                update_adj_set(p, q, u, v, u_idx, v_idx, src_adj_list, src_adj_set)\n",
    "            \n",
    "                print(\"updated adj set ::: \")\n",
    "                show(src_adj_set)\n",
    "                print(\"\\nupdated adj list ::: \")\n",
    "                print_adj_set_as_adj_list(src_adj_set)\n",
    "\n",
    "                #  update_adj_list_gid_loc_dict()\n",
    "                \n",
    "                count += 1 \n",
    "            end   \n",
    "        end\n",
    "    end \n",
    "\n",
    "    # for each telomere {p} in genome B \n",
    "    # for idx in telomere_idxs\n",
    "    #     telo_adj = tar_adj_list[idx]\n",
    "    #     telo_ge = other_adjacency_end(telo_adj, Telomere())\n",
    "\n",
    "    #     #  let u be element of genome A that contains p \n",
    "    #     u, u_idx = find_tar_ge_in_src_adjlist(p, src_gid_to_l, tar_gid_to_l, src_adj_list)  \n",
    "\n",
    "    #     #  if u is an adjacency, then replace u in A by {p} and (u\\{p})\n",
    "    #     if other_adjacency_end(tar_adj_list[u_idx], u) != Telomere() \n",
    "    #         # update_adj_set(p, u, u_idx,src_adj_list, src_adj_set)\n",
    "    #         # update_adj_list_gid_loc_dict()\n",
    "\n",
    "    #         count += 1 \n",
    "    #     end \n",
    "    # end \n",
    "\n",
    "    return count \n",
    "end "
   ]
  },
  {
   "cell_type": "code",
   "execution_count": 5,
   "metadata": {},
   "outputs": [
    {
     "name": "stdout",
     "output_type": "stream",
     "text": [
      "SRC ADJ LIST\n",
      "(a:h,b:t)(b:h,c:t)(c:h,a:t)\n",
      "|\n",
      "v\n",
      "TARGET ADJ LIST\n",
      "(.,a:t)(a:h,b:t)(b:h,c:t)(c:h,.)"
     ]
    }
   ],
   "source": [
    "src = \"abc\"\n",
    "target = \".abc.\"\n",
    "\n",
    "calculate_distance(src, target)"
   ]
  }
 ],
 "metadata": {
  "kernelspec": {
   "display_name": "Julia 1.10.3",
   "language": "julia",
   "name": "julia-1.10"
  },
  "language_info": {
   "file_extension": ".jl",
   "mimetype": "application/julia",
   "name": "julia",
   "version": "1.10.3"
  }
 },
 "nbformat": 4,
 "nbformat_minor": 2
}
