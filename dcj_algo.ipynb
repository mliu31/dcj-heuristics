{
 "cells": [
  {
   "cell_type": "code",
   "execution_count": 1,
   "metadata": {},
   "outputs": [
    {
     "data": {
      "text/plain": [
       "reorder_adjs (generic function with 1 method)"
      ]
     },
     "execution_count": 1,
     "metadata": {},
     "output_type": "execute_result"
    }
   ],
   "source": [
    "using NBInclude\n",
    "# @nbinclude(\"logging.ipynb\")\n",
    "@nbinclude(\"datastructs.ipynb\")\n",
    "@nbinclude(\"helpers.ipynb\")"
   ]
  },
  {
   "cell_type": "code",
   "execution_count": 2,
   "metadata": {},
   "outputs": [
    {
     "data": {
      "text/plain": [
       "update_documentation (generic function with 1 method)"
      ]
     },
     "execution_count": 2,
     "metadata": {},
     "output_type": "execute_result"
    }
   ],
   "source": [
    "function reassign_locs(u_idx::Int, v_idx::Int, pq::Adjacency, excluding_pq::Adjacency, gid_to_l::DefaultDict{Int, Vector{Int}})\n",
    "    # want to update dictionary given: \n",
    "    # src_adjs[u_idx] = pq \n",
    "    # src_adjs[v_idx] = excluding_pq \n",
    "\n",
    "    idx = Ref{Int}(u_idx)\n",
    "    if pq.left.gene != Telomere() \n",
    "        assign_ge_idx_to_gid_to_locdict(pq.left, idx, gid_to_l)\n",
    "    end \n",
    "    if pq.right != Telomere() \n",
    "        assign_ge_idx_to_gid_to_locdict(pq.right, idx, gid_to_l)\n",
    "    end \n",
    "    \n",
    "    idx = Ref{Int}(v_idx)\n",
    "    if excluding_pq.left.gene != Telomere() \n",
    "        assign_ge_idx_to_gid_to_locdict(excluding_pq.left, idx, gid_to_l)\n",
    "    end \n",
    "    if excluding_pq.right.gene != Telomere() \n",
    "        assign_ge_idx_to_gid_to_locdict(excluding_pq.right, idx, gid_to_l) \n",
    "    end \n",
    "end \n",
    "\n",
    "function update_documentation(u_idx::Int, v_idx::Int, pq::Adjacency, excluding_pq::Adjacency, src_adjs::Vector{Adjacency}, src_gid_to_l::DefaultDict{Int, Vector{Int}})\n",
    "    # update src adjs\n",
    "    if u_idx == 0\n",
    "        u_idx = length(src_adjs)+1\n",
    "        push!(src_adjs, pq)\n",
    "    end\n",
    "    if v_idx == 0\n",
    "        v_idx = length(src_adjs)+1\n",
    "        push!(src_adjs, excluding_pq)\n",
    "    end \n",
    "    \n",
    "    src_adjs[u_idx] = pq \n",
    "    src_adjs[v_idx] = excluding_pq \n",
    "\n",
    "    # update geneend locations  \n",
    "    reassign_locs(u_idx, v_idx, pq, excluding_pq, src_gid_to_l)\n",
    "end \n"
   ]
  },
  {
   "cell_type": "code",
   "execution_count": 8,
   "metadata": {},
   "outputs": [
    {
     "data": {
      "text/plain": [
       "find_dcj_dist_ops (generic function with 1 method)"
      ]
     },
     "execution_count": 8,
     "metadata": {},
     "output_type": "execute_result"
    }
   ],
   "source": [
    "# find dcj operations and distance\n",
    "function find_dcj_dist_ops(src_adjs::Vector{Adjacency}, tar_adj_list::Vector{Adjacency}, src_gid_to_l::DefaultDict{Int, Vector{Int}}, tar_gid_to_l::DefaultDict{Int, Vector{Int}}, src_adj_set::Set{Adjacency}, target_adj_set::Set{Adjacency})\n",
    "    count = 0  \n",
    "    telomere_idxs = Vector{Int}()\n",
    "    updated_adj_list = src_adjs\n",
    "\n",
    "    println(\"indexing through target adj list...\\n\")\n",
    "    \n",
    "    println(\"processing adj with two gene ends... \")\n",
    "    # for each adj {p, q} in target genome \n",
    "    for (i, adj) in pairs(tar_adj_list) \n",
    "        p = adj.left  \n",
    "        q = adj.right  \n",
    "        \n",
    "        if p.gene == Telomere() || q.gene == Telomere()  # telomeres handled in next loop\n",
    "            push!(telomere_idxs, i)  \n",
    "\n",
    "        else \n",
    "            # print(\"\\n\\n\")\n",
    "            # show(updated_adj_list)\n",
    "            \n",
    "            print(\"\\nADJ \", i, \" :::: \")\n",
    "            show(adj, false)\n",
    "            print(\"\\n\")\n",
    "\n",
    "            #  u = ge of adj from genome A that == p\n",
    "            #  v = ge of adj from genome A that == q\n",
    "            u_idx = find_adj(p, src_gid_to_l, src_adjs)  \n",
    "            v_idx = find_adj(q, src_gid_to_l, src_adjs)  \n",
    "\n",
    "            #  if u != v, replace u and v in A by {p, q} and (u\\{p}) U (v\\{q})\n",
    "            if u_idx != v_idx  \n",
    "                # print(\"prev adj list ::: \")\n",
    "                # show(updated_adj_list, src_adjs[u_idx], src_adjs[v_idx])\n",
    "\n",
    "                print(\"DCJ Operation :: \")\n",
    "                show(src_adjs[u_idx], true)\n",
    "                show(src_adjs[v_idx], true)\n",
    "                print(\" --> \")\n",
    " \n",
    "                pq, excluding_pq = update_adj_set(p, q, u_idx, v_idx, src_adjs, src_adj_set)\n",
    "                update_documentation(u_idx, v_idx, pq, excluding_pq, src_adjs, src_gid_to_l)\n",
    "                \n",
    "                show(pq, true) \n",
    "                show(excluding_pq, true)\n",
    "                println()\n",
    "\n",
    "                # print(\"\\nupdated adj set ::: \")\n",
    "                # show(src_adj_set)\n",
    "\n",
    "                # print(\"\\nupdated adj list ::: \")\n",
    "                # updated_adj_list = reorder_adjs(src_adjs, src_gid_to_l)\n",
    "                # show(updated_adj_list, pq, excluding_pq)\n",
    "\n",
    "                \n",
    "                # println(\"\\n\\nupdated src_adjs\")\n",
    "                # show(src_adjs)\n",
    "                # println(\"\\nupdated src_gid_to_location\")\n",
    "                # show(src_gid_to_l, id_to_char)\n",
    "            \n",
    "                count += 1 \n",
    "            end   \n",
    "        end\n",
    "    end \n",
    "\n",
    "     println(\"\\nprocessing telomeres... \")\n",
    "\n",
    "    # for each telomere {p} in genome B \n",
    "    for idx in telomere_idxs\n",
    "        # print(\"\\n\\n\")\n",
    "        # show(updated_adj_list)\n",
    "        \n",
    "        p = tar_adj_list[idx]\n",
    "        p_non_telo = other_adjacency_end(GeneEnd(Telomere()), p)\n",
    "        \n",
    "        print(\"\\nADJ \", idx, \" :::: \")\n",
    "        show(p, false)\n",
    "        print(\"\\n\")\n",
    "\n",
    "        #  u = ge of adj from genome A that == p \n",
    "        u_idx = find_adj(p_non_telo, src_gid_to_l, src_adjs)  \n",
    "        \n",
    "        # #  if u is an adjacency, then replace u in A by {p} and (u\\{p}) \n",
    "        if other_adjacency_end(p_non_telo, src_adjs[u_idx]).gene != Telomere()\n",
    "            # print(\"prev adj list ::: \")\n",
    "            # show(updated_adj_list, p)\n",
    "\n",
    "            print(\"DCJ Operation :: \")\n",
    "            show(src_adjs[u_idx], true)\n",
    "            print(\" --> \")\n",
    "            \n",
    "            p, excluding_p = update_adj_set(p, u_idx, src_adjs, src_adj_set) \n",
    "            update_documentation(u_idx, 0, p, excluding_p, src_adjs, src_gid_to_l)\n",
    "            \n",
    "            show(p, true) \n",
    "            show(excluding_p, true)\n",
    "            println()\n",
    "\n",
    "            # print(\"updated adj set ::: \")\n",
    "            # show(src_adj_set)\n",
    "\n",
    "            # print(\"\\nupdated adj list ::: \")\n",
    "            # updated_adj_list = reorder_adjs(src_adjs, src_gid_to_l)\n",
    "            # show(updated_adj_list, p, excluding_p)\n",
    "\n",
    "            \n",
    "            # println(\"\\n\\nupdated src_adjs\")\n",
    "            # show(src_adjs)\n",
    "            # println(\"\\nupdated src_gid_to_location\")\n",
    "            # show(src_gid_to_l, id_to_char)\n",
    "\n",
    "            count += 1 \n",
    "        end \n",
    "    end \n",
    "\n",
    "    return count\n",
    "end \n",
    "\n"
   ]
  },
  {
   "cell_type": "code",
   "execution_count": 4,
   "metadata": {},
   "outputs": [],
   "source": [
    "# permutations that require max number of dcj operations  - diameter of an instance \n",
    "\n",
    "# find the largest value of n which you can find the diameter \n",
    "# n --> diameter (randomly sample x number)\n",
    "# increase n  \n",
    "\n",
    "#     max and min distance maps distance \n",
    "\n",
    "\n",
    "#     mirjalil - python library on nature-inspired algos \n",
    "#     whale optimization algorithm (bubble net?) - populat and simple  \n",
    "#     gray wolf optimization population algorithm\n",
    "#     sim to \n",
    "#     differential evolution (not from mirjalil tho; it's older ) "
   ]
  },
  {
   "cell_type": "code",
   "execution_count": 9,
   "metadata": {},
   "outputs": [
    {
     "name": "stdout",
     "output_type": "stream",
     "text": [
      "SRC ADJ LIST\n",
      "(.,a:t)(a:h,b:t)(b:h,c:t)(c:h,d:t)(d:h,e:t)(e:h,f:t)(f:h,g:t)(g:h,.)\n",
      "|\n",
      "v\n",
      "TARGET ADJ LIST\n",
      "(.,a:t)(a:h,b:t)(b:h,c:t)(c:h,d:t)(d:h,g:h)(g:t,f:h)(f:t,e:h)(e:t,.)\n",
      "\n",
      "*************\n",
      "indexing through target adj list...\n",
      "\n",
      "processing adj with two gene ends... \n",
      "\n",
      "ADJ 2 :::: \u001b[32m(a:h,b:t)\u001b[39m\n",
      "\n",
      "ADJ 3 :::: \u001b[32m(b:h,c:t)\u001b[39m\n",
      "\n",
      "ADJ 4 :::: \u001b[32m(c:h,d:t)\u001b[39m\n",
      "\n",
      "ADJ 5 :::: \u001b[32m(d:h,g:h)\u001b[39m\n",
      "DCJ Operation :: \u001b[34m(d:h,e:t)\u001b[39m\u001b[34m(g:h,.)\u001b[39m --> \u001b[34m(d:h,g:h)\u001b[39m\u001b[34m(e:t,.)\u001b[39m\n",
      "\n",
      "ADJ 6 :::: \u001b[32m(g:t,f:h)\u001b[39m\n",
      "\n",
      "ADJ 7 :::: \u001b[32m(f:t,e:h)\u001b[39m\n",
      "\n",
      "processing telomeres... \n",
      "\n",
      "ADJ 1 :::: \u001b[32m(.,a:t)\u001b[39m\n",
      "\n",
      "ADJ 8 :::: \u001b[32m(e:t,.)\u001b[39m\n"
     ]
    },
    {
     "data": {
      "text/plain": [
       "1"
      ]
     },
     "execution_count": 9,
     "metadata": {},
     "output_type": "execute_result"
    }
   ],
   "source": [
    "src = \".abcdefg.\"\n",
    "target = \".abcdGFE.\" \n",
    "\n",
    "calculate_distance(src, target)"
   ]
  },
  {
   "cell_type": "code",
   "execution_count": null,
   "metadata": {},
   "outputs": [],
   "source": []
  }
 ],
 "metadata": {
  "kernelspec": {
   "display_name": "Julia 1.10.3",
   "language": "julia",
   "name": "julia-1.10"
  },
  "language_info": {
   "file_extension": ".jl",
   "mimetype": "application/julia",
   "name": "julia",
   "version": "1.10.3"
  }
 },
 "nbformat": 4,
 "nbformat_minor": 2
}
