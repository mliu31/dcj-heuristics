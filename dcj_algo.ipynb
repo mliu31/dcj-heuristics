{
 "cells": [
  {
   "cell_type": "code",
   "execution_count": 13,
   "metadata": {},
   "outputs": [
    {
     "data": {
      "text/plain": [
       "update_adj_set (generic function with 1 method)"
      ]
     },
     "execution_count": 13,
     "metadata": {},
     "output_type": "execute_result"
    }
   ],
   "source": [
    "using NBInclude\n",
    "@nbinclude(\"datastructs.ipynb\")\n",
    "@nbinclude(\"helpers.ipynb\")"
   ]
  },
  {
   "cell_type": "code",
   "execution_count": 14,
   "metadata": {},
   "outputs": [
    {
     "name": "stdout",
     "output_type": "stream",
     "text": [
      "SRC ADJ LIST\n",
      "(a:h,b:t)(b:h,c:t)(c:h,d:t)(d:h,e:t)(e:h,a:t)\n",
      "|\n",
      "v\n",
      "TARGET ADJ LIST\n",
      "(a:h,d:t)(d:h,c:t)(c:h,b:t)(b:h,e:t)(e:h,a:t)\n",
      "\n",
      "*************\n",
      "SRC GENE --> LOCATION DICT\n",
      "e 5 => [4, 5]\n",
      "b 4 => [1, 2]\n",
      "d 2 => [3, 4]\n",
      "c 3 => [2, 3]\n",
      "a 1 => [5, 1]\n",
      "\n",
      "\n",
      "TARGET GENE --> LOCATION DICT\n",
      "e 5 => [4, 5]\n",
      "b 4 => [3, 4]\n",
      "d 2 => [1, 2]\n",
      "c 3 => [2, 3]\n",
      "a 1 => [5, 1]\n",
      "\n",
      "*************\n",
      "\n",
      "indexing through target adj list...\n",
      "\n",
      "(a:h,b:t)(b:h,c:t)(c:h,d:t)(d:h,e:t)(e:h,a:t)\n",
      "ADJ 1 :::: \u001b[32m(a:h,d:t)\u001b[39m\n",
      "prev adj list ::: (e:h,a:t)\u001b[34m(a:h,b:t)\u001b[39m(b:h,c:t)\u001b[34m(c:h,d:t)\u001b[39m(d:h,e:t)\n",
      "updated adj list ::: (e:h,a:t)\u001b[34m(a:h,d:t)\u001b[39m(d:h,e:t)\u001b[34m(b:t,c:h)\u001b[39m(b:h,c:t)\n",
      "\n",
      "(e:h,a:t)(a:h,d:t)(d:h,e:t)(b:t,c:h)(b:h,c:t)\n",
      "ADJ 2 :::: \u001b[32m(d:h,c:t)\u001b[39m\n",
      "prev adj list ::: (e:h,a:t)(a:h,d:t)\u001b[34m(d:h,e:t)\u001b[39m(b:t,c:h)\u001b[34m(b:h,c:t)\u001b[39m\n",
      "updated adj list ::: (e:h,a:t)(a:h,d:t)\u001b[34m(c:t,d:h)\u001b[39m(b:t,c:h)\u001b[34m(b:h,e:t)\u001b[39m\n",
      "\n",
      "(e:h,a:t)(a:h,d:t)(c:t,d:h)(b:t,c:h)(b:h,e:t)\n",
      "ADJ 3 :::: \u001b[32m(c:h,b:t)\u001b[39m\n",
      "\n",
      "\n",
      "(e:h,a:t)(a:h,d:t)(c:t,d:h)(b:t,c:h)(b:h,e:t)\n",
      "ADJ 4 :::: \u001b[32m(b:h,e:t)\u001b[39m\n",
      "\n",
      "\n",
      "(e:h,a:t)(a:h,d:t)(c:t,d:h)(b:t,c:h)(b:h,e:t)\n",
      "ADJ 5 :::: \u001b[32m(e:h,a:t)\u001b[39m\n"
     ]
    },
    {
     "data": {
      "text/plain": [
       "2"
      ]
     },
     "execution_count": 14,
     "metadata": {},
     "output_type": "execute_result"
    }
   ],
   "source": [
    "function update_documentation(u_idx::Int, v_idx::Int, pq::Adjacency, excluding_pq::Adjacency, src_adjs::Vector{Adjacency}, src_gid_to_l::DefaultDict{Int, Vector{Int}})\n",
    "    # update src adjs\n",
    "    src_adjs[u_idx] = pq \n",
    "    src_adjs[v_idx] = excluding_pq \n",
    "\n",
    "    # update geneend locations # TODO \n",
    "    reassign_locs(u_idx, v_idx, pq, excluding_pq, src_gid_to_l)\n",
    "end \n",
    "\n",
    "\n",
    "# find dcj operations and distance\n",
    "function find_dcj_dist_ops(src_adjs::Vector{Adjacency}, tar_adj_list::Vector{Adjacency}, src_gid_to_l::DefaultDict{Int, Vector{Int}}, tar_gid_to_l::DefaultDict{Int, Vector{Int}}, src_adj_set::Set{Adjacency}, target_adj_set::Set{Adjacency})\n",
    "    count = 0  \n",
    "    telomere_idxs = Vector{Int}()\n",
    "    updated_adj_list = src_adjs\n",
    "\n",
    "    print(\"indexing through target adj list...\")\n",
    "    \n",
    "    # for each adj {p, q} in target genome \n",
    "    for (i, adj) in pairs(tar_adj_list) \n",
    "        print(\"\\n\\n\")\n",
    "        show(updated_adj_list)\n",
    "         \n",
    "        print(\"\\nADJ \", i, \" :::: \")\n",
    "        show(adj, false)\n",
    "        print(\"\\n\")\n",
    "\n",
    "        p = adj.left  \n",
    "        q = adj.right  \n",
    "\n",
    "        if p.gene == Telomere() || q.gene == Telomere()  # telomeres handled in next loop\n",
    "            push!(telomere_idxs, i)  \n",
    "        else \n",
    "            #  let u be adj of genome A that contains p \n",
    "            #  let v be adj of genome A that contains q \n",
    "            u, u_idx, u_adj = find_tar_ge_in_src_adjs(p, src_gid_to_l, tar_gid_to_l, src_adjs)  \n",
    "            v, v_idx, v_adj = find_tar_ge_in_src_adjs(q, src_gid_to_l, tar_gid_to_l, src_adjs)  \n",
    "            \n",
    "            #  if u != v, replace u and v in A by {p, q} and (u\\{p}) U (v\\{q})\n",
    "            if u_idx != v_idx             \n",
    "                print(\"prev adj list ::: \")\n",
    "                show(convert_adj_set_as_adj_list(src_adj_set), u_adj, v_adj)\n",
    "\n",
    "                pq, excluding_pq = update_adj_set(p, q, u, v, u_idx, v_idx, src_adjs, src_adj_set)\n",
    "                \n",
    "                # print(\"updated adj set ::: \")\n",
    "                # show(src_adj_set)\n",
    "                print(\"\\nupdated adj list ::: \")\n",
    "                updated_adj_list = convert_adj_set_as_adj_list(src_adj_set)\n",
    "                show(updated_adj_list, pq, excluding_pq)\n",
    "\n",
    "                update_documentation(u_idx, v_idx, pq, excluding_pq, src_adjs, src_gid_to_l)\n",
    "                \n",
    "                # println(\"\\n\\nupdated src_adjs\")\n",
    "                # show(src_adjs)\n",
    "                # println(\"\\nupdated src_gid_to_location\")\n",
    "                # show(src_gid_to_l, id_to_char)\n",
    "\n",
    "                count += 1 \n",
    "            end   \n",
    "        end\n",
    "    end \n",
    "    # for each telomere {p} in genome B \n",
    "    # for idx in telomere_idxs\n",
    "    #     telo_adj = tar_adj_list[idx]\n",
    "    #     telo_ge = other_adjacency_end(telo_adj, Telomere())\n",
    "\n",
    "    #     #  let u be element of genome A that contains p \n",
    "    #     u, u_idx = find_tar_ge_in_src_adjlist(p, src_gid_to_l, tar_gid_to_l, src_adjs)  \n",
    "\n",
    "    #     #  if u is an adjacency, then replace u in A by {p} and (u\\{p})\n",
    "    #     if other_adjacency_end(tar_adj_list[u_idx], u) != Telomere() \n",
    "    #         # update_adj_set(p, u, u_idx,src_adjs, src_adj_set)\n",
    "    #         # update_adj_list_gid_loc_dict()\n",
    "\n",
    "    #         count += 1 \n",
    "    #     end \n",
    "    # end \n",
    "    return count \n",
    "end \n",
    "\n",
    "src = \"abcde\"\n",
    "target = \"adcbe\" \n",
    "\n",
    "calculate_distance(src, target)"
   ]
  },
  {
   "cell_type": "code",
   "execution_count": 15,
   "metadata": {},
   "outputs": [
    {
     "data": {
      "text/plain": [
       "reassign_locs (generic function with 1 method)"
      ]
     },
     "execution_count": 15,
     "metadata": {},
     "output_type": "execute_result"
    }
   ],
   "source": [
    "function reassign_locs(u_idx::Int, v_idx::Int, pq::Adjacency, excluding_pq::Adjacency, gid_to_l::DefaultDict{Int, Vector{Int}})\n",
    "    # want to update given: \n",
    "    # src_adjs[u_idx] = pq \n",
    "    # src_adjs[v_idx] = excluding_pq \n",
    "\n",
    "    idx = Ref{Int}(u_idx)\n",
    "    process_adj_list_helper(pq.left, idx, gid_to_l)\n",
    "    process_adj_list_helper(pq.right, idx, gid_to_l)\n",
    "    \n",
    "    idx = Ref{Int}(v_idx)\n",
    "    process_adj_list_helper(excluding_pq.left, idx, gid_to_l)\n",
    "    process_adj_list_helper(excluding_pq.right, idx, gid_to_l) \n",
    "end "
   ]
  },
  {
   "cell_type": "code",
   "execution_count": null,
   "metadata": {},
   "outputs": [],
   "source": []
  }
 ],
 "metadata": {
  "kernelspec": {
   "display_name": "Julia 1.10.3",
   "language": "julia",
   "name": "julia-1.10"
  },
  "language_info": {
   "file_extension": ".jl",
   "mimetype": "application/julia",
   "name": "julia",
   "version": "1.10.3"
  }
 },
 "nbformat": 4,
 "nbformat_minor": 2
}
