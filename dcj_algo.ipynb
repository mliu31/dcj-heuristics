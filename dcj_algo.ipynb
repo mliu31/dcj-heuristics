{
 "cells": [
  {
   "cell_type": "code",
   "execution_count": 11,
   "metadata": {},
   "outputs": [
    {
     "data": {
      "text/plain": [
       "update_adj_set (generic function with 1 method)"
      ]
     },
     "execution_count": 11,
     "metadata": {},
     "output_type": "execute_result"
    }
   ],
   "source": [
    "using NBInclude\n",
    "@nbinclude(\"dcj_datastructs.ipynb\")\n",
    "@nbinclude(\"helpers.ipynb\")"
   ]
  },
  {
   "cell_type": "code",
   "execution_count": 13,
   "metadata": {},
   "outputs": [
    {
     "data": {
      "text/plain": [
       "update_adj_set (generic function with 1 method)"
      ]
     },
     "execution_count": 13,
     "metadata": {},
     "output_type": "execute_result"
    }
   ],
   "source": [
    "function reassign_locs(gid_to_l::DefaultDict{Int, Vector{Int}}, adj_list, u_idx, v_idx)\n",
    "    for (i, adj) in pairs(view(adj_list, min(u_idx, v_idx):max(u_idx, v_idx)))\n",
    "        left = adj.left \n",
    "        right = adj.right \n",
    "\n",
    "        idx = Ref{Int}(i + min(u_idx, v_idx) - 1)\n",
    "\n",
    "        process_adj_list_helper(left, idx, gid_to_l)\n",
    "        process_adj_list_helper(right, idx, gid_to_l)\n",
    "    end \n",
    "end "
   ]
  },
  {
   "cell_type": "code",
   "execution_count": 16,
   "metadata": {},
   "outputs": [
    {
     "name": "stdout",
     "output_type": "stream",
     "text": [
      "SRC ADJ LIST\n",
      "(a:h,b:t)(b:h,c:t)(c:h,a:t)\n",
      "|\n",
      "v\n",
      "TARGET ADJ LIST\n",
      "(b:h,a:t)(a:h,c:t)(c:h,b:t)\n",
      "\n",
      "*************\n",
      "SRC GENE --> LOCATION DICT\n",
      "a 2 => [3, 1]\n",
      "c 3 => [2, 3]\n",
      "b 1 => [1, 2]\n",
      "\n",
      "\n",
      "TARGET GENE --> LOCATION DICT\n",
      "a 2 => [1, 2]\n",
      "c 3 => [2, 3]\n",
      "b 1 => [3, 1]\n",
      "\n",
      "*************\n",
      "\n",
      "indexing through target adj list...\n",
      "\n",
      "(a:h,b:t)(b:h,c:t)(c:h,a:t)\n",
      "ADJ 1 :::: \u001b[32m(b:h,a:t)\u001b[39m\n",
      "updated adj set ::: (a:h,b:t)(c:t,c:h)(b:h,a:t)\n",
      "updated adj list ::: (a:h,b:t)\u001b[34m(b:h,a:t)\u001b[39m\u001b[34m(c:t,c:h)\u001b[39m\n",
      "\n",
      "updated src_adjs\n",
      "(a:h,b:t)(b:h,a:t)(c:t,c:h)\n",
      "updated src_gid_to_location\n",
      "DefaultDict(2 => [3, 1], 3 => [2, 3], 1 => [1, 2])"
     ]
    },
    {
     "data": {
      "text/plain": [
       "1"
      ]
     },
     "execution_count": 16,
     "metadata": {},
     "output_type": "execute_result"
    }
   ],
   "source": [
    "function update_documentation(u_idx::Int, v_idx::Int, pq::Adjacency, excluding_pq::Adjacency, src_adjs::Vector{Adjacency}, src_gid_to_l::DefaultDict{Int, Vector{Int}})\n",
    "    # update src adjs\n",
    "    src_adjs[u_idx] = pq \n",
    "    src_adjs[v_idx] = excluding_pq \n",
    "\n",
    "    # update geneend locations # TODO \n",
    "    # reassign_locs(gid_to_l, adj_list, u_idx, v_idx)\n",
    "end \n",
    "\n",
    "\n",
    "# find dcj operations and distance\n",
    "function find_dcj_dist_ops(src_adjs::Vector{Adjacency}, tar_adj_list::Vector{Adjacency}, src_gid_to_l::DefaultDict{Int, Vector{Int}}, tar_gid_to_l::DefaultDict{Int, Vector{Int}}, src_adj_set::Set{Adjacency}, target_adj_set::Set{Adjacency})\n",
    "    count = 0  \n",
    "    telomere_idxs = Vector{Int}()\n",
    "    updated_adj_list = src_adjs\n",
    "\n",
    "    print(\"indexing through target adj list...\")\n",
    "    \n",
    "    # for each adj {p, q} in target genome \n",
    "    for (i, adj) in pairs(tar_adj_list) \n",
    "        print(\"\\n\\n\")\n",
    "        show(updated_adj_list)\n",
    "         \n",
    "        print(\"\\nADJ \", i, \" :::: \")\n",
    "        show(adj, false)\n",
    "        print(\"\\n\")\n",
    "\n",
    "        p = adj.left  \n",
    "        q = adj.right  \n",
    "\n",
    "        if p.gene == Telomere() || q.gene == Telomere()  # telomeres handled in next loop\n",
    "            push!(telomere_idxs, i)  \n",
    "        else \n",
    "            #  let u be adj of genome A that contains p \n",
    "            #  let v be adj of genome A that contains q \n",
    "            u, u_idx = find_tar_ge_in_src_adjs(p, src_gid_to_l, tar_gid_to_l, src_adjs)  \n",
    "            v, v_idx = find_tar_ge_in_src_adjs(q, src_gid_to_l, tar_gid_to_l, src_adjs)  \n",
    "            \n",
    "            #  if u != v, replace u and v in A by {p, q} and (u\\{p}) U (v\\{q})\n",
    "            if u_idx != v_idx             \n",
    "                pq, excluding_pq = update_adj_set(p, q, u, v, u_idx, v_idx, src_adjs, src_adj_set)\n",
    "            \n",
    "                print(\"updated adj set ::: \")\n",
    "                show(src_adj_set)\n",
    "                print(\"\\nupdated adj list ::: \")\n",
    "                updated_adj_list = convert_adj_set_as_adj_list(src_adj_set)\n",
    "                show(updated_adj_list, pq, excluding_pq)\n",
    "\n",
    "                update_documentation(u_idx, v_idx, pq, excluding_pq, src_adjs, src_gid_to_l)\n",
    "                \n",
    "                println(\"\\n\\nupdated src_adjs\")\n",
    "                show(src_adjs)\n",
    "                println(\"\\nupdated src_gid_to_location\")\n",
    "                show(src_gid_to_l)\n",
    "\n",
    "                count += 1 \n",
    "\n",
    "                break\n",
    "            end   \n",
    "        end\n",
    "    end \n",
    "    # for each telomere {p} in genome B \n",
    "    # for idx in telomere_idxs\n",
    "    #     telo_adj = tar_adj_list[idx]\n",
    "    #     telo_ge = other_adjacency_end(telo_adj, Telomere())\n",
    "\n",
    "    #     #  let u be element of genome A that contains p \n",
    "    #     u, u_idx = find_tar_ge_in_src_adjlist(p, src_gid_to_l, tar_gid_to_l, src_adjs)  \n",
    "\n",
    "    #     #  if u is an adjacency, then replace u in A by {p} and (u\\{p})\n",
    "    #     if other_adjacency_end(tar_adj_list[u_idx], u) != Telomere() \n",
    "    #         # update_adj_set(p, u, u_idx,src_adjs, src_adj_set)\n",
    "    #         # update_adj_list_gid_loc_dict()\n",
    "\n",
    "    #         count += 1 \n",
    "    #     end \n",
    "    # end \n",
    "    return count \n",
    "end \n",
    "\n",
    "src = \"abc\"\n",
    "target = \"bac\"\n",
    "\n",
    "calculate_distance(src, target)"
   ]
  }
 ],
 "metadata": {
  "kernelspec": {
   "display_name": "Julia 1.10.3",
   "language": "julia",
   "name": "julia-1.10"
  },
  "language_info": {
   "file_extension": ".jl",
   "mimetype": "application/julia",
   "name": "julia",
   "version": "1.10.3"
  }
 },
 "nbformat": 4,
 "nbformat_minor": 2
}
