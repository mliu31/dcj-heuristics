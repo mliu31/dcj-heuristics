{
 "cells": [
  {
   "cell_type": "code",
   "execution_count": 1,
   "metadata": {},
   "outputs": [
    {
     "data": {
      "text/plain": [
       "adjlist_to_str (generic function with 1 method)"
      ]
     },
     "execution_count": 1,
     "metadata": {},
     "output_type": "execute_result"
    }
   ],
   "source": [
    "using NBInclude\n",
    "@nbinclude(\"create_datastructs.ipynb\")"
   ]
  },
  {
   "cell_type": "code",
   "execution_count": null,
   "metadata": {},
   "outputs": [],
   "source": [
    "# helpers for dcj operations and distance\n",
    "\n",
    "\n",
    "function other_adjacency_end(ge::GeneEnd, adj::Adjacency)\n",
    "    if adj.left == ge\n",
    "        return adj.right\n",
    "    elseif adj.right == ge\n",
    "        return adj.left\n",
    "    else \n",
    "        throw(ArgumentError(\"Adjacency doesn't have other end.\" )) \n",
    "    end \n",
    "end\n",
    "\n",
    "function other_adjacency_end(t::Telomere, adj::Adjacency)\n",
    "    return other_adjacency_end(GeneEnd(Telomere()), adj) \n",
    "end\n",
    "\n",
    "\n",
    "# given ge, finds ge in adj list \n",
    "\n",
    "# e.g., given list of adjacencies : {a:h, b:t} ... {b:h, d:t} & ge = b:t, \n",
    "# returns idx of {b:t, d:t} \n",
    "function find_adj(target_ge::GeneEnd, src_gid_to_l::DefaultDict{Int, Vector{Int}}, src_adjs::Vector{Adjacency})\n",
    "    (target_ge.head == true) ? th_idx = 2 : th_idx = 1\n",
    "    \n",
    "    gene_id = target_ge.gene.id\n",
    "    if gene_id == 0 \n",
    "        throw(ArgumentError(\"Gene ID is 0\")) \n",
    "    end \n",
    "    \n",
    "    src_ge_idx = src_gid_to_l[gene_id][th_idx]\n",
    "    if src_ge_idx == 0 \n",
    "        throw(ArgumentError(\"Source Gene End is 0\")) \n",
    "    end \n",
    "    adj = src_adjs[src_ge_idx]\n",
    "\n",
    "    if adj.left.gene != Telomere() && adj.left.gene.id == gene_id\n",
    "        src_ge = adj.left\n",
    "    elseif adj.right.gene != Telomere() && adj.right.gene.id == gene_id\n",
    "        src_ge = adj.right \n",
    "    end \n",
    "    \n",
    "    return src_ge_idx\n",
    "end "
   ]
  },
  {
   "cell_type": "code",
   "execution_count": 2,
   "metadata": {},
   "outputs": [
    {
     "data": {
      "text/plain": [
       "\"defines functions that print out the entire adjacency list for each DCJ operation in order (gene tails are next to an adjacency containing its head & vice versa)\\nruns in O(n) time so makes the DCJ algo O(N^2)\\n\""
      ]
     },
     "execution_count": 2,
     "metadata": {},
     "output_type": "execute_result"
    }
   ],
   "source": [
    "\"\"\"\n",
    "defines functions that print out the entire adjacency list for each DCJ operation in order (gene tails are next to an adjacency containing its head & vice versa)\n",
    "runs in O(n) time so makes the DCJ algo O(N^2)\n",
    "\"\"\""
   ]
  },
  {
   "cell_type": "code",
   "execution_count": 3,
   "metadata": {},
   "outputs": [
    {
     "data": {
      "text/plain": [
       "reorder_adjs (generic function with 1 method)"
      ]
     },
     "execution_count": 3,
     "metadata": {},
     "output_type": "execute_result"
    }
   ],
   "source": [
    "# given ge, finds next ge (with new gene) in the next adj\n",
    "\n",
    "# e.g., given adjs={ge1:h, ge2:t} ... {ge2:h, ge3:t} & ge=ge2:t, \n",
    "# finds {ge2:h, ge3:t}, returns ge3:t \n",
    "function find_next_adj(ge::GeneEnd, adj::Adjacency, reordered_adj_list::Vector{Adjacency}, src_gid_to_l::DefaultDict{Int, Vector{Int}}, src_adjs::Vector{Adjacency}, processed::Set{Int}) \n",
    "    (ge.head == true) ? opp_th_idx = 1 : opp_th_idx = 2  \n",
    "\n",
    "    # idx of {ge2:h, ge3:t}\n",
    "    next_idx = src_gid_to_l[ge.gene.id][opp_th_idx]\n",
    "    next_adj = src_adjs[next_idx]\n",
    "\n",
    "    if next_idx ∉ processed \n",
    "        push!(processed, next_idx)\n",
    "        push!(reordered_adj_list, next_adj)\n",
    "    end \n",
    "    \n",
    "    if next_adj.left.gene == ge.gene\n",
    "        ge = other_adjacency_end(next_adj.left, next_adj)\n",
    "    elseif next_adj.right.gene == ge.gene\n",
    "        ge = other_adjacency_end(next_adj.right, next_adj)\n",
    "    end \n",
    "    \n",
    "    return ge \n",
    "end \n"
   ]
  },
  {
   "cell_type": "code",
   "execution_count": null,
   "metadata": {},
   "outputs": [],
   "source": [
    "\n",
    "# prints out adj list in order s.t. neighboring adj have h/t gene end pairs \n",
    "# O(N), n = length source adjacencies \n",
    "# can reconstruct genome from this in O(N)\n",
    "# (note that order within the adj don't matter)\n",
    "function reorder_adjs(src_adjs::Vector{Adjacency}, src_gid_to_l::DefaultDict{Int, Vector{Int}})\n",
    "    telos = Vector{Int}() \n",
    "    circ = Vector{Int}() \n",
    "    processed = Set{Int}()\n",
    "    reordered_adj_list = Vector{Adjacency}()\n",
    "\n",
    "    for i in 1:length(src_adjs)\n",
    "        adj = src_adjs[i]\n",
    "        if adj.left.gene == Telomere() || adj.right.gene == Telomere() \n",
    "            push!(telos, i)\n",
    "        else \n",
    "            push!(circ, i)\n",
    "        end \n",
    "    end \n",
    "    \n",
    "    # handle telomeres\n",
    "    for i in telos \n",
    "        if i in processed \n",
    "            continue \n",
    "        else \n",
    "            push!(processed, i)\n",
    "        end\n",
    "        \n",
    "        adj = src_adjs[i]\n",
    "        push!(reordered_adj_list, adj)\n",
    "\n",
    "        ge = other_adjacency_end(Telomere(), adj)\n",
    "        while ge.gene != Telomere()  \n",
    "            ge = find_next_adj(ge, adj, reordered_adj_list, src_gid_to_l, src_adjs, processed)\n",
    "        end \n",
    "    end \n",
    "    \n",
    "    # handle adj with two genes\n",
    "    for i in circ  \n",
    "        if i in processed \n",
    "            continue \n",
    "        else \n",
    "            push!(processed, i)\n",
    "        end\n",
    "\n",
    "        adj = src_adjs[i]\n",
    "        push!(reordered_adj_list, adj)\n",
    "\n",
    "        first_gene = adj.left.gene \n",
    "        ge = adj.right \n",
    "        first = true       \n",
    "        \n",
    "        while ge.gene != first_gene || first == true  \n",
    "            ge = find_next_adj(ge, adj, reordered_adj_list, src_gid_to_l, src_adjs, processed)\n",
    "\n",
    "            first = false \n",
    "        end   \n",
    "    end \n",
    "    return reordered_adj_list\n",
    "end "
   ]
  },
  {
   "cell_type": "code",
   "execution_count": 4,
   "metadata": {},
   "outputs": [
    {
     "ename": "LoadError",
     "evalue": "KeyError: key \"a2\" not found",
     "output_type": "error",
     "traceback": [
      "KeyError: key \"a2\" not found",
      "",
      "Stacktrace:",
      " [1] getindex",
      "   @ .\\dict.jl:498 [inlined]",
      " [2] Chromosome(genes_str::SubString{String}, id_counter::Base.RefValue{Int64}, id_to_str::Dict{Int64, String}, str_to_id::Dict{String, Int64}, target::Bool)",
      "   @ Main c:\\Users\\mgnli\\OneDrive - Dartmouth College\\Documents\\dcj-heuristics\\datastructs.ipynb:In[5]:42",
      " [3] string_to_genome(s::String, id_counter::Base.RefValue{Int64}, id_to_str::Dict{Int64, String}, str_to_id::Dict{String, Int64}, target::Bool)",
      "   @ Main c:\\Users\\mgnli\\OneDrive - Dartmouth College\\Documents\\dcj-heuristics\\datastructs.ipynb:In[7]:10",
      " [4] top-level scope",
      "   @ In[4]:7"
     ]
    }
   ],
   "source": [
    "# src = \".a2a1.\"\n",
    "\n",
    "# id_counter = Ref{Int}(1)\n",
    "# id_to_str = Dict{Int, String}()\n",
    "# str_to_id = Dict{String, Int}()\n",
    "\n",
    "# src_genome = string_to_genome(src, id_counter, id_to_str, str_to_id, false)\n",
    "\n",
    "# genome_to_adj_list(src_genome)"
   ]
  }
 ],
 "metadata": {
  "kernelspec": {
   "display_name": "Julia 1.10.3",
   "language": "julia",
   "name": "julia-1.10"
  },
  "language_info": {
   "file_extension": ".jl",
   "mimetype": "application/julia",
   "name": "julia",
   "version": "1.10.3"
  }
 },
 "nbformat": 4,
 "nbformat_minor": 2
}
