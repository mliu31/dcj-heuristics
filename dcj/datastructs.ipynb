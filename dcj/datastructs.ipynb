{
 "cells": [
  {
   "cell_type": "code",
   "execution_count": 1,
   "id": "221c64a2",
   "metadata": {},
   "outputs": [],
   "source": [
    "using Base.Iterators\n",
    "using Parameters\n",
    "using DataStructures\n",
    "\n",
    "abstract type AbstractGene end"
   ]
  },
  {
   "cell_type": "code",
   "execution_count": 2,
   "id": "91f5f99c",
   "metadata": {},
   "outputs": [],
   "source": [
    "# telomere\n",
    "\n",
    "struct Telomere <: AbstractGene\n",
    "end"
   ]
  },
  {
   "cell_type": "code",
   "execution_count": 2,
   "id": "b81dd52d",
   "metadata": {},
   "outputs": [
    {
     "ename": "LoadError",
     "evalue": "LoadError: UndefVarError: `@with_kw` not defined\nin expression starting at In[2]:3",
     "output_type": "error",
     "traceback": [
      "LoadError: UndefVarError: `@with_kw` not defined\nin expression starting at In[2]:3",
      ""
     ]
    }
   ],
   "source": [
    "# gene\n",
    "\n",
    "@with_kw struct Gene <: AbstractGene\n",
    "    id::Int\n",
    "    dna::String  # lowercase char \n",
    "    dup::Int\n",
    "    reverse::Bool=false\n",
    "end"
   ]
  },
  {
   "cell_type": "code",
   "execution_count": 20,
   "id": "7f20e9ce",
   "metadata": {},
   "outputs": [
    {
     "data": {
      "text/plain": [
       "Chromosome"
      ]
     },
     "execution_count": 20,
     "metadata": {},
     "output_type": "execute_result"
    }
   ],
   "source": [
    "# chromosome\n",
    "\n",
    "mutable struct Chromosome\n",
    "    genes::Vector{AbstractGene}\n",
    "end\n"
   ]
  },
  {
   "cell_type": "code",
   "execution_count": 6,
   "id": "0db29f60",
   "metadata": {},
   "outputs": [],
   "source": [
    "# Genome\n",
    "\n",
    "mutable struct Genome\n",
    "    data::Vector{Chromosome}\n",
    "    id_to_str::Dict{Int, String}\n",
    "    str_to_id::Dict{String, Int}\n",
    "end\n"
   ]
  },
  {
   "cell_type": "code",
   "execution_count": 8,
   "id": "9b91ea5d",
   "metadata": {},
   "outputs": [],
   "source": [
    "# gene end (used in adj)\n",
    "\n",
    "@with_kw struct GeneEnd\n",
    "    gene::AbstractGene\n",
    "    head::Bool=true\n",
    "end\n",
    "\n",
    "function GeneEnd(T::Telomere)\n",
    "    return GeneEnd(Telomere(), false)  # head value doesn't matter   \n",
    "end \n"
   ]
  },
  {
   "cell_type": "code",
   "execution_count": 9,
   "id": "4ef3f032",
   "metadata": {},
   "outputs": [],
   "source": [
    "# adjacency\n",
    "mutable struct Adjacency \n",
    "    left::GeneEnd\n",
    "    right::GeneEnd\n",
    "end"
   ]
  },
  {
   "cell_type": "code",
   "execution_count": 1,
   "id": "e0b419e7",
   "metadata": {},
   "outputs": [
    {
     "ename": "LoadError",
     "evalue": "UndefVarError: `Genome` not defined",
     "output_type": "error",
     "traceback": [
      "UndefVarError: `Genome` not defined",
      "",
      "Stacktrace:",
      " [1] top-level scope",
      "   @ In[1]:7"
     ]
    }
   ],
   "source": [
    "# adjacency graph \n",
    "\n",
    "mutable struct AdjacencyGraph\n",
    "    num_dcj_ops::Int\n",
    "end\n"
   ]
  }
 ],
 "metadata": {
  "kernelspec": {
   "display_name": "Julia 1.10.3",
   "language": "julia",
   "name": "julia-1.10"
  },
  "language_info": {
   "file_extension": ".jl",
   "mimetype": "application/julia",
   "name": "julia",
   "version": "1.10.3"
  }
 },
 "nbformat": 4,
 "nbformat_minor": 5
}
