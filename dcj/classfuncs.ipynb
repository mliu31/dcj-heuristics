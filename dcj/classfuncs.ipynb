{
 "cells": [
  {
   "cell_type": "code",
   "execution_count": null,
   "metadata": {},
   "outputs": [],
   "source": [
    "using NBInclude\n",
    "@nbinclude(\"create_datastructs.ipynb\")"
   ]
  },
  {
   "cell_type": "code",
   "execution_count": null,
   "metadata": {},
   "outputs": [],
   "source": [
    "# telomere \n",
    "\n",
    "function Base.:(==)(a::Telomere, b)\n",
    "    return typeof(a) == typeof(b)\n",
    "end\n",
    "\n",
    "function Base.show(t::Telomere)\n",
    "    print(\".\")\n",
    "end"
   ]
  },
  {
   "cell_type": "code",
   "execution_count": null,
   "metadata": {},
   "outputs": [],
   "source": [
    "# gene\n",
    "\n",
    "function Base.:(==)(a::Gene, b::Gene)\n",
    "    return a.id == b.id\n",
    "end\n",
    "\n",
    "function Base.show(gene::Gene)\n",
    "    g = gene.dna\n",
    "    if gene.reverse\n",
    "        g = uppercase(g)\n",
    "    end \n",
    "\n",
    "    print(g*string(gene.dup))\n",
    "end"
   ]
  },
  {
   "cell_type": "code",
   "execution_count": null,
   "metadata": {},
   "outputs": [],
   "source": [
    "# chrom\n",
    "\n",
    "function Base.show(chrom::Chromosome)\n",
    "    for gene in chrom.genes \n",
    "        show(gene)\n",
    "    end \n",
    "end \n"
   ]
  },
  {
   "cell_type": "code",
   "execution_count": null,
   "metadata": {},
   "outputs": [],
   "source": [
    "# genome \n",
    "\n",
    "function Base.:(==)(a::Genome, b::Genome)\n",
    "    return a.data == a.data && a.id_to_str == b.id_to_str && a.str_to_id == b.str_to_id\n",
    "end\n",
    "\n",
    "function Base.show(genome::Genome)\n",
    "    for chrom in genome.data\n",
    "        show(chrom)\n",
    "    end \n",
    "end \n",
    "    "
   ]
  },
  {
   "cell_type": "code",
   "execution_count": null,
   "metadata": {},
   "outputs": [],
   "source": [
    "# gene end \n",
    "\n",
    "function Base.:(==)(a::GeneEnd, b::GeneEnd)\n",
    "    if a.gene == Telomere() && b.gene == Telomere() \n",
    "        return true \n",
    "    elseif a.gene == Telomere() || b.gene == Telomere() \n",
    "        return false \n",
    "    else \n",
    "        return a.gene.id == b.gene.id && a.head == b.head\n",
    "    end \n",
    "end\n",
    "\n",
    "# return not print bc called by Base.show(adjacency) & might be colored \n",
    "function Base.show(ge::GeneEnd)\n",
    "    if ge.gene == Telomere() \n",
    "        return \".\"\n",
    "    end \n",
    "    \n",
    "    ge_info = ge.gene.dna * string(ge.gene.dup)\n",
    "    (ge.head == true) ? ge_info *= \":h\" : ge_info *= \":t\" \n",
    "\n",
    "    return ge_info\n",
    "end\n"
   ]
  },
  {
   "cell_type": "code",
   "execution_count": null,
   "metadata": {},
   "outputs": [],
   "source": [
    "# adjacency \n",
    "\n",
    "function Base.:(==)(a::Adjacency, b::Adjacency)\n",
    "     # order of the gene ends doesn't matter\n",
    "    if a.left == b.left && a.right == b.right || a.left == b.right && a.right == b.left  \n",
    "        return true \n",
    "    end \n",
    "    return false \n",
    "end \n",
    "\n",
    "function Base.show(adj::Adjacency)\n",
    "    left = show(adj.left)\n",
    "    right = show(adj.right)\n",
    "\n",
    "    print(\"(\", left, \",\", right, \")\")\n",
    "end \n",
    "\n",
    "\n",
    "# colored \n",
    "function Base.show(adj::Adjacency, blue::Bool)\n",
    "    left = show(adj.left)\n",
    "    right = show(adj.right)\n",
    "    \n",
    "    s = \"(\" * left * \",\" * right * \")\"\n",
    "    \n",
    "    if blue \n",
    "        printstyled(s; color = :blue)\n",
    "    else\n",
    "        printstyled(s; color = :green) \n",
    "    end \n",
    "\n",
    "end "
   ]
  },
  {
   "cell_type": "code",
   "execution_count": null,
   "metadata": {},
   "outputs": [],
   "source": [
    "# adjacency list \n",
    "\n",
    "function Base.show(adj_list::Vector{Adjacency})\n",
    "    for adj in adj_list \n",
    "        show(adj) \n",
    "    end \n",
    "end \n",
    "\n",
    "\n",
    "# colored \n",
    "function Base.show(adj_list::Vector{Adjacency}, changed_adj1::Adjacency, changed_adj2::Adjacency)\n",
    "    for adj in adj_list \n",
    "        if adj == changed_adj1 || adj == changed_adj2\n",
    "            show(adj, true)\n",
    "        else \n",
    "            show(adj) \n",
    "        end \n",
    "    end \n",
    "end \n",
    "\n",
    "function Base.show(adj_list::Vector{Adjacency}, changed_adj::Adjacency) \n",
    "    for adj in adj_list \n",
    "        if adj == changed_adj\n",
    "            show(adj, true)\n",
    "        else \n",
    "            show(adj) \n",
    "        end \n",
    "    end \n",
    "end "
   ]
  }
 ],
 "metadata": {
  "kernelspec": {
   "display_name": "Julia 1.10.3",
   "language": "julia",
   "name": "julia-1.10"
  },
  "language_info": {
   "name": "julia"
  }
 },
 "nbformat": 4,
 "nbformat_minor": 2
}
