{
 "cells": [
  {
   "cell_type": "code",
   "execution_count": 1,
   "metadata": {},
   "outputs": [],
   "source": [
    "using NBInclude\n",
    "@nbinclude(\"datastructs.ipynb\")"
   ]
  },
  {
   "cell_type": "markdown",
   "metadata": {},
   "source": []
  },
  {
   "cell_type": "code",
   "execution_count": 2,
   "metadata": {},
   "outputs": [
    {
     "data": {
      "text/plain": [
       "Chromosome"
      ]
     },
     "execution_count": 2,
     "metadata": {},
     "output_type": "execute_result"
    }
   ],
   "source": [
    "# chromosome \n",
    "\n",
    "# parse string of format \"{str}{int}{str}{int}...{str}{int}\" into an array of genes \n",
    "# each gene follows the format of {str}{int} \n",
    "# e.g., \"a1b1c2\" --> [\"a1, \"b1\", \"c2\"]\n",
    "\n",
    "# str is ::SubString{chromstr} || ::String\n",
    "function find_genes(chromstr)\n",
    "    genes = String[]\n",
    "    curr_gene = \"\"\n",
    "\n",
    "    seen_ints = false \n",
    "\n",
    "    for g in chromstr\n",
    "        if g == '.'  # telomere \n",
    "            if !isempty(curr_gene) \n",
    "                push!(genes, curr_gene) \n",
    "            end\n",
    "            push!(genes, string(g))\n",
    "            curr_gene = \"\"\n",
    "        else   # non-telomere \n",
    "            if isdigit(g) && !seen_ints\n",
    "                seen_ints = true \n",
    "            elseif seen_ints && isletter(g)\n",
    "                if !isempty(curr_gene) \n",
    "                    push!(genes, curr_gene) \n",
    "                    seen_ints = false\n",
    "                end\n",
    "                curr_gene = \"\"\n",
    "            end \n",
    "            curr_gene *= g\n",
    "        end \n",
    "    end\n",
    "\n",
    "    # add last accumulated string if not empty\n",
    "    if !isempty(curr_gene) push!(genes, curr_gene) end \n",
    "\n",
    "    return genes\n",
    "end\n",
    "\n",
    "\n",
    "\n",
    "function Chromosome(genes_str::SubString{String}, id_counter::Ref{Int64}, id_to_str::Dict{Int, String}, str_to_id::Dict{String, Int64}, target::Bool)\n",
    "    content = AbstractGene[]\n",
    "\n",
    "    genes = find_genes(genes_str)\n",
    "    \n",
    "    for (i, gene) in pairs(genes) \n",
    "        telomere = gene == \".\"   \n",
    "\n",
    "        if telomere && (i == 1 || i == length(genes))\n",
    "            push!(content, Telomere())\n",
    "        \n",
    "        elseif telomere \n",
    "            throw(ArgumentError(\"Linear chromosome must start and end with telomeres.\"))\n",
    "        \n",
    "        else  # gene \n",
    "            gene_letters = filter(isletter, gene)\n",
    "\n",
    "            rev = gene_letters == uppercase(gene_letters)\n",
    "            dna = lowercase(gene_letters)\n",
    "            dup = parse(Int, (filter(isdigit, gene)))\n",
    "\n",
    "            gene = dna*string(dup)\n",
    "            \n",
    "            id = id_counter[]\n",
    "            if target  # defines str_to_id dictionary\n",
    "                id_to_str[id] = gene\n",
    "                if gene in keys(str_to_id)  \n",
    "                    throw(ArgumentError(\"Duplicate gene.\"))\n",
    "                else \n",
    "                    str_to_id[gene] = id\n",
    "                end \n",
    "                id_counter[] += 1\n",
    "\n",
    "            else  # source str, doesn't define str_to_id dictionary\n",
    "                id = str_to_id[gene]\n",
    "            end\n",
    "            \n",
    "            push!(content, Gene(id, dna, dup, rev))\n",
    "        end \n",
    "    end    \n",
    "    return Chromosome(content)\n",
    "end"
   ]
  },
  {
   "cell_type": "code",
   "execution_count": 3,
   "metadata": {},
   "outputs": [
    {
     "data": {
      "text/plain": [
       "string_to_genome (generic function with 1 method)"
      ]
     },
     "execution_count": 3,
     "metadata": {},
     "output_type": "execute_result"
    }
   ],
   "source": [
    "# genome \n",
    "\n",
    "# str -> genome \n",
    "function string_to_genome(s, id_counter, id_to_str, str_to_id, target)\n",
    "    chromlist_str = split(s, \",\")\n",
    "\n",
    "    # convert chromlist_str (list of strings) to chrom_list\n",
    "    chromlist = Chromosome[]\n",
    "    \n",
    "    for c_str in chromlist_str\n",
    "        c = Chromosome(c_str, id_counter, id_to_str, str_to_id, target)\n",
    "        push!(chromlist, c)\n",
    "    end \n",
    "    \n",
    "    return Genome(chromlist, id_to_str, str_to_id)\n",
    "end \n",
    "\n"
   ]
  },
  {
   "cell_type": "code",
   "execution_count": 4,
   "metadata": {},
   "outputs": [
    {
     "data": {
      "text/plain": [
       "genome_to_adj_list (generic function with 1 method)"
      ]
     },
     "execution_count": 4,
     "metadata": {},
     "output_type": "execute_result"
    }
   ],
   "source": [
    "# genome to adjacency list \n",
    "\n",
    "function chrom_to_adj(linear::Bool, chrom::Chromosome, genes::Vector{AbstractGene}, adj_list::Vector{Adjacency})\n",
    "    # first gene end \n",
    "    if linear \n",
    "        left = GeneEnd(Telomere())\n",
    "        end_idx = length(genes) - 1\n",
    "    else \n",
    "        left = GeneEnd(genes[1], !genes[1].reverse)\n",
    "        end_idx = length(genes)\n",
    "    end  \n",
    "\n",
    "    # intermediary genes  \n",
    "    for i in 2:end_idx\n",
    "        gene = genes[i]\n",
    "        reversed = gene.reverse  \n",
    "        \n",
    "        right = GeneEnd(gene, reversed)  # if reversed, right is head (& left is tail) \n",
    "        adj = Adjacency(left, right)\n",
    "        push!(adj_list, adj)\n",
    "\n",
    "        left = GeneEnd(gene, !reversed)\n",
    "    end \n",
    "\n",
    "    # last gene end \n",
    "    if linear \n",
    "        right = GeneEnd(Telomere())\n",
    "    else \n",
    "        right = GeneEnd(genes[1], genes[1].reverse)\n",
    "    end  \n",
    "\n",
    "    adj = Adjacency(left, right)\n",
    "    push!(adj_list, adj)\n",
    "end \n",
    "\n",
    "\n",
    "function genome_to_adj_list(genome::Genome)\n",
    "    adj_list = Vector{Adjacency}()\n",
    "\n",
    "    for chrom in genome.data\n",
    "        genes = chrom.genes\n",
    "        if genes[1] == Telomere()  # linear \n",
    "            linear = true \n",
    "        else  # circular \n",
    "            linear = false \n",
    "        end\n",
    "        chrom_to_adj(linear, chrom, genes, adj_list)\n",
    "    end \n",
    "    \n",
    "    return adj_list\n",
    "end "
   ]
  },
  {
   "cell_type": "code",
   "execution_count": 5,
   "metadata": {},
   "outputs": [],
   "source": [
    "# default dict stores gene ID --> location of gene's head and tail\n",
    " \n",
    "function Base.show(dict::DefaultDict{Int, Vector{Int}}, id_to_str::Dict{Int, String})\n",
    "    for (key, value) in dict\n",
    "        # println(\"$(key.dna) (id:$(key.id)) => $(value)\")\n",
    "        println(id_to_str[key], \" $(key) => $(value)\")\n",
    "    end\n",
    "end "
   ]
  },
  {
   "cell_type": "code",
   "execution_count": 6,
   "metadata": {},
   "outputs": [
    {
     "data": {
      "text/plain": [
       "adjlist_to_gidtoloc (generic function with 1 method)"
      ]
     },
     "execution_count": 6,
     "metadata": {},
     "output_type": "execute_result"
    }
   ],
   "source": [
    "# adj list --> dictionary of gene ID to index/location of gene's head and tail \n",
    "\n",
    "function assign_geidx_to_gidtolocdict(ge::GeneEnd, idx::Ref{Int}, gid_to_loc::DefaultDict{Int, Vector{Int}})\n",
    "    if ge.gene == Telomere() \n",
    "        return\n",
    "    end  \n",
    "\n",
    "    if ge.head == true\n",
    "        gid_to_loc[ge.gene.id][2] = idx[]\n",
    "    else \n",
    "        gid_to_loc[ge.gene.id][1] = idx[]\n",
    "    end\n",
    "end \n",
    "\n",
    "\n",
    "function adjlist_to_gidtoloc(adj_list:: Vector{Adjacency})\n",
    "    gid_to_loc = DefaultDict{Int, Vector{Int}}(() -> zeros(Int, 2)) # tail = idx 1, head = 2 in array\n",
    "    idx = Ref{Int}(1)\n",
    "\n",
    "    for adj in adj_list\n",
    "        assign_geidx_to_gidtolocdict(adj.left, idx, gid_to_loc)\n",
    "        assign_geidx_to_gidtolocdict(adj.right, idx, gid_to_loc)\n",
    "        idx[] += 1\n",
    "    end \n",
    "    \n",
    "    return gid_to_loc \n",
    "end \n",
    "     "
   ]
  },
  {
   "cell_type": "code",
   "execution_count": 7,
   "metadata": {},
   "outputs": [
    {
     "data": {
      "text/plain": [
       "AdjacencyGraph"
      ]
     },
     "execution_count": 7,
     "metadata": {},
     "output_type": "execute_result"
    }
   ],
   "source": [
    "# adjacency graph \n",
    "\n",
    "\n",
    "function AdjacencyGraph(src::Genome, target::Genome, mode::Int)\n",
    "    # process genomes (not explicitly creating the adj graph)    \n",
    "    src_adj_list = genome_to_adj_list(src)        \n",
    "    target_adj_list  = genome_to_adj_list(target) \n",
    "    \n",
    "    if mode >= 1\n",
    "        show(src_adj_list)\n",
    "        print(\" --> \")\n",
    "        show(target_adj_list)\n",
    "        println()\n",
    "    end \n",
    "    \n",
    "    src_geneid_to_location = adjlist_to_gidtoloc(src_adj_list)   \n",
    "    target_geneid_to_location = adjlist_to_gidtoloc(target_adj_list)\n",
    "    \n",
    "    if mode >= 2\n",
    "        println()\n",
    "        print(\"SRC GENE & ID --> LOCATION DICT\\n\")\n",
    "        show(src_geneid_to_location, src.id_to_str)  \n",
    "        print(\"\\n\", \"TARGET GENE & ID --> LOCATION DICT\\n\")\n",
    "        show(target_geneid_to_location, src.id_to_str)\n",
    "        print(\"\\n*************\\n\\n\")\n",
    "    end \n",
    "\n",
    "    if src.id_to_str != target.id_to_str\n",
    "        throw(ArgumentError(\"Source and target genomes should have the same ID-->str dict\"))\n",
    "    end \n",
    "\n",
    "    num_dcj_ops = find_dcj_dist_ops(src_adj_list, target_adj_list, src_geneid_to_location, target_geneid_to_location, mode, target.id_to_str) \n",
    "    \n",
    "    if mode >= 1\n",
    "        print(\"\\n#ops = \", num_dcj_ops)\n",
    "        print(\"\\n----------------------------------------\\n\")\n",
    "    end \n",
    "\n",
    "    return AdjacencyGraph(num_dcj_ops)\n",
    "end "
   ]
  }
 ],
 "metadata": {
  "kernelspec": {
   "display_name": "Julia 1.10.3",
   "language": "julia",
   "name": "julia-1.10"
  },
  "language_info": {
   "file_extension": ".jl",
   "mimetype": "application/julia",
   "name": "julia",
   "version": "1.10.3"
  }
 },
 "nbformat": 4,
 "nbformat_minor": 2
}
