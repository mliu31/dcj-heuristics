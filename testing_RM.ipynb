{
 "cells": [
  {
   "cell_type": "code",
   "execution_count": 19,
   "metadata": {},
   "outputs": [],
   "source": [
    "using NBInclude\n",
    "@nbinclude(\"randommap.ipynb\")"
   ]
  },
  {
   "cell_type": "code",
   "execution_count": 19,
   "metadata": {},
   "outputs": [
    {
     "data": {
      "text/plain": [
       "test_randommaps (generic function with 1 method)"
      ]
     },
     "execution_count": 19,
     "metadata": {},
     "output_type": "execute_result"
    }
   ],
   "source": [
    "function test_randommaps(n::Int, x::Int, num_maps::Int, iterations::Int, mode::String)\n",
    "    m = 0\n",
    "    if mode == \"barebones\"\n",
    "        m = 0.5\n",
    "        mode = \"none\"\n",
    "    end \n",
    "    glob_diff = -1\n",
    "\n",
    "    glob_min = Inf\n",
    "    glob_min_src = \"\"\n",
    "    glob_min_map = Vector{Int}()\n",
    "    \n",
    "    glob_max = 0\n",
    "    glob_max_src = \"\"\n",
    "    glob_max_map = Vector{Int}()\n",
    "    \n",
    "    glob_dedup_tar = \"\"\n",
    "\n",
    "    dup_src = \"\"\n",
    "    dup_target = generate_target_with_xdup(n, x)\n",
    "    dupchar_to_unique_chars = OrderedDict{Char, Vector{Char}}()\n",
    "\n",
    "    for i in 1:iterations \n",
    "        src = scramble_target(dup_target)\n",
    "        \n",
    "        dedup_tar, min_dist, min_src, min_map, max_dist, max_src, max_map, dupchar_to_unique_chars  = randommap(src, dup_target, num_maps, mode, dupchar_to_unique_chars)\n",
    "\n",
    "        if max_dist - min_dist > glob_diff\n",
    "            glob_diff = max_dist - min_dist\n",
    "            \n",
    "            glob_min = min_dist \n",
    "            glob_min_src = min_src\n",
    "            glob_min_map = min_map\n",
    "            \n",
    "            glob_max = max_dist \n",
    "            glob_max_src = max_src\n",
    "            glob_max_map = max_map\n",
    "            \n",
    "            dup_src = src\n",
    "            glob_dedup_tar = dedup_tar\n",
    "        end \n",
    "    end \n",
    "\n",
    "    if m >= 0.5 \n",
    "        println(\"#genes = \", n, \", #duplicates = \", x, \" || max diff = \", glob_diff)\n",
    "        println(dup_src, \" --> \", dup_target)\n",
    "\n",
    "        println(\"[dedup] \", glob_min_src, \" --> \", glob_dedup_tar, \" || DCJ Dist=\", glob_min, \" || map=\", glob_min_map)\n",
    "        println(\"[dedup] \", glob_max_src, \" --> \", glob_dedup_tar,\" || DCJ Dist=\", glob_max, \" || map=\", glob_max_map, \"\\n\")\n",
    "    end \n",
    "\n",
    "    # return glob_dedup_tar, glob_min, glob_min_src, glob_min_map, glob_max, glob_max_src, glob_max_map, glob_diff\n",
    "    return glob_diff\n",
    "end \n"
   ]
  },
  {
   "cell_type": "markdown",
   "metadata": {},
   "source": [
    "One instance of n genes, x duplicates and the max difference between the random maps generated"
   ]
  },
  {
   "cell_type": "code",
   "execution_count": 24,
   "metadata": {},
   "outputs": [],
   "source": [
    "# n = 3\n",
    "# x = 1\n",
    "# num_maps = 0  # == max\n",
    "# num_iterations = 3\n",
    "\n",
    "# difference = test_randommaps(n, x, num_maps, num_iterations, \"barebones\")\n"
   ]
  },
  {
   "cell_type": "markdown",
   "metadata": {},
   "source": [
    "Looping through 1:n genes and 1:x duplicates to find \n",
    "- the max difference of DCJ distance from the RM generated \n",
    "- percentage of the max difference compared to the max DCJ distance "
   ]
  },
  {
   "cell_type": "code",
   "execution_count": 25,
   "metadata": {},
   "outputs": [],
   "source": [
    "# n = 10   # num genes \n",
    "# x = 10  # num duplicates \n",
    "# num_maps = 10  # == max (all possible maps) \n",
    "# num_iterations = 20\n",
    "\n",
    "# max_diff_data = zeros(n, x)\n",
    "# percentages = zeros(n, x)\n",
    "\n",
    "# for m in 1:n\n",
    "#     for y in 1:x \n",
    "#         println(\"(\", m, \",\", y, \")\")\n",
    "        \n",
    "#         diff = test_randommaps(m, y, num_maps, num_iterations, \"none\")\n",
    "\n",
    "#         max_diff_data[m, y] = diff\n",
    "#         percentages[m, y] = diff/(m+y)\n",
    "#     end \n",
    "# end \n",
    "\n",
    "# max_diff_data\n"
   ]
  },
  {
   "cell_type": "markdown",
   "metadata": {},
   "source": [
    "Plotting percentages"
   ]
  },
  {
   "cell_type": "code",
   "execution_count": 26,
   "metadata": {},
   "outputs": [],
   "source": [
    "# using Plots \n",
    "\n",
    "# x = x \n",
    "# y = 1:n\n",
    "# z = percentages\n",
    "\n",
    "# surface(z)"
   ]
  }
 ],
 "metadata": {
  "kernelspec": {
   "display_name": "Julia 1.10.3",
   "language": "julia",
   "name": "julia-1.10"
  },
  "language_info": {
   "file_extension": ".jl",
   "mimetype": "application/julia",
   "name": "julia",
   "version": "1.10.3"
  }
 },
 "nbformat": 4,
 "nbformat_minor": 2
}
