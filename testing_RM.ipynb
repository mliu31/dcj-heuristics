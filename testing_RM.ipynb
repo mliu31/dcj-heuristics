{
 "cells": [
  {
   "cell_type": "code",
   "execution_count": 1,
   "metadata": {},
   "outputs": [],
   "source": [
    "using NBInclude\n",
    "@nbinclude(\"randommap.ipynb\")\n",
    "@nbinclude(\"testing.ipynb\")"
   ]
  },
  {
   "cell_type": "code",
   "execution_count": 2,
   "metadata": {},
   "outputs": [
    {
     "data": {
      "text/plain": [
       "get_details_from_map (generic function with 1 method)"
      ]
     },
     "execution_count": 2,
     "metadata": {},
     "output_type": "execute_result"
    }
   ],
   "source": [
    "function get_details_from_map(map_to_dedupstr_dcjdist::Dict{Vector{Int}, Tuple{String, Int}})\n",
    "    max_dist = 0 \n",
    "    max_src = \"\" \n",
    "    max_map = Vector{Int}() \n",
    "\n",
    "    min_dist = Inf \n",
    "    min_src = \"\" \n",
    "    min_map = Vector{Int}() \n",
    "\n",
    "    for (map, tupl) in map_to_dedupstr_dcjdist\n",
    "        dedup_str = tupl[1]\n",
    "        dcjdist = tupl[2]\n",
    "\n",
    "        if dcjdist > max_dist\n",
    "            max_dist = dcjdist \n",
    "            max_src = dedup_str \n",
    "            max_map = map \n",
    "        end \n",
    "        if dcjdist < min_dist\n",
    "            min_dist = dcjdist \n",
    "            min_src = dedup_str \n",
    "            min_map = map\n",
    "        end \n",
    "    end \n",
    "\n",
    "    return max_dist, max_src, max_map, min_dist, min_src, min_map\n",
    "end "
   ]
  },
  {
   "cell_type": "code",
   "execution_count": 3,
   "metadata": {},
   "outputs": [
    {
     "data": {
      "text/plain": [
       "test_randommaps (generic function with 1 method)"
      ]
     },
     "execution_count": 3,
     "metadata": {},
     "output_type": "execute_result"
    }
   ],
   "source": [
    "function test_randommaps(n::Int, x::Int, num_maps::Int, iterations::Int, mode::String)\n",
    "    m = 0\n",
    "    if mode == \"barebones\"\n",
    "        m = 0.5\n",
    "        mode = \"none\"\n",
    "    end \n",
    "    glob_diff = -1\n",
    "\n",
    "    glob_min = Inf\n",
    "    glob_min_src = \"\"\n",
    "    glob_min_map = Vector{Int}()\n",
    "    \n",
    "    glob_max = 0\n",
    "    glob_max_src = \"\"\n",
    "    glob_max_map = Vector{Int}()\n",
    "    \n",
    "    glob_dedup_tar = \"\"\n",
    "\n",
    "    dup_src = \"\"\n",
    "    dup_target = generate_target_with_xdup(n, x)\n",
    "\n",
    "    tar_wcounts = add_gene_counts(dup_target) \n",
    "    \n",
    "    dupchar_to_unique_chars = OrderedDict{Char, Vector{Char}}()\n",
    "\n",
    "    for i in 1:iterations \n",
    "        # src = scramble_target(dup_target)\n",
    "        src = apply_x_dcjops(tar_wcounts, 20, 0)\n",
    "    \n",
    "        dedup_tar, map_to_dedupstr_dcjdist  = randommap(src, dup_target, num_maps, \"none\")\n",
    "        \n",
    "        max_dist, max_src, max_map, min_dist, min_src, min_map = get_details_from_map(map_to_dedupstr_dcjdist)\n",
    "       \n",
    "        if max_dist - min_dist > glob_diff\n",
    "            glob_diff = max_dist - min_dist\n",
    "            \n",
    "            glob_min = min_dist \n",
    "            glob_min_src = min_src\n",
    "            glob_min_map = min_map\n",
    "            \n",
    "            glob_max = max_dist \n",
    "            glob_max_src = max_src\n",
    "            glob_max_map = max_map\n",
    "            \n",
    "            dup_src = src\n",
    "            glob_dedup_tar = dedup_tar\n",
    "        end \n",
    "    end \n",
    "\n",
    "    if m >= 0.5 \n",
    "        println(\"#genes = \", n, \", #duplicates = \", x, \" || max diff = \", glob_diff)\n",
    "        println(dup_src, \" --> \", dup_target)\n",
    "\n",
    "        println(\"[dedup] \", glob_min_src, \" --> \", glob_dedup_tar, \" || DCJ Dist=\", glob_min, \" || map=\", glob_min_map)\n",
    "        println(\"[dedup] \", glob_max_src, \" --> \", glob_dedup_tar,\" || DCJ Dist=\", glob_max, \" || map=\", glob_max_map, \"\\n\")\n",
    "    end \n",
    "\n",
    "    # return glob_dedup_tar, glob_min, glob_min_src, glob_min_map, glob_max, glob_max_src, glob_max_map, glob_diff\n",
    "    return glob_diff\n",
    "end \n"
   ]
  },
  {
   "cell_type": "markdown",
   "metadata": {},
   "source": [
    "One instance of n genes, x duplicates and the max difference between the random maps generated"
   ]
  },
  {
   "cell_type": "code",
   "execution_count": 4,
   "metadata": {},
   "outputs": [],
   "source": []
  },
  {
   "cell_type": "markdown",
   "metadata": {},
   "source": [
    "Looping through 1:n genes and 1:x duplicates to find \n",
    "- the max difference of DCJ distance from the RM generated \n",
    "- percentage of the max difference compared to the max DCJ distance "
   ]
  },
  {
   "cell_type": "code",
   "execution_count": 5,
   "metadata": {},
   "outputs": [
    {
     "name": "stdout",
     "output_type": "stream",
     "text": [
      "(1,1)\n",
      "\n",
      "\u001b[36mSRC A'a --> TARGET a'a\u001b[39m\n",
      "warning: capping maps at 2\n",
      "\u001b[35mtarget\u001b[39m\n",
      "dup genes --> multiplicity\n",
      "OrderedDict(\"a\" => 2)\n",
      "\n",
      "target map\n",
      "[1]\n",
      "\n",
      "\u001b[35msource\u001b[39m\n",
      "dup genes --> multiplicity\n",
      "OrderedDict(\"a\" => 2)\n",
      "\n",
      "\u001b[35mdeduplication of RM\u001b[39m\n",
      "a1a2"
     ]
    }
   ],
   "source": []
  },
  {
   "cell_type": "markdown",
   "metadata": {},
   "source": [
    "Plotting percentages"
   ]
  },
  {
   "cell_type": "code",
   "execution_count": null,
   "metadata": {},
   "outputs": [],
   "source": []
  }
 ],
 "metadata": {
  "kernelspec": {
   "display_name": "Julia 1.10.3",
   "language": "julia",
   "name": "julia-1.10"
  },
  "language_info": {
   "file_extension": ".jl",
   "mimetype": "application/julia",
   "name": "julia",
   "version": "1.10.3"
  }
 },
 "nbformat": 4,
 "nbformat_minor": 2
}
