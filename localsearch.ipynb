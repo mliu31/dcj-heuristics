{
 "cells": [
  {
   "cell_type": "code",
   "execution_count": 5,
   "metadata": {},
   "outputs": [
    {
     "data": {
      "text/plain": [
       "randommap (generic function with 1 method)"
      ]
     },
     "execution_count": 5,
     "metadata": {},
     "output_type": "execute_result"
    }
   ],
   "source": [
    "using NBInclude\n",
    "@nbinclude(\"randommap.ipynb\")"
   ]
  },
  {
   "cell_type": "code",
   "execution_count": 13,
   "metadata": {},
   "outputs": [
    {
     "data": {
      "text/plain": [
       "convert_maptodcjdist_to_converse (generic function with 1 method)"
      ]
     },
     "execution_count": 13,
     "metadata": {},
     "output_type": "execute_result"
    }
   ],
   "source": [
    "function convert_maptodcjdist_to_converse(map_to_dedupstr_dcjdist::Dict{Vector{Int}, Tuple{String, Int}})\n",
    "    dcjdist_to_map = Dict{Int, Vector{Vector{Int}}}()\n",
    "\n",
    "    for (map, tuple) in map_to_dedupstr_dcjdist\n",
    "        dcjdist = tuple[2]\n",
    "\n",
    "        if dcjdist in keys(dcjdist_to_map)\n",
    "            push!(dcjdist_to_map[dcjdist], map)\n",
    "        else \n",
    "            dcjdist_to_map[dcjdist] = [map]\n",
    "        end \n",
    "    end \n",
    "\n",
    "    return dcjdist_to_map\n",
    "end "
   ]
  },
  {
   "cell_type": "code",
   "execution_count": null,
   "metadata": {},
   "outputs": [],
   "source": [
    "function find_neighbors(max_neighbors, processed_maps, map_to_dedupstr_dcjdist, dcj_dist_to_map, sorted_dists)\n",
    "\n",
    "\n",
    "end "
   ]
  },
  {
   "cell_type": "code",
   "execution_count": 24,
   "metadata": {},
   "outputs": [
    {
     "name": "stdout",
     "output_type": "stream",
     "text": [
      "\n",
      "\u001b[36mSRC .a.,aab,bc --> TARGET ba,a,b,ca\u001b[39m\n"
     ]
    },
    {
     "ename": "LoadError",
     "evalue": "BoundsError: attempt to access 0-element Vector{Int64} at index [1]",
     "output_type": "error",
     "traceback": [
      "BoundsError: attempt to access 0-element Vector{Int64} at index [1]",
      "",
      "Stacktrace:",
      " [1] getindex",
      "   @ .\\essentials.jl:13 [inlined]",
      " [2] localsearch(S::String, P::String, total_maps::Int64, rand_maps::Int64, max_neighbors::Int64, mode::String, dupchar_to_unique_chars::OrderedDict{Char, Vector{Char}})",
      "   @ Main .\\In[24]:19",
      " [3] top-level scope",
      "   @ In[24]:47"
     ]
    }
   ],
   "source": [
    "# local search heuristic\n",
    "\n",
    "# total_maps = total number of maps to be created \n",
    "# rand_maps = number of maps randomly generated \n",
    "# max_neighbors = max number of neighbors explored in each local search\n",
    "function localsearch(S::String, P::String, total_maps::Int, rand_maps::Int, max_neighbors::Int, mode::String, dupchar_to_unique_chars::OrderedDict{Char, Vector{Char}})\n",
    "    printstyled(\"\\nSRC \" * S * \" --> TARGET \" * P * \"\\n\", color=:cyan)\n",
    "    m = 0\n",
    "    # create arbitrary map for P, a set of random maps S_M, rank maps using estimator algo \n",
    "    P_map, P_dedup, map_to_dedupstr_dcjdist = generate_random_maps_and_calc_distances(S, P, rand_maps, dupchar_to_unique_chars, m)\n",
    "    num_generated_maps = rand_maps\n",
    "    processed_maps = Set{Vector{Int}}()\n",
    "\n",
    "    dcj_dist_to_map = convert_maptodcjdist_to_converse(map_to_dedupstr_dcjdist)\n",
    "    sorted_dists = sort(collect(keys(dcj_dist_to_map)))\n",
    "\n",
    "    # until 'total_maps' maps are generated\n",
    "    while length(num_generated_maps) != total_maps\n",
    "        smallest_dcj_dist = sorted_dists[1]\n",
    "        maps = dcj_dist_to_map[smallest_dcj_dist]\n",
    "\n",
    "        # select best not yet explored map \n",
    "        map_smallestd = popfirst!(maps)\n",
    "        if isempty(maps)\n",
    "            delete!(dcj_dist_to_map, smallest_dcj_dist)\n",
    "            popfirst!(sorted_dists)\n",
    "        end \n",
    "\n",
    "        # searches up to 'max_neighbors' neighbor maps, adding them to M \n",
    "        neighbors = find_neighbors(max_neighbors, processed_maps, map_to_dedupstr_dcjdist, dcj_dist_to_map, sorted_dists)\n",
    "        \n",
    "        # track all processed maps (st no repeat processing) \n",
    "        num_generated_maps += length(neighbors)\n",
    "        push!(processed_maps, map_smallestd)\n",
    "    end\n",
    "    # return map that returns the shortest DCJ dist \n",
    "end \n",
    "\n",
    "\n",
    "src = \".a.,aab,bc\"  \n",
    "target = \"ba,a,b,ca\"\n",
    "\n",
    "total_maps = 8\n",
    "rand_maps = 3\n",
    "max_neighbors = 2\n",
    "\n",
    "mode = \"none\"\n",
    "dupchar_to_unique_chars = OrderedDict{Char, Vector{Char}}()\n",
    "\n",
    "localsearch(src, target, total_maps, rand_maps, max_neighbors, mode, dupchar_to_unique_chars)"
   ]
  }
 ],
 "metadata": {
  "kernelspec": {
   "display_name": "Julia 1.10.3",
   "language": "julia",
   "name": "julia-1.10"
  },
  "language_info": {
   "file_extension": ".jl",
   "mimetype": "application/julia",
   "name": "julia",
   "version": "1.10.3"
  }
 },
 "nbformat": 4,
 "nbformat_minor": 2
}
