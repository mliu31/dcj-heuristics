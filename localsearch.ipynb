{
 "cells": [
  {
   "cell_type": "code",
   "execution_count": 1,
   "metadata": {},
   "outputs": [
    {
     "data": {
      "text/plain": [
       "(\"ba,q,e,ck\", 4, \".q.,kae,bc\", [4, 2], 6, \".a.,qkb,ec\", [1, 1], OrderedDict('a' => ['a', 'q', 'k'], 'b' => ['b', 'e']))"
      ]
     },
     "execution_count": 1,
     "metadata": {},
     "output_type": "execute_result"
    }
   ],
   "source": [
    "using NBInclude\n",
    "@nbinclude(\"randommap.ipynb\")"
   ]
  },
  {
   "cell_type": "code",
   "execution_count": 2,
   "metadata": {},
   "outputs": [
    {
     "data": {
      "text/plain": [
       "convert_maptodcjdist_to_converse (generic function with 1 method)"
      ]
     },
     "execution_count": 2,
     "metadata": {},
     "output_type": "execute_result"
    }
   ],
   "source": [
    "function convert_maptodcjdist_to_converse(map_to_dedupstr_dcjdist::Dict{Vector{Int}, Tuple{String, Int}})\n",
    "    dcjdist_to_map = Dict{Int, Vector{Vector{Int}}}()\n",
    "\n",
    "    for (map, tuple) in map_to_dedupstr_dcjdist\n",
    "        dcjdist = tuple[2]\n",
    "\n",
    "        if dcjdist in keys(dcjdist_to_map)\n",
    "            push!(dcjdist_to_map[dcjdist], map)\n",
    "        else \n",
    "            dcjdist_to_map[dcjdist] = [map]\n",
    "        end \n",
    "    end \n",
    "\n",
    "    return dcjdist_to_map\n",
    "end "
   ]
  },
  {
   "cell_type": "code",
   "execution_count": 3,
   "metadata": {},
   "outputs": [
    {
     "data": {
      "text/plain": [
       "insert_new_map_into_documentation (generic function with 1 method)"
      ]
     },
     "execution_count": 3,
     "metadata": {},
     "output_type": "execute_result"
    }
   ],
   "source": [
    "# given string S and two maps m and v, v = neighbor(m) if \n",
    "    # for a replicated char α at idx i in the maps, v[i] = (m[i] + 1) (mod occ(α,S)!)  \n",
    "    # all other chars (idx e) are mapped the same way v[e] = m[e]\n",
    "function find_neighbors(map_to_explore::Vector{Int}, max_neighbors_to_explore::Int, map_to_dedupstr_dcjdist::Dict{Vector{Int}, Tuple{String, Int}}, S_dupchar_to_multiplicity::OrderedDict{Char, Int})  \n",
    "    neighbors = Set{Vector{Int}}()\n",
    "    \n",
    "    idxs_of_neighbors = Set(range(1, length(map_to_explore)))  # index of the character in a map that's incremented \n",
    "\n",
    "    max_neighbors = length(map_to_explore)\n",
    "    if max_neighbors_to_explore > max_neighbors \n",
    "        max_neighbors_to_explore = max_neighbors  # cap this value \n",
    "    end \n",
    "\n",
    "    neighbor = map_to_explore\n",
    "    for i in 1:max_neighbors_to_explore\n",
    "        while (neighbor in neighbors) || (neighbor in keys(map_to_dedupstr_dcjdist))\n",
    "            if length(idxs_of_neighbors) == 0\n",
    "                return collect(neighbors)\n",
    "            end\n",
    "\n",
    "            i = rand(idxs_of_neighbors)\n",
    "            pop!(idxs_of_neighbors, i)\n",
    "\n",
    "            neighbor = deepcopy(map_to_explore)\n",
    "            neighbor[i] += 1    \n",
    "            multiplicity = S_dupchar_to_multiplicity[collect(keys(S_dupchar_to_multiplicity))[i]]\n",
    "            if neighbor[i] > factorial(multiplicity) \n",
    "                neighbor[i] = 1 \n",
    "            end \n",
    "        end \n",
    "\n",
    "        if neighbor != map_to_explore \n",
    "            push!(neighbors, neighbor)\n",
    "        end \n",
    "    end \n",
    "    return collect(neighbors) \n",
    "end \n",
    "\n",
    "\n",
    "function insert_new_map_into_documentation(neighbor::Vector{Int}, dcjdist::Int, dedup_genome::String, map_to_dedupstr_dcjdist::Dict{Vector{Int}}, dcjdist_to_map::Dict{Int, Vector{Vector{Int}}}, sorted_dists::Vector{Int})\n",
    "    if neighbor in keys(map_to_dedupstr_dcjdist) \n",
    "        throw(ArgumentError(\"uhhhh generated a repeat map\"))\n",
    "    end\n",
    "\n",
    "    map_to_dedupstr_dcjdist[neighbor] = (dedup_genome, dcjdist)\n",
    "    \n",
    "    if dcjdist in keys(dcjdist_to_map)\n",
    "        # printstyled(dcjdist_to_map, color=:blue)\n",
    "        push!(dcjdist_to_map[dcjdist], neighbor)\n",
    "        # printstyled(dcjdist_to_map, color=:blue)\n",
    "    else \n",
    "        dcjdist_to_map[dcjdist] = [neighbor]\n",
    "    end \n",
    "\n",
    "    if dcjdist ∉ sorted_dists\n",
    "        idx = searchsortedfirst(sorted_dists, dcjdist)\n",
    "        insert!(sorted_dists, idx, dcjdist)    \n",
    "    end \n",
    "end "
   ]
  },
  {
   "cell_type": "code",
   "execution_count": 59,
   "metadata": {},
   "outputs": [
    {
     "name": "stdout",
     "output_type": "stream",
     "text": [
      "\u001b[36mSRC .a.,aab,bc --> TARGET ba,a,b,ca\u001b[39m\n",
      "random maps: [[1, 1], [6, 1], [4, 1]]\n",
      "note: capping total maps\n",
      "\n",
      "generated 3/8\n",
      "exploring neighborhood of [6, 1]\n",
      "\\\\\\\\found a min dcj mapping [6, 1] with distance 4   ba,f,t,ce --> .e.,fab,tc\n",
      "neighbors explored: \n",
      "     [6, 2] dcj dist=6\n",
      "\n",
      "generated 4/8\n",
      "exploring neighborhood of [4, 1]\n",
      "neighbors explored: \n",
      "     [4, 2] dcj dist=4\n",
      "     [5, 1] dcj dist=4\n",
      "\n",
      "generated 6/8\n",
      "exploring neighborhood of [4, 2]\n",
      "neighbors explored: \n",
      "     [5, 2] dcj dist=6\n",
      "\n",
      "generated 7/8\n",
      "exploring neighborhood of [5, 1]\n",
      "neighbors explored: \n",
      "\n",
      "generated 7/8\n",
      "exploring neighborhood of [1, 1]\n",
      "neighbors explored: \n",
      "     [2, 1] dcj dist=6\n"
     ]
    },
    {
     "data": {
      "text/plain": [
       "(4, [6, 1], \".e.,fab,tc\")"
      ]
     },
     "execution_count": 59,
     "metadata": {},
     "output_type": "execute_result"
    }
   ],
   "source": [
    "# local search heuristic\n",
    "\n",
    "# total_maps = total number of maps to be created \n",
    "# rand_maps = number of maps randomly generated \n",
    "# max_neighbors = max number of neighbors explored in each local search\n",
    "function localsearch(S::String, P::String, total_maps::Int, rand_maps::Int, max_neighbors::Int, mode::String, dupchar_to_unique_chars::OrderedDict{Char, Vector{Char}})\n",
    "    printstyled(\"SRC \" * S * \" --> TARGET \" * P * \"\\n\", color=:cyan)\n",
    "    m = 0\n",
    "\n",
    "    global_min_map = Vector{Int}() \n",
    "    global_min_dcj = Inf\n",
    "    global_min_dedupstr = \"\"\n",
    "    \n",
    "    # create arbitrary map for P, a set of random maps S_M, rank maps using estimator algo \n",
    "    P_map, P_dedup, map_to_dedupstr_dcjdist, S_dupchar_to_multiplicity = generate_random_maps_and_calc_distances(S, P, rand_maps, dupchar_to_unique_chars, m)\n",
    "    num_generated_maps = rand_maps\n",
    "    explored_maps = Set{Vector{Int}}()\n",
    "\n",
    "    print(\"random maps: \", keys(map_to_dedupstr_dcjdist), \"\\n\")\n",
    "\n",
    "    total_possible_maps = 0\n",
    "    for (_, mult) in S_dupchar_to_multiplicity\n",
    "        total_possible_maps += factorial(mult)\n",
    "    end \n",
    "    if total_maps > total_possible_maps \n",
    "        total_maps = total_possible_maps \n",
    "        println(\"note: capping total maps\")\n",
    "    end \n",
    "    \n",
    "    dcj_dist_to_map = convert_maptodcjdist_to_converse(map_to_dedupstr_dcjdist)\n",
    "    sorted_dists = sort(collect(keys(dcj_dist_to_map)))\n",
    "    \n",
    "    # until 'total_maps' maps are generated\n",
    "    while total_maps != num_generated_maps\n",
    "        println(\"\\ngenerated \", num_generated_maps, \"/\", total_maps)\n",
    "        # select best not yet explored map \n",
    "        smallest_dcj_dist = sorted_dists[1]\n",
    "        maps = dcj_dist_to_map[smallest_dcj_dist]\n",
    "        \n",
    "        map_smallestd = popfirst!(maps)\n",
    "        println(\"exploring neighborhood of \", map_smallestd)\n",
    "        if isempty(maps)\n",
    "            delete!(dcj_dist_to_map, smallest_dcj_dist)\n",
    "            popfirst!(sorted_dists)\n",
    "        end \n",
    "        \n",
    "        if smallest_dcj_dist < global_min_dcj\n",
    "            global_min_map  = map_smallestd\n",
    "            global_min_dcj =  map_to_dedupstr_dcjdist[global_min_map][2]\n",
    "            global_min_dedupstr = map_to_dedupstr_dcjdist[global_min_map][1]\n",
    "            print(\"\\\\\\\\\\\\\\\\found a min dcj mapping \", global_min_map, \" with distance \", global_min_dcj, \"   \")\n",
    "            println(P_dedup, \" --> \", global_min_dedupstr)\n",
    "        end \n",
    "\n",
    "        # searches up to 'max_neighbors' neighbor maps, adding them to M \n",
    "        if max_neighbors > total_maps - num_generated_maps \n",
    "            max_neighbors = total_maps - num_generated_maps   # cap it \n",
    "        end \n",
    "        neighbors = find_neighbors(map_smallestd, max_neighbors, map_to_dedupstr_dcjdist, S_dupchar_to_multiplicity)\n",
    "        \n",
    "        # insert neighbors into documentation \n",
    "        println(\"neighbors explored: \")\n",
    "        for n in neighbors \n",
    "            s_dedup = deduplicate_genome(n, S, S_dupchar_to_multiplicity, dupchar_to_unique_chars)\n",
    "            d = calculate_distance(P_dedup, s_dedup, \"none\")\n",
    "            insert_new_map_into_documentation(n, d, s_dedup, map_to_dedupstr_dcjdist, dcj_dist_to_map, sorted_dists)\n",
    "            println(\"     \", n, \" dcj dist=\", d)\n",
    "            if d < global_min_dcj\n",
    "                global_min_map  = n\n",
    "                global_min_dcj =  map_to_dedupstr_dcjdist[global_min_map][2]\n",
    "                global_min_dedupstr = map_to_dedupstr_dcjdist[global_min_map][1]\n",
    "                print(\"\\\\\\\\\\\\\\\\found a min dcj mapping \", global_min_map, \" with distance \", global_min_dcj, \"   \")\n",
    "                println(P_dedup, \" --> \", global_min_dedupstr)\n",
    "            end \n",
    "        end \n",
    "            \n",
    "        # track all explored_maps maps (st no repeat exploration) \n",
    "        num_generated_maps += length(neighbors)\n",
    "        push!(explored_maps, map_smallestd)\n",
    "    end\n",
    "    # return map that returns the shortest DCJ dist \n",
    "    return global_min_dcj, global_min_map, global_min_dedupstr\n",
    "end \n",
    "\n",
    "\n",
    "src = \".a.,aab,bc\"  \n",
    "target = \"ba,a,b,ca\"\n",
    "\n",
    "total_maps = 10\n",
    "rand_maps = 3\n",
    "max_neighbors = 3\n",
    "\n",
    "mode = \"none\"\n",
    "dupchar_to_unique_chars = OrderedDict{Char, Vector{Char}}()\n",
    "\n",
    "localsearch(src, target, total_maps, rand_maps, max_neighbors, mode, dupchar_to_unique_chars)"
   ]
  }
 ],
 "metadata": {
  "kernelspec": {
   "display_name": "Julia 1.10.3",
   "language": "julia",
   "name": "julia-1.10"
  },
  "language_info": {
   "file_extension": ".jl",
   "mimetype": "application/julia",
   "name": "julia",
   "version": "1.10.3"
  }
 },
 "nbformat": 4,
 "nbformat_minor": 2
}
