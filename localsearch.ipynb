{
 "cells": [
  {
   "cell_type": "code",
   "execution_count": 1,
   "metadata": {},
   "outputs": [],
   "source": [
    "using Plots\n",
    "using Combinatorics\n",
    "\n",
    "using NBInclude\n",
    "@nbinclude(\"randommap.ipynb\")\n",
    "@nbinclude(\"testing_RM.ipynb\")\n"
   ]
  },
  {
   "cell_type": "code",
   "execution_count": 2,
   "metadata": {},
   "outputs": [
    {
     "data": {
      "text/plain": [
       "convert_maptodcjdist_to_converse (generic function with 1 method)"
      ]
     },
     "execution_count": 2,
     "metadata": {},
     "output_type": "execute_result"
    }
   ],
   "source": [
    "function convert_maptodcjdist_to_converse(map_to_dedupstr_dcjdist::Dict{Vector{Int}, Tuple{String, Int}})\n",
    "    dcjdist_to_map = Dict{Int, Vector{Vector{Int}}}()\n",
    "\n",
    "    for (map, tuple) in map_to_dedupstr_dcjdist\n",
    "        dcjdist = tuple[2]\n",
    "\n",
    "        if dcjdist in keys(dcjdist_to_map)\n",
    "            push!(dcjdist_to_map[dcjdist], map)\n",
    "        else \n",
    "            dcjdist_to_map[dcjdist] = [map]\n",
    "        end \n",
    "    end \n",
    "\n",
    "    return dcjdist_to_map\n",
    "end "
   ]
  },
  {
   "cell_type": "code",
   "execution_count": 3,
   "metadata": {},
   "outputs": [
    {
     "data": {
      "text/plain": [
       "insert_new_map_into_documentation (generic function with 1 method)"
      ]
     },
     "execution_count": 3,
     "metadata": {},
     "output_type": "execute_result"
    }
   ],
   "source": [
    "function insert_new_map_into_documentation(neighbor::Vector{Int}, dcjdist::Int, dedup_genome::String, map_to_dedupstr_dcjdist::Dict{Vector{Int}}, dcjdist_to_map::Dict{Int, Vector{Vector{Int}}}, sorted_dists::Vector{Int})\n",
    "    if neighbor in keys(map_to_dedupstr_dcjdist) \n",
    "        throw(ArgumentError(\"ERROR: generated a repeat map\"))\n",
    "    end\n",
    "\n",
    "    map_to_dedupstr_dcjdist[neighbor] = (dedup_genome, dcjdist)\n",
    "    \n",
    "    if dcjdist in keys(dcjdist_to_map)\n",
    "        push!(dcjdist_to_map[dcjdist], neighbor)\n",
    "    else \n",
    "        dcjdist_to_map[dcjdist] = [neighbor]\n",
    "    end \n",
    "\n",
    "    if dcjdist ∉ sorted_dists\n",
    "        idx = searchsortedfirst(sorted_dists, dcjdist)\n",
    "        insert!(sorted_dists, idx, dcjdist)    \n",
    "    end \n",
    "end "
   ]
  },
  {
   "cell_type": "code",
   "execution_count": 4,
   "metadata": {},
   "outputs": [
    {
     "data": {
      "text/plain": [
       "cap_value_by_max (generic function with 1 method)"
      ]
     },
     "execution_count": 4,
     "metadata": {},
     "output_type": "execute_result"
    }
   ],
   "source": [
    "# old neighbor definition (increment one element of the map by 1)\n",
    "function find_old_neighbor(idxs_of_neighbors::Set{Int}, map_to_explore::Vector{Int}, S_dupchar_to_multiplicity::OrderedDict{Char, Int})\n",
    "    i = rand(idxs_of_neighbors)\n",
    "    pop!(idxs_of_neighbors, i)\n",
    "\n",
    "    neighbor = deepcopy(map_to_explore)\n",
    "    neighbor[i] += 1    \n",
    "\n",
    "    # mod(multiplicity!)\n",
    "    multiplicity = S_dupchar_to_multiplicity[collect(keys(S_dupchar_to_multiplicity))[i]]\n",
    "    if neighbor[i] > factorial(multiplicity) \n",
    "        neighbor[i] = 1 \n",
    "    end \n",
    "    return neighbor\n",
    "end \n",
    "\n",
    "function cap_value_by_max(val::Int, max_possible::Int) \n",
    "    if val > max_possible \n",
    "        return val \n",
    "    else \n",
    "        return max_possible  \n",
    "    end \n",
    "end "
   ]
  },
  {
   "cell_type": "code",
   "execution_count": 5,
   "metadata": {},
   "outputs": [
    {
     "data": {
      "text/plain": [
       "permlexrank (generic function with 1 method)"
      ]
     },
     "execution_count": 5,
     "metadata": {},
     "output_type": "execute_result"
    }
   ],
   "source": [
    "function permlexrank(n::Int, perm::Vector{Int})\n",
    "    r = 1\n",
    "    p = deepcopy(perm) \n",
    "\n",
    "    for j in 1:n\n",
    "        r += (p[j]-1) * (factorial(n-j))\n",
    "\n",
    "        for i in j+1:n\n",
    "            if p[i] > p[j]\n",
    "                p[i] = p[i]-1\n",
    "            end \n",
    "        end \n",
    "    end \n",
    "    return r \n",
    "end \n",
    "\n",
    "# n = 4 \n",
    "# perm = [4, 3, 2, 1]\n",
    "\n",
    "# n = 2\n",
    "# perm = [1, 2]\n",
    "\n",
    "# permlexrank(n, perm)"
   ]
  },
  {
   "cell_type": "code",
   "execution_count": 6,
   "metadata": {},
   "outputs": [
    {
     "data": {
      "text/plain": [
       "convert_lex_rank_to_ints (generic function with 1 method)"
      ]
     },
     "execution_count": 6,
     "metadata": {},
     "output_type": "execute_result"
    }
   ],
   "source": [
    "function convert_lex_rank_to_ints(rank::Int, char::Char, mult::Int, details::String)\n",
    "    orig_indexing = Dict{Int, Char}() \n",
    "\n",
    "    indices = collect(1:mult)\n",
    "    nthperm!(indices, rank)\n",
    "    \n",
    "    details = details * \"    order of \" * string(mult) * \" dups of '\" * char * \"' \" * string(indices) * \" (rank \" * string(rank) * \")\"\n",
    "\n",
    "    # randomly choose two unique indices/chars \n",
    "    rand_idx1 = rand(1:mult)\n",
    "    rand_idx2 = rand(1:mult)\n",
    "    while rand_idx2 == rand_idx1 \n",
    "        rand_idx2 = rand(1:mult)\n",
    "    end \n",
    "\n",
    "    # swap those two \n",
    "    tmp  = indices[rand_idx1]\n",
    "    indices[rand_idx1] = indices[rand_idx2]\n",
    "    indices[rand_idx2] = tmp\n",
    "\n",
    "    new_rank = permlexrank(mult, indices)\n",
    "\n",
    "    details = details * \" --> \" * string(indices) * \" (rank \" * string(new_rank) * \")\"   # swapped 2 rand elem\n",
    "\n",
    "    return new_rank, details\n",
    "\n",
    "end "
   ]
  },
  {
   "cell_type": "code",
   "execution_count": 7,
   "metadata": {},
   "outputs": [
    {
     "data": {
      "text/plain": [
       "find_min_change_neighbor (generic function with 1 method)"
      ]
     },
     "execution_count": 7,
     "metadata": {},
     "output_type": "execute_result"
    }
   ],
   "source": [
    "function find_min_change_neighbor(map_to_explore::Vector{Int}, dupchar_to_multiplicity::OrderedDict{Char, Int}, mapidx_to_char::Dict{Int, Char})\n",
    "    neighbor = deepcopy(map_to_explore)\n",
    "\n",
    "    i = rand(1:length(neighbor))\n",
    "    rank = neighbor[i]\n",
    "    char = mapidx_to_char[i]\n",
    "    mult = dupchar_to_multiplicity[char]\n",
    "\n",
    "    details = string(\"changing map for \" * char * \" (idx \" * string(i) * \" in map)\")\n",
    "\n",
    "    new_rank, details = convert_lex_rank_to_ints(rank, char, mult, details) \n",
    "    neighbor[i] = new_rank   \n",
    "    \n",
    "    return neighbor, details\n",
    "end "
   ]
  },
  {
   "cell_type": "code",
   "execution_count": 8,
   "metadata": {},
   "outputs": [
    {
     "data": {
      "text/plain": [
       "find_neighbors (generic function with 1 method)"
      ]
     },
     "execution_count": 8,
     "metadata": {},
     "output_type": "execute_result"
    }
   ],
   "source": [
    "# given string S and two maps m and v, v = neighbor(m) if \n",
    "    # for a replicated char α at idx i in the maps, v[i] = (m[i] + 1) (mod occ(α,S)!)  \n",
    "    # all other chars (idx e) are mapped the same way v[e] = m[e]\n",
    "function find_neighbors(map_to_explore::Vector{Int}, max_neighbors_to_explore::Int, map_to_dedupstr_dcjdist::Dict{Vector{Int}, Tuple{String, Int}}, dupchar_to_multiplicity::OrderedDict{Char, Int}, dupchar_to_unique_chars::OrderedDict{Char, Vector{Char}}, mapidx_to_char::Dict{Int, Char}, min_change_neighbor::Bool, mode::Int)  \n",
    "    neighbors = Set{Vector{Int}}()\n",
    "    \n",
    "    if min_change_neighbor\n",
    "        #  cap neighbors to explore \n",
    "        max_possible_minchangeneigh = 0 \n",
    "        for v in values(dupchar_to_multiplicity)\n",
    "            max_possible_minchangeneigh += binomial(v, 2)\n",
    "        end \n",
    "        max_neighbors_to_explore = cap_value_by_max(max_neighbors_to_explore, max_possible_minchangeneigh) \n",
    "        seen_neighbors = Set{Vector{Int}}()\n",
    "        \n",
    "        neighbor = map_to_explore\n",
    "        for i in 1:max_neighbors_to_explore\n",
    "            details = \"\"\n",
    "            while (neighbor in neighbors) || (neighbor in keys(map_to_dedupstr_dcjdist))\n",
    "                if length(seen_neighbors) == max_neighbors_to_explore\n",
    "                   return neighbors \n",
    "                end \n",
    "                if neighbor ∉ seen_neighbors\n",
    "                    push!(seen_neighbors, neighbor)\n",
    "                end \n",
    "\n",
    "                neighbor, details = find_min_change_neighbor(map_to_explore, dupchar_to_multiplicity, mapidx_to_char)\n",
    "            end \n",
    "            if mode >= 1 \n",
    "                println(\"     found \", neighbor, \" by \", details)\n",
    "            end \n",
    "            push!(neighbors, neighbor)\n",
    "        end \n",
    "\n",
    "        return neighbors\n",
    "        \n",
    "    else # old definition of neighbors given in paper  \n",
    "        idxs_of_neighbors = Set(range(1, length(map_to_explore)))  # index of the character in a map that's incremented \n",
    "    \n",
    "        # cap neighbors to explore\n",
    "        max_neighbors_to_explore = cap_value_by_max(max_neighbors_to_explore, length(map_to_explore)) \n",
    "\n",
    "        neighbor = map_to_explore\n",
    "        for i in 1:max_neighbors_to_explore\n",
    "            while (neighbor in neighbors) || (neighbor in keys(map_to_dedupstr_dcjdist))\n",
    "                if length(idxs_of_neighbors) == 0\n",
    "                    return collect(neighbors)\n",
    "                end\n",
    "                neighbor = find_old_neighbor(idxs_of_neighbors, map_to_explore, dupchar_to_multiplicity)\n",
    "            end \n",
    "\n",
    "            push!(neighbors, neighbor)\n",
    "        end \n",
    "\n",
    "        return collect(neighbors)\n",
    "    end    \n",
    "end \n",
    "\n"
   ]
  },
  {
   "cell_type": "code",
   "execution_count": 13,
   "metadata": {},
   "outputs": [
    {
     "data": {
      "text/plain": [
       "localsearch (generic function with 1 method)"
      ]
     },
     "execution_count": 13,
     "metadata": {},
     "output_type": "execute_result"
    }
   ],
   "source": [
    "# local search heuristic\n",
    "\n",
    "# total_maps = total number of maps to be created \n",
    "# rand_maps = number of maps randomly generated \n",
    "# max_neighbors = max number of neighbors explored in each local search\n",
    "function localsearch(S::String, P::String, total_maps::Int, rand_maps::Int, max_neighbors::Int, mode::String, dupchar_to_unique_chars::OrderedDict{Char, Vector{Char}}, min_change_neighbor::Bool)\n",
    "     m = setmode(mode)     \n",
    "\n",
    "    printstyled(\"SRC \" * S * \" --> TARGET \" * P * \"\\n\", color=:cyan)\n",
    "    println(\"total maps=\", total_maps, \" || num_rand_maps=\", rand_maps, \" || max_neighbors=\", max_neighbors)\n",
    "\n",
    "    # create arbitrary map for P, a set of random maps S_M, rank maps using estimator algo \n",
    "    _, P_dedup, map_to_dedupstr_dcjdist, S_dupchar_to_multiplicity, mapidx_to_char = generate_random_maps_and_calc_distances(S, P, rand_maps, dupchar_to_unique_chars, m)\n",
    "    \n",
    "    og_rm_to_dedupstr_dcjdist = deepcopy(map_to_dedupstr_dcjdist)\n",
    "\n",
    "    # cap maps explored \n",
    "    total_possible_maps = 0\n",
    "    for (_, mult) in S_dupchar_to_multiplicity\n",
    "        total_possible_maps += factorial(mult)\n",
    "    end \n",
    "    if total_maps > total_possible_maps \n",
    "        total_maps = total_possible_maps \n",
    "        if m >= 1 println(\"WARNING: capping total maps at \", total_maps) end \n",
    "    end \n",
    "    if rand_maps > total_maps\n",
    "        rand_maps = total_maps \n",
    "        if m >= 1 println(\"WARNING: capping rand maps at \", rand_maps) end  \n",
    "    end \n",
    "    if max_neighbors > total_maps - rand_maps\n",
    "        max_neighbors = total_maps - rand_maps\n",
    "        if m >= 1 println(\"WARNING: capping max neighbors at \", max_neighbors) end \n",
    "    end \n",
    "    \n",
    "    num_generated_maps = rand_maps\n",
    "\n",
    "    \n",
    "    dcj_dist_to_map = convert_maptodcjdist_to_converse(map_to_dedupstr_dcjdist)\n",
    "    sorted_dists = sort(collect(keys(dcj_dist_to_map)))\n",
    "\n",
    "    # initialize vars storing best map and corresponding details (returned at the end)\n",
    "    smallest_dcj_dist = sorted_dists[1]\n",
    "    global_min_map = dcj_dist_to_map[smallest_dcj_dist][1]\n",
    "    global_min_dcj = sorted_dists[1]\n",
    "    global_min_dedupstr = map_to_dedupstr_dcjdist[global_min_map][1]\n",
    "\n",
    "    \n",
    "    # until 'total_maps' maps are generated\n",
    "    while total_maps != num_generated_maps\n",
    "        # select best not yet explored map \n",
    "        smallest_dcj_dist = sorted_dists[1]\n",
    "        maps = dcj_dist_to_map[smallest_dcj_dist]\n",
    "        \n",
    "        map_smallestd = popfirst!(maps)\n",
    "        if m >= 1\n",
    "            println(\"\\ngenerated \", num_generated_maps, \"/\", total_maps)\n",
    "            println(\"exploring neighborhood of \", map_smallestd)\n",
    "        end \n",
    "        if isempty(maps)\n",
    "            delete!(dcj_dist_to_map, smallest_dcj_dist)\n",
    "            popfirst!(sorted_dists)\n",
    "        end \n",
    "    \n",
    "        # cap neighbors \n",
    "        if max_neighbors > (total_maps - num_generated_maps) \n",
    "            max_neighbors = total_maps - num_generated_maps    \n",
    "        end \n",
    "        # searches up to 'max_neighbors' neighbor maps\n",
    "        neighbors = find_neighbors(map_smallestd, max_neighbors, map_to_dedupstr_dcjdist, S_dupchar_to_multiplicity, dupchar_to_unique_chars, mapidx_to_char, min_change_neighbor, m)\n",
    "        # insert neighbors into documentation \n",
    "        if m >= 1\n",
    "            println(\"neighbors explored: \")\n",
    "        end \n",
    "\n",
    "        i = 1\n",
    "        for n in neighbors  \n",
    "            s_dedup = deduplicate_genome(S, S_dupchar_to_multiplicity, n, dupchar_to_unique_chars)\n",
    "            d = calculate_distance(P_dedup, s_dedup, \"none\")\n",
    "            insert_new_map_into_documentation(n, d, s_dedup, map_to_dedupstr_dcjdist, dcj_dist_to_map, sorted_dists)\n",
    "            if m >= 1\n",
    "                println(\"     \", n, \" dcj dist=\", d)\n",
    "            end \n",
    "\n",
    "            if d < global_min_dcj\n",
    "                global_min_map  = n\n",
    "                global_min_dcj =  map_to_dedupstr_dcjdist[global_min_map][2]\n",
    "                global_min_dedupstr = map_to_dedupstr_dcjdist[global_min_map][1]\n",
    "\n",
    "                if m >= 1\n",
    "                    print(\"    !!!!!found a min dcj mapping \", global_min_map, \" with distance \", global_min_dcj, \"   \")\n",
    "                    println(P_dedup, \" --> \", global_min_dedupstr)\n",
    "                end \n",
    "            end \n",
    "            i += 1\n",
    "        end \n",
    "            \n",
    "        # no repeat exploration \n",
    "        num_generated_maps += length(neighbors)\n",
    "    end\n",
    "\n",
    "    return global_min_dcj, global_min_map, global_min_dedupstr, map_to_dedupstr_dcjdist, og_rm_to_dedupstr_dcjdist\n",
    "end \n"
   ]
  },
  {
   "cell_type": "code",
   "execution_count": 15,
   "metadata": {},
   "outputs": [
    {
     "name": "stdout",
     "output_type": "stream",
     "text": [
      "\u001b[36mSRC .cc.,bca --> TARGET acbcc\u001b[39m\n",
      "total maps=1 || num_rand_maps=8 || max_neighbors=2\n",
      "\u001b[35mtarget\u001b[39m\n",
      "dup genes --> multiplicity\n",
      "OrderedDict('c' => 3)\n",
      "\n",
      "target map\n",
      "[1]\n",
      "\n",
      "\u001b[35msource\u001b[39m\n",
      "dup genes --> multiplicity\n",
      "OrderedDict('c' => 3)\n",
      "\n",
      "\u001b[35mdeduplication\u001b[39m\n",
      "[6] .kd.,bca --> acbdk 4\n",
      "[5] .kc.,bda --> acbdk 4\n",
      "[3] .dc.,bka --> acbdk 4\n",
      "[4] .dk.,bca --> acbdk 4\n",
      "[1] .cd.,bka --> acbdk 4\n",
      "[2] .ck.,bda --> acbdk 4\n",
      "\n",
      "WARNING: capping rand maps at 1\n",
      "WARNING: capping max neighbors at 0\n"
     ]
    },
    {
     "data": {
      "text/plain": [
       "(4, [3], \".dc.,bka\", Dict([3] => (\".dc.,bka\", 4), [1] => (\".cd.,bka\", 4), [5] => (\".kc.,bda\", 4), [4] => (\".dk.,bca\", 4), [6] => (\".kd.,bca\", 4), [2] => (\".ck.,bda\", 4)), Dict([3] => (\".dc.,bka\", 4), [1] => (\".cd.,bka\", 4), [5] => (\".kc.,bda\", 4), [4] => (\".dk.,bca\", 4), [6] => (\".kd.,bca\", 4), [2] => (\".ck.,bda\", 4)))"
      ]
     },
     "execution_count": 15,
     "metadata": {},
     "output_type": "execute_result"
    }
   ],
   "source": [
    "n = 3\n",
    "x = 2\n",
    "\n",
    "target = generate_target_with_xdup(n, x)\n",
    "src = scramble_target(target)\n",
    "\n",
    "# src = \".a.,aab,bc\"  \n",
    "# target = \"ba,a,b,ca\"\n",
    "\n",
    "total_maps = 1\n",
    "rand_maps = 8\n",
    "max_neighbors = 2\n",
    "\n",
    "mode = \"info\"\n",
    "dupchar_to_unique_chars = OrderedDict{Char, Vector{Char}}()\n",
    "min_change_neighbor = true \n",
    "\n",
    "global_min_dcj, global_min_map, global_min_dedupstr, map_to_dedupstr_dcjdist, og_rm = localsearch(src, target, total_maps, rand_maps, max_neighbors, mode, dupchar_to_unique_chars, min_change_neighbor)"
   ]
  },
  {
   "cell_type": "code",
   "execution_count": null,
   "metadata": {},
   "outputs": [],
   "source": []
  }
 ],
 "metadata": {
  "kernelspec": {
   "display_name": "Julia 1.10.3",
   "language": "julia",
   "name": "julia-1.10"
  },
  "language_info": {
   "file_extension": ".jl",
   "mimetype": "application/julia",
   "name": "julia",
   "version": "1.10.3"
  }
 },
 "nbformat": 4,
 "nbformat_minor": 2
}
