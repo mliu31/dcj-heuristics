{
 "cells": [
  {
   "cell_type": "code",
   "execution_count": 2,
   "metadata": {},
   "outputs": [
    {
     "data": {
      "text/plain": [
       "\"diameter(n) = max number of DCJ operations to get from one genome of size n to another (assuming no duplicates and genomes are balanced)\\n\\ndiameter(n) = n \\n    a farthest genome from a single circular chromosome genome (where DCJ distance = diameter)is a linear genome whe\"\u001b[93m\u001b[1m ⋯ 158 bytes ⋯ \u001b[22m\u001b[39m\" the largest diameter \\n    estimates by sampling the exponentially large number of possible source genomes (generates y random source genomes) \\n    then calculating the dcj distance \\n    keeping track of largest distance and the genome that yields that largest distance\\n\""
      ]
     },
     "execution_count": 2,
     "metadata": {},
     "output_type": "execute_result"
    }
   ],
   "source": [
    "\"\"\"\n",
    "diameter(n) = max number of DCJ operations to get from one genome of size n to another (assuming no duplicates and genomes are balanced)\n",
    "\n",
    "diameter(n) = n \n",
    "    a farthest genome from a single circular chromosome genome (where DCJ distance = diameter)is a linear genome where each gene is a telomere \n",
    "    e.g., abcdefg --> .a.,.b.,.c.,.d.,.e.,.f.,.g.\n",
    "\n",
    "\n",
    "this code estimates diameter(n) for n = 1:26 and the source genome that yields the largest diameter \n",
    "    estimates by sampling the exponentially large number of possible source genomes (generates y random source genomes) \n",
    "    then calculating the dcj distance \n",
    "    keeping track of largest distance and the genome that yields that largest distance\n",
    "\"\"\""
   ]
  },
  {
   "cell_type": "code",
   "execution_count": 3,
   "metadata": {},
   "outputs": [],
   "source": [
    "using Random\n",
    "using Plots\n",
    "using GLM\n",
    "using DataFrames\n",
    "using Statistics\n",
    "\n",
    "using NBInclude\n",
    "@nbinclude(\"dcj_algo.ipynb\")"
   ]
  },
  {
   "cell_type": "code",
   "execution_count": 4,
   "metadata": {},
   "outputs": [
    {
     "data": {
      "text/plain": [
       "first_n_letters (generic function with 1 method)"
      ]
     },
     "execution_count": 4,
     "metadata": {},
     "output_type": "execute_result"
    }
   ],
   "source": [
    "# Function to get the first n letters of the alphabet\n",
    "function first_n_letters(n::Int)\n",
    "    return collect('a':'z')[1:n]\n",
    "end"
   ]
  },
  {
   "cell_type": "code",
   "execution_count": 5,
   "metadata": {},
   "outputs": [],
   "source": [
    "function Base.show(max_dist_genomes::Matrix{String})\n",
    "    println()\n",
    "    println(\"max distance genomes :: \")\n",
    "    for y in 1:size(max_dist_genomes, 1)  # Loop over rows\n",
    "        s = \"y=\" * string(y) * \"\\n\"\n",
    "        printstyled(s; color = :yellow)\n",
    "\n",
    "        for m in 1:size(max_dist_genomes, 2)  # Loop over columns\n",
    "            tar = first_n_letters(m)\n",
    "            src = max_dist_genomes[y, m]\n",
    "            \n",
    "            println(string(m) * \" \" * src * \" --> \" * join(tar))\n",
    "        end\n",
    "    end \n",
    "end \n",
    "\n",
    "\n",
    "function Base.show(diameters::Matrix{Float64})\n",
    "    println(\"diameters :: \")\n",
    "    for y in 1:size(diameters, 1)  # Loop over rows\n",
    "        s = \"y = \" * string(y) * \" \"\n",
    "        printstyled(s; color = :yellow)\n",
    "\n",
    "        println(diameters[y,:])\n",
    "    end \n",
    "end "
   ]
  },
  {
   "cell_type": "code",
   "execution_count": 23,
   "metadata": {},
   "outputs": [
    {
     "data": {
      "text/plain": [
       "\"ghbfj,.ca.,.id.,e\""
      ]
     },
     "execution_count": 23,
     "metadata": {},
     "output_type": "execute_result"
    }
   ],
   "source": [
    "# generates genomes/permutations/strings of length n \n",
    "# (up to 26 bc alphabet length)\n",
    "function generate_genome_str(n::Int)\n",
    "    if n > 26 \n",
    "        throw(ArgumentError(\"Trying to generate a genome with no duplicates of size >26 (Alphabet has 26 letters)\"))\n",
    "    end \n",
    "    \n",
    "    # first n letters\n",
    "    letters = first_n_letters(n)\n",
    "\n",
    "    # randomize capitalization (gene orientation)\n",
    "    for i in length(letters) \n",
    "        if rand(Bool)\n",
    "            letters[i] = uppercase(letters[i])\n",
    "        end\n",
    "    end \n",
    "\n",
    "    letters = shuffle(letters)\n",
    "\n",
    "    # randomly choose length of chromosomes and circular/linear \n",
    "    max_chrom_length = n \n",
    "    curr_letters_idx = 1\n",
    "\n",
    "    genome_str = \"\"\n",
    "    while max_chrom_length != 0 \n",
    "        chrom_length = rand(1:max_chrom_length)\n",
    "        max_chrom_length -= chrom_length\n",
    "        chrom = \"\"\n",
    "\n",
    "        linear = rand(Bool)\n",
    "\n",
    "        end_idx = curr_letters_idx + chrom_length - 1\n",
    "        chrom = letters[curr_letters_idx:end_idx]\n",
    "        if linear \n",
    "            chrom = \".\" * join(chrom) * \".\"\n",
    "        end \n",
    "        \n",
    "        chrom = join(chrom)\n",
    "        if max_chrom_length != 0 \n",
    "            genome_str = genome_str * chrom * \",\"\n",
    "        else\n",
    "            genome_str = genome_str * chrom \n",
    "        end \n",
    "        \n",
    "        curr_letters_idx += chrom_length \n",
    "    end \n",
    "\n",
    "    return genome_str\n",
    "end\n",
    "\n",
    "generate_genome_str(10)"
   ]
  },
  {
   "cell_type": "code",
   "execution_count": 7,
   "metadata": {},
   "outputs": [
    {
     "data": {
      "text/plain": [
       "calculate_diameters_given_num_of_src_genomes (generic function with 1 method)"
      ]
     },
     "execution_count": 7,
     "metadata": {},
     "output_type": "execute_result"
    }
   ],
   "source": [
    "# calculate diameter between target & src genome of size n \n",
    "# fixed number of src genomes to generate \n",
    "function calculate_diameter_given_num_src_genomes(n::Int, target::String, num_src_permutations_to_generate::Int)\n",
    "    max_dist = 0 \n",
    "    # distance = Vector{Int}() \n",
    "    src = generate_genome_str(n)\n",
    "    max_dist_permutation = src\n",
    "   \n",
    "    \n",
    "    for i in 1:num_src_permutations_to_generate\n",
    "        \n",
    "        dist = calculate_distance(src, target, \"none\")\n",
    "        if max_dist < dist \n",
    "            max_dist = dist\n",
    "            max_dist_permutation = src \n",
    "        end \n",
    "\n",
    "        # if dist == n\n",
    "        #     println(\"n = \", n)\n",
    "        #     println(src * \" --> \" * target)\n",
    "        # end \n",
    "        # push!(distance, dist)\n",
    "        \n",
    "        src = generate_genome_str(n)\n",
    "    end \n",
    "\n",
    "    return max_dist, max_dist_permutation\n",
    "    # return round(mean(distance), digits = 2)\n",
    "end \n",
    "\n",
    "# calculate diameters for genomes size 1:n \n",
    "# by sampling a fixed number of src genomes to generate \n",
    "function calculate_diameters_given_num_of_src_genomes(n::Int, x::Int, diameters::Matrix{Float64}, max_dist_genomes::Matrix{String})\n",
    "    for m in 1:n\n",
    "        # nts = \"\\nx=\" * string(x) * \" || \" * \"m=\" * string(m) * \"\\n\"\n",
    "        # printstyled(s; color = :red)\n",
    "\n",
    "        target = join(first_n_letters(m))\n",
    "        \n",
    "        #  diam = calculate_diameter_given_num_src_genomes(m, target, x)\n",
    "        diam, max_dist_src = calculate_diameter_given_num_src_genomes(m, target, x)\n",
    "        \n",
    "        diameters[x, m] = diam\n",
    "        max_dist_genomes[x, m] = max_dist_src\n",
    "    end \n",
    "end \n"
   ]
  },
  {
   "cell_type": "code",
   "execution_count": 8,
   "metadata": {},
   "outputs": [
    {
     "data": {
      "text/plain": [
       "calculate_diameters (generic function with 1 method)"
      ]
     },
     "execution_count": 8,
     "metadata": {},
     "output_type": "execute_result"
    }
   ],
   "source": [
    "# calculates diameters for genomes size 1:n \n",
    "# by sampling 1:y src genomes (randomly generated)\n",
    "function calculate_diameters(y::Int, n::Int)\n",
    "    # note: matrix[a, b] = diameter of a genome of length 'b\" with \"a\" randomly generated src permutations \n",
    "    diameters = zeros(y, n)\n",
    "    max_dist_genomes = fill(\"\", y, n)\n",
    "\n",
    "    for x in 1:y \n",
    "        # s = \"x=\" * string(x) * \" || \" * \"n=\" * string(n) * \"\\n\"\n",
    "        # printstyled(s; color = :green)\n",
    "\n",
    "        calculate_diameters_given_num_of_src_genomes(n, x, diameters, max_dist_genomes)\n",
    "\n",
    "        # println(\"======================================================================================================================================================\")\n",
    "    end \n",
    "\n",
    "    return diameters, max_dist_genomes \n",
    "end "
   ]
  },
  {
   "cell_type": "code",
   "execution_count": 9,
   "metadata": {},
   "outputs": [],
   "source": [
    "# n = 5\n",
    "# x = 10 # num_src_permutations to generate \n",
    "\n",
    "# # note: matrix[a, b] = diameter of a genome of length 'b\" with \"a\" randomly generated src permutations \n",
    "# diameters, max_dist_genomes = calculate_diameters(x, n)\n",
    "\n",
    "# show(diameters)\n",
    "# # show(max_dist_genomes)\n"
   ]
  },
  {
   "cell_type": "code",
   "execution_count": 10,
   "metadata": {},
   "outputs": [
    {
     "data": {
      "text/plain": [
       "random_color (generic function with 1 method)"
      ]
     },
     "execution_count": 10,
     "metadata": {},
     "output_type": "execute_result"
    }
   ],
   "source": [
    "## VISUAlS -- buggy \n",
    "\n",
    "# using Plots\n",
    "\n",
    "\n",
    "function random_color(previous_colors)\n",
    "    while true\n",
    "        r = rand()\n",
    "        g = rand()\n",
    "        b = rand()\n",
    "        new_color = RGB(r, g, b)\n",
    "\n",
    "        # Check distance from previous colors\n",
    "        if isempty(previous_colors)\n",
    "            return new_color\n",
    "        else\n",
    "            min_distance = minimum([colordiff(c, new_color) for c in previous_colors])\n",
    "            if min_distance > 0.4  # Adjust threshold to ensure colors are different enough\n",
    "                return new_color\n",
    "            end\n",
    "        end\n",
    "    end\n",
    "end\n",
    "\n",
    "# plot()\n",
    "# previous_colors = Vector{RGBA{Float64}}() \n",
    "\n",
    "# x = range(0, size(max_dist_genomes, 1), size(max_dist_genomes, 1))\n",
    "\n",
    "# # for i in 1:size(max_dist_genomes, 2)\n",
    "# #     y = diameters[:, i]\n",
    "# #     labeli = \"Plot \" * string(i)\n",
    "# #     scatter!(x, y, label=labeli, color=random_color(previous_colors), markersize=4)\n",
    "    \n",
    "# # end \n",
    "\n",
    "# i = 10\n",
    "# y = diameters[:, i]\n",
    "# labeli = \"n = \" * string(i)\n",
    "# scatter!(x, y, label=labeli, color=random_color(previous_colors), markersize=4)\n",
    "\n",
    "# xlabel!(\"X randomly sampled/generated source genomes\")\n",
    "# ylabel!(\"estimated diameter\")\n",
    "# title!(\"Estimated Diameter after X Samples\")\n",
    "\n",
    "# plot!()"
   ]
  },
  {
   "cell_type": "code",
   "execution_count": 11,
   "metadata": {},
   "outputs": [],
   "source": [
    "## regression --- buggy\n",
    "# y = diameters[:, 1]\n",
    "# df = DataFrame(x=x, y=y)\n",
    "# logistic_model = glm(@formula(y ~ x), df, Binomial(), LogitLink())\n",
    "# y_pred_sorted = predict(logistic_model, DataFrame(x=x))\n",
    "\n",
    "# scatter(x, y, label=\"1\", color=random_color(previous_colors), markersize=4)\n",
    "# plot!(x, y_pred_sorted, label=\"Logistic Regression Curve\", color=:red)\n",
    "# plot!()"
   ]
  }
 ],
 "metadata": {
  "kernelspec": {
   "display_name": "Julia 1.10.3",
   "language": "julia",
   "name": "julia-1.10"
  },
  "language_info": {
   "file_extension": ".jl",
   "mimetype": "application/julia",
   "name": "julia",
   "version": "1.10.3"
  }
 },
 "nbformat": 4,
 "nbformat_minor": 2
}
