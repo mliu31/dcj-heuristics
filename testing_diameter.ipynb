{
 "cells": [
  {
   "cell_type": "code",
   "execution_count": null,
   "metadata": {},
   "outputs": [],
   "source": [
    "# permutations that require max number of dcj operations  - diameter of an instance \n",
    "\n",
    "# find the largest value of n which you can find the diameter \n",
    "# n --> diameter (randomly sample x number)\n",
    "# increase n  "
   ]
  },
  {
   "cell_type": "code",
   "execution_count": 2,
   "metadata": {},
   "outputs": [],
   "source": [
    "using Random"
   ]
  },
  {
   "cell_type": "code",
   "execution_count": 4,
   "metadata": {},
   "outputs": [
    {
     "ename": "LoadError",
     "evalue": "too many parameters for type",
     "output_type": "error",
     "traceback": [
      "too many parameters for type",
      "",
      "Stacktrace:",
      " [1] calculate_diameters(n::Int64)",
      "   @ Main .\\In[4]:36",
      " [2] top-level scope",
      "   @ In[4]:47"
     ]
    }
   ],
   "source": [
    "n = 10 \n",
    "\n",
    "# Function to get the first n letters of the alphabet\n",
    "function first_n_letters(n::Int)\n",
    "    return collect('a':'z')[1:n]\n",
    "end\n",
    "\n",
    "# generates genomes/permutations/strings of length n \n",
    "# (up to 26 bc alphabet)\n",
    "function generate_permutation(n::Int)\n",
    "    letters = first_n_letters(n)\n",
    "    return shuffle(letters)\n",
    "end\n",
    "\n",
    "\n",
    "function calculate_diameter(n::Int)\n",
    "    x = 10  # hyperparam -- tune\n",
    "    target = generate_permutation(n) \n",
    "    max_dist = 0 \n",
    "    max_dist_permutation = \"\"\n",
    "\n",
    "    for i in 1:x\n",
    "        src = generate_permutaton(n)\n",
    "\n",
    "        dist = calculate_distance(src, target)\n",
    "        if max_dist < dist \n",
    "            max_dist = dist\n",
    "            max_dist_permutation = src \n",
    "        end \n",
    "    end \n",
    "\n",
    "    return max_dist, max_dist_permutation\n",
    "end \n",
    "\n",
    "function calculate_diameters(n::Int) \n",
    "    diameters  = Vector{Vector{Int, String}}()\n",
    "\n",
    "    for i in 1:n\n",
    "        diam, max_dist_permutation = calculate_diameter(i) # approximate \n",
    "\n",
    "        push!(diameters, [diam, max_dist_permutation])  # i == idx\n",
    "    end \n",
    "\n",
    "    return diameters\n",
    "end \n",
    "\n",
    "calculate_diameters(n)"
   ]
  }
 ],
 "metadata": {
  "kernelspec": {
   "display_name": "Julia 1.10.3",
   "language": "julia",
   "name": "julia-1.10"
  },
  "language_info": {
   "file_extension": ".jl",
   "mimetype": "application/julia",
   "name": "julia",
   "version": "1.10.3"
  }
 },
 "nbformat": 4,
 "nbformat_minor": 2
}
