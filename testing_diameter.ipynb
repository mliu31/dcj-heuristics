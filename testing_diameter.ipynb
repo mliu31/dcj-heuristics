{
 "cells": [
  {
   "cell_type": "code",
   "execution_count": 1,
   "metadata": {},
   "outputs": [],
   "source": [
    "# permutations that require max number of dcj operations  - diameter of an instance \n",
    "\n",
    "# find the largest value of n which you can find the diameter \n",
    "# n --> diameter (randomly sample x number)\n",
    "# increase n  "
   ]
  },
  {
   "cell_type": "code",
   "execution_count": 2,
   "metadata": {},
   "outputs": [],
   "source": [
    "using Random\n",
    "\n",
    "using NBInclude\n",
    "@nbinclude(\"dcj_algo.ipynb\")"
   ]
  },
  {
   "cell_type": "code",
   "execution_count": 3,
   "metadata": {},
   "outputs": [
    {
     "data": {
      "text/plain": [
       "first_n_letters (generic function with 1 method)"
      ]
     },
     "execution_count": 3,
     "metadata": {},
     "output_type": "execute_result"
    }
   ],
   "source": [
    "# Function to get the first n letters of the alphabet\n",
    "function first_n_letters(n::Int)\n",
    "    return collect('a':'z')[1:n]\n",
    "end"
   ]
  },
  {
   "cell_type": "code",
   "execution_count": 4,
   "metadata": {},
   "outputs": [
    {
     "data": {
      "text/plain": [
       "generate_genome_str (generic function with 1 method)"
      ]
     },
     "execution_count": 4,
     "metadata": {},
     "output_type": "execute_result"
    }
   ],
   "source": [
    "# generates genomes/permutations/strings of length n \n",
    "# (up to 26 bc alphabet)\n",
    "function generate_genome_str(n::Int)\n",
    "    # generate first n letters\n",
    "    letters = first_n_letters(n)\n",
    "\n",
    "    # randomize capitalization (gene orientation)\n",
    "    for i in length(letters) \n",
    "        if rand(Bool)\n",
    "            letters[i] = uppercase(letters[i])\n",
    "        end\n",
    "    end \n",
    "\n",
    "    letters = shuffle(letters)\n",
    "\n",
    "    # randomly choose length of chromosomes and circular/linear \n",
    "    max_chrom_length = n \n",
    "    curr_letters_idx = 1\n",
    "\n",
    "    genome_str = \"\"\n",
    "    while max_chrom_length != 0 \n",
    "        chrom_length = rand(1:max_chrom_length)\n",
    "        max_chrom_length -= chrom_length\n",
    "        chrom = \"\"\n",
    "\n",
    "        linear = rand(Bool)\n",
    "\n",
    "        end_idx = curr_letters_idx + chrom_length - 1\n",
    "        chrom = letters[curr_letters_idx:end_idx]\n",
    "        if linear \n",
    "            chrom = \".\" * join(chrom) * \".\"\n",
    "        end \n",
    "        \n",
    "        chrom = join(chrom)\n",
    "        if max_chrom_length != 0 \n",
    "            genome_str = genome_str * chrom * \",\"\n",
    "        else\n",
    "            genome_str = genome_str * chrom \n",
    "        end \n",
    "        \n",
    "        curr_letters_idx += chrom_length \n",
    "    end \n",
    "\n",
    "    return genome_str\n",
    "end\n",
    "\n",
    "# generate_genome_str(2)"
   ]
  },
  {
   "cell_type": "code",
   "execution_count": 5,
   "metadata": {},
   "outputs": [
    {
     "data": {
      "text/plain": [
       "calculate_diameters_given_num_of_src_genomes_to_generate (generic function with 1 method)"
      ]
     },
     "execution_count": 5,
     "metadata": {},
     "output_type": "execute_result"
    }
   ],
   "source": [
    "# calculate diameter between target & src genome of size n \n",
    "# fixed number of src genomes to generate \n",
    "function calculate_diameter(n::Int, target::String, num_src_permutations_to_generate::Int)\n",
    "    max_dist = 0 \n",
    "    src = generate_genome_str(n)\n",
    "    max_dist_permutation = src\n",
    "\n",
    "    for i in 1:num_src_permutations_to_generate\n",
    "        \n",
    "        dist = calculate_distance(src, target, \"none\")\n",
    "        if max_dist < dist \n",
    "            max_dist = dist\n",
    "            max_dist_permutation = src \n",
    "        end \n",
    "        src = generate_genome_str(n)\n",
    "    end \n",
    "\n",
    "    return max_dist, max_dist_permutation\n",
    "end \n",
    "\n",
    "# calculate diameters for genomes size 1:n \n",
    "# by sampling a fixed number of src genomes to generate \n",
    "function calculate_diameters_given_num_of_src_genomes_to_generate(n::Int, x::Int, diameters::Matrix{Float64}, max_dist_genomes::Matrix{String})\n",
    "    for m in 1:n\n",
    "        # s = \"\\nx=\" * string(x) * \" || \" * \"m=\" * string(m) * \"\\n\"\n",
    "        # printstyled(s; color = :red)\n",
    "\n",
    "        # target = generate_genome_str(i) \n",
    "        target = join(first_n_letters(m))\n",
    "        diam, max_dist_src = calculate_diameter(m, target, x)\n",
    "        \n",
    "        diameters[x, m] = diam\n",
    "        max_dist_genomes[x, m] = max_dist_src\n",
    "    end \n",
    "end \n"
   ]
  },
  {
   "cell_type": "code",
   "execution_count": 6,
   "metadata": {},
   "outputs": [
    {
     "data": {
      "text/plain": [
       "calculate_diameters (generic function with 1 method)"
      ]
     },
     "execution_count": 6,
     "metadata": {},
     "output_type": "execute_result"
    }
   ],
   "source": [
    "# calculates diameters for genomes size 1:n \n",
    "# by sampling 1:y src genomes (randomly generated)\n",
    "function calculate_diameters(y::Int, n::Int)\n",
    "    # note: matrix[a, b] = diameter of a genome of length 'b\" with \"a\" randomly generated src permutations \n",
    "    diameters = zeros(y, n)\n",
    "    max_dist_genomes = fill(\"\", y, n)\n",
    "\n",
    "    for x in 1:y \n",
    "        # s = \"x=\" * string(x) * \" || \" * \"n=\" * string(n) * \"\\n\"\n",
    "        # printstyled(s; color = :green)\n",
    "\n",
    "        calculate_diameters_given_num_of_src_genomes_to_generate(n, x, diameters, max_dist_genomes)\n",
    "\n",
    "        # println(\"======================================================================================================================================================\")\n",
    "    end \n",
    "\n",
    "    return diameters, max_dist_genomes \n",
    "end "
   ]
  },
  {
   "cell_type": "code",
   "execution_count": 8,
   "metadata": {},
   "outputs": [
    {
     "name": "stdout",
     "output_type": "stream",
     "text": [
      "[0.0 1.0 2.0 2.0 4.0 6.0 4.0 6.0 9.0 8.0; 1.0 2.0 3.0 4.0 4.0 4.0 7.0 8.0 7.0 "
     ]
    },
    {
     "name": "stdout",
     "output_type": "stream",
     "text": [
      "9.0; 1.0 2.0 3.0 4.0 5.0 6.0 7.0 8.0 8.0 10.0]\n",
      "[\"A\" \"a,B\" \"a,C,b\" \"bdac\" \".e.,.c.,ab,.d.\" \"e,.caf.,d,.b.\" \"dbc,.fae.,.g.\" \"dfeghb,.ca.\" \"I,afhedb,.cg.\" \".ehg.,.bjad.,if,.c.\"; \".a.\" \".a.,.b.\" \"a,.b.,c\" \".ac.,Db\" \"dac,.Eb.\" \"fcadbe\" \".bGeadf.,c\" \".f.,.b.,adgHc,e\" \"I,.e.,.fh.,ba,.cdg.\" \"hebiJcfagd\"; \".A.\" \".a.,.B.\" \"b,.a.,.C.\" \".D.,cba\" \"cbdE,.a.\" \".acedFb.\" \".d.,ce,fG,b,.a.\" \".febacgHd.\" \".fcbe.,.dgih.,.a.\" \".bjfhd.,.gace.,i\"]"
     ]
    }
   ],
   "source": [
    "n = 10 \n",
    "y = 3   # num_src_permutations to generate \n",
    "\n",
    "# note: matrix[a, b] = diameter of a genome of length 'b\" with \"a\" randomly generated src permutations \n",
    "diameters, max_dist_genomes = calculate_diameters(y::Int, n::Int)\n",
    "println(diameters)\n",
    "print(max_dist_genomes)"
   ]
  }
 ],
 "metadata": {
  "kernelspec": {
   "display_name": "Julia 1.10.3",
   "language": "julia",
   "name": "julia-1.10"
  },
  "language_info": {
   "file_extension": ".jl",
   "mimetype": "application/julia",
   "name": "julia",
   "version": "1.10.3"
  }
 },
 "nbformat": 4,
 "nbformat_minor": 2
}
