{
 "cells": [
  {
   "cell_type": "code",
   "execution_count": 1,
   "metadata": {},
   "outputs": [],
   "source": [
    "# permutations that require max number of dcj operations  - diameter of an instance \n",
    "\n",
    "# find the largest value of n which you can find the diameter \n",
    "# n --> diameter (randomly sample x number)\n",
    "# increase n  "
   ]
  },
  {
   "cell_type": "code",
   "execution_count": 2,
   "metadata": {},
   "outputs": [],
   "source": [
    "using Random\n",
    "\n",
    "using NBInclude\n",
    "@nbinclude(\"dcj_algo.ipynb\")"
   ]
  },
  {
   "cell_type": "code",
   "execution_count": 3,
   "metadata": {},
   "outputs": [
    {
     "data": {
      "text/plain": [
       "generate_permutation (generic function with 1 method)"
      ]
     },
     "execution_count": 3,
     "metadata": {},
     "output_type": "execute_result"
    }
   ],
   "source": [
    "# Function to get the first n letters of the alphabet\n",
    "function first_n_letters(n::Int)\n",
    "    return collect('a':'z')[1:n]\n",
    "end\n",
    "\n",
    "# generates genomes/permutations/strings of length n \n",
    "# (up to 26 bc alphabet)\n",
    "function generate_permutation(n::Int)\n",
    "    letters = first_n_letters(n)\n",
    "    return join(shuffle(letters))\n",
    "end"
   ]
  },
  {
   "cell_type": "code",
   "execution_count": 4,
   "metadata": {},
   "outputs": [
    {
     "name": "stdout",
     "output_type": "stream",
     "text": [
      "SRC (a:h,a:t) --> TARGET (a:h,a:t)\n",
      "\n",
      "*************\n",
      "number of operations = 0\n",
      "--------------------------------------------------------------------------------------\n",
      "SRC (b:h,a:t)(a:h,b:t) --> TARGET (b:h,a:t)(a:h,b:t)\n",
      "\n",
      "*************\n",
      "number of operations = 0\n",
      "--------------------------------------------------------------------------------------\n",
      "SRC (b:h,c:t)(c:h,a:t)(a:h,b:t) --> TARGET (a:h,b:t)(b:h,c:t)(c:h,a:t)\n",
      "\n",
      "*************\n",
      "number of operations = 0\n",
      "--------------------------------------------------------------------------------------\n",
      "SRC (b:h,d:t)(d:h,a:t)(a:h,c:t)(c:h,b:t) --> TARGET (a:h,c:t)(c:h,d:t)(d:h,b:t)(b:h,a:t)\n",
      "\n",
      "*************\n",
      "DCJ Operation :: \u001b[34m(c:h,b:t)\u001b[39m\u001b[34m(b:h,d:t)\u001b[39m --> \u001b[34m(c:h,d:t)\u001b[39m\u001b[34m(b:t,b:h)\u001b[39m\n",
      "DCJ Operation :: \u001b[34m(d:h,a:t)\u001b[39m\u001b[34m(b:t,b:h)\u001b[39m --> \u001b[34m(d:h,b:t)\u001b[39m\u001b[34m(a:t,b:h)\u001b[39m\n",
      "number of operations = 2\n",
      "--------------------------------------------------------------------------------------\n",
      "SRC (a:h,b:t)(b:h,c:t)(c:h,e:t)(e:h,d:t)(d:h,a:t) --> TARGET (b:h,e:t)(e:h,c:t)(c:h,a:t)(a:h,d:t)(d:h,b:t)\n",
      "\n",
      "*************\n",
      "DCJ Operation :: \u001b[34m(b:h,c:t)\u001b[39m\u001b[34m(c:h,e:t)\u001b[39m --> \u001b[34m(b:h,e:t)\u001b[39m\u001b[34m(c:t,c:h)\u001b[39m\n",
      "DCJ Operation :: \u001b[34m(e:h,d:t)\u001b[39m\u001b[34m(c:t,c:h)\u001b[39m --> \u001b[34m(e:h,c:t)\u001b[39m\u001b[34m(d:t,c:h)\u001b[39m\n",
      "DCJ Operation :: \u001b[34m(d:t,c:h)\u001b[39m\u001b[34m(d:h,a:t)\u001b[39m --> \u001b[34m(c:h,a:t)\u001b[39m\u001b[34m(d:t,d:h)\u001b[39m\n",
      "DCJ Operation :: \u001b[34m(a:h,b:t)\u001b[39m\u001b[34m(d:t,d:h)\u001b[39m --> \u001b[34m(a:h,d:t)\u001b[39m\u001b[34m(b:t,d:h)\u001b[39m\n",
      "number of operations = 4\n",
      "--------------------------------------------------------------------------------------\n",
      "SRC (c:h,d:t)(d:h,e:t)(e:h,a:t)(a:h,b:t)(b:h,f:t)(f:h,c:t) --> TARGET (d:h,a:t)(a:h,e:t)(e:h,f:t)(f:h,c:t)(c:h,b:t)(b:h,d:t)\n",
      "\n",
      "*************\n",
      "DCJ Operation :: \u001b[34m(d:h,e:t)\u001b[39m\u001b[34m(e:h,a:t)\u001b[39m --> \u001b[34m(d:h,a:t)\u001b[39m\u001b[34m(e:t,e:h)\u001b[39m\n",
      "DCJ Operation :: \u001b[34m(a:h,b:t)\u001b[39m\u001b[34m(e:t,e:h)\u001b[39m --> \u001b[34m(a:h,e:t)\u001b[39m\u001b[34m(b:t,e:h)\u001b[39m\n",
      "DCJ Operation :: \u001b[34m(b:t,e:h)\u001b[39m\u001b[34m(b:h,f:t)\u001b[39m --> \u001b[34m(e:h,f:t)\u001b[39m\u001b[34m(b:t,b:h)\u001b[39m\n",
      "DCJ Operation :: \u001b[34m(c:h,d:t)\u001b[39m\u001b[34m(b:t,b:h)\u001b[39m --> \u001b[34m(c:h,b:t)\u001b[39m\u001b[34m(d:t,b:h)\u001b[39m\n",
      "number of operations = 4\n",
      "--------------------------------------------------------------------------------------\n",
      "SRC (c:h,f:t)(f:h,b:t)(b:h,g:t)(g:h,d:t)(d:h,e:t)(e:h,a:t)(a:h,c:t) --> TARGET (a:h,e:t)(e:h,f:t)(f:h,d:t)(d:h,c:t)(c:h,g:t)(g:h,b:t)(b:h,a:t)\n",
      "\n",
      "*************\n",
      "DCJ Operation :: \u001b[34m(a:h,c:t)\u001b[39m\u001b[34m(d:h,e:t)\u001b[39m --> \u001b[34m(a:h,e:t)\u001b[39m\u001b[34m(c:t,d:h)\u001b[39m\n",
      "DCJ Operation :: \u001b[34m(e:h,a:t)\u001b[39m\u001b[34m(c:h,f:t)\u001b[39m --> \u001b[34m(e:h,f:t)\u001b[39m\u001b[34m(a:t,c:h)\u001b[39m\n",
      "DCJ Operation :: \u001b[34m(f:h,b:t)\u001b[39m\u001b[34m(g:h,d:t)\u001b[39m --> \u001b[34m(f:h,d:t)\u001b[39m\u001b[34m(b:t,g:h)\u001b[39m\n",
      "DCJ Operation :: \u001b[34m(a:t,c:h)\u001b[39m\u001b[34m(b:h,g:t)\u001b[39m --> \u001b[34m(c:h,g:t)\u001b[39m\u001b[34m(a:t,b:h)\u001b[39m\n",
      "number of operations = 4\n",
      "--------------------------------------------------------------------------------------\n",
      "SRC (a:h,f:t)(f:h,c:t)(c:h,e:t)(e:h,d:t)(d:h,h:t)(h:h,b:t)(b:h,g:t)(g:h,a:t) --> TARGET (h:h,f:t)(f:h,a:t)(a:h,g:t)(g:h,b:t)(b:h,e:t)(e:h,d:t)(d:h,c:t)(c:h,h:t)\n",
      "\n",
      "*************\n",
      "DCJ Operation :: \u001b[34m(h:h,b:t)\u001b[39m\u001b[34m(a:h,f:t)\u001b[39m --> \u001b[34m(h:h,f:t)\u001b[39m\u001b[34m(b:t,a:h)\u001b[39m\n",
      "DCJ Operation :: \u001b[34m(f:h,c:t)\u001b[39m\u001b[34m(g:h,a:t)\u001b[39m --> \u001b[34m(f:h,a:t)\u001b[39m\u001b[34m(c:t,g:h)\u001b[39m\n",
      "DCJ Operation :: \u001b[34m(b:t,a:h)\u001b[39m\u001b[34m(b:h,g:t)\u001b[39m --> \u001b[34m(a:h,g:t)\u001b[39m\u001b[34m(b:t,b:h)\u001b[39m\n",
      "DCJ Operation :: \u001b[34m(c:t,g:h)\u001b[39m\u001b[34m(b:t,b:h)\u001b[39m --> \u001b[34m(g:h,b:t)\u001b[39m\u001b[34m(c:t,b:h)\u001b[39m\n",
      "DCJ Operation :: \u001b[34m(c:t,b:h)\u001b[39m\u001b[34m(c:h,e:t)\u001b[39m --> \u001b[34m(b:h,e:t)\u001b[39m\u001b[34m(c:t,c:h)\u001b[39m\n",
      "DCJ Operation :: \u001b[34m(d:h,h:t)\u001b[39m\u001b[34m(c:t,c:h)\u001b[39m --> \u001b[34m(d:h,c:t)\u001b[39m\u001b[34m(h:t,c:h)\u001b[39m\n",
      "number of operations = 6\n",
      "--------------------------------------------------------------------------------------\n",
      "SRC (b:h,h:t)(h:h,i:t)(i:h,f:t)(f:h,e:t)(e:h,a:t)(a:h,c:t)(c:h,d:t)(d:h,g:t)(g:h,b:t) --> TARGET (c:h,f:t)(f:h,h:t)(h:h,a:t)(a:h,g:t)(g:h,d:t)(d:h,b:t)(b:h,e:t)(e:h,i:t)(i:h,c:t)\n",
      "\n",
      "*************\n",
      "DCJ Operation :: \u001b[34m(c:h,d:t)\u001b[39m\u001b[34m(i:h,f:t)\u001b[39m --> \u001b[34m(c:h,f:t)\u001b[39m\u001b[34m(d:t,i:h)\u001b[39m\n",
      "DCJ Operation :: \u001b[34m(f:h,e:t)\u001b[39m\u001b[34m(b:h,h:t)\u001b[39m --> \u001b[34m(f:h,h:t)\u001b[39m\u001b[34m(e:t,b:h)\u001b[39m\n",
      "DCJ Operation :: \u001b[34m(h:h,i:t)\u001b[39m\u001b[34m(e:h,a:t)\u001b[39m --> \u001b[34m(h:h,a:t)\u001b[39m\u001b[34m(i:t,e:h)\u001b[39m\n",
      "DCJ Operation :: \u001b[34m(a:h,c:t)\u001b[39m\u001b[34m(d:h,g:t)\u001b[39m --> \u001b[34m(a:h,g:t)\u001b[39m\u001b[34m(c:t,d:h)\u001b[39m\n",
      "DCJ Operation :: \u001b[34m(g:h,b:t)\u001b[39m\u001b[34m(d:t,i:h)\u001b[39m --> \u001b[34m(g:h,d:t)\u001b[39m\u001b[34m(b:t,i:h)\u001b[39m\n",
      "DCJ Operation :: \u001b[34m(c:t,d:h)\u001b[39m\u001b[34m(b:t,i:h)\u001b[39m --> \u001b[34m(d:h,b:t)\u001b[39m\u001b[34m(c:t,i:h)\u001b[39m\n",
      "number of operations = 6\n",
      "--------------------------------------------------------------------------------------\n",
      "SRC (c:h,b:t)(b:h,i:t)(i:h,e:t)(e:h,h:t)(h:h,f:t)(f:h,d:t)(d:h,g:t)(g:h,j:t)(j:h,a:t)(a:h,c:t) --> TARGET (g:h,e:t)(e:h,h:t)(h:h,i:t)(i:h,a:t)(a:h,f:t)(f:h,b:t)(b:h,c:t)(c:h,j:t)(j:h,d:t)(d:h,g:t)\n",
      "\n",
      "*************\n",
      "DCJ Operation :: \u001b[34m(g:h,j:t)\u001b[39m\u001b[34m(i:h,e:t)\u001b[39m --> \u001b[34m(g:h,e:t)\u001b[39m\u001b[34m(j:t,i:h)\u001b[39m\n",
      "DCJ Operation :: \u001b[34m(h:h,f:t)\u001b[39m\u001b[34m(b:h,i:t)\u001b[39m --> \u001b[34m(h:h,i:t)\u001b[39m\u001b[34m(f:t,b:h)\u001b[39m\n",
      "DCJ Operation :: \u001b[34m(j:t,i:h)\u001b[39m\u001b[34m(j:h,a:t)\u001b[39m --> \u001b[34m(i:h,a:t)\u001b[39m\u001b[34m(j:t,j:h)\u001b[39m\n",
      "DCJ Operation :: \u001b[34m(a:h,c:t)\u001b[39m\u001b[34m(f:t,b:h)\u001b[39m --> \u001b[34m(a:h,f:t)\u001b[39m\u001b[34m(c:t,b:h)\u001b[39m\n",
      "DCJ Operation :: \u001b[34m(f:h,d:t)\u001b[39m\u001b[34m(c:h,b:t)\u001b[39m --> \u001b[34m(f:h,b:t)\u001b[39m\u001b[34m(d:t,c:h)\u001b[39m\n",
      "DCJ Operation :: \u001b[34m(d:t,c:h)\u001b[39m\u001b[34m(j:t,j:h)\u001b[39m --> \u001b[34m(c:h,j:t)\u001b[39m\u001b[34m(d:t,j:h)\u001b[39m\n",
      "number of operations = 6\n",
      "--------------------------------------------------------------------------------------\n"
     ]
    },
    {
     "data": {
      "text/plain": [
       "10-element Vector{Tuple{Int64, String}}:\n",
       " (0, \"\")\n",
       " (0, \"\")\n",
       " (0, \"\")\n",
       " (2, \"bdac\")\n",
       " (4, \"abced\")\n",
       " (4, \"cdeabf\")\n",
       " (4, \"cfbgdea\")\n",
       " (6, \"afcedhbg\")\n",
       " (6, \"bhifeacdg\")\n",
       " (6, \"cbiehfdgja\")"
      ]
     },
     "execution_count": 4,
     "metadata": {},
     "output_type": "execute_result"
    }
   ],
   "source": [
    "function calculate_diameter(n::Int, num_src_permutations_to_generate::Int)\n",
    "    x = 10  # hyperparam -- tune\n",
    "    target = generate_permutation(n) \n",
    "    max_dist = 0 \n",
    "    max_dist_permutation = \"\"\n",
    "\n",
    "    for i in 1:num_src_permutations_to_generate\n",
    "        src = generate_permutation(n)\n",
    "\n",
    "        dist = calculate_distance(src, target)\n",
    "        if max_dist < dist \n",
    "            max_dist = dist\n",
    "            max_dist_permutation = src \n",
    "        end \n",
    "    end \n",
    "\n",
    "    return max_dist, max_dist_permutation\n",
    "end \n",
    "\n",
    "function calculate_diameters(n::Int) \n",
    "    diameters = Vector{Tuple{Int, String}}()\n",
    "\n",
    "    for i in 1:n\n",
    "        # for x in 1:\n",
    "        x = 1\n",
    "        diam, max_dist_permutation = calculate_diameter(i, x) \n",
    "\n",
    "        push!(diameters, (diam, max_dist_permutation))  # i == idx\n",
    "    end \n",
    "\n",
    "    return diameters\n",
    "end \n",
    "\n",
    "n = 10 \n",
    "calculate_diameters(n)"
   ]
  }
 ],
 "metadata": {
  "kernelspec": {
   "display_name": "Julia 1.10.3",
   "language": "julia",
   "name": "julia-1.10"
  },
  "language_info": {
   "file_extension": ".jl",
   "mimetype": "application/julia",
   "name": "julia",
   "version": "1.10.3"
  }
 },
 "nbformat": 4,
 "nbformat_minor": 2
}
