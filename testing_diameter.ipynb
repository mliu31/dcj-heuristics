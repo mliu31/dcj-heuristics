{
 "cells": [
  {
   "cell_type": "code",
   "execution_count": 1,
   "metadata": {},
   "outputs": [],
   "source": [
    "# permutations that require max number of dcj operations  - diameter of an instance \n",
    "\n",
    "# find the largest value of n which you can find the diameter \n",
    "# n --> diameter (randomly sample x number)\n",
    "# increase n  "
   ]
  },
  {
   "cell_type": "code",
   "execution_count": 2,
   "metadata": {},
   "outputs": [
    {
     "name": "stdout",
     "output_type": "stream",
     "text": [
      "SRC (.,a:t)(a:h,b:t)(b:h,c:t)(c:h,d:t)(d:h,e:t)(e:h,f:t)(f:h,g:t)(g:h,.) --> TARGET (.,a:t)(a:h,b:t)(b:h,c:t)(c:h,d:t)(d:h,g:h)(g:t,f:h)(f:t,e:h)(e:t,.)\n",
      "\n",
      "*************\n",
      "DCJ Operation :: \u001b[34m(d:h,e:t)\u001b[39m\u001b[34m(g:h,.)\u001b[39m --> \u001b[34m(d:h,g:h)\u001b[39m\u001b[34m(e:t,.)\u001b[39m\n",
      "number of operations = 1\n",
      "--------------------------------------------------------------------------------------\n"
     ]
    },
    {
     "data": {
      "text/plain": [
       "1"
      ]
     },
     "execution_count": 2,
     "metadata": {},
     "output_type": "execute_result"
    }
   ],
   "source": [
    "using Random\n",
    "\n",
    "using NBInclude\n",
    "@nbinclude(\"dcj_algo.ipynb\")"
   ]
  },
  {
   "cell_type": "code",
   "execution_count": 3,
   "metadata": {},
   "outputs": [
    {
     "data": {
      "text/plain": [
       "first_n_letters (generic function with 1 method)"
      ]
     },
     "execution_count": 3,
     "metadata": {},
     "output_type": "execute_result"
    }
   ],
   "source": [
    "# Function to get the first n letters of the alphabet\n",
    "function first_n_letters(n::Int)\n",
    "    return collect('a':'z')[1:n]\n",
    "end"
   ]
  },
  {
   "cell_type": "code",
   "execution_count": 24,
   "metadata": {},
   "outputs": [
    {
     "data": {
      "text/plain": [
       "\"a,.d.,.b.,cE\""
      ]
     },
     "execution_count": 24,
     "metadata": {},
     "output_type": "execute_result"
    }
   ],
   "source": [
    "# generates genomes/permutations/strings of length n \n",
    "# (up to 26 bc alphabet)\n",
    "function generate_genome_str(n::Int)\n",
    "    # generate first n letters\n",
    "    letters = first_n_letters(n)\n",
    "\n",
    "    # randomize capitalization (gene orientation)\n",
    "    for i in length(letters) \n",
    "        if rand(Bool)\n",
    "            letters[i] = uppercase(letters[i])\n",
    "        end\n",
    "    end \n",
    "\n",
    "    # shuffle letters to create permutation \n",
    "    letters = shuffle(letters)\n",
    "\n",
    "    # randomly choose length of chromosomes and circular/linear \n",
    "    max_chrom_length = n \n",
    "    curr_letters_idx = 1\n",
    "\n",
    "    genome_str = \"\"\n",
    "    while max_chrom_length != 0\n",
    "        # choose rand length up to max_chrom_length & decremenet max_chrom_length \n",
    "        chrom_length = rand(1:max_chrom_length)\n",
    "        chrom = \"\"\n",
    "\n",
    "        max_chrom_length -= chrom_length\n",
    "\n",
    "        # choose linear or circ \n",
    "        linear = rand(Bool)\n",
    "\n",
    "        # if linear, add telomeres \n",
    "        end_idx = curr_letters_idx + chrom_length - 1\n",
    "        chrom = letters[curr_letters_idx:end_idx]\n",
    "        if linear \n",
    "            chrom = \".\" * join(chrom) * \".\"\n",
    "        end \n",
    "        \n",
    "        chrom = join(chrom)\n",
    "        # add comma after the last element if max_chrom_length != 0 \n",
    "        if max_chrom_length != 0 \n",
    "            genome_str = genome_str * chrom * \",\"\n",
    "        else\n",
    "            genome_str = genome_str * chrom \n",
    "            # insert commas to separate chromosomes \n",
    "        end \n",
    "        \n",
    "        curr_letters_idx += chrom_length \n",
    "    end \n",
    "\n",
    "    return genome_str\n",
    "end\n",
    "\n",
    "generate_genome_str(5)"
   ]
  },
  {
   "cell_type": "code",
   "execution_count": null,
   "metadata": {},
   "outputs": [
    {
     "name": "stdout",
     "output_type": "stream",
     "text": [
      "11"
     ]
    },
    {
     "ename": "LoadError",
     "evalue": "MethodError: no method matching calculate_distance(::Nothing, ::Nothing)",
     "output_type": "error",
     "traceback": [
      "MethodError: no method matching calculate_distance(::Nothing, ::Nothing)",
      "",
      "Stacktrace:",
      " [1] sample_diameter(n::Int64, num_src_permutations_to_generate::Int64)",
      "   @ Main .\\In[5]:10",
      " [2] calculate_diameters(n::Int64)",
      "   @ Main .\\In[5]:27",
      " [3] top-level scope",
      "   @ In[5]:36"
     ]
    }
   ],
   "source": [
    "function sample_diameter(n::Int, num_src_permutations_to_generate::Int)\n",
    "    x = 10  # hyperparam -- tune\n",
    "    target = generate_genome_str(n) \n",
    "    max_dist = 0 \n",
    "    src = generate_genome_str(n)\n",
    "    max_dist_permutation = src\n",
    "\n",
    "    for i in 1:num_src_permutations_to_generate\n",
    "\n",
    "        dist = calculate_distance(src, target)\n",
    "        if max_dist < dist \n",
    "            max_dist = dist\n",
    "            max_dist_permutation = src \n",
    "        end \n",
    "        src = generate_permutation(n)\n",
    "    end \n",
    "\n",
    "    return max_dist, max_dist_permutation\n",
    "end \n",
    "\n",
    "function calculate_diameters(n::Int) \n",
    "    diameters = Vector{Tuple{Int, String}}()\n",
    "\n",
    "    for i in 1:n\n",
    "        # for x in 1:\n",
    "        x = 1\n",
    "        diam, max_dist_permutation = sample_diameter(i, x) \n",
    "\n",
    "        push!(diameters, (diam, max_dist_permutation))  # i == idx\n",
    "    end \n",
    "\n",
    "    return diameters\n",
    "end \n",
    "\n",
    "n = 1\n",
    "calculate_diameters(n)"
   ]
  },
  {
   "cell_type": "code",
   "execution_count": null,
   "metadata": {},
   "outputs": [
    {
     "data": {
      "text/plain": [
       "2-element Vector{Int64}:\n",
       " 2\n",
       " 3"
      ]
     },
     "execution_count": 29,
     "metadata": {},
     "output_type": "execute_result"
    }
   ],
   "source": [
    "l = [1, 2, 3, 4]\n",
    "\n",
    "l[2:3]"
   ]
  }
 ],
 "metadata": {
  "kernelspec": {
   "display_name": "Julia 1.10.3",
   "language": "julia",
   "name": "julia-1.10"
  },
  "language_info": {
   "file_extension": ".jl",
   "mimetype": "application/julia",
   "name": "julia",
   "version": "1.10.3"
  }
 },
 "nbformat": 4,
 "nbformat_minor": 2
}
