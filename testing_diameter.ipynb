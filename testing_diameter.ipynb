{
 "cells": [
  {
   "cell_type": "code",
   "execution_count": 1,
   "metadata": {},
   "outputs": [],
   "source": [
    "# permutations that require max number of dcj operations  - diameter of an instance \n",
    "\n",
    "# find the largest value of n which you can find the diameter \n",
    "# n --> diameter (randomly sample x number)\n",
    "# increase n  "
   ]
  },
  {
   "cell_type": "code",
   "execution_count": 2,
   "metadata": {},
   "outputs": [
    {
     "data": {
      "text/plain": [
       "\"a\""
      ]
     },
     "execution_count": 2,
     "metadata": {},
     "output_type": "execute_result"
    }
   ],
   "source": [
    "using Random\n",
    "\n",
    "using NBInclude\n",
    "@nbinclude(\"dcj_algo.ipynb\")"
   ]
  },
  {
   "cell_type": "code",
   "execution_count": 3,
   "metadata": {},
   "outputs": [
    {
     "data": {
      "text/plain": [
       "generate_permutation (generic function with 1 method)"
      ]
     },
     "execution_count": 3,
     "metadata": {},
     "output_type": "execute_result"
    }
   ],
   "source": [
    "# Function to get the first n letters of the alphabet\n",
    "function first_n_letters(n::Int)\n",
    "    return collect('a':'z')[1:n]\n",
    "end\n",
    "\n",
    "# generates genomes/permutations/strings of length n \n",
    "# (up to 26 bc alphabet)\n",
    "function generate_permutation(n::Int)\n",
    "    letters = first_n_letters(n)\n",
    "    return shuffle(letters)\n",
    "end"
   ]
  },
  {
   "cell_type": "code",
   "execution_count": 4,
   "metadata": {},
   "outputs": [
    {
     "ename": "LoadError",
     "evalue": "MethodError: no method matching calculate_distance(::Vector{Char}, ::Vector{Char})",
     "output_type": "error",
     "traceback": [
      "MethodError: no method matching calculate_distance(::Vector{Char}, ::Vector{Char})",
      "",
      "Stacktrace:",
      " [1] calculate_diameter(n::Int64, num_src_permutations_to_generate::Int64)",
      "   @ Main .\\In[4]:10",
      " [2] calculate_diameters(n::Int64)",
      "   @ Main .\\In[4]:26",
      " [3] top-level scope",
      "   @ In[4]:35"
     ]
    }
   ],
   "source": [
    "function calculate_diameter(n::Int, num_src_permutations_to_generate::Int)\n",
    "    x = 10  # hyperparam -- tune\n",
    "    target = generate_permutation(n) \n",
    "    max_dist = 0 \n",
    "    max_dist_permutation = \"\"\n",
    "\n",
    "    for i in 1:num_src_permutations_to_generate\n",
    "        src = generate_permutation(n)\n",
    "\n",
    "        dist = calculate_distance(src, target)\n",
    "        if max_dist < dist \n",
    "            max_dist = dist\n",
    "            max_dist_permutation = src \n",
    "        end \n",
    "    end \n",
    "\n",
    "    return max_dist, max_dist_permutation\n",
    "end \n",
    "\n",
    "function calculate_diameters(n::Int) \n",
    "    diameters = zeros(2, n)\n",
    "\n",
    "    for i in 1:n\n",
    "        # for x in 1:\n",
    "        x = 1\n",
    "        diam, max_dist_permutation = calculate_diameter(i, x) \n",
    "\n",
    "        push!(diameters, [diam, max_dist_permutation])  # i == idx\n",
    "    end \n",
    "\n",
    "    return diameters\n",
    "end \n",
    "\n",
    "n = 10 \n",
    "calculate_diameters(n)"
   ]
  }
 ],
 "metadata": {
  "kernelspec": {
   "display_name": "Julia 1.10.3",
   "language": "julia",
   "name": "julia-1.10"
  },
  "language_info": {
   "file_extension": ".jl",
   "mimetype": "application/julia",
   "name": "julia",
   "version": "1.10.3"
  }
 },
 "nbformat": 4,
 "nbformat_minor": 2
}
