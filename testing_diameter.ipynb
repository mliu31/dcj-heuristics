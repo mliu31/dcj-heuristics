{
 "cells": [
  {
   "cell_type": "code",
   "execution_count": 1,
   "metadata": {},
   "outputs": [],
   "source": [
    "# permutations that require max number of dcj operations  - diameter of an instance \n",
    "\n",
    "# find the largest value of n which you can find the diameter \n",
    "# n --> diameter (randomly sample x number)\n",
    "# increase n  "
   ]
  },
  {
   "cell_type": "code",
   "execution_count": 2,
   "metadata": {},
   "outputs": [],
   "source": [
    "using Random\n",
    "\n",
    "using NBInclude\n",
    "@nbinclude(\"dcj_algo.ipynb\")"
   ]
  },
  {
   "cell_type": "code",
   "execution_count": 3,
   "metadata": {},
   "outputs": [
    {
     "data": {
      "text/plain": [
       "first_n_letters (generic function with 1 method)"
      ]
     },
     "execution_count": 3,
     "metadata": {},
     "output_type": "execute_result"
    }
   ],
   "source": [
    "# Function to get the first n letters of the alphabet\n",
    "function first_n_letters(n::Int)\n",
    "    return collect('a':'z')[1:n]\n",
    "end"
   ]
  },
  {
   "cell_type": "code",
   "execution_count": 4,
   "metadata": {},
   "outputs": [],
   "source": []
  },
  {
   "cell_type": "code",
   "execution_count": 5,
   "metadata": {},
   "outputs": [
    {
     "data": {
      "text/plain": [
       "generate_genome_str (generic function with 1 method)"
      ]
     },
     "execution_count": 5,
     "metadata": {},
     "output_type": "execute_result"
    }
   ],
   "source": [
    "# generates genomes/permutations/strings of length n \n",
    "# (up to 26 bc alphabet)\n",
    "function generate_genome_str(n::Int)\n",
    "    # generate first n letters\n",
    "    letters = first_n_letters(n)\n",
    "\n",
    "    # randomize capitalization (gene orientation)\n",
    "    for i in length(letters) \n",
    "        if rand(Bool)\n",
    "            letters[i] = uppercase(letters[i])\n",
    "        end\n",
    "    end \n",
    "\n",
    "    letters = shuffle(letters)\n",
    "\n",
    "    # randomly choose length of chromosomes and circular/linear \n",
    "    max_chrom_length = n \n",
    "    curr_letters_idx = 1\n",
    "\n",
    "    genome_str = \"\"\n",
    "    while max_chrom_length != 0 \n",
    "        chrom_length = rand(1:max_chrom_length)\n",
    "        max_chrom_length -= chrom_length\n",
    "        chrom = \"\"\n",
    "\n",
    "        linear = rand(Bool)\n",
    "\n",
    "        end_idx = curr_letters_idx + chrom_length - 1\n",
    "        chrom = letters[curr_letters_idx:end_idx]\n",
    "        if linear \n",
    "            chrom = \".\" * join(chrom) * \".\"\n",
    "        end \n",
    "        \n",
    "        chrom = join(chrom)\n",
    "        if max_chrom_length != 0 \n",
    "            genome_str = genome_str * chrom * \",\"\n",
    "        else\n",
    "            genome_str = genome_str * chrom \n",
    "        end \n",
    "        \n",
    "        curr_letters_idx += chrom_length \n",
    "    end \n",
    "\n",
    "    return genome_str\n",
    "end\n",
    "\n",
    "# generate_genome_str(2)"
   ]
  },
  {
   "cell_type": "code",
   "execution_count": 6,
   "metadata": {},
   "outputs": [
    {
     "data": {
      "text/plain": [
       "calculate_diameters_given_num_of_src_genomes_to_generate (generic function with 1 method)"
      ]
     },
     "execution_count": 6,
     "metadata": {},
     "output_type": "execute_result"
    }
   ],
   "source": [
    "# calculate diameter between target & src genome of size n \n",
    "# fixed number of src genomes to generate \n",
    "function calculate_diameter(n::Int, target::String, num_src_permutations_to_generate::Int)\n",
    "    max_dist = 0 \n",
    "    src = generate_genome_str(n)\n",
    "    max_dist_permutation = src\n",
    "\n",
    "    for i in 1:num_src_permutations_to_generate\n",
    "        \n",
    "        dist = calculate_distance(src, target, \"none\")\n",
    "        if max_dist < dist \n",
    "            max_dist = dist\n",
    "            max_dist_permutation = src \n",
    "        end \n",
    "        src = generate_genome_str(n)\n",
    "    end \n",
    "\n",
    "    return max_dist, max_dist_permutation\n",
    "end \n",
    "\n",
    "# calculate diameters for genomes size 1:n \n",
    "# by sampling a fixed number of src genomes to generate \n",
    "function calculate_diameters_given_num_of_src_genomes_to_generate(n::Int, x::Int, diameters::Matrix{Float64}, max_dist_genomes::Matrix{String})\n",
    "    for m in 1:n\n",
    "        # s = \"\\nx=\" * string(x) * \" || \" * \"m=\" * string(m) * \"\\n\"\n",
    "        # printstyled(s; color = :red)\n",
    "\n",
    "        # target = generate_genome_str(i) \n",
    "        target = join(first_n_letters(m))\n",
    "        diam, max_dist_src = calculate_diameter(m, target, x)\n",
    "        \n",
    "        diameters[x, m] = diam\n",
    "        max_dist_genomes[x, m] = max_dist_src\n",
    "    end \n",
    "end \n"
   ]
  },
  {
   "cell_type": "code",
   "execution_count": 7,
   "metadata": {},
   "outputs": [
    {
     "data": {
      "text/plain": [
       "calculate_diameters (generic function with 1 method)"
      ]
     },
     "execution_count": 7,
     "metadata": {},
     "output_type": "execute_result"
    }
   ],
   "source": [
    "# calculates diameters for genomes size 1:n \n",
    "# by sampling 1:y src genomes (randomly generated)\n",
    "function calculate_diameters(y::Int, n::Int)\n",
    "    # note: matrix[a, b] = diameter of a genome of length 'b\" with \"a\" randomly generated src permutations \n",
    "    diameters = zeros(y, n)\n",
    "    max_dist_genomes = fill(\"\", y, n)\n",
    "\n",
    "    for x in 1:y \n",
    "        # s = \"x=\" * string(x) * \" || \" * \"n=\" * string(n) * \"\\n\"\n",
    "        # printstyled(s; color = :green)\n",
    "\n",
    "        calculate_diameters_given_num_of_src_genomes_to_generate(n, x, diameters, max_dist_genomes)\n",
    "\n",
    "        # println(\"======================================================================================================================================================\")\n",
    "    end \n",
    "\n",
    "    return diameters, max_dist_genomes \n",
    "end "
   ]
  },
  {
   "cell_type": "code",
   "execution_count": 40,
   "metadata": {},
   "outputs": [],
   "source": [
    "function Base.show(max_dist_genomes::Matrix{String})\n",
    "    println()\n",
    "    println(\"max distance genomes :: \")\n",
    "    for y in 1:size(max_dist_genomes, 1)  # Loop over rows\n",
    "        s = \"y=\" * string(y) * \"\\n\"\n",
    "        printstyled(s; color = :yellow)\n",
    "\n",
    "        for m in 1:size(max_dist_genomes, 2)  # Loop over columns\n",
    "            tar = first_n_letters(m)\n",
    "            src = max_dist_genomes[y, m]\n",
    "            \n",
    "            println(string(m) * \" \" * src * \" --> \" * join(tar))\n",
    "        end\n",
    "    end \n",
    "end \n",
    "\n",
    "\n",
    "function Base.show(diameters::Matrix{Float64})\n",
    "    println(\"diameters :: \")\n",
    "    for y in 1:size(diameters, 1)  # Loop over rows\n",
    "        s = \"y = \" * string(y) * \" \"\n",
    "        printstyled(s; color = :yellow)\n",
    "\n",
    "        println(diameters[y,:])\n",
    "    end \n",
    "end "
   ]
  },
  {
   "cell_type": "code",
   "execution_count": 41,
   "metadata": {},
   "outputs": [
    {
     "name": "stdout",
     "output_type": "stream",
     "text": [
      "diameters :: \n",
      "\u001b[33my = 1 \u001b[39m[0.0, 2.0, 1.0, 3.0, 3.0, 5.0, 6.0, 6.0, 7.0, 8.0, 11.0, 11.0, 12.0, 13.0, 14.0, 15.0, 16.0, 16.0, 16.0, 17.0, 19.0, 21.0, 20.0, 21.0, 22.0, 22.0]\n",
      "\u001b[33my = 2 \u001b[39m[1.0, 2.0, 3.0, 4.0, 3.0, 4.0, 7.0, 8.0, 7.0, 9.0, 9.0, 11.0, 10.0, 12.0, 15.0, 16.0, 15.0, 17.0, 18.0, 18.0, 19.0, 21.0, 23.0, 21.0, 23.0, 24.0]\n",
      "\u001b[33my = 3 \u001b[39m[1.0, 1.0, 3.0, 3.0, 5.0, 6.0, 7.0, 8.0, 8.0, 9.0, 11.0, 11.0, 11.0, 13.0, 15.0, 15.0, 15.0, 18.0, 18.0, 19.0, 18.0, 20.0, 22.0, 23.0, 24.0, 25.0]\n",
      "\n",
      "max distance genomes :: \n",
      "\u001b[33my=1\u001b[39m\n",
      "1 a --> a\n",
      "2 .B.,a --> ab\n",
      "3 ac,b --> abc\n",
      "4 .cbda. --> abcd\n",
      "5 .e.,.dabc. --> abcde\n",
      "6 ebd,ca,.f. --> abcdef\n",
      "7 ceag,.fdb. --> abcdefg\n",
      "8 eadfcbg,.h. --> abcdefgh\n",
      "9 hgfIecbda --> abcdefghi\n",
      "10 ifcg,bhjde,a --> abcdefghij\n",
      "11 bjfiadcg,.e.,kh --> abcdefghijk\n",
      "12 fea,.gicLdj.,.khb. --> abcdefghijkl\n",
      "13 ecgabkhm,.iljdf. --> abcdefghijklm\n",
      "14 .ln.,.fbhmkadci.,.e.,jg --> abcdefghijklmn\n",
      "15 .midngbOk.,hfja,.ecl. --> abcdefghijklmno\n",
      "16 mnfig,.khPod.,aljbe,.c. --> abcdefghijklmnop\n",
      "17 .pkhmgeboQadl.,.cifjn. --> abcdefghijklmnopq\n",
      "18 ginhdopRcbmkqfla,e,.j. --> abcdefghijklmnopqr\n",
      "19 h,saklf,.nc.,i,.erm.,pdj,.obg.,q --> abcdefghijklmnopqrs\n",
      "20 .molfcagTsdnrh.,jbeipk,q --> abcdefghijklmnopqrst\n",
      "21 .fahei.,.dpuc.,.brqmnskgoljt. --> abcdefghijklmnopqrstu\n",
      "22 .nfcequrvoitjmsaphglbkd. --> abcdefghijklmnopqrstuv\n",
      "23 shiqewmcavporjbufdntkgl --> abcdefghijklmnopqrstuvw\n",
      "24 k,fjruhnbscitdvoqawXgpml,e --> abcdefghijklmnopqrstuvwx\n",
      "25 jxfknbvemhoqlruad,wyscgti,p --> abcdefghijklmnopqrstuvwxy\n",
      "26 trwgykxeflidumobhqvnajpzcs --> abcdefghijklmnopqrstuvwxyz\n",
      "\u001b[33my=2\u001b[39m\n",
      "1 .a. --> a\n",
      "2 .Ba. --> ab\n",
      "3 .bC.,.a. --> abc\n",
      "4 d,.c.,.b.,a --> abcd\n",
      "5 badEc --> abcde\n",
      "6 .cbad.,ef --> abcdef\n",
      "7 .dg.,.ce.,fa,b --> abcdefg\n",
      "8 .e.,.cfaHd.,.g.,.b. --> abcdefgh\n",
      "9 .cdfIhageb. --> abcdefghi\n",
      "10 .iea.,f,cbjhgd --> abcdefghij\n",
      "11 .efjdb.,.Kach.,ig --> abcdefghijk\n",
      "12 jfk,.lb.,aegihdc --> abcdefghijkl\n",
      "13 .ijcahflg.,.bkd.,.e.,M --> abcdefghijklm\n",
      "14 ibcmejaNf,ldh,.g.,.k. --> abcdefghijklmn\n",
      "15 .akiejfb.,oc,mh,dl,.g.,.n. --> abcdefghijklmno\n",
      "16 .cjPelk.,if,.aognhbdm. --> abcdefghijklmnop\n",
      "17 jbmnlaQkegd,.fhoip.,c --> abcdefghijklmnopq\n",
      "18 .dflgciq.,onaejk,Rm,hbp --> abcdefghijklmnopqr\n",
      "19 ajpdiehbkofmgl,.nqscr. --> abcdefghijklmnopqrs\n",
      "20 .o.,hjskcgeblamprtidnfq --> abcdefghijklmnopqrst\n",
      "21 .decnhaslfo.,.ptgqu.,mk,rij,b --> abcdefghijklmnopqrstu\n",
      "22 .firuotmbkjcldaVps.,.geqh.,n --> abcdefghijklmnopqrstuv\n",
      "23 nlsu,.biWptedrqcov.,hkjgma,.f. --> abcdefghijklmnopqrstuvw\n",
      "24 dhXktsnvegwqc,.oapj.,.bml.,rf,.ui. --> abcdefghijklmnopqrstuvwx\n",
      "25 wYcxpojmbliatnf,.ugdks.,vrqeh --> abcdefghijklmnopqrstuvwxy\n",
      "26 shgftxpqueb,.yalwrnm.,.cZkjod.,.i.,.v. --> abcdefghijklmnopqrstuvwxyz\n",
      "\u001b[33my=3\u001b[39m\n",
      "1 .a. --> a\n",
      "2 Ba --> ab\n",
      "3 b,.C.,a --> abc\n",
      "4 .b.,d,ac --> abcd\n",
      "5 .E.,.ba.,.dc. --> abcde\n",
      "6 .a.,.ceFd.,b --> abcdef\n",
      "7 cfad,.b.,.eG. --> abcdefg\n",
      "8 bec,.gH.,.da.,f --> abcdefgh\n",
      "9 .fdbgchIea. --> abcdefghi\n",
      "10 b,digaecfhJ --> abcdefghij\n",
      "11 bj,.iKceha.,gd,.f. --> abcdefghijk\n",
      "12 .lgakcdbfi.,.h.,.e.,j --> abcdefghijkl\n",
      "13 heaikbM,jcg,.lfd. --> abcdefghijklm\n",
      "14 .bkeagnmdhlijfc. --> abcdefghijklmn\n",
      "15 .l.,.giman.,.fjd.,.e.,kchb,o --> abcdefghijklmno\n",
      "16 .a.,okbnldi,.hecfmjP.,.g. --> abcdefghijklmnop\n",
      "17 cbmndhlfoepgi,.Q.,.a.,.jk. --> abcdefghijklmnopq\n",
      "18 kjboecgnRlqmdf,.ph.,a,i --> abcdefghijklmnopqr\n",
      "19 .biojrqpgflae.,dck,.mn.,.s.,h --> abcdefghijklmnopqrs\n",
      "20 ekgclrbaoipq,tnf,.dh.,.mj.,s --> abcdefghijklmnopqrst\n",
      "21 bfs,tkej,.nqlcmropduaig.,.h. --> abcdefghijklmnopqrstu\n",
      "22 jgebvp,.r.,.ciqnkohst.,.udmfa.,.l. --> abcdefghijklmnopqrstuv\n",
      "23 .atpudbohqrjcW.,.sfmi.,.ge.,.k.,.nl.,v --> abcdefghijklmnopqrstuvw\n",
      "24 kglrndXchabpwqeumfvso,i,.j.,.t. --> abcdefghijklmnopqrstuvwx\n",
      "25 oswd,.qfrmkecugjti.,n,bhvl,x,aY,.p. --> abcdefghijklmnopqrstuvwxy\n",
      "26 .uj.,spelmvxrtyawdbkoqniZg,.cfh. --> abcdefghijklmnopqrstuvwxyz\n"
     ]
    }
   ],
   "source": [
    "n = 26\n",
    "x = 3   # num_src_permutations to generate \n",
    "\n",
    "# note: matrix[a, b] = diameter of a genome of length 'b\" with \"a\" randomly generated src permutations \n",
    "diameters, max_dist_genomes = calculate_diameters(x, n)\n",
    "\n",
    "show(diameters)\n",
    "show(max_dist_genomes)"
   ]
  }
 ],
 "metadata": {
  "kernelspec": {
   "display_name": "Julia 1.10.3",
   "language": "julia",
   "name": "julia-1.10"
  },
  "language_info": {
   "file_extension": ".jl",
   "mimetype": "application/julia",
   "name": "julia",
   "version": "1.10.3"
  }
 },
 "nbformat": 4,
 "nbformat_minor": 2
}
