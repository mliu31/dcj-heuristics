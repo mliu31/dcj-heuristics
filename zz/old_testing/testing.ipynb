{
 "cells": [
  {
   "cell_type": "code",
   "execution_count": 1,
   "metadata": {},
   "outputs": [],
   "source": [
    "using NBInclude\n",
    "@nbinclude(\"dcj_algo.ipynb\")"
   ]
  },
  {
   "cell_type": "code",
   "execution_count": null,
   "metadata": {},
   "outputs": [],
   "source": [
    "# returns the index of the following array \n",
    "# a b c ... x y z aa ab ac ... ax ay az ba bb bc ... bx by bz ... ca cb cd ....\n",
    "# (doesn't build the array)\n",
    "\n",
    "function first_n_letters_no_limits(n::Int)\n",
    "    alphabet = 'a':'z'  # Define the alphabet range\n",
    "    letters = String[]\n",
    "    \n",
    "    for i in 1:n\n",
    "        idx = i - 1\n",
    "        letter = \"\"\n",
    "        \n",
    "    while idx >= 0\n",
    "            place_value = idx % 26 + 1\n",
    "            letter = string(alphabet[place_value], letter)\n",
    "            idx = idx ÷ 26 - 1\n",
    "        end\n",
    "        \n",
    "        push!(letters, letter)\n",
    "    end\n",
    "    \n",
    "    return letters\n",
    "end\n",
    "\n",
    "# letters = first_n_letters_no_limits(27)\n"
   ]
  },
  {
   "cell_type": "code",
   "execution_count": 3,
   "metadata": {},
   "outputs": [
    {
     "data": {
      "text/plain": [
       "generate_target_with_xdup (generic function with 1 method)"
      ]
     },
     "execution_count": 3,
     "metadata": {},
     "output_type": "execute_result"
    }
   ],
   "source": [
    "# generates target genomes that contain the first n letters and adds x duplicate letters \n",
    "# x >= 1\n",
    "function generate_target_with_xdup(n::Int, x::Int)\n",
    "    # target \n",
    "    alphabet = first_n_letters_no_limits(n)\n",
    "    genome = copy(alphabet)\n",
    "    \n",
    "    for i in 1:x\n",
    "        rand_dup_gene = alphabet[rand(1:length(alphabet))]\n",
    "        rand_idx = rand(1:length(genome)+1)\n",
    "        insert!(genome, rand_idx, rand_dup_gene)\n",
    "    end \n",
    "\n",
    "    return join(genome, \"'\")  # one chrom \n",
    "end \n",
    "\n",
    "# target = generate_target_with_xdup(5, 2)\n",
    "# print(target)"
   ]
  },
  {
   "cell_type": "code",
   "execution_count": 4,
   "metadata": {},
   "outputs": [
    {
     "data": {
      "text/plain": [
       "add_gene_counts (generic function with 1 method)"
      ]
     },
     "execution_count": 4,
     "metadata": {},
     "output_type": "execute_result"
    }
   ],
   "source": [
    "function add_gene_counts(input_string::String)  \n",
    "    genes = split(input_string, \"'\")\n",
    "\n",
    "    gene_count = Dict{String, Int}()\n",
    "    result = IOBuffer()\n",
    "\n",
    "    for gene in genes\n",
    "        if gene == '.' || gene == ',' \n",
    "            print(result, gene) \n",
    "            continue \n",
    "        end \n",
    "        if !haskey(gene_count, gene)\n",
    "            gene_count[gene] = 0\n",
    "        end\n",
    "        gene_count[gene] += 1\n",
    "        print(result, gene, gene_count[gene])\n",
    "    end\n",
    "\n",
    "    return String(take!(result))\n",
    "end\n",
    "\n",
    "# input_string = \"he'll'o\"\n",
    "# result = add_letter_counts(input_string)\n",
    "# println(result)  # Output: \"he1ll1o1\""
   ]
  },
  {
   "cell_type": "code",
   "execution_count": 5,
   "metadata": {},
   "outputs": [
    {
     "name": "stdout",
     "output_type": "stream",
     "text": [
      "a'b'c'd'e'f'g'h'i'j'k'l'm'n'o'p'q'r'v's't'u'i'v'w'x'y'z'a'aa\n",
      "a1b1c1d1e1f1g1h1i1j1k1l1m1n1o1p1q1r1v1s1t1u1i2v2w1x1y1z1a2aa1\n"
     ]
    }
   ],
   "source": [
    "tar = generate_target_with_xdup(27, 3)\n",
    "tar_wcounts = add_gene_counts(tar)\n",
    "println(tar) \n",
    "println(tar_wcounts)"
   ]
  },
  {
   "cell_type": "code",
   "execution_count": 35,
   "metadata": {},
   "outputs": [
    {
     "name": "stdout",
     "output_type": "stream",
     "text": [
      "(a1:h,b1:t)(b1:h,c1:t)(c1:h,d1:t)(d1:h,e1:t)(e1:h,f1:t)(f1:h,g1:t)(g1:h,h1:t)(h1:h,i1:t)(i1:h,j1:t)(j1:h,k1:t)(k1:h,l1:t)(l1:h,m1:t)(m1:h,n1:t)(n1:h,o1:t)(o1:h,p1:t)(p1:h,q1:t)(q1:h,r1:t)(r1:h,v1:t)(v1:h,s1:t)(s1:h,t1:t)(t1:h,u1:t)(u1:h,i2:t)(i2:h,v2:t)(v2:h,w1:t)(w1:h,x1:t)(x1:h,y1:t)(y1:h,z1:t)(z1:h,a2:t)(a2:h,aa1:t)(aa1:h,a1:t)\n",
      "DCJ :: [idxs 11 5] \u001b[34m(k1:h,l1:t)\u001b[39m\u001b[34m(e1:h,f1:t)\u001b[39m --> \u001b[34m(l1:t,f1:t)\u001b[39m\u001b[34m(k1:h,e1:h)\u001b[39m\n",
      "DCJ :: [idxs 8 27] \u001b[34m(h1:h,i1:t)\u001b[39m\u001b[34m(y1:h,z1:t)\u001b[39m --> \u001b[34m(i1:t,y1:h)\u001b[39m\u001b[34m(h1:h,z1:t)\u001b[39m\n",
      "DCJ :: [idxs 23 17] \u001b[34m(i2:h,v2:t)\u001b[39m\u001b[34m(q1:h,r1:t)\u001b[39m --> \u001b[34m(v2:t,q1:h)\u001b[39m\u001b[34m(i2:h,r1:t)\u001b[39m\n",
      "(a1:h,b1:t)(b1:h,c1:t)(c1:h,d1:t)(d1:h,e1:t)(k1:h,e1:h)(f1:h,g1:t)(g1:h,h1:t)(i1:t,y1:h)(i1:h,j1:t)(j1:h,k1:t)(l1:t,f1:t)(l1:h,m1:t)(m1:h,n1:t)(n1:h,o1:t)(o1:h,p1:t)(p1:h,q1:t)(i2:h,r1:t)(r1:h,v1:t)(v1:h,s1:t)(s1:h,t1:t)(t1:h,u1:t)(u1:h,i2:t)(v2:t,q1:h)(v2:h,w1:t)(w1:h,x1:t)(x1:h,y1:t)(h1:h,z1:t)(z1:h,a2:t)(a2:h,aa1:t)(aa1:h,a1:t)\n"
     ]
    }
   ],
   "source": [
    "function apply_dcjop(adj_list::Vector{Adjacency}, gid_to_loc::DefaultDict{Int, Vector{Int}}, m::Int)\n",
    "    randidx1 = rand(1:length(adj_list))\n",
    "    randidx2 = rand(1:length(adj_list))\n",
    "    while randidx1 == randidx2 \n",
    "        randidx2 = rand(1:length(adj_list))\n",
    "    end\n",
    "\n",
    "    adj_to_change1 = adj_list[randidx1]\n",
    "    adj_to_change2 = adj_list[randidx2]\n",
    "\n",
    "    adj1_swapleft = rand(Bool)\n",
    "    adj2_swapleft = rand(Bool)\n",
    "\n",
    "    if adj1_swapleft \n",
    "        adj1_ge = adj_list[randidx1].left \n",
    "    else \n",
    "        adj1_ge = adj_list[randidx1].right \n",
    "    end \n",
    "    if adj2_swapleft \n",
    "        adj2_ge = adj_list[randidx2].left \n",
    "    else \n",
    "        adj2_ge = adj_list[randidx2].right \n",
    "    end \n",
    "    \n",
    "    new_adj1, new_adj2 = update_documentation(adj1_ge, adj2_ge, randidx1, randidx2, adj_list, gid_to_loc)\n",
    "\n",
    "    if m >= 1\n",
    "        print(\"DCJ :: \")           \n",
    "        print(\"[idxs \", randidx1, \" \", randidx2, \"] \")         \n",
    "        show(adj_to_change1, true) \n",
    "        show(adj_to_change2, true)\n",
    "\n",
    "        print(\" --> \")\n",
    "        \n",
    "        show(new_adj1, true) \n",
    "        show(new_adj2, true)\n",
    "        println()\n",
    "    end \n",
    "end \n",
    "\n",
    "function apply_x_dcjops(target::String, x::Int, m::Int)\n",
    "    # turn target genome into list of adjacencies\n",
    "    id_counter = Ref{Int}(1)\n",
    "    id_to_str = Dict{Int, String}()\n",
    "    str_to_id = Dict{String, Int}()\n",
    "\n",
    "    target_genome = string_to_genome(target, id_counter, id_to_str, str_to_id, true)\n",
    "    adj_list = genome_to_adj_list(target_genome)  \n",
    "    gid_to_loc = process_adj_list(adj_list)   \n",
    "    \n",
    "    if m >= 1\n",
    "        show(adj_list)\n",
    "        println()\n",
    "    end \n",
    "    \n",
    "    for i in 1:x\n",
    "        apply_dcjop(adj_list, gid_to_loc, m)\n",
    "    end \n",
    "    \n",
    "    # convert adj back to genome \n",
    "\n",
    "    #  TODO \n",
    "    # inorder_adj_list = reorder_adjs(src_adjs, src_gid_to_l)\n",
    "    # src_genome_str = adj_list_to_genome_str(inorder_adj_list)\n",
    "   \n",
    "    # print(src_genome_str)\n",
    "\n",
    "    if m >= 1\n",
    "        show(adj_list)\n",
    "        println()\n",
    "    end \n",
    "\n",
    "    # return src_genome_str\n",
    "end \n",
    "\n",
    "\n",
    "apply_x_dcjops(tar_wcounts, 3, 1)"
   ]
  },
  {
   "cell_type": "code",
   "execution_count": null,
   "metadata": {},
   "outputs": [],
   "source": []
  }
 ],
 "metadata": {
  "kernelspec": {
   "display_name": "Julia 1.10.3",
   "language": "julia",
   "name": "julia-1.10"
  },
  "language_info": {
   "file_extension": ".jl",
   "mimetype": "application/julia",
   "name": "julia",
   "version": "1.10.3"
  }
 },
 "nbformat": 4,
 "nbformat_minor": 2
}
