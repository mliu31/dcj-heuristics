{
 "cells": [
  {
   "cell_type": "code",
   "execution_count": 13,
   "metadata": {},
   "outputs": [],
   "source": [
    "using NBInclude\n",
    "@nbinclude(\"dcj_algo.ipynb\")"
   ]
  },
  {
   "cell_type": "code",
   "execution_count": null,
   "metadata": {},
   "outputs": [],
   "source": [
    "# returns the index of the following array \n",
    "# a b c ... x y z aa ab ac ... ax ay az ba bb bc ... bx by bz ... ca cb cd ....\n",
    "# (doesn't build the array)\n",
    "\n",
    "function first_n_letters_no_limits(n::Int)\n",
    "    alphabet = 'a':'z'  # Define the alphabet range\n",
    "    letters = String[]\n",
    "    \n",
    "    for i in 1:n\n",
    "        idx = i - 1\n",
    "        letter = \"\"\n",
    "        \n",
    "    while idx >= 0\n",
    "            place_value = idx % 26 + 1\n",
    "            letter = string(alphabet[place_value], letter)\n",
    "            idx = idx ÷ 26 - 1\n",
    "        end\n",
    "        push!(letters, letter)\n",
    "    end\n",
    "    \n",
    "    return letters\n",
    "end\n",
    "\n",
    "# letters = first_n_letters_no_limits(27)\n"
   ]
  },
  {
   "cell_type": "code",
   "execution_count": 16,
   "metadata": {},
   "outputs": [
    {
     "data": {
      "text/plain": [
       "generate_target_with_xdup (generic function with 1 method)"
      ]
     },
     "execution_count": 16,
     "metadata": {},
     "output_type": "execute_result"
    }
   ],
   "source": [
    "# generates target genomes that contain the first n letters and adds x duplicate letters \n",
    "# x >= 1\n",
    "function generate_target_with_xdup(n::Int, x::Int)\n",
    "    # target \n",
    "    alphabet = first_n_letters_no_limits(n)\n",
    "    genome = copy(alphabet)\n",
    "    \n",
    "    for i in 1:x\n",
    "        rand_dup_gene = alphabet[rand(1:length(alphabet))]\n",
    "        rand_idx = rand(1:length(genome)+1)\n",
    "        insert!(genome, rand_idx, rand_dup_gene)\n",
    "    end \n",
    "\n",
    "    return join(genome, \"'\")  # one chrom \n",
    "end \n",
    "\n",
    "# target = generate_target_with_xdup(5, 2)\n",
    "# print(target)"
   ]
  },
  {
   "cell_type": "code",
   "execution_count": 17,
   "metadata": {},
   "outputs": [
    {
     "data": {
      "text/plain": [
       "add_gene_counts (generic function with 1 method)"
      ]
     },
     "execution_count": 17,
     "metadata": {},
     "output_type": "execute_result"
    }
   ],
   "source": [
    "function add_gene_counts(input_string::String)  \n",
    "    chroms = split(input_string, \",\")\n",
    "    result = \"\"\n",
    "    gene_count = Dict{String, Int}()\n",
    "\n",
    "    for c in chroms \n",
    "        genes = split(c, \"'\")\n",
    "\n",
    "        for gene in genes\n",
    "            if gene == '.' || gene == ',' \n",
    "                result *= gene \n",
    "                continue \n",
    "            end \n",
    "            if !haskey(gene_count, gene)\n",
    "                gene_count[gene] = 0\n",
    "            end\n",
    "            gene_count[gene] += 1\n",
    "            result *= gene * string(gene_count[gene])\n",
    "        end\n",
    "        result *= \",\" \n",
    "    end \n",
    "\n",
    "    return result[1:end-1]\n",
    "end\n",
    "\n",
    "# input_string = \"he'll'o\"\n",
    "# input_string = \"abc,abc\"\n",
    "# result = add_gene_counts(input_string)\n",
    "# println(result)  # Output: \"he1ll1o1\""
   ]
  },
  {
   "cell_type": "code",
   "execution_count": 18,
   "metadata": {},
   "outputs": [
    {
     "data": {
      "text/plain": [
       "find_genes (generic function with 2 methods)"
      ]
     },
     "execution_count": 18,
     "metadata": {},
     "output_type": "execute_result"
    }
   ],
   "source": [
    "function find_genes(s::String)\n",
    "    result = Set{String}() \n",
    "    gene = \"\"\n",
    "    i = 1\n",
    "    while i <= length(s)\n",
    "        if s[i] == '.' || s[i] == ','\n",
    "            i += 1\n",
    "            continue \n",
    "        end \n",
    "        \n",
    "        if isdigit(s[i])\n",
    "            # Collect the digits\n",
    "            digits = \"\"\n",
    "            while i <= length(s) && isdigit(s[i])\n",
    "                digits *= s[i]\n",
    "                i += 1\n",
    "            end\n",
    "            # Merge the digits with the gene and add to result\n",
    "            gene *= digits\n",
    "            push!(result, gene)\n",
    "            gene = \"\"\n",
    "        else\n",
    "            # Collect the letters\n",
    "            gene *= lowercase(s[i])\n",
    "            i += 1\n",
    "        end\n",
    "    end \n",
    "\n",
    "    if !isempty(gene)\n",
    "        push!(result, gene)\n",
    "    end\n",
    "    \n",
    "    return result \n",
    "end\n",
    "\n",
    "# s = \"abc123,def456ghi789\"\n",
    "# println(find_genes(s))\n",
    "# Output should be [\"abc123\", \"def456\", \"ghi789\"]\n"
   ]
  },
  {
   "cell_type": "code",
   "execution_count": 19,
   "metadata": {},
   "outputs": [
    {
     "data": {
      "text/plain": [
       "has_twotelos (generic function with 1 method)"
      ]
     },
     "execution_count": 19,
     "metadata": {},
     "output_type": "execute_result"
    }
   ],
   "source": [
    "function has_onetelo(adj::Adjacency)\n",
    "    return (adj.left.gene == Telomere() && adj.right.gene != Telomere()) ||  (adj.left.gene != Telomere() && adj.right.gene == Telomere())\n",
    "end \n",
    "\n",
    "function has_twotelos(adj::Adjacency)\n",
    "    return adj.left.gene == Telomere() && adj.right.gene == Telomere() \n",
    "end "
   ]
  },
  {
   "cell_type": "code",
   "execution_count": 20,
   "metadata": {},
   "outputs": [
    {
     "data": {
      "text/plain": [
       "combine_telomeres (generic function with 1 method)"
      ]
     },
     "execution_count": 20,
     "metadata": {},
     "output_type": "execute_result"
    }
   ],
   "source": [
    "# swap two non-telo adj || one non-telo adj + one telo adj \n",
    "function swap_two_adj(adj_list::Vector{Adjacency}, gid_to_loc::DefaultDict{Int, Vector{Int}}, telo_idxs::Set{Int}, twogeneadj_idxs::Set{Int})\n",
    "    randidx1 = rand(twogeneadj_idxs) \n",
    "    randidx2 = rand(union(telo_idxs, twogeneadj_idxs))\n",
    "\n",
    "    adj_to_change1 = adj_list[randidx1]\n",
    "    adj_to_change2 = adj_list[randidx2]\n",
    "\n",
    "    adj1_swapleft = rand(Bool)\n",
    "    adj2_swapleft = rand(Bool)\n",
    "\n",
    "    if adj1_swapleft \n",
    "        adj1_ge = adj_to_change1.left \n",
    "    else \n",
    "        adj1_ge = adj_to_change1.right \n",
    "    end \n",
    "    if adj2_swapleft \n",
    "        adj2_ge = adj_to_change2.left \n",
    "    else \n",
    "        adj2_ge = adj_to_change2.right \n",
    "    end \n",
    "    \n",
    "    new_adj1 = Adjacency(adj1_ge, adj2_ge)\n",
    "    new_adj2 = Adjacency(other_adjacency_end(adj1_ge, adj_to_change1), other_adjacency_end(adj2_ge, adj_to_change2))\n",
    "\n",
    "    adj_list[randidx1] = new_adj1\n",
    "    adj_list[randidx2] = new_adj2\n",
    "\n",
    "    assign_ge_idx_to_gid_to_locdict(adj2_ge, Ref{Int}(randidx1), gid_to_loc)\n",
    "    assign_ge_idx_to_gid_to_locdict(other_adjacency_end(adj1_ge, adj_to_change1), Ref{Int}(randidx2), gid_to_loc)    \n",
    "\n",
    "    if has_onetelo(new_adj1) && !has_onetelo(new_adj2) \n",
    "        delete!(telo_idxs, randidx1)\n",
    "        delete!(telo_idxs, randidx2)\n",
    "        push!(telo_idxs, randidx1)\n",
    "\n",
    "        delete!(twogeneadj_idxs, randidx1)\n",
    "        delete!(twogeneadj_idxs, randidx2)\n",
    "        push!(twogeneadj_idxs, randidx2)\n",
    "    elseif has_onetelo(new_adj2) && !has_onetelo(new_adj1) \n",
    "        delete!(telo_idxs, randidx1)\n",
    "        delete!(telo_idxs, randidx2)\n",
    "        push!(telo_idxs, randidx2)\n",
    "\n",
    "        delete!(twogeneadj_idxs, randidx2)\n",
    "        delete!(twogeneadj_idxs, randidx1)\n",
    "        push!(twogeneadj_idxs, randidx1)\n",
    "    end \n",
    "\n",
    "    return adj_to_change1, adj_to_change2, new_adj1, new_adj2\n",
    "end \n",
    "\n",
    "\n",
    "function split_adj(adj_list::Vector{Adjacency}, gid_to_loc::DefaultDict{Int, Vector{Int}}, telo_idxs::Set{Int}, twogeneadj_idxs::Set{Int})  \n",
    "    randidx = rand(twogeneadj_idxs)\n",
    "    delete!(twogeneadj_idxs, randidx)\n",
    "\n",
    "    adj_to_split = adj_list[randidx]\n",
    "\n",
    "    new_adj1 = Adjacency(adj_to_split.left, GeneEnd(Telomere())) \n",
    "    new_adj2 = Adjacency(adj_to_split.right, GeneEnd(Telomere())) \n",
    "\n",
    "    adj_list[randidx] = new_adj1\n",
    "    push!(adj_list, new_adj2)\n",
    "\n",
    "    assign_ge_idx_to_gid_to_locdict(adj_to_split.right, Ref{Int}(length(adj_list)), gid_to_loc)\n",
    "\n",
    "    if !has_twotelos(new_adj1) \n",
    "        push!(telo_idxs, randidx)\n",
    "    end \n",
    "    if !has_twotelos(new_adj2)\n",
    "        push!(telo_idxs, length(adj_list))\n",
    "    end \n",
    "\n",
    "    return adj_to_split, new_adj1, new_adj2\n",
    "end \n",
    "\n",
    "\n",
    "# each adj must have one telo & one gene (o/w DCJ op doesn't do anything)\n",
    "function combine_telomeres(adj_list::Vector{Adjacency}, gid_to_loc::DefaultDict{Int, Vector{Int}}, telo_idxs::Set{Int}, twogeneadj_idxs::Set{Int})\n",
    "    # choose two telomeres randomly \n",
    "    rand_adjidx1 = rand(telo_idxs)\n",
    "    delete!(telo_idxs, rand_adjidx1)\n",
    "    rand_adjidx2 = rand(telo_idxs)\n",
    "    delete!(telo_idxs, rand_adjidx2)\n",
    "    \n",
    "    adj_to_change1 = adj_list[rand_adjidx1]\n",
    "    adj_to_change2 = adj_list[rand_adjidx2]\n",
    "\n",
    "    nontelo_ge1 = other_adjacency_end(GeneEnd(Telomere()), adj_to_change1)\n",
    "    nontelo_ge2 = other_adjacency_end(GeneEnd(Telomere()), adj_to_change2)\n",
    "    \n",
    "    # merge \n",
    "    merged_adj = Adjacency(nontelo_ge1, nontelo_ge2)\n",
    "    telos = Adjacency(GeneEnd(Telomere()), GeneEnd(Telomere()))\n",
    "\n",
    "    adj_list[rand_adjidx1] = merged_adj\n",
    "    adj_list[rand_adjidx2] = telos\n",
    "    push!(twogeneadj_idxs, rand_adjidx1)\n",
    "\n",
    "    assign_ge_idx_to_gid_to_locdict(nontelo_ge2, Ref{Int}(rand_adjidx1), gid_to_loc)\n",
    "    \n",
    "    return adj_to_change1, adj_to_change2, merged_adj, telos\n",
    "end \n"
   ]
  },
  {
   "cell_type": "code",
   "execution_count": 21,
   "metadata": {},
   "outputs": [
    {
     "data": {
      "text/plain": [
       "apply_dcjop (generic function with 1 method)"
      ]
     },
     "execution_count": 21,
     "metadata": {},
     "output_type": "execute_result"
    }
   ],
   "source": [
    "function apply_dcjop(adj_list::Vector{Adjacency}, gid_to_loc::DefaultDict{Int, Vector{Int}}, m::Int, telo_idxs::Set{Int}, twogeneadj_idxs::Set{Int})\n",
    "    options = Set([1, 2, 3])\n",
    "    \n",
    "    if length(twogeneadj_idxs) == 0 \n",
    "        delete!(options, 1)\n",
    "        printstyled(\"\\ndeleting option to split\\n\", color=:magenta)\n",
    "    end \n",
    "    if length(twogeneadj_idxs) == 0 || length(telo_idxs) + length(twogeneadj_idxs) < 2\n",
    "        delete!(options, 2)\n",
    "        printstyled(\"\\ndeleting option to swap\\n\", color=:magenta)\n",
    "    end \n",
    "    if length(telo_idxs) < 2\n",
    "        delete!(options, 3)\n",
    "        printstyled(\"\\ndeleting option to combine\\n\", color=:magenta)\n",
    "    end \n",
    "    \n",
    "    rand_operation = rand(options) \n",
    "    if rand_operation == 1\n",
    "        adj_to_change1, new_adj1, new_adj2 = split_adj(adj_list, gid_to_loc, telo_idxs, twogeneadj_idxs) \n",
    "        op = \"SPLIT\"\n",
    "    elseif rand_operation == 2 \n",
    "        adj_to_change1, adj_to_change2, new_adj1, new_adj2 = swap_two_adj(adj_list, gid_to_loc, telo_idxs, twogeneadj_idxs)\n",
    "        op = \"SWAP\"\n",
    "    else \n",
    "        adj_to_change1, adj_to_change2, new_adj1, new_adj2 = combine_telomeres(adj_list, gid_to_loc, telo_idxs, twogeneadj_idxs)\n",
    "        op = \"COMBINE\"\n",
    "    end \n",
    "\n",
    "    if m >= 1\n",
    "        print(\"DCJ \", op, \" :: \")                  \n",
    "        show(adj_to_change1, true) \n",
    "        if (@isdefined adj_to_change2) show(adj_to_change2, true) end \n",
    "\n",
    "        print(\" --> \")\n",
    "        \n",
    "        show(new_adj1, true) \n",
    "        show(new_adj2, true)\n",
    "        println(\"\\n   telos idxs \", telo_idxs)\n",
    "        println(\"   twogeneadjs idxs \", twogeneadj_idxs, \"    \")\n",
    "        show(adj_list)\n",
    "        println(\"\\n\")\n",
    "    end \n",
    "end \n"
   ]
  },
  {
   "cell_type": "code",
   "execution_count": 22,
   "metadata": {},
   "outputs": [
    {
     "data": {
      "text/plain": [
       "reduplicate_deduplicated_genome (generic function with 1 method)"
      ]
     },
     "execution_count": 22,
     "metadata": {},
     "output_type": "execute_result"
    }
   ],
   "source": [
    "function reduplicate_deduplicated_genome(genome::String)\n",
    "    reduplicated_genome = Vector{Char}()\n",
    "    i = 1\n",
    "    while i <= length(genome)\n",
    "         if isdigit(genome[i])\n",
    "            while i <= length(genome) && isdigit(genome[i])\n",
    "                i += 1\n",
    "            end\n",
    "            if i <= length(genome) && genome[i] != ',' && genome[i] != '.'\n",
    "                push!(reduplicated_genome, ''')\n",
    "            end \n",
    "        else \n",
    "            push!(reduplicated_genome, genome[i])\n",
    "            i += 1\n",
    "        end \n",
    "    end \n",
    "    \n",
    "    return join(reduplicated_genome)\n",
    "end \n",
    "\n",
    "# src = reduplicate_deduplicated_genome(src_str)"
   ]
  },
  {
   "cell_type": "code",
   "execution_count": 26,
   "metadata": {},
   "outputs": [
    {
     "data": {
      "text/plain": [
       "apply_x_dcjops (generic function with 1 method)"
      ]
     },
     "execution_count": 26,
     "metadata": {},
     "output_type": "execute_result"
    }
   ],
   "source": [
    "function check_idxs(adj_list::Vector{Adjacency}, telo_idxs::Set{Int}, twogeneadj_idxs::Set{Int})\n",
    "    for i in length(adj_list) \n",
    "        adj = adj_list[i]\n",
    "        if has_onetelo(adj)\n",
    "            if i ∉ telo_idxs \n",
    "                s = string(i) * \" IS NOT IN TELO_IDXS\"\n",
    "                throw(ArgumentError(s))\n",
    "            end \n",
    "        end \n",
    "        if !has_onetelo(adj) && !has_twotelos(adj)  # two ge in adj \n",
    "            if i ∉ twogeneadj_idxs \n",
    "                s = string(i) *\" IS NOT IN TWO GENE IDXS\"\n",
    "                throw(ArgumentError(s))\n",
    "            end \n",
    "        end \n",
    "    end \n",
    "end \n",
    "\n",
    "\n",
    "function apply_x_dcjops(target::String, x::Int, m::Int)\n",
    "    Random.seed!(1)\n",
    "\n",
    "    # turn target genome into list of adjacencies\n",
    "    id_counter = Ref{Int}(1)\n",
    "    id_to_str = Dict{Int, String}()\n",
    "    str_to_id = Dict{String, Int}()\n",
    "\n",
    "    target_genome = string_to_genome(target, id_counter, id_to_str, str_to_id, true)\n",
    "    adj_list = genome_to_adj_list(target_genome)  \n",
    "    gid_to_loc = process_adj_list(adj_list)   \n",
    "    \n",
    "    if m >= 1\n",
    "        show(adj_list)\n",
    "        println()\n",
    "    end \n",
    "    \n",
    "    single_telo_idxs = Set{Int}()\n",
    "    twogeneadj_idxs = Set(collect(1:length(adj_list)))\n",
    "    numadj_notelos = length(adj_list)\n",
    "    for i in 1:x\n",
    "        apply_dcjop(adj_list, gid_to_loc, m, single_telo_idxs, twogeneadj_idxs)\n",
    "        check_idxs(adj_list, single_telo_idxs, twogeneadj_idxs)\n",
    "    end \n",
    "\n",
    "    src = adjlist_to_str(adj_list, gid_to_loc, target)\n",
    "    src = reduplicate_deduplicated_genome(src)\n",
    "    src = remove_twotelo_chroms(src)\n",
    "    \n",
    "    return src\n",
    "end \n"
   ]
  },
  {
   "cell_type": "code",
   "execution_count": 33,
   "metadata": {},
   "outputs": [],
   "source": [
    "# import Random\n",
    "\n",
    "# m = 1\n",
    "\n",
    "# # generate target string \n",
    "# tar = generate_target_with_xdup(3, 3)\n",
    "# tar_wcounts = add_gene_counts(tar) \n",
    "# println(tar_wcounts)\n",
    "\n",
    "# # apply x dcj ops to target --> src \n",
    "# src = apply_x_dcjops(tar_wcounts, 20, m)"
   ]
  }
 ],
 "metadata": {
  "kernelspec": {
   "display_name": "Julia 1.10.3",
   "language": "julia",
   "name": "julia-1.10"
  },
  "language_info": {
   "file_extension": ".jl",
   "mimetype": "application/julia",
   "name": "julia",
   "version": "1.10.3"
  }
 },
 "nbformat": 4,
 "nbformat_minor": 2
}
