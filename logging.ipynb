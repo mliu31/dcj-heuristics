{
 "cells": [
  {
   "cell_type": "code",
   "execution_count": 1,
   "metadata": {},
   "outputs": [
    {
     "data": {
      "text/plain": [
       "update_adj_set (generic function with 2 methods)"
      ]
     },
     "execution_count": 1,
     "metadata": {},
     "output_type": "execute_result"
    }
   ],
   "source": [
    "using NBInclude\n",
    "@nbinclude(\"datastructs.ipynb\")\n",
    "@nbinclude(\"helpers.ipynb\")"
   ]
  },
  {
   "cell_type": "code",
   "execution_count": 2,
   "metadata": {},
   "outputs": [
    {
     "data": {
      "text/plain": [
       "reorder_adjs (generic function with 1 method)"
      ]
     },
     "execution_count": 2,
     "metadata": {},
     "output_type": "execute_result"
    }
   ],
   "source": [
    "# given ge, finds next ge (with new gene) in the next adj\n",
    "\n",
    "# e.g., given adjs={ge1:h, ge2:t} ... {ge2:h, ge3:t} & ge=ge2:t, \n",
    "# finds {ge2:h, ge3:t}, returns ge3:t \n",
    "function find_next_adj(ge::GeneEnd, adj::Adjacency, reordered_adj_list::Vector{Adjacency}, src_gid_to_l::DefaultDict{Int, Vector{Int}}, src_adjs::Vector{Adjacency}, processed::Set{Int}) \n",
    "    (ge.head == true) ? opp_th_idx = 1 : opp_th_idx = 2  \n",
    "\n",
    "    # idx of {ge2:h, ge3:t}\n",
    "    next_idx = src_gid_to_l[ge.gene.id][opp_th_idx]\n",
    "    next_adj = src_adjs[next_idx]\n",
    "\n",
    "    if next_idx ∉ processed \n",
    "        push!(processed, next_idx)\n",
    "        push!(reordered_adj_list, next_adj)\n",
    "    end \n",
    "    \n",
    "    if next_adj.left.gene == ge.gene\n",
    "        ge = other_adjacency_end(next_adj.left, next_adj)\n",
    "    elseif next_adj.right.gene == ge.gene\n",
    "        ge = other_adjacency_end(next_adj.right, next_adj)\n",
    "    end \n",
    "    \n",
    "    return ge \n",
    "end \n",
    "\n",
    "# O(N)\n",
    "# prints out adj list in order \n",
    "# (note that order within the adj don't matter)\n",
    "function reorder_adjs(src_adjs::Vector{Adjacency}, src_gid_to_l::DefaultDict{Int, Vector{Int}})\n",
    "    telos = Vector{Int}() \n",
    "    circ = Vector{Int}() \n",
    "    processed = Set{Int}()\n",
    "    reordered_adj_list = Vector{Adjacency}()\n",
    "\n",
    "    for i in 1:length(src_adjs)\n",
    "        adj = src_adjs[i]\n",
    "        if adj.left.gene == Telomere() || adj.right.gene == Telomere() \n",
    "            push!(telos, i)\n",
    "        else \n",
    "            push!(circ, i)\n",
    "        end \n",
    "    end \n",
    "    \n",
    "    # handle telomeres\n",
    "    for i in telos \n",
    "        if i in processed \n",
    "            continue \n",
    "        else \n",
    "            push!(processed, i)\n",
    "        end\n",
    "        \n",
    "        adj = src_adjs[i]\n",
    "        push!(reordered_adj_list, adj)\n",
    "\n",
    "        ge = other_adjacency_end(Telomere(), adj)\n",
    "        while ge.gene != Telomere()  \n",
    "            ge = find_next_adj(ge, adj, reordered_adj_list, src_gid_to_l, src_adjs, processed)\n",
    "        end \n",
    "    end \n",
    "    \n",
    "    # handle adj with two genes\n",
    "    for i in circ  \n",
    "        if i in processed \n",
    "            continue \n",
    "        else \n",
    "            push!(processed, i)\n",
    "        end\n",
    "\n",
    "        adj = src_adjs[i]\n",
    "        push!(reordered_adj_list, adj)\n",
    "\n",
    "        first_gene = adj.left.gene \n",
    "        ge = adj.right \n",
    "        first = true       \n",
    "        \n",
    "        while ge.gene != first_gene || first == true  \n",
    "            ge = find_next_adj(ge, adj, reordered_adj_list, src_gid_to_l, src_adjs, processed)\n",
    "\n",
    "            first = false \n",
    "        end   \n",
    "    end \n",
    "    return reordered_adj_list\n",
    "end "
   ]
  },
  {
   "cell_type": "code",
   "execution_count": 3,
   "metadata": {},
   "outputs": [],
   "source": [
    "# # O(N^2)\n",
    "# # prints adj set as adj list (in order) \n",
    "# # note that order within the adj don't matter \n",
    "# function convert_adj_set_as_adj_list(og_adj_set::Set{Adjacency})\n",
    "#     telos = Vector{Adjacency}() \n",
    "#     adj_set = copy(og_adj_set)\n",
    "#     adj_list = Vector{Adjacency}() \n",
    "\n",
    "#     # handle linear chroms \n",
    "#     for adj in adj_set\n",
    "#         if adj.left.gene == Telomere() || adj.right.gene == Telomere() \n",
    "#             push!(telos, adj)\n",
    "#         end \n",
    "#     end \n",
    "\n",
    "#     processed_adjs = Set{Adjacency}() \n",
    "#     for adj in telos \n",
    "#         if adj in processed_adjs\n",
    "#             continue \n",
    "#         end \n",
    "#         ge = non_telo_end(adj) \n",
    "#         push!(adj_list, adj)\n",
    "#         push!(processed_adjs, adj)\n",
    "#         while ge.gene != Telomere()  \n",
    "#             ge = find_next_adj(ge, adj_set, adj_list, processed_adjs, adj)\n",
    "#         end \n",
    "#     end \n",
    "    \n",
    "#     # handle circular chroms \n",
    "#     for adj in adj_set  # only circular left \n",
    "#         if adj in processed_adjs\n",
    "#             continue \n",
    "#         end \n",
    "#         push!(processed_adjs, adj)\n",
    "#         push!(adj_list, adj)\n",
    "#         first_gene = adj.left.gene \n",
    "#         ge = GeneEnd(adj.right.gene, !adj.right.head)  # ge that we're looking for\n",
    "#         first = true       \n",
    "        \n",
    "#         while ge.gene != first_gene || first == true  \n",
    "#             ge = find_next_adj(ge, adj_set, adj_list, processed_adjs, adj)\n",
    "\n",
    "#             first = false \n",
    "#         end   \n",
    "#     end \n",
    "#     return adj_list\n",
    "# end "
   ]
  }
 ],
 "metadata": {
  "kernelspec": {
   "display_name": "Julia 1.10.3",
   "language": "julia",
   "name": "julia-1.10"
  },
  "language_info": {
   "file_extension": ".jl",
   "mimetype": "application/julia",
   "name": "julia",
   "version": "1.10.3"
  }
 },
 "nbformat": 4,
 "nbformat_minor": 2
}
