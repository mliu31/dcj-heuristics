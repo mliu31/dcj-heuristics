{
 "cells": [
  {
   "cell_type": "code",
   "execution_count": 1,
   "metadata": {},
   "outputs": [
    {
     "name": "stdout",
     "output_type": "stream",
     "text": [
      "SRC (.,a:t)(a:h,.)(.,b:t)(b:h,.)(.,c:t)(c:h,.)(.,d:t)(d:h,.) --> TARGET (a:t,b:h)(b:t,c:h)(c:t,d:h)(d:t,a:h)\n",
      "DCJ :: \u001b[34m(.,a:t)\u001b[39m\u001b[34m(b:h,.)\u001b[39m --> \u001b[34m(a:t,b:h)\u001b[39m\u001b[34m(.,.)\u001b[39m\n",
      "DCJ :: \u001b[34m(.,b:t)\u001b[39m\u001b[34m(c:h,.)\u001b[39m --> \u001b[34m(b:t,c:h)\u001b[39m\u001b[34m(.,.)\u001b[39m\n",
      "DCJ :: \u001b[34m(.,c:t)\u001b[39m\u001b[34m(d:h,.)\u001b[39m --> \u001b[34m(c:t,d:h)\u001b[39m\u001b[34m(.,.)\u001b[39m\n",
      "DCJ :: \u001b[34m(.,d:t)\u001b[39m\u001b[34m(a:h,.)\u001b[39m --> \u001b[34m(d:t,a:h)\u001b[39m\u001b[34m(.,.)\u001b[39m\n",
      "\n",
      "#ops = 4\n",
      "----------------------------------------\n"
     ]
    },
    {
     "data": {
      "text/plain": [
       "4"
      ]
     },
     "execution_count": 1,
     "metadata": {},
     "output_type": "execute_result"
    }
   ],
   "source": [
    "using NBInclude\n",
    "@nbinclude(\"dcj_algo.ipynb\")"
   ]
  },
  {
   "cell_type": "code",
   "execution_count": 2,
   "metadata": {},
   "outputs": [
    {
     "data": {
      "text/plain": [
       "first_n_letters_no_limits (generic function with 1 method)"
      ]
     },
     "execution_count": 2,
     "metadata": {},
     "output_type": "execute_result"
    }
   ],
   "source": [
    "function first_n_letters_no_limits(n::Int)\n",
    "    alphabet = 'a':'z'  # Define the alphabet range\n",
    "    letters = []\n",
    "    \n",
    "    # Iterate from 1 to n\n",
    "    for i in 1:n\n",
    "        idx = i - 1\n",
    "        letter = \"\"\n",
    "        \n",
    "        # Calculate each place value\n",
    "        while idx >= 0\n",
    "            place_value = idx % 26 + 1\n",
    "            letter = string(alphabet[place_value], letter)\n",
    "            idx = idx ÷ 26 - 1\n",
    "        end\n",
    "        \n",
    "        push!(letters, letter)\n",
    "    end\n",
    "    \n",
    "    return letters\n",
    "end\n",
    "\n",
    "# println(letters_up_to_n(26))  # Output: [\"A\", \"B\", ..., \"Z\"]\n",
    "# println(letters_up_to_n(27))  # Output: [\"AA\"]\n",
    "# println(letters_up_to_n(53))  # Output: [\"BA\", \"BB\", ..., \"BZ\"]\n",
    "# println(letters_up_to_n(54))  # Output: [\"CA\"]\n",
    "# println(letters_up_to_n(703)) # Output: [\"ZZ\"]"
   ]
  },
  {
   "cell_type": "code",
   "execution_count": 3,
   "metadata": {},
   "outputs": [
    {
     "data": {
      "text/plain": [
       "generate_target_with_xdup (generic function with 1 method)"
      ]
     },
     "execution_count": 3,
     "metadata": {},
     "output_type": "execute_result"
    }
   ],
   "source": [
    "# generates target genomes that contain the first n letters and adds x duplicate letters \n",
    "# x >= 1\n",
    "function generate_target_with_xdup(n::Int, x::Int)\n",
    "    # target \n",
    "    alphabet = first_n_letters_no_limits(n)\n",
    "    genome = copy(alphabet)\n",
    "    \n",
    "    for i in 1:x\n",
    "        rand_dup_gene = alphabet[rand(1:length(alphabet))]\n",
    "        rand_idx = rand(1:length(genome)+1)\n",
    "        insert!(genome, rand_idx, rand_dup_gene)\n",
    "    end \n",
    "\n",
    "    return join(genome, \"'\")  # one chrom \n",
    "end \n",
    "\n",
    "# target = generate_target_with_xdup(5, 2)\n",
    "# print(target)"
   ]
  },
  {
   "cell_type": "code",
   "execution_count": 4,
   "metadata": {},
   "outputs": [
    {
     "data": {
      "text/plain": [
       "add_gene_counts (generic function with 1 method)"
      ]
     },
     "execution_count": 4,
     "metadata": {},
     "output_type": "execute_result"
    }
   ],
   "source": [
    "function add_gene_counts(input_string::String)  \n",
    "    genes = split(input_string, \"'\")\n",
    "\n",
    "    gene_count = Dict{String, Int}()\n",
    "    result = IOBuffer()\n",
    "\n",
    "    for gene in genes\n",
    "        if gene == '.' || gene == ',' \n",
    "            print(result, gene) \n",
    "            continue \n",
    "        end \n",
    "        if !haskey(gene_count, gene)\n",
    "            gene_count[gene] = 0\n",
    "        end\n",
    "        gene_count[gene] += 1\n",
    "        print(result, gene, gene_count[gene])\n",
    "    end\n",
    "\n",
    "    return String(take!(result))\n",
    "end\n",
    "\n",
    "# input_string = \"he'll'o\"\n",
    "# result = add_letter_counts(input_string)\n",
    "# println(result)  # Output: \"he1ll1o1\""
   ]
  },
  {
   "cell_type": "code",
   "execution_count": 7,
   "metadata": {},
   "outputs": [
    {
     "name": "stdout",
     "output_type": "stream",
     "text": [
      "i'a'b'c'v'd'e'f'g'h'i'j'k'l'm'n'o'p'q'r's't'u'v'w'x'y'z'aa'i\n",
      "i1a1b1c1v1d1e1f1g1h1i2j1k1l1m1n1o1p1q1r1s1t1u1v2w1x1y1z1aa1i3\n"
     ]
    }
   ],
   "source": [
    "tar = generate_target_with_xdup(27, 3)\n",
    "tar_wcounts = add_gene_counts(tar)\n",
    "println(tar) \n",
    "println(tar_wcounts)"
   ]
  },
  {
   "cell_type": "code",
   "execution_count": 10,
   "metadata": {},
   "outputs": [
    {
     "name": "stdout",
     "output_type": "stream",
     "text": [
      "iabcvdefghijklmnopqrstuvwxyzaai(i:h,a:t)(a:h,b:t)(b:h,c:t)(c:h,v:t)(v:h,d:t)(d:h,e:t)(e:h,f:t)(f:h,g:t)(g:h,h:t)(h:h,i:t)(i:h,j:t)(j:h,k:t)(k:h,l:t)(l:h,m:t)(m:h,n:t)(n:h,o:t)(o:h,p:t)(p:h,q:t)(q:h,r:t)(r:h,s:t)(s:h,t:t)(t:h,u:t)(u:h,v:t)(v:h,w:t)(w:h,x:t)(x:h,y:t)(y:h,z:t)(z:h,aa:t)(aa:h,i:t)(i:h,i:t)"
     ]
    }
   ],
   "source": [
    "# function apply_dcjop(adj_list::Vector{Adjacency})\n",
    "\n",
    "# end \n",
    "\n",
    "function apply_x_dcjops(target::String, x::Int)\n",
    "    # turn target genome into list of adjacencies\n",
    "    id_counter = Ref{Int}(1)\n",
    "    id_to_str = Dict{Int, String}()\n",
    "    str_to_id = Dict{String, Int}()\n",
    "\n",
    "    target_genome = string_to_genome(target, id_counter, id_to_str, str_to_id, true)\n",
    "    show(target_genome)\n",
    "    adj_list = genome_to_adj_list(target_genome)     \n",
    "    show(adj_list)  \n",
    "    # for i in 1:x\n",
    "    #     # apply dcj op to list of adjacencies \n",
    "    # end \n",
    "\n",
    "    # convert adj back to genome \n",
    "\n",
    "    # return genome \n",
    "    return \n",
    "end \n",
    "\n",
    "\n",
    "apply_x_dcjops(tar_wcounts, 3)"
   ]
  }
 ],
 "metadata": {
  "kernelspec": {
   "display_name": "Julia 1.10.3",
   "language": "julia",
   "name": "julia-1.10"
  },
  "language_info": {
   "file_extension": ".jl",
   "mimetype": "application/julia",
   "name": "julia",
   "version": "1.10.3"
  }
 },
 "nbformat": 4,
 "nbformat_minor": 2
}
