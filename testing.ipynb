{
 "cells": [
  {
   "cell_type": "code",
   "execution_count": 1,
   "metadata": {},
   "outputs": [],
   "source": [
    "using NBInclude\n",
    "@nbinclude(\"dcj_algo.ipynb\")"
   ]
  },
  {
   "cell_type": "code",
   "execution_count": 2,
   "metadata": {},
   "outputs": [],
   "source": [
    "# id_counter = Ref{Int}(1)\n",
    "# id_to_char = Dict{Int, Char}()\n",
    "# char_to_id = Dict{Char, Int}()\n",
    "\n",
    "# s = \".a.\"\n",
    "\n",
    "# genome = string_to_genome(s, id_counter, id_to_char, char_to_id, true)\n",
    "\n",
    "# # show(genome)\n",
    "\n",
    "# adj_list, adj_set = genome_to_adj_listset(genome)   \n",
    "\n",
    "# show(adj_list)"
   ]
  },
  {
   "cell_type": "code",
   "execution_count": 11,
   "metadata": {},
   "outputs": [
    {
     "name": "stdout",
     "output_type": "stream",
     "text": [
      "SRC ADJ LIST\n",
      "(.,a:t)(a:h,b:t)(b:h,c:t)(c:h,d:t)(d:h,e:t)(e:h,f:t)(f:h,g:t)(g:h,.)\n",
      "|\n",
      "v\n",
      "TARGET ADJ LIST\n",
      "(.,a:t)(a:h,b:t)(b:h,c:t)(c:h,d:t)(d:h,g:h)(g:t,f:h)(f:t,e:h)(e:t,.)\n",
      "\n",
      "*************\n",
      "indexing through target adj list...\n",
      "\n",
      "(.,a:t)(a:h,b:t)(b:h,c:t)(c:h,d:t)(d:h,e:t)(e:h,f:t)(f:h,g:t)(g:h,"
     ]
    },
    {
     "name": "stdout",
     "output_type": "stream",
     "text": [
      ".)\n",
      "ADJ 2 :::: \u001b[32m(a:h,b:t)\u001b[39m\n",
      "\n",
      "\n",
      "(.,a:t)(a:h,b:t)(b:h,c:t)(c:h,d:t)(d:h,e:t)(e:h,f:t)(f:h,g:t)(g:h,.)\n",
      "ADJ 3 :::: \u001b[32m(b:h,c:t)\u001b[39m\n",
      "\n",
      "\n",
      "(.,a:t)(a:h,b:t)(b:h,c:t)(c:h,d:t)(d:h,e:t)(e:h,f:t)(f:h,g:t)(g:h,.)\n",
      "ADJ 4 :::: \u001b[32m(c:h,d:t)\u001b[39m\n",
      "\n",
      "\n",
      "(.,a:t)(a:h,b:t)(b:h,c:t)(c:h,d:t)(d:h,e:t)(e:h,f:t)(f:h,g:t)(g:h,.)\n",
      "ADJ 5 :::: \u001b[32m(d:h,g:h)\u001b[39m\n",
      "prev adj list ::: (.,a:t)(a:h,b:t)(b:h,c:t)(c:h,d:t)\u001b[34m(d:h,e:t)\u001b[39m(e:h,f:t)(f:h,g:t)\u001b[34m(g:h,.)\u001b[39m\n",
      "updated adj list ::: (.,a:t)(a:h,b:t)(b:h,c:t)(c:h,d:t)\u001b[34m(d:h,g:h)\u001b[39m(f:h,g:t)(e:h,f:t)\u001b[34m(e:t,.)\u001b[39m\n",
      "\n",
      "(.,a:t)(a:h,b:t)(b:h,c:t)(c:h,d:t)(d:h,g:h)(f:h,g:t)(e:h,f:t)(e:t,.)\n",
      "ADJ 6 :::: \u001b[32m(g:t,f:h)\u001b[39m\n",
      "\n",
      "\n",
      "(.,a:t)(a:h,b:t)(b:h,c:t)(c:h,d:t)(d:h,g:h)(f:h,g:t)(e:h,f:t)(e:t,.)\n",
      "ADJ 7 :::: \u001b[32m(f:t,e:h)\u001b[39m\n",
      "\n",
      "\n",
      "(.,a:t)(a:h,b:t)(b:h,c:t)(c:h,d:t)(d:h,g:h)(f:h,g:t)(e:h,f:t)(e:t,.)\n",
      "ADJ 1 :::: \u001b[32m(.,a:t)\u001b[39m\n",
      "\n",
      "\n",
      "(.,a:t)(a:h,b:t)(b:h,c:t)(c:h,d:t)(d:h,g:h)(f:h,g:t)(e:h,f:t)(e:t,.)\n",
      "ADJ 8 :::: \u001b[32m(e:t,.)\u001b[39m\n"
     ]
    },
    {
     "data": {
      "text/plain": [
       "1"
      ]
     },
     "execution_count": 11,
     "metadata": {},
     "output_type": "execute_result"
    }
   ],
   "source": [
    "# 2 DCJ op - adj --> adj  \n",
    "src = \".abc.\"\n",
    "target = \".acb.\"\n",
    "\n",
    "# 1 DCJ op - adj --> telo  \n",
    "src = \"abca\"\n",
    "target = \".abc.\"\n",
    "\n",
    "# 1 DCJ op - telo --> adj  \n",
    "src = \".ab.cc\"\n",
    "target = \".abc.\"\n",
    "\n",
    "\n",
    "\n",
    "src = \".abcdefg.\"\n",
    "target = \".abcdGFE.\" \n",
    "\n",
    "calculate_distance(src, target)"
   ]
  }
 ],
 "metadata": {
  "kernelspec": {
   "display_name": "Julia 1.10.3",
   "language": "julia",
   "name": "julia-1.10"
  },
  "language_info": {
   "file_extension": ".jl",
   "mimetype": "application/julia",
   "name": "julia",
   "version": "1.10.3"
  }
 },
 "nbformat": 4,
 "nbformat_minor": 2
}
