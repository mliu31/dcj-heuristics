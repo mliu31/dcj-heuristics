{
 "cells": [
  {
   "cell_type": "code",
   "execution_count": 1,
   "metadata": {},
   "outputs": [],
   "source": [
    "using NBInclude\n",
    "@nbinclude(\"dcj_algo.ipynb\")"
   ]
  },
  {
   "cell_type": "code",
   "execution_count": 2,
   "metadata": {},
   "outputs": [
    {
     "data": {
      "text/plain": [
       "first_n_letters_no_limits (generic function with 1 method)"
      ]
     },
     "execution_count": 2,
     "metadata": {},
     "output_type": "execute_result"
    }
   ],
   "source": [
    "# returns the index of the following array \n",
    "# a b c ... x y z aa ab ac ... ax ay az ba bb bc ... bx by bz ... ca cb cd ....\n",
    "# (doesn't build the array)\n",
    "\n",
    "function first_n_letters_no_limits(n::Int)\n",
    "    alphabet = 'a':'z'  # Define the alphabet range\n",
    "    letters = []\n",
    "    \n",
    "    for i in 1:n\n",
    "        idx = i - 1\n",
    "        letter = \"\"\n",
    "        \n",
    "    while idx >= 0\n",
    "            place_value = idx % 26 + 1\n",
    "            letter = string(alphabet[place_value], letter)\n",
    "            idx = idx ÷ 26 - 1\n",
    "        end\n",
    "        push!(letters, letter)\n",
    "    end\n",
    "    \n",
    "    return letters\n",
    "end"
   ]
  },
  {
   "cell_type": "code",
   "execution_count": 3,
   "metadata": {},
   "outputs": [
    {
     "data": {
      "text/plain": [
       "generate_target_with_xdup (generic function with 1 method)"
      ]
     },
     "execution_count": 3,
     "metadata": {},
     "output_type": "execute_result"
    }
   ],
   "source": [
    "# generates target genomes that contain the first n letters and adds x duplicate letters \n",
    "# x >= 1\n",
    "function generate_target_with_xdup(n::Int, x::Int)\n",
    "    # target \n",
    "    alphabet = first_n_letters_no_limits(n)\n",
    "    genome = copy(alphabet)\n",
    "    \n",
    "    for i in 1:x\n",
    "        rand_dup_gene = alphabet[rand(1:length(alphabet))]\n",
    "        rand_idx = rand(1:length(genome)+1)\n",
    "        insert!(genome, rand_idx, rand_dup_gene)\n",
    "    end \n",
    "\n",
    "    return join(genome, \"'\")  # one chrom \n",
    "end \n",
    "\n",
    "# target = generate_target_with_xdup(5, 2)\n",
    "# print(target)"
   ]
  },
  {
   "cell_type": "code",
   "execution_count": 4,
   "metadata": {},
   "outputs": [
    {
     "data": {
      "text/plain": [
       "add_gene_counts (generic function with 1 method)"
      ]
     },
     "execution_count": 4,
     "metadata": {},
     "output_type": "execute_result"
    }
   ],
   "source": [
    "function add_gene_counts(input_string::String)  \n",
    "    chroms = split(input_string, \",\")\n",
    "    result = IOBuffer()\n",
    "    gene_count = Dict{String, Int}()\n",
    "\n",
    "    for c in chroms \n",
    "        genes = split(c, \"'\")\n",
    "\n",
    "\n",
    "        for gene in genes\n",
    "            if gene == '.' || gene == ',' \n",
    "                print(result, gene) \n",
    "                continue \n",
    "            end \n",
    "            if !haskey(gene_count, gene)\n",
    "                gene_count[gene] = 0\n",
    "            end\n",
    "            gene_count[gene] += 1\n",
    "            print(result, gene, gene_count[gene])\n",
    "        end\n",
    "        print(result, \",\") \n",
    "    end \n",
    "\n",
    "    return String(take!(result))[1:end-1]\n",
    "end\n",
    "\n",
    "# input_string = \"he'll'o\"\n",
    "# input_string = \"abc,abc\"\n",
    "# result = add_gene_counts(input_string)\n",
    "# println(result)  # Output: \"he1ll1o1\""
   ]
  },
  {
   "cell_type": "code",
   "execution_count": 5,
   "metadata": {},
   "outputs": [
    {
     "data": {
      "text/plain": [
       "find_genes (generic function with 2 methods)"
      ]
     },
     "execution_count": 5,
     "metadata": {},
     "output_type": "execute_result"
    }
   ],
   "source": [
    "function find_genes(s::String)\n",
    "    result = Set{String}() \n",
    "    gene = \"\"\n",
    "    i = 1\n",
    "    while i <= length(s)\n",
    "        if s[i] == '.' || s[i] == ','\n",
    "            i += 1\n",
    "            continue \n",
    "        end \n",
    "        \n",
    "        if isdigit(s[i])\n",
    "            # Collect the digits\n",
    "            digits = \"\"\n",
    "            while i <= length(s) && isdigit(s[i])\n",
    "                digits *= s[i]\n",
    "                i += 1\n",
    "            end\n",
    "            # Merge the digits with the buffer and add to result\n",
    "            gene *= digits\n",
    "            push!(result, gene)\n",
    "            gene = \"\"\n",
    "        else\n",
    "            # Collect the letters\n",
    "            gene *= lowercase(s[i])\n",
    "            i += 1\n",
    "        end\n",
    "    end \n",
    "\n",
    "    if !isempty(gene)\n",
    "        push!(result, gene)\n",
    "    end\n",
    "    \n",
    "    return result \n",
    "end\n",
    "\n",
    "# s = \"abc123,def456ghi789\"\n",
    "# println(find_genes(s))\n",
    "# Output should be [\"abc123\", \"def456\", \"ghi789\"]\n"
   ]
  },
  {
   "cell_type": "code",
   "execution_count": 6,
   "metadata": {},
   "outputs": [
    {
     "data": {
      "text/plain": [
       "has_twotelos (generic function with 1 method)"
      ]
     },
     "execution_count": 6,
     "metadata": {},
     "output_type": "execute_result"
    }
   ],
   "source": [
    "function has_onetelo(adj::Adjacency)\n",
    "    return (adj.left.gene == Telomere() && adj.right.gene != Telomere()) ||  (adj.left.gene != Telomere() && adj.right.gene == Telomere())\n",
    "end \n",
    "\n",
    "function has_twotelos(adj::Adjacency)\n",
    "    return adj.left.gene == Telomere() && adj.right.gene == Telomere() \n",
    "end "
   ]
  },
  {
   "cell_type": "code",
   "execution_count": 7,
   "metadata": {},
   "outputs": [
    {
     "data": {
      "text/plain": [
       "combine_telomeres (generic function with 1 method)"
      ]
     },
     "execution_count": 7,
     "metadata": {},
     "output_type": "execute_result"
    }
   ],
   "source": [
    "function swap_two_adj(adj_list::Vector{Adjacency}, gid_to_loc::DefaultDict{Int, Vector{Int}}, telo_idxs::Set{Int})\n",
    "    # swap two non-telo adj || one non-telo adj + one telo adj \n",
    "    randidx1 = rand(1:length(adj_list))\n",
    "    while has_twotelos(adj_list[randidx1]) || has_onetelo(adj_list[randidx1])\n",
    "        randidx1 = rand(1:length(adj_list))\n",
    "    end \n",
    "\n",
    "    randidx2 = rand(1:length(adj_list))\n",
    "    while randidx1 == randidx2 || has_twotelos(adj_list[randidx2])\n",
    "       if has_onetelo(adj_list[randidx2])\n",
    "            break\n",
    "       else \n",
    "            randidx2 = rand(1:length(adj_list))\n",
    "        end \n",
    "    end\n",
    "\n",
    "    adj_to_change1 = adj_list[randidx1]\n",
    "    adj_to_change2 = adj_list[randidx2]\n",
    "\n",
    "    adj1_swapleft = rand(Bool)\n",
    "    adj2_swapleft = rand(Bool)\n",
    "\n",
    "    if adj1_swapleft \n",
    "        adj1_ge = adj_to_change1.left \n",
    "    else \n",
    "        adj1_ge = adj_to_change1.right \n",
    "    end \n",
    "    if adj2_swapleft \n",
    "        adj2_ge = adj_to_change2.left \n",
    "    else \n",
    "        adj2_ge = adj_to_change2.right \n",
    "    end \n",
    "    \n",
    "    new_adj1 = Adjacency(adj1_ge, adj2_ge)\n",
    "    new_adj2 = Adjacency(other_adjacency_end(adj1_ge, adj_to_change1), other_adjacency_end(adj2_ge, adj_to_change2))\n",
    "\n",
    "    adj_list[randidx1] = new_adj1\n",
    "    adj_list[randidx2] = new_adj2\n",
    "\n",
    "    assign_ge_idx_to_gid_to_locdict(adj2_ge, Ref{Int}(randidx1), gid_to_loc)\n",
    "    assign_ge_idx_to_gid_to_locdict(other_adjacency_end(adj1_ge, adj_to_change1), Ref{Int}(randidx2), gid_to_loc)    \n",
    "\n",
    "    if has_onetelo(new_adj1) && has_onetelo(new_adj2)  # split adj w no telos \n",
    "        push!(telo_idxs, randidx1)\n",
    "        push!(telo_idxs, randidx2)\n",
    "    elseif has_onetelo(new_adj1) && !has_onetelo(new_adj2) \n",
    "        delete!(telo_idxs, randidx1)\n",
    "        delete!(telo_idxs, randidx2)\n",
    "        push!(telo_idxs, randidx1)\n",
    "    elseif has_onetelo(new_adj2) && !has_onetelo(new_adj1) \n",
    "        delete!(telo_idxs, randidx1)\n",
    "        delete!(telo_idxs, randidx2)\n",
    "        push!(telo_idxs, randidx2)\n",
    "    end \n",
    "\n",
    "    return adj_to_change1, adj_to_change2, new_adj1, new_adj2\n",
    "end \n",
    "\n",
    "\n",
    "function split_adj(adj_list::Vector{Adjacency}, gid_to_loc::DefaultDict{Int, Vector{Int}}, telo_idxs::Set{Int})\n",
    "    randidx = rand(1:length(adj_list))\n",
    "    while has_twotelos(adj_list[randidx])\n",
    "        randidx = rand(1:length(adj_list))\n",
    "    end \n",
    "    adj_to_split = adj_list[randidx]\n",
    "\n",
    "    new_adj1 = Adjacency(adj_to_split.left, GeneEnd(Telomere())) \n",
    "    new_adj2 = Adjacency(adj_to_split.right, GeneEnd(Telomere())) \n",
    "\n",
    "    adj_list[randidx] = new_adj1\n",
    "    push!(adj_list, new_adj2)\n",
    "\n",
    "    assign_ge_idx_to_gid_to_locdict(adj_to_split.right, Ref{Int}(length(adj_list)), gid_to_loc)\n",
    "\n",
    "    if !has_twotelos(new_adj1) \n",
    "        push!(telo_idxs, randidx)\n",
    "    end \n",
    "    if !has_twotelos(new_adj2)\n",
    "        push!(telo_idxs, length(adj_list))\n",
    "    end \n",
    "\n",
    "    return adj_to_split, new_adj1, new_adj2\n",
    "end \n",
    "\n",
    "\n",
    "# each adj must have one telo & one gene (o/w DCJ op doesn't do anything)\n",
    "function combine_telomeres(adj_list::Vector{Adjacency}, gid_to_loc::DefaultDict{Int, Vector{Int}}, telo_idxs::Set{Int})\n",
    "    # choose two telomeres randomly \n",
    "    rand_adjidx1 = pop!(telo_idxs)\n",
    "    rand_adjidx2 = pop!(telo_idxs)\n",
    "\n",
    "    adj_to_change1 = adj_list[rand_adjidx1]\n",
    "    adj_to_change2 = adj_list[rand_adjidx2]\n",
    "\n",
    "    nontelo_ge1 = other_adjacency_end(GeneEnd(Telomere()), adj_to_change1)\n",
    "    nontelo_ge2 = other_adjacency_end(GeneEnd(Telomere()), adj_to_change2)\n",
    "    \n",
    "    # merge \n",
    "    merged_adj = Adjacency(nontelo_ge1, nontelo_ge2)\n",
    "    telos = Adjacency(GeneEnd(Telomere()), GeneEnd(Telomere()))\n",
    "\n",
    "    adj_list[rand_adjidx1] = merged_adj\n",
    "    adj_list[rand_adjidx2] = telos\n",
    "\n",
    "    assign_ge_idx_to_gid_to_locdict(nontelo_ge2, Ref{Int}(rand_adjidx1), gid_to_loc)\n",
    "    \n",
    "    return adj_to_change1, adj_to_change2, merged_adj, telos\n",
    "end \n"
   ]
  },
  {
   "cell_type": "code",
   "execution_count": 8,
   "metadata": {},
   "outputs": [
    {
     "data": {
      "text/plain": [
       "apply_dcjop (generic function with 1 method)"
      ]
     },
     "execution_count": 8,
     "metadata": {},
     "output_type": "execute_result"
    }
   ],
   "source": [
    "function apply_dcjop(adj_list::Vector{Adjacency}, gid_to_loc::DefaultDict{Int, Vector{Int}}, m::Int, telo_idxs::Set{Int})\n",
    "    (length(telo_idxs)>=2) ? num_options = 3  : num_options = 2 \n",
    "\n",
    "    rand_operation = rand(1:num_options)\n",
    "    if rand_operation == 1\n",
    "        adj_to_change1, new_adj1, new_adj2 = split_adj(adj_list, gid_to_loc, telo_idxs) \n",
    "        op = \"SPLIT\"\n",
    "    elseif rand_operation == 2 \n",
    "        adj_to_change1, adj_to_change2, new_adj1, new_adj2 = swap_two_adj(adj_list, gid_to_loc, telo_idxs)\n",
    "        op = \"SWAP\"\n",
    "    else \n",
    "        adj_to_change1, adj_to_change2, new_adj1, new_adj2 = combine_telomeres(adj_list, gid_to_loc, telo_idxs)\n",
    "        op = \"COMBINE\"\n",
    "    end \n",
    "\n",
    "    if m >= 1\n",
    "        print(\"DCJ \", op, \" :: \")                  \n",
    "        show(adj_to_change1, true) \n",
    "        if (@isdefined adj_to_change2) show(adj_to_change2, true) end \n",
    "\n",
    "        print(\" --> \")\n",
    "        \n",
    "        show(new_adj1, true) \n",
    "        show(new_adj2, true)\n",
    "        print(\"   \", telo_idxs, \"    \")\n",
    "        show(adj_list)\n",
    "        println()\n",
    "    end \n",
    "end \n"
   ]
  },
  {
   "cell_type": "code",
   "execution_count": 9,
   "metadata": {},
   "outputs": [
    {
     "data": {
      "text/plain": [
       "apply_x_dcjops (generic function with 1 method)"
      ]
     },
     "execution_count": 9,
     "metadata": {},
     "output_type": "execute_result"
    }
   ],
   "source": [
    "function apply_x_dcjops(target::String, x::Int, m::Int)\n",
    "    # turn target genome into list of adjacencies\n",
    "    id_counter = Ref{Int}(1)\n",
    "    id_to_str = Dict{Int, String}()\n",
    "    str_to_id = Dict{String, Int}()\n",
    "\n",
    "    target_genome = string_to_genome(target, id_counter, id_to_str, str_to_id, true)\n",
    "    adj_list = genome_to_adj_list(target_genome)  \n",
    "    gid_to_loc = process_adj_list(adj_list)   \n",
    "    \n",
    "    if m >= 1\n",
    "        show(adj_list)\n",
    "        println()\n",
    "    end \n",
    "    \n",
    "    single_telo_idxs = Set{Int}()\n",
    "    for i in 1:x\n",
    "        apply_dcjop(adj_list, gid_to_loc, m, single_telo_idxs)\n",
    "    end \n",
    "\n",
    "    src_genome_str = adjlist_to_str(adj_list, gid_to_loc)\n",
    "\n",
    "    return src_genome_str    \n",
    "end \n"
   ]
  },
  {
   "cell_type": "code",
   "execution_count": 11,
   "metadata": {},
   "outputs": [],
   "source": [
    "# m = 1\n",
    "\n",
    "# # generate target string \n",
    "# tar = generate_target_with_xdup(3, 2)\n",
    "# tar_wcounts = add_gene_counts(tar) \n",
    "# println(tar_wcounts)\n",
    "\n",
    "# # apply x dcj ops to target --> src \n",
    "# adj_list, gid_to_loc = apply_x_dcjops(tar_wcounts, 20, m)"
   ]
  }
 ],
 "metadata": {
  "kernelspec": {
   "display_name": "Julia 1.10.3",
   "language": "julia",
   "name": "julia-1.10"
  },
  "language_info": {
   "file_extension": ".jl",
   "mimetype": "application/julia",
   "name": "julia",
   "version": "1.10.3"
  }
 },
 "nbformat": 4,
 "nbformat_minor": 2
}
