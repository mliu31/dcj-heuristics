{
 "cells": [
  {
   "cell_type": "code",
   "execution_count": 5,
   "metadata": {},
   "outputs": [],
   "source": [
    "using NBInclude\n",
    "@nbinclude(\"../heuristics/randommap.ipynb\")\n",
    "@nbinclude(\"../heuristics/localsearch.ipynb\")"
   ]
  },
  {
   "cell_type": "code",
   "execution_count": 6,
   "metadata": {},
   "outputs": [
    {
     "data": {
      "text/plain": [
       "read_file (generic function with 1 method)"
      ]
     },
     "execution_count": 6,
     "metadata": {},
     "output_type": "execute_result"
    }
   ],
   "source": [
    "function read_file(genomesize::Int)\n",
    "    filename = \"db/rep_db\" * string(genomesize) * \".txt\"\n",
    "    content = read(filename, String)\n",
    "    genome_pairs = split(content, \"|\")\n",
    "\n",
    "    return genome_pairs\n",
    "end \n"
   ]
  },
  {
   "cell_type": "code",
   "execution_count": 7,
   "metadata": {},
   "outputs": [
    {
     "data": {
      "text/plain": [
       "evaluate_one_rep_rm (generic function with 1 method)"
      ]
     },
     "execution_count": 7,
     "metadata": {},
     "output_type": "execute_result"
    }
   ],
   "source": [
    "function evaluate_one_pair_rm(genome_pair::String, genomesize::Int, dcjs::Vector{Int}) \n",
    "    g_pair = split(genome_pair, \";\")\n",
    "\n",
    "    src = string(g_pair[1])\n",
    "    target = string(g_pair[2])\n",
    "\n",
    "    num_maps = 10 * genomesize\n",
    "\n",
    "    _, map_to_dedupstr_dcjdist = randommap(src, target, num_maps, \"none\")\n",
    "    dcjdists = map(t -> t[2], values(map_to_dedupstr_dcjdist))\n",
    "    mindcj = minimum(dcjdists)\n",
    "    # print(mindcj, \" \")\n",
    "\n",
    "    push!(dcjs, mindcj)\n",
    "end \n",
    "\n",
    "\n",
    "function evaluate_one_rep_rm(genomesize::Int)\n",
    "    genome_pairs = read_file(genomesize::Int)\n",
    "\n",
    "    dcjs = Vector{Int}()\n",
    "    times = Vector{Float64}()\n",
    "\n",
    "    i = 1\n",
    "    for g_pair in genome_pairs \n",
    "        println(genomesize, \" \", i)\n",
    "        \n",
    "        time_taken = @elapsed begin\n",
    "            evaluate_one_pair_rm(string(g_pair), genomesize, dcjs)\n",
    "        end  \n",
    "\n",
    "        push!(times, time_taken)\n",
    "        # println(time_taken)\n",
    "        i += 1\n",
    "    end \n",
    "\n",
    "    return mean(dcjs), mean(times)\n",
    "end \n",
    "\n",
    "# i = 150\n",
    "# dcj, time = evaluate_rep_rm(i)\n",
    "\n",
    "## write to file \n",
    " \n",
    "# str = \",\" * string(dcj) * \" \" * string(time)\n",
    "# filename = \"output/rm\" * \".txt\"\n",
    "\n",
    "# open(filename, \"a\") do file\n",
    "#     write(file, str)\n",
    "# end"
   ]
  },
  {
   "cell_type": "code",
   "execution_count": 8,
   "metadata": {},
   "outputs": [],
   "source": [
    "# loop through all REP sets (strings of size 50 - 500)\n",
    "# but if it bugs out, lose all data \n",
    "# function evaluate_rm()\n",
    "#     times = []\n",
    "#     dists = Vector{Float64}() \n",
    "#     for i in 50:50:500 \n",
    "#         avgdcj, time = evaluate_one_rep_rm(i)\n",
    "#         push!(times, time)\n",
    "#         push!(dists, avgdcj)\n",
    "#     end \n",
    "\n",
    "#     return dists, times\n",
    "# end \n",
    "\n",
    "# dists, times = evaluate_rm()"
   ]
  },
  {
   "cell_type": "code",
   "execution_count": 9,
   "metadata": {},
   "outputs": [
    {
     "data": {
      "text/plain": [
       "evaluate_one_rep_ls (generic function with 1 method)"
      ]
     },
     "execution_count": 9,
     "metadata": {},
     "output_type": "execute_result"
    }
   ],
   "source": [
    "function evaluate_one_pair_ls(genome_pair::String, genomesize::Int, dcjs::Vector{Int}, mcn::Bool, total_maps::Int, rand_maps::Int, max_neighbors::Int)\n",
    "    g_pair = split(genome_pair, \";\")\n",
    "\n",
    "    src = string(g_pair[1])\n",
    "    target = string(g_pair[2])\n",
    "\n",
    "    global_min_dcj, _, _, _, _ = localsearch(src, target, total_maps, rand_maps, max_neighbors, \"none\", mcn, Vector())\n",
    "\n",
    "    push!(dcjs, global_min_dcj)\n",
    "end \n",
    "\n",
    "\n",
    "function evaluate_one_rep_ls(genomesize::Int, mcn::Bool, genome_pairs::Vector{SubString{String}})\n",
    "    dcjs = Vector{Int}()\n",
    "    times = Vector{Float64}()\n",
    "    \n",
    "    total_maps = 10 * genomesize\n",
    "    rm = Int(ceil(.6 * total_maps))\n",
    "    neighbors = Int(ceil(.3 * rm))\n",
    "\n",
    "    i = 1\n",
    "    for g_pair in genome_pairs\n",
    "        println(genomesize, \" \", i)\n",
    "        \n",
    "        time_taken = @elapsed begin\n",
    "            evaluate_one_pair_ls(string(g_pair), genomesize, dcjs, mcn, total_maps, rm, neighbors)\n",
    "        end  \n",
    "        push!(times, time_taken)\n",
    "\n",
    "        i += 1\n",
    "    end \n",
    "\n",
    "    return mean(dcjs), mean(times) \n",
    "end \n",
    "\n",
    "\n",
    "# mcn = true \n",
    "# i = 150\n",
    "\n",
    "# genome_pairs = read_file(i)\n",
    "# avgdcj, time = evaluate_one_rep_ls(i, mcn, genome_pairs)\n",
    "\n",
    "\n",
    "## write to file \n",
    "\n",
    "# str = \",\" * string(avgdcj) * \" \" * string(time) * \"\\n\"\n",
    "# filename = \"mcn_ls\" * \".txt\"\n",
    "\n",
    "# open(filename, \"a\") do file\n",
    "#     write(file, str)\n",
    "# end"
   ]
  },
  {
   "cell_type": "code",
   "execution_count": 10,
   "metadata": {},
   "outputs": [
    {
     "name": "stdout",
     "output_type": "stream",
     "text": [
      "350 1\n",
      "350 2\n",
      "350 3\n",
      "350 4\n",
      "350 5\n",
      "350 6\n",
      "350 7\n",
      "350 8\n",
      "350 9\n",
      "350 10\n",
      "350 11\n",
      "350 12\n",
      "350 13\n",
      "350 14\n",
      "350 15\n",
      "350 16\n",
      "350 17"
     ]
    }
   ],
   "source": [
    "function evaluate_ls(mcn::Bool, arr::Vector{Int}, filename::String)\n",
    "    for i in arr\n",
    "        genome_pairs = read_file(i)\n",
    "        avgdcj, time = evaluate_one_rep_ls(i, mcn, genome_pairs)\n",
    "        \n",
    "        str = string(avgdcj) * \" \" * string(time) * \",\\n\"\n",
    "\n",
    "        open(filename, \"a\") do file\n",
    "            write(file, str)\n",
    "        end\n",
    "    end \n",
    "\n",
    "    return dists, times\n",
    "end \n",
    "\n",
    "mcn = false \n",
    "arr = [350, 400, 450]\n",
    "filename = \"output/old_ls\" * \".txt\"\n",
    "dists, times = evaluate_ls(mcn, arr, filename)\n",
    "\n",
    "\n",
    "arr = collect(50:50:450) \n",
    "mcn = true \n",
    "filename = \"output/mcn_ls\" * \".txt\"\n",
    "dists, times = evaluate_ls(mcn, arr, filename)"
   ]
  }
 ],
 "metadata": {
  "kernelspec": {
   "display_name": "Julia 1.10.3",
   "language": "julia",
   "name": "julia-1.10"
  },
  "language_info": {
   "file_extension": ".jl",
   "mimetype": "application/julia",
   "name": "julia",
   "version": "1.10.3"
  }
 },
 "nbformat": 4,
 "nbformat_minor": 2
}
