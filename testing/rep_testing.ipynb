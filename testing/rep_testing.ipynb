{
 "cells": [
  {
   "cell_type": "code",
   "execution_count": 1,
   "metadata": {},
   "outputs": [],
   "source": [
    "using NBInclude\n",
    "@nbinclude(\"../heuristics/randommap.ipynb\")"
   ]
  },
  {
   "cell_type": "code",
   "execution_count": 2,
   "metadata": {},
   "outputs": [
    {
     "data": {
      "text/plain": [
       "evaluate_rep_rm (generic function with 1 method)"
      ]
     },
     "execution_count": 2,
     "metadata": {},
     "output_type": "execute_result"
    }
   ],
   "source": [
    "function evaluate_one_pair_rm(genome_pair::String, genomesize::Int, dcjs::Vector{Int}) \n",
    "    g_pair = split(genome_pair, \";\")\n",
    "\n",
    "    src = string(g_pair[1])\n",
    "    target = string(g_pair[2])\n",
    "\n",
    "    num_maps = 10 * genomesize\n",
    "\n",
    "    _, map_to_dedupstr_dcjdist = randommap(src, target, num_maps, \"none\")\n",
    "    dcjdists = map(t -> t[2], values(map_to_dedupstr_dcjdist))\n",
    "    mindcj = minimum(dcjdists)\n",
    "    # print(mindcj, \" \")\n",
    "\n",
    "    push!(dcjs, mindcj)\n",
    "end \n",
    "\n",
    "\n",
    "function evaluate_rep_rm(genomesize::Int)\n",
    "    filename = \"rep_db\" * string(genomesize) * \".txt\"\n",
    "    content = read(filename, String)\n",
    "    genome_pairs = split(content, \"|\")\n",
    "\n",
    "    dcjs = Vector{Int}()\n",
    "    times = Vector{Float64}()\n",
    "    i = 1\n",
    "    for g_pair in genome_pairs \n",
    "        println(genomesize, \" \", i)\n",
    "        \n",
    "        time_taken = @elapsed begin\n",
    "            evaluate_one_pair_rm(string(g_pair), genomesize, dcjs)\n",
    "        end  \n",
    "\n",
    "        push!(times, time_taken)\n",
    "        # println(time_taken)\n",
    "        i += 1\n",
    "    end \n",
    "\n",
    "    return mean(dcjs), mean(times)\n",
    "end \n",
    "\n",
    "# i = 150\n",
    "# dcj, time = evaluate_rep_rm(i)"
   ]
  },
  {
   "cell_type": "code",
   "execution_count": 3,
   "metadata": {},
   "outputs": [
    {
     "ename": "LoadError",
     "evalue": "UndefVarError: `dcj` not defined",
     "output_type": "error",
     "traceback": [
      "UndefVarError: `dcj` not defined",
      "",
      "Stacktrace:",
      " [1] top-level scope",
      "   @ In[3]:1"
     ]
    }
   ],
   "source": [
    "str = \",\" * string(dcj) * \" \" * string(time)\n",
    "\n",
    "filename = \"tmp_rm\" * \".txt\"\n",
    "\n",
    "open(filename, \"a\") do file\n",
    "    write(file, str)\n",
    "end"
   ]
  },
  {
   "cell_type": "code",
   "execution_count": null,
   "metadata": {},
   "outputs": [],
   "source": [
    "# loop through all REP sets (strings of size 50 - 500)\n",
    "# but if it bugs out, lose all data \n",
    "# function evaluate_rm()\n",
    "#     times = []\n",
    "#     dists = Vector{Float64}() \n",
    "#     for i in 50:50:500 \n",
    "#         avgdcj, time = evaluate_rep_rm(i)\n",
    "#         push!(times, time)\n",
    "#         push!(dists, avgdcj)\n",
    "#     end \n",
    "\n",
    "#     return dists, times\n",
    "# end \n",
    "\n",
    "# dists, times = evaluate_rm()"
   ]
  },
  {
   "cell_type": "code",
   "execution_count": null,
   "metadata": {},
   "outputs": [],
   "source": [
    "# using CSV\n",
    "# using DataFrames\n",
    "\n",
    "# function write_to_csv(heuristic::String, dists::Vector{Int}, times::Vector{Int})\n",
    "#     avgtime = average(times)\n",
    "\n",
    "#     data = DataFrame(Heuristic = [heuristic], Time= [avgtime], str50 = [dists[1]], str100 = [dists[2]], str150 = [avgdist[3]], str200 = [avgdist[4]], str250 = [avgdist[5]], str300 = [avgdist[6]], str350 = [avgdist[7]], str400 = [avgdist[8]], str450 = [avgdist[9]], str500 = [avgdist[10]])\n",
    "\n",
    "#     file_path = \"output.csv\"\n",
    "\n",
    "#     if isfile(file_path)\n",
    "#         # append to existing data \n",
    "#         existing_data = CSV.read(file_path, DataFrame)\n",
    "#         updated_data = vcat(existing_data, data)\n",
    "#         CSV.write(file_path, updated_data)\n",
    "#     else\n",
    "#         CSV.write(file_path, data)\n",
    "        \n",
    "#     end \n",
    "# end \n",
    "\n",
    "# heuristic = \"RM\"\n",
    "# write_to_csv(heuristic, dists, times)\n"
   ]
  },
  {
   "cell_type": "code",
   "execution_count": null,
   "metadata": {},
   "outputs": [],
   "source": [
    "# rand maps = 60; neighbors = 15 "
   ]
  }
 ],
 "metadata": {
  "kernelspec": {
   "display_name": "Julia 1.10.3",
   "language": "julia",
   "name": "julia-1.10"
  },
  "language_info": {
   "file_extension": ".jl",
   "mimetype": "application/julia",
   "name": "julia",
   "version": "1.10.3"
  }
 },
 "nbformat": 4,
 "nbformat_minor": 2
}
