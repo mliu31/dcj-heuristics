{
 "cells": [
  {
   "cell_type": "code",
   "execution_count": 1,
   "metadata": {},
   "outputs": [
    {
     "data": {
      "text/plain": [
       "generate_rep (generic function with 1 method)"
      ]
     },
     "execution_count": 1,
     "metadata": {},
     "output_type": "execute_result"
    }
   ],
   "source": [
    "using NBInclude\n",
    "@nbinclude(\"rep_testing.ipynb\")\n",
    "@nbinclude(\"rep_generation.ipynb\")"
   ]
  },
  {
   "cell_type": "code",
   "execution_count": 2,
   "metadata": {},
   "outputs": [
    {
     "data": {
      "text/plain": [
       "generate_rand_genomes_sizes (generic function with 1 method)"
      ]
     },
     "execution_count": 2,
     "metadata": {},
     "output_type": "execute_result"
    }
   ],
   "source": [
    "function generate_rand_genomes_sizes()\n",
    "    length_to_genomepairs = Dict{Int, String}()\n",
    "    lengths = Set(collect(50:50:500))\n",
    "\n",
    "    for i in 1:3 \n",
    "        length = rand(lengths)\n",
    "        delete!(lengths, length)\n",
    "        \n",
    "        str = \"\"\n",
    "        for i in 1:10 \n",
    "            src, tar = generate_srctarstr_pair(length)\n",
    "            str *= \"|\" * src * \";\" * tar \n",
    "        end \n",
    "\n",
    "        length_to_genomepairs[length] = str[2:end] \n",
    "    end \n",
    "\n",
    "    return length_to_genomepairs\n",
    "end \n",
    "\n",
    "# generate_rand_genomes_sizes()"
   ]
  },
  {
   "cell_type": "code",
   "execution_count": 3,
   "metadata": {},
   "outputs": [
    {
     "data": {
      "text/plain": [
       "gridsearch (generic function with 1 method)"
      ]
     },
     "execution_count": 3,
     "metadata": {},
     "output_type": "execute_result"
    }
   ],
   "source": [
    "function gridsearch(mcn::Bool, iterations::Int)\n",
    "    length_to_genomepairs = generate_rand_genomes_sizes()\n",
    "\n",
    "    min_rms = Vector{Int}() \n",
    "    min_neighs = Vector{Int}()\n",
    "\n",
    "    for (length, genomepair) in length_to_genomepairs\n",
    "        genomepair = split(genomepair, \"|\")\n",
    "        total_maps = 10 * length\n",
    "\n",
    "        for i in 1:iterations \n",
    "            min_dcj = Inf \n",
    "            min_rm = 0 \n",
    "            min_neigh = 0 \n",
    "            \n",
    "            for rand_maps in 1:total_maps/20:total_maps\n",
    "                for max_neighbors in 3:rand_maps/5:rand_maps\n",
    "                    rand_maps = Int(ceil(rand_maps))\n",
    "                    max_neighbors = Int(ceil(max_neighbors))\n",
    "                    \n",
    "                    dcj, time = evaluate_one_rep_ls(length, mcn, genomepair, rand_maps, max_neighbors)\n",
    "                    if dcj < min_dcj \n",
    "                        min_dcj = dcj \n",
    "                        min_rm = rand_maps \n",
    "                        min_neigh = max_neighbors \n",
    "                    end \n",
    "                end \n",
    "            end \n",
    "    \n",
    "            push!(min_rms, min_rm)\n",
    "            push!(min_neighs, min_neigh)\n",
    "        end\n",
    "    end       \n",
    "\n",
    "    return Int(ceil(mean(min_rms))), Int(ceil(mean(min_neighs)))\n",
    "end \n"
   ]
  },
  {
   "cell_type": "code",
   "execution_count": 4,
   "metadata": {},
   "outputs": [],
   "source": [
    "mcn = true \n",
    "iterations = 10 \n",
    "\n",
    "num_rm, num_neigh = gridsearch(mcn, iterations)"
   ]
  }
 ],
 "metadata": {
  "kernelspec": {
   "display_name": "Julia 1.10.3",
   "language": "julia",
   "name": "julia-1.10"
  },
  "language_info": {
   "file_extension": ".jl",
   "mimetype": "application/julia",
   "name": "julia",
   "version": "1.10.3"
  }
 },
 "nbformat": 4,
 "nbformat_minor": 2
}
