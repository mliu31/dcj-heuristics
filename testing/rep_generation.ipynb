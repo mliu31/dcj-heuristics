{
 "cells": [
  {
   "cell_type": "markdown",
   "metadata": {},
   "source": [
    "# generate REP database \n"
   ]
  },
  {
   "cell_type": "code",
   "execution_count": 16,
   "metadata": {},
   "outputs": [
    {
     "data": {
      "text/plain": [
       "check_balanced (generic function with 1 method)"
      ]
     },
     "execution_count": 16,
     "metadata": {},
     "output_type": "execute_result"
    }
   ],
   "source": [
    "function get_geneset(genome::String)\n",
    "    gene_set = Set{String}() \n",
    "\n",
    "    chroms = split(genome, \",\")\n",
    "    for c in chroms \n",
    "        gene_arr = split(c, \"'\")\n",
    "        g_set = Set(gene_arr)\n",
    "        \n",
    "        gene_set = union(gene_set, g_set)\n",
    "    end \n",
    "\n",
    "    return gene_set\n",
    "end \n",
    "\n",
    "function check_balanced(g1::String, g2::String)\n",
    "    gset1 = get_geneset(g1)\n",
    "    gset2 = get_geneset(g2)\n",
    "\n",
    "    if gset1 != gset2\n",
    "         throw(ArgumentError(\"ERROR: generated a repeat map\"))\n",
    "    end         \n",
    "end \n"
   ]
  },
  {
   "cell_type": "code",
   "execution_count": 17,
   "metadata": {},
   "outputs": [
    {
     "data": {
      "text/plain": [
       "generate_srctarstr_pair (generic function with 1 method)"
      ]
     },
     "execution_count": 17,
     "metadata": {},
     "output_type": "execute_result"
    }
   ],
   "source": [
    "# returns the nth letter of the infinite alphabet \n",
    "# a b c ... x y z aa ab ac ... ax ay az ba bb bc ... bx by bz ... ca cb cd ....\n",
    "\n",
    "function nth_letter(n::Int)\n",
    "    # Define the alphabet\n",
    "    alphabet = \"abcdefghijklmnopqrstuvwxyz\"\n",
    "    \n",
    "    # Initialize the result\n",
    "    result = \"\"\n",
    "\n",
    "    # Compute the letters iteratively for n > 26\n",
    "    while n > 0\n",
    "        n -= 1  # Adjust for one-based index\n",
    "        result = string(alphabet[n % 26 + 1], result)\n",
    "        n = div(n, 26)\n",
    "    end\n",
    "\n",
    "    return result\n",
    "end\n",
    "\n",
    "function create_tar(str_length::Int, alphabet::Set{String}, tar::Vector{String})\n",
    "    # select (w repetiion) |S| numbers from the set {1, .., |S|} \n",
    "    # one chrom genome \n",
    "    for i in 1:str_length \n",
    "        gene = nth_letter(rand(1:str_length))\n",
    "        push!(tar, gene) \n",
    "        push!(alphabet, gene)\n",
    "    end \n",
    "    \n",
    "    # println(\"unique genes: \", length(alphabet), \"  total genes: \", length(tar))\n",
    "\n",
    "    return tar\n",
    "end \n",
    "\n",
    "function create_src(tar::Vector{String})\n",
    "    # shuffle genes randomly & separate into rand # chroms \n",
    "    genes = deepcopy(tar)\n",
    "    max_chrom_length = length(tar)\n",
    "    src = \"\"\n",
    "    \n",
    "    \n",
    "    while !(isempty(genes))\n",
    "        # choose random chrom length\n",
    "        chrom_length = rand(1:max_chrom_length)\n",
    "\n",
    "        # choose random genes to fill up chrom of that length \n",
    "        for i in 1:chrom_length \n",
    "            g_idx = rand(1:length(genes))\n",
    "            g = genes[g_idx]\n",
    "            src *= g * \"'\"\n",
    "            deleteat!(genes, g_idx)\n",
    "        end \n",
    "        src = src[1:end-1]\n",
    "        src *= \",\"\n",
    "        \n",
    "        max_chrom_length -= chrom_length \n",
    "    end \n",
    "\n",
    "    return src[1:end-1]\n",
    "end \n",
    "\n",
    "\n",
    "function generate_srctarstr_pair(str_length::Int)\n",
    "    src = Vector{Vector{String}}() \n",
    "    tar = Vector{String}()\n",
    "\n",
    "    alphabet = Set{String}() \n",
    "    \n",
    "    # TARGET \n",
    "    tar_arr = create_tar(str_length, alphabet, tar)\n",
    "    \n",
    "    # SOURCE \n",
    "    src_str = create_src(tar_arr)\n",
    "\n",
    "    # convert arrays of arrays to strings \n",
    "    tar_str = join(tar, \"'\")\n",
    "\n",
    "    check_balanced(tar_str, src_str)\n",
    "\n",
    "    return src_str, tar_str\n",
    "end \n",
    "\n",
    "# src, tar = generate_srctarstr_pair(50)\n",
    "# print(src, \"\\n\", tar)"
   ]
  },
  {
   "cell_type": "code",
   "execution_count": 19,
   "metadata": {},
   "outputs": [],
   "source": [
    "function generate_one_rep_set(size::Int) \n",
    "    str = \"\"\n",
    "    for i in 1:500 \n",
    "        src, tar = generate_srctarstr_pair(size)\n",
    "        str *= \"|\" * src * \";\" * tar \n",
    "    end \n",
    "\n",
    "    return str[2:end]\n",
    "end \n",
    "\n",
    "function generate_rep() \n",
    "    for i in 50:50:500\n",
    "        str = generate_one_rep_set(i) \n",
    "        filename = \"db/rep_db\" * string(i) * \".txt\"\n",
    "\n",
    "        open(filename, \"w\") do file\n",
    "           write(file, str)\n",
    "        end\n",
    "    end \n",
    "end \n",
    "\n",
    "# generate_rep()"
   ]
  }
 ],
 "metadata": {
  "kernelspec": {
   "display_name": "Julia 1.10.3",
   "language": "julia",
   "name": "julia-1.10"
  },
  "language_info": {
   "file_extension": ".jl",
   "mimetype": "application/julia",
   "name": "julia",
   "version": "1.10.3"
  }
 },
 "nbformat": 4,
 "nbformat_minor": 2
}
