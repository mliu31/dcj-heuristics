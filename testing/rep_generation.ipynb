{
 "cells": [
  {
   "cell_type": "code",
   "execution_count": null,
   "metadata": {},
   "outputs": [],
   "source": [
    "# generate REP database \n"
   ]
  },
  {
   "cell_type": "code",
   "execution_count": 2,
   "metadata": {},
   "outputs": [
    {
     "data": {
      "text/plain": [
       "44"
      ]
     },
     "execution_count": 2,
     "metadata": {},
     "output_type": "execute_result"
    }
   ],
   "source": [
    "# Define the string to be written\n",
    "content = \"Hello, this is a text file written in Julia.\"\n",
    "\n",
    "# Open the file and write to it\n",
    "open(\"output.txt\", \"w\") do file\n",
    "    write(file, content)\n",
    "end\n"
   ]
  },
  {
   "cell_type": "code",
   "execution_count": 24,
   "metadata": {},
   "outputs": [
    {
     "name": "stdout",
     "output_type": "stream",
     "text": [
      "[\"f\", \"bz\", \"bf\", \"cl\", \"be\", \"p\", \"cr\", \"bf\", \"bu\", \"ba\", \"x\", \"au\", \"k\", \"ch\", \"ck\", \"k\", \"ay\", \"ad\", \"s\", \"af\", \"bz\", \"h\", \"bv\", \"al\", \"bb\", \"cn\", \"cj\", \"cj\", \"am\", \"cs\", \"ar\", \"at\", \"j\", \"ct\", \"r\", \"ca\", \"l\", \"bg\", \"y\", \"bv\", \"h\", \"bg\", \"by\", \"cf\", \"bv\", \"ax\", \"ab\", \"aa\", \"ah\", \"bi\", \"as\", \"bd\", \"au\", \"z\", \"aw\", \"an\", \"bj\", \"b\", \"y\", \"an\", \"cu\", \"cn\", \"u\", \"ab\", \"ce\", \"am\", \"q\", \"cu\", \"ad\", \"bc\", \"b\", \"bb\", \"ax\", \"q\", \"av\", \"cb\", \"h\", \"as\", \"n\", \"ct\", \"cd\", \"aw\", \"ab\", \"bg\", \"aa\", \"as\", \"cd\", \"bx\", \"at\", \"cc\", \"ba\", \"ca\", \"ah\", \"ad\", \"l\", \"n\", \"u\", \"af\", \"ba\", \"ce\"]\n",
      "unique genes: 60  total genes: 100"
     ]
    },
    {
     "data": {
      "text/plain": [
       "\"f'bz'bf'cl'be'p'cr'bf'bu'ba'x'au'k'ch'ck'k'ay'ad's'af'bz'h'bv'al'bb'cn'cj'cj'am'cs'ar'at'j'ct'r'ca'l'bg'y'bv'h'bg'by'cf'bv'ax'ab'aa'ah'bi'as'bd'au'z'aw'an'bj'b'y'an'cu'cn'u'ab'ce'am'q'cu'ad'bc'b'bb'ax'q'av'cb'h'as'n'ct'cd'aw'ab'bg'aa'as'cd'bx'at'cc'ba'ca'ah'ad'l'n'u'af'ba'ce\""
      ]
     },
     "execution_count": 24,
     "metadata": {},
     "output_type": "execute_result"
    }
   ],
   "source": [
    "# returns the nth letter of the infinite alphabet \n",
    "# a b c ... x y z aa ab ac ... ax ay az ba bb bc ... bx by bz ... ca cb cd ....\n",
    "\n",
    "function nth_letter(n::Int)\n",
    "    # Define the alphabet\n",
    "    alphabet = \"abcdefghijklmnopqrstuvwxyz\"\n",
    "    \n",
    "    # Initialize the result\n",
    "    result = \"\"\n",
    "\n",
    "    # Compute the letters iteratively for n > 26\n",
    "    while n > 0\n",
    "        n -= 1  # Adjust for one-based index\n",
    "        result = string(alphabet[n % 26 + 1], result)\n",
    "        n = div(n, 26)\n",
    "    end\n",
    "\n",
    "    return result\n",
    "end\n",
    "\n",
    "\n",
    "function generate_srctarstr_pair(str_length::Int)\n",
    "    src = Vector{String}() \n",
    "    tar = Vector{String}() \n",
    "\n",
    "    alphabet = Set{String}() \n",
    "    \n",
    "    # TARGET \n",
    "    # select (w repetiion) |S| numbers from the set {1, .., |S|}\n",
    "    for i in 1:str_length \n",
    "        gene = nth_letter(rand(1:str_length))\n",
    "        push!(tar, gene) \n",
    "        push!(alphabet, gene)\n",
    "    end \n",
    "    tar = tar[1:end]\n",
    "\n",
    "    println(tar)\n",
    "    print(\"unique genes: \", length(alphabet), \"  total genes: \", length(tar))\n",
    "\n",
    "    # SOURCE \n",
    "    # shuffle genes randomly & separate into rand # chroms \n",
    "    \n",
    "    \n",
    "    \n",
    "    # convert arrays of arrays to strings \n",
    "    target_genome = join(tar, \"'\")\n",
    "    # source_genome = join()\n",
    "\n",
    "    # return src, target_genome\n",
    "end \n",
    "\n",
    "generate_srctarstr_pair(100)"
   ]
  },
  {
   "cell_type": "code",
   "execution_count": null,
   "metadata": {},
   "outputs": [],
   "source": []
  }
 ],
 "metadata": {
  "kernelspec": {
   "display_name": "Julia 1.10.3",
   "language": "julia",
   "name": "julia-1.10"
  },
  "language_info": {
   "file_extension": ".jl",
   "mimetype": "application/julia",
   "name": "julia",
   "version": "1.10.3"
  }
 },
 "nbformat": 4,
 "nbformat_minor": 2
}
