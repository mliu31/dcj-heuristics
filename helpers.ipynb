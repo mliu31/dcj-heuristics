{
 "cells": [
  {
   "cell_type": "code",
   "execution_count": 1,
   "metadata": {},
   "outputs": [
    {
     "data": {
      "text/plain": [
       "combine_ge (generic function with 1 method)"
      ]
     },
     "execution_count": 1,
     "metadata": {},
     "output_type": "execute_result"
    }
   ],
   "source": [
    "using NBInclude\n",
    "@nbinclude(\"datastructs.ipynb\")"
   ]
  },
  {
   "cell_type": "code",
   "execution_count": 2,
   "metadata": {},
   "outputs": [
    {
     "data": {
      "text/plain": [
       "process_adj_list (generic function with 1 method)"
      ]
     },
     "execution_count": 2,
     "metadata": {},
     "output_type": "execute_result"
    }
   ],
   "source": [
    "# process adj list \n",
    "# create dictionary of gene ID --> index/location of gene's head and tail \n",
    "\n",
    "function process_adj_list_helper(ge::GeneEnd, idx::Ref{Int}, gid_to_loc::DefaultDict{Int, Vector{Int}})\n",
    "    if ge.gene == Telomere() \n",
    "        return\n",
    "    end  \n",
    "\n",
    "    if ge.head == true\n",
    "        gid_to_loc[ge.gene.id][2] = idx[]\n",
    "    else \n",
    "        gid_to_loc[ge.gene.id][1] = idx[]\n",
    "    end\n",
    "end \n",
    "\n",
    "function process_adj_list(adj_list:: Vector{Adjacency})\n",
    "    geneid_to_location = DefaultDict{Int, Vector{Int}}(() -> zeros(Int, 2)) # tail = idx 1, head = 2 in array\n",
    "    idx = Ref{Int}(1)\n",
    "\n",
    "    for adj in adj_list\n",
    "        process_adj_list_helper(adj.left, idx, geneid_to_location)\n",
    "        process_adj_list_helper(adj.right, idx, geneid_to_location)\n",
    "        idx[] += 1\n",
    "    end \n",
    "    \n",
    "    return geneid_to_location \n",
    "end \n",
    "     "
   ]
  },
  {
   "cell_type": "code",
   "execution_count": 3,
   "metadata": {},
   "outputs": [
    {
     "data": {
      "text/plain": [
       "update_adj_set (generic function with 1 method)"
      ]
     },
     "execution_count": 3,
     "metadata": {},
     "output_type": "execute_result"
    }
   ],
   "source": [
    "# helpers for dcj operations and distance\n",
    "\n",
    "#TODO combine with find_next_adj() cuz they do the same thing \n",
    "# finds target gene end in source adjacency list \n",
    "# returns index and left/right in the source adj list\n",
    "\n",
    "# e.g., given adj set: {a:h, b:t} ... {b:h, d:t} & ge = b:t, \n",
    "# finds {b:h, d:t}, returns d:t \n",
    "function find_tar_ge_in_src_adjs(target_ge::GeneEnd, src_gid_to_l::DefaultDict{Int, Vector{Int}}, tar_gid_to_l::DefaultDict{Int, Vector{Int}}, src_adjs::Vector{Adjacency})\n",
    "    (target_ge.head == true) ? th_idx = 2 : th_idx = 1\n",
    "        \n",
    "    # print(target_ge.gene)\n",
    "    gene_id = target_ge.gene.id\n",
    "    # print(gene_id)\n",
    "\n",
    "    src_ge_idx = src_gid_to_l[gene_id][th_idx]\n",
    "\n",
    "    adj = src_adjs[src_ge_idx]\n",
    "\n",
    "    if adj.left.gene == Telomere() \n",
    "        return adj.left, src_ge_idx, adj\n",
    "    elseif adj.right.gene == Telomere() \n",
    "        return adj.right, src_ge_idx, adj\n",
    "    end \n",
    "\n",
    "    if adj.left.gene.id == gene_id\n",
    "        src_ge = adj.left\n",
    "    else \n",
    "        src_ge = adj.right \n",
    "    end \n",
    "    \n",
    "    return src_ge, src_ge_idx, adj\n",
    "end \n",
    "\n",
    "\n",
    "function update_adj_set(p::GeneEnd, q::GeneEnd, u::GeneEnd, v::GeneEnd, u_idx::Int, v_idx::Int, src_adjs::Vector{Adjacency}, src_adj_set::Set{Adjacency}) \n",
    "    #  replace adj u and v in A by ( {p, q} and (u\\{p}) U (v\\{q}) )\n",
    "    pq = combine_ge(p, u_idx, q, v_idx)\n",
    "    other_ge_u = other_adjacency_end(u, src_adjs[u_idx])\n",
    "    other_ge_v = other_adjacency_end(v, src_adjs[v_idx])\n",
    "    excluding_pq = combine_ge(other_ge_u, u_idx, other_ge_v, v_idx) \n",
    "\n",
    "    #  remove adj with u, v in src_adj_set \n",
    "    delete!(src_adj_set, src_adjs[u_idx])\n",
    "    delete!(src_adj_set, src_adjs[v_idx])\n",
    "    \n",
    "    #  add adjusted adjacencies to src_adj_set\n",
    "    push!(src_adj_set, pq)\n",
    "    push!(src_adj_set, excluding_pq)\n",
    "\n",
    "    return pq, excluding_pq\n",
    "end \n",
    "\n"
   ]
  },
  {
   "cell_type": "code",
   "execution_count": null,
   "metadata": {},
   "outputs": [],
   "source": []
  }
 ],
 "metadata": {
  "kernelspec": {
   "display_name": "Julia 1.10.3",
   "language": "julia",
   "name": "julia-1.10"
  },
  "language_info": {
   "file_extension": ".jl",
   "mimetype": "application/julia",
   "name": "julia",
   "version": "1.10.3"
  }
 },
 "nbformat": 4,
 "nbformat_minor": 2
}
