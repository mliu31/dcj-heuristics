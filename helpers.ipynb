{
 "cells": [
  {
   "cell_type": "code",
   "execution_count": 1,
   "metadata": {},
   "outputs": [
    {
     "data": {
      "text/plain": [
       "calculate_distance (generic function with 1 method)"
      ]
     },
     "execution_count": 1,
     "metadata": {},
     "output_type": "execute_result"
    }
   ],
   "source": [
    "using NBInclude\n",
    "@nbinclude(\"datastructs.ipynb\")"
   ]
  },
  {
   "cell_type": "code",
   "execution_count": 2,
   "metadata": {},
   "outputs": [],
   "source": [
    "# default dict stores gene ID --> location of gene's head and tail\n",
    " \n",
    "function Base.show(dict::DefaultDict{Int, Vector{Int}}, id_to_char::Dict{Int, Char})\n",
    "    for (key, value) in dict\n",
    "        # println(\"$(key.dna) (id:$(key.id)) => $(value)\")\n",
    "        println(id_to_char[key], \" $(key) => $(value)\")\n",
    "    end\n",
    "end "
   ]
  },
  {
   "cell_type": "code",
   "execution_count": 3,
   "metadata": {},
   "outputs": [
    {
     "data": {
      "text/plain": [
       "process_adj_list (generic function with 1 method)"
      ]
     },
     "execution_count": 3,
     "metadata": {},
     "output_type": "execute_result"
    }
   ],
   "source": [
    "# process adj list \n",
    "# create dictionary of gene ID --> index/location of gene's head and tail \n",
    "\n",
    "function assign_ge_idx_to_gid_to_locdict(ge::GeneEnd, idx::Ref{Int}, gid_to_loc::DefaultDict{Int, Vector{Int}})\n",
    "    if ge.gene == Telomere() \n",
    "        return\n",
    "    end  \n",
    "\n",
    "    if ge.head == true\n",
    "        gid_to_loc[ge.gene.id][2] = idx[]\n",
    "    else \n",
    "        gid_to_loc[ge.gene.id][1] = idx[]\n",
    "    end\n",
    "end \n",
    "\n",
    "function process_adj_list(adj_list:: Vector{Adjacency})\n",
    "    geneid_to_location = DefaultDict{Int, Vector{Int}}(() -> zeros(Int, 2)) # tail = idx 1, head = 2 in array\n",
    "    idx = Ref{Int}(1)\n",
    "\n",
    "    for adj in adj_list\n",
    "        assign_ge_idx_to_gid_to_locdict(adj.left, idx, geneid_to_location)\n",
    "        assign_ge_idx_to_gid_to_locdict(adj.right, idx, geneid_to_location)\n",
    "        idx[] += 1\n",
    "    end \n",
    "    \n",
    "    return geneid_to_location \n",
    "end \n",
    "     "
   ]
  },
  {
   "cell_type": "code",
   "execution_count": 7,
   "metadata": {},
   "outputs": [
    {
     "data": {
      "text/plain": [
       "update_adj_set (generic function with 3 methods)"
      ]
     },
     "execution_count": 7,
     "metadata": {},
     "output_type": "execute_result"
    }
   ],
   "source": [
    "# helpers for dcj operations and distance\n",
    "\n",
    "\n",
    "function other_adjacency_end(ge::GeneEnd, adj::Adjacency)\n",
    "    if adj.left == ge\n",
    "        return adj.right\n",
    "    else\n",
    "        return adj.left\n",
    "    end \n",
    "end\n",
    "\n",
    "function other_adjacency_end(t::Telomere, adj::Adjacency)\n",
    "    return other_adjacency_end(GeneEnd(Telomere()), adj) \n",
    "end\n",
    "\n",
    "\n",
    "# given ge, finds ge in adj list \n",
    "\n",
    "# e.g., given adj set: {a:h, b:t} ... {b:h, d:t} & ge = b:t, \n",
    "# returns {b:t, d:t} and\n",
    "function find_next_adj(target_ge::GeneEnd, src_gid_to_l::DefaultDict{Int, Vector{Int}}, src_adjs::Vector{Adjacency})\n",
    "    (target_ge.head == true) ? th_idx = 2 : th_idx = 1\n",
    "    \n",
    "    gene_id = target_ge.gene.id\n",
    "    src_ge_idx = src_gid_to_l[gene_id][th_idx]\n",
    "    adj = src_adjs[src_ge_idx]\n",
    "\n",
    "    if adj.left.gene != Telomere() && adj.left.gene.id == gene_id\n",
    "        src_ge = adj.left\n",
    "    elseif adj.right.gene != Telomere() && adj.right.gene.id == gene_id\n",
    "        src_ge = adj.right \n",
    "    end \n",
    "    \n",
    "    return src_ge_idx\n",
    "end \n",
    "\n",
    "\n",
    "function update_adj_set(p::GeneEnd, q::GeneEnd, u_idx::Int, v_idx::Int, src_adjs::Vector{Adjacency}, src_adj_set::Set{Adjacency}) \n",
    "    #  replace adj u and v in A by...\n",
    "    # {p, q} and \n",
    "    pq = Adjacency(p, q)\n",
    "\n",
    "    # u\\{p}) U (v\\{q}\n",
    "    other_ge_u = other_adjacency_end(p, src_adjs[u_idx])\n",
    "    other_ge_v = other_adjacency_end(q, src_adjs[v_idx])\n",
    "    \n",
    "    excluding_pq = Adjacency(other_ge_u, other_ge_v) \n",
    "\n",
    "    #  remove adj with u, v in src_adj_set \n",
    "    delete!(src_adj_set, src_adjs[u_idx])\n",
    "    delete!(src_adj_set, src_adjs[v_idx])\n",
    "\n",
    "    #  add adjusted adjacencies to src_adj_set\n",
    "    push!(src_adj_set, pq)\n",
    "    push!(src_adj_set, excluding_pq)\n",
    "\n",
    "    return pq, excluding_pq\n",
    "end \n",
    "\n",
    "function update_adj_set(p::Adjacency, u_idx::Int, src_adjs::Vector{Adjacency}, src_adj_set::Set{Adjacency}) \n",
    "    #  replace u in A by {p} and (u\\{p})  \n",
    "    excluding_p_ge = other_adjacency_end(Telomere(), p)\n",
    "    excluding_p = Adjacency(other_adjacency_end(excluding_p_ge, src_adjs[u_idx]), GeneEnd(Telomere()))\n",
    "    \n",
    "    #  remove adj with u, v in src_adj_set \n",
    "    delete!(src_adj_set, src_adjs[u_idx])\n",
    "\n",
    "    #  add p, excluding_p to src_adj_set \n",
    "    push!(src_adj_set, p)\n",
    "    push!(src_adj_set, excluding_p)   \n",
    "\n",
    "    return p, excluding_p\n",
    "end \n"
   ]
  }
 ],
 "metadata": {
  "kernelspec": {
   "display_name": "Julia 1.10.3",
   "language": "julia",
   "name": "julia-1.10"
  },
  "language_info": {
   "file_extension": ".jl",
   "mimetype": "application/julia",
   "name": "julia",
   "version": "1.10.3"
  }
 },
 "nbformat": 4,
 "nbformat_minor": 2
}
