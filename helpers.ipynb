{
 "cells": [
  {
   "cell_type": "code",
   "execution_count": 1,
   "metadata": {},
   "outputs": [
    {
     "data": {
      "text/plain": [
       "combine_ge (generic function with 1 method)"
      ]
     },
     "execution_count": 1,
     "metadata": {},
     "output_type": "execute_result"
    }
   ],
   "source": [
    "using NBInclude\n",
    "@nbinclude(\"datastructs.ipynb\")"
   ]
  },
  {
   "cell_type": "code",
   "execution_count": null,
   "metadata": {},
   "outputs": [],
   "source": [
    "function Base.show(dict::DefaultDict{Int, Vector{Int}}, id_to_char::Dict{Int, Char})\n",
    "    for (key, value) in dict\n",
    "        # println(\"$(key.dna) (id:$(key.id)) => $(value)\")\n",
    "        println(id_to_char[key], \" $(key) => $(value)\")\n",
    "    end\n",
    "end "
   ]
  },
  {
   "cell_type": "code",
   "execution_count": 2,
   "metadata": {},
   "outputs": [
    {
     "data": {
      "text/plain": [
       "process_adj_list (generic function with 1 method)"
      ]
     },
     "execution_count": 2,
     "metadata": {},
     "output_type": "execute_result"
    }
   ],
   "source": [
    "# process adj list \n",
    "# create dictionary of gene ID --> index/location of gene's head and tail \n",
    "\n",
    "function assign_ge_idx_to_gid_to_locdict(ge::GeneEnd, idx::Ref{Int}, gid_to_loc::DefaultDict{Int, Vector{Int}})\n",
    "    if ge.gene == Telomere() \n",
    "        return\n",
    "    end  \n",
    "\n",
    "    if ge.head == true\n",
    "        gid_to_loc[ge.gene.id][2] = idx[]\n",
    "    else \n",
    "        gid_to_loc[ge.gene.id][1] = idx[]\n",
    "    end\n",
    "end \n",
    "\n",
    "function process_adj_list(adj_list:: Vector{Adjacency})\n",
    "    geneid_to_location = DefaultDict{Int, Vector{Int}}(() -> zeros(Int, 2)) # tail = idx 1, head = 2 in array\n",
    "    idx = Ref{Int}(1)\n",
    "\n",
    "    for adj in adj_list\n",
    "        assign_ge_idx_to_gid_to_locdict(adj.left, idx, geneid_to_location)\n",
    "        assign_ge_idx_to_gid_to_locdict(adj.right, idx, geneid_to_location)\n",
    "        idx[] += 1\n",
    "    end \n",
    "    \n",
    "    return geneid_to_location \n",
    "end \n",
    "     "
   ]
  },
  {
   "cell_type": "code",
   "execution_count": null,
   "metadata": {},
   "outputs": [],
   "source": [
    "# finds next ge given ge \n",
    "# given ge we're looking for, finds new ge that corresponds to given ge (tail/head) \n",
    "# returns new ge in new adjacency\n",
    "\n",
    "# e.g., given adj set: {a:h, b:t} ... {b:h, d:t} & ge = b:t, \n",
    "# finds {b:h, d:t}, returns d:t \n",
    "function find_next_adj(ge::GeneEnd, adj_set::Set{Adjacency}, adj_list::Vector{Adjacency}, processed_adjs::Set{Adjacency}, adj::Adjacency) \n",
    "    for adj in adj_set \n",
    "        if adj in processed_adjs\n",
    "            continue \n",
    "        end \n",
    "\n",
    "        if adj.left.gene == ge.gene\n",
    "            push!(adj_list, adj)\n",
    "            push!(processed_adjs, adj)\n",
    "            ge = other_adjacency_end(adj.left, adj)\n",
    "            return ge \n",
    "        elseif adj.right.gene == ge.gene\n",
    "            push!(adj_list, adj)\n",
    "            push!(processed_adjs, adj)\n",
    "            ge = other_adjacency_end(adj.right, adj)\n",
    "            return ge \n",
    "        end \n",
    "    end \n",
    "    return other_adjacency_end(ge, adj)\n",
    "end \n",
    "\n",
    "# O(N^2)\n",
    "# prints adj set as adj list (in order) \n",
    "# note that order within the adj don't matter \n",
    "function convert_adj_set_as_adj_list(og_adj_set::Set{Adjacency})\n",
    "    telos = Vector{Adjacency}() \n",
    "    adj_set = copy(og_adj_set)\n",
    "    adj_list = Vector{Adjacency}() \n",
    "\n",
    "    # handle linear chroms \n",
    "    for adj in adj_set\n",
    "        if adj.left.gene == Telomere() || adj.right.gene == Telomere() \n",
    "            push!(telos, adj)\n",
    "        end \n",
    "    end \n",
    "\n",
    "    processed_adjs = Set{Adjacency}() \n",
    "    for adj in telos \n",
    "        if adj in processed_adjs\n",
    "            continue \n",
    "        end \n",
    "        ge = non_telo_end(adj) \n",
    "        push!(adj_list, adj)\n",
    "        push!(processed_adjs, adj)\n",
    "        while ge.gene != Telomere()  \n",
    "            ge = find_next_adj(ge, adj_set, adj_list, processed_adjs, adj)\n",
    "        end \n",
    "    end \n",
    "    \n",
    "    # handle circular chroms \n",
    "    for adj in adj_set  # only circular left \n",
    "        if adj in processed_adjs\n",
    "            continue \n",
    "        end \n",
    "        push!(processed_adjs, adj)\n",
    "        push!(adj_list, adj)\n",
    "        first_gene = adj.left.gene \n",
    "        ge = GeneEnd(adj.right.gene, !adj.right.head)  # ge that we're looking for\n",
    "        first = true       \n",
    "        \n",
    "        while ge.gene != first_gene || first == true  \n",
    "            ge = find_next_adj(ge, adj_set, adj_list, processed_adjs, adj)\n",
    "\n",
    "            first = false \n",
    "        end   \n",
    "    end \n",
    "    return adj_list\n",
    "end "
   ]
  },
  {
   "cell_type": "code",
   "execution_count": 3,
   "metadata": {},
   "outputs": [
    {
     "data": {
      "text/plain": [
       "update_adj_set (generic function with 1 method)"
      ]
     },
     "execution_count": 3,
     "metadata": {},
     "output_type": "execute_result"
    }
   ],
   "source": [
    "# helpers for dcj operations and distance\n",
    "\n",
    "#TODO combine with find_next_adj() cuz they do the same thing \n",
    "# finds target gene end in source adjacency list \n",
    "# returns index and left/right in the source adj list\n",
    "\n",
    "# e.g., given adj set: {a:h, b:t} ... {b:h, d:t} & ge = b:t, \n",
    "# finds {b:h, d:t}, returns d:t \n",
    "function find_tar_ge_in_src_adjs(target_ge::GeneEnd, src_gid_to_l::DefaultDict{Int, Vector{Int}}, tar_gid_to_l::DefaultDict{Int, Vector{Int}}, src_adjs::Vector{Adjacency})\n",
    "    (target_ge.head == true) ? th_idx = 2 : th_idx = 1\n",
    "        \n",
    "    # print(target_ge.gene)\n",
    "    gene_id = target_ge.gene.id\n",
    "    # print(gene_id)\n",
    "\n",
    "    src_ge_idx = src_gid_to_l[gene_id][th_idx]\n",
    "\n",
    "    adj = src_adjs[src_ge_idx]\n",
    "\n",
    "    if adj.left.gene == Telomere() \n",
    "        return adj.left, src_ge_idx, adj\n",
    "    elseif adj.right.gene == Telomere() \n",
    "        return adj.right, src_ge_idx, adj\n",
    "    end \n",
    "\n",
    "    if adj.left.gene.id == gene_id\n",
    "        src_ge = adj.left\n",
    "    else \n",
    "        src_ge = adj.right \n",
    "    end \n",
    "    \n",
    "    return src_ge, src_ge_idx, adj\n",
    "end \n",
    "\n",
    "\n",
    "function update_adj_set(p::GeneEnd, q::GeneEnd, u::GeneEnd, v::GeneEnd, u_idx::Int, v_idx::Int, src_adjs::Vector{Adjacency}, src_adj_set::Set{Adjacency}) \n",
    "    #  replace adj u and v in A by ( {p, q} and (u\\{p}) U (v\\{q}) )\n",
    "    pq = combine_ge(p, u_idx, q, v_idx)\n",
    "    other_ge_u = other_adjacency_end(u, src_adjs[u_idx])\n",
    "    other_ge_v = other_adjacency_end(v, src_adjs[v_idx])\n",
    "    excluding_pq = combine_ge(other_ge_u, u_idx, other_ge_v, v_idx) \n",
    "\n",
    "    #  remove adj with u, v in src_adj_set \n",
    "    delete!(src_adj_set, src_adjs[u_idx])\n",
    "    delete!(src_adj_set, src_adjs[v_idx])\n",
    "    \n",
    "    #  add adjusted adjacencies to src_adj_set\n",
    "    push!(src_adj_set, pq)\n",
    "    push!(src_adj_set, excluding_pq)\n",
    "\n",
    "    return pq, excluding_pq\n",
    "end \n",
    "\n"
   ]
  },
  {
   "cell_type": "code",
   "execution_count": null,
   "metadata": {},
   "outputs": [],
   "source": [
    "# more helpers for dcj operations and distance\n",
    "\n",
    "function other_adjacency_end(ge::GeneEnd, adj::Adjacency)\n",
    "    if adj.left == ge\n",
    "        return adj.right\n",
    "    else\n",
    "        return adj.left\n",
    "    end \n",
    "end\n",
    "\n",
    "function non_telo_end(adj::Adjacency)\n",
    "    return other_adjacency_end(Telomere(), adj) \n",
    "end\n",
    "\n",
    "function combine_ge(u::GeneEnd, u_idx::Int, v::GeneEnd, v_idx::Int)\n",
    "    if u_idx < v_idx \n",
    "        u_lt_v = true \n",
    "    else \n",
    "        u_lt_v = false \n",
    "    end \n",
    "\n",
    "    if !u_lt_v \n",
    "        return Adjacency(v, u)\n",
    "    else \n",
    "        return Adjacency(u, v)\n",
    "    end\n",
    "\n",
    "end "
   ]
  }
 ],
 "metadata": {
  "kernelspec": {
   "display_name": "Julia 1.10.3",
   "language": "julia",
   "name": "julia-1.10"
  },
  "language_info": {
   "file_extension": ".jl",
   "mimetype": "application/julia",
   "name": "julia",
   "version": "1.10.3"
  }
 },
 "nbformat": 4,
 "nbformat_minor": 2
}
