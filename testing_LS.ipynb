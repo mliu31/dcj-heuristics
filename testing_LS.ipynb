{
 "cells": [
  {
   "cell_type": "code",
   "execution_count": 1,
   "metadata": {},
   "outputs": [],
   "source": [
    "using Plots\n",
    "using StatsBase\n",
    "\n",
    "using NBInclude\n",
    "@nbinclude(\"localsearch.ipynb\")\n",
    "@nbinclude(\"testing_RM.ipynb\")\n"
   ]
  },
  {
   "cell_type": "markdown",
   "metadata": {},
   "source": [
    "Variables"
   ]
  },
  {
   "cell_type": "code",
   "execution_count": 2,
   "metadata": {},
   "outputs": [
    {
     "data": {
      "text/plain": [
       "true"
      ]
     },
     "execution_count": 2,
     "metadata": {},
     "output_type": "execute_result"
    }
   ],
   "source": [
    "n = 5\n",
    "x = 5\n",
    "\n",
    "max_dcj_dist = n + x\n",
    "\n",
    "target = generate_target_with_xdup(n, x)\n",
    "src = scramble_target(target)\n",
    "\n",
    "total_maps = max_dcj_dist\n",
    "rand_maps = 5\n",
    "max_neighbors = 7\n",
    "\n",
    "run_mode = \"none\"\n",
    "dupchar_to_unique_chars = OrderedDict{Char, Vector{Char}}()\n",
    "min_change_neighbor = true "
   ]
  },
  {
   "cell_type": "markdown",
   "metadata": {},
   "source": [
    "DCJ Distance Distributions for OLD neighbor & MCN definitions (same params)\n",
    "\n",
    "RM overlaid on top to see what was generated randomly and what was found via neighborhood exploration"
   ]
  },
  {
   "cell_type": "code",
   "execution_count": 3,
   "metadata": {},
   "outputs": [],
   "source": [
    "# min_dcj_MCN, _, _, map_to_dedupstr_dcjdist_MCN, og_rm_MCN, _ = localsearch(src, target, total_maps, rand_maps, max_neighbors, run_mode, dupchar_to_unique_chars, min_change_neighbor)\n",
    "# min_dcj_OLD, _, _, map_to_dedupstr_dcjdist_OLD, og_rm_OLD, _ = localsearch(src, target, total_maps, rand_maps, max_neighbors, run_mode, dupchar_to_unique_chars, !min_change_neighbor)\n",
    "\n",
    "\n",
    "# # old neighbor def \n",
    "# rm_dcj_dists = [tupl[2] for tupl in values(og_rm_OLD)]\n",
    "# dcjdists = [tupl[2] for tupl in values(map_to_dedupstr_dcjdist_OLD)]\n",
    "# print(\"max dcj dist=\", max_dcj_dist)\n",
    "\n",
    "# xticks = collect(0:max_dcj_dist)\n",
    "# bins_range = range(0, maximum(max_dcj_dist)+1, maximum(max_dcj_dist))\n",
    "# h1 = histogram(dcjdists, xticks=xticks, bins=bins_range, title=\"LS DCJ dist distribution with OLD neighbor defn\", label=\"local search maps\", xlabel=\"DCJ Dist\", ylabel=\"Frequency\", alpha=0.5, color=:blue)\n",
    "# histogram!(h1, rm_dcj_dists, xticks=xticks, bins=bins_range, label=\"random maps\", alpha=0.5, color=:green)\n",
    "\n",
    "# # min change neighbor defn\n",
    "# rm_dcj_dists = [tupl[2] for tupl in values(og_rm_MCN)]\n",
    "# dcjdists = [tupl[2] for tupl in values(map_to_dedupstr_dcjdist_MCN)]\n",
    "# print(\"max dcj dist=\", max_dcj_dist)\n",
    "    \n",
    "# xticks = collect(0:max_dcj_dist)\n",
    "# bins_range = range(0, maximum(max_dcj_dist)+1, maximum(max_dcj_dist))\n",
    "# h2 = histogram(dcjdists, xticks=xticks, bins=bins_range, title=\"with MCN\", label=\"local search maps\", xlabel=\"DCJ Dist\", ylabel=\"Frequency\", alpha=0.5, color=:blue)\n",
    "# histogram!(h2, rm_dcj_dists, xticks=xticks, bins=bins_range, label=\"random maps\", alpha=0.5, color=:green)\n",
    "\n",
    "# # plot \n",
    "# plot(h1, h2, layout=(1, 2), size=(800, 400))"
   ]
  },
  {
   "cell_type": "markdown",
   "metadata": {},
   "source": [
    "Distribution of DCJ distance differences (new neighbor - original neighbor) for the two definitions of neighbors"
   ]
  },
  {
   "cell_type": "code",
   "execution_count": 4,
   "metadata": {},
   "outputs": [],
   "source": [
    "# _, _, _, _, _, diffs_MCN = localsearch(src, target, total_maps, rand_maps, max_neighbors, run_mode, dupchar_to_unique_chars, min_change_neighbor)\n",
    "# _, _, _, _, _, diffs_OLD = localsearch(src, target, total_maps, rand_maps, max_neighbors, run_mode, dupchar_to_unique_chars, !min_change_neighbor)\n",
    "\n",
    "# # y axis \n",
    "# mode_freq_OLD = count(x -> x == mode(diffs_OLD), diffs_OLD)\n",
    "# mode_freq_MCN = count(x -> x == mode(diffs_MCN), diffs_MCN)\n",
    "# max_freq = maximum([mode_freq_OLD, mode_freq_MCN])\n",
    "# yticks = collect(0:max_freq+1)\n",
    "# ylims=(0,max_freq)\n",
    "\n",
    "# # x axis \n",
    "# max_diff = maximum([maximum(diffs_OLD), maximum(diffs_MCN)])\n",
    "# min_diff = minimum([minimum(diffs_OLD)-1, minimum(diffs_MCN)-1, 0])\n",
    "\n",
    "# bins_range_OLD = range(min_diff, max_diff+2)\n",
    "# bins_range_MCN = range(min_diff, max_diff+2)\n",
    "\n",
    "# xticks = collect(min_diff:max_diff+1)\n",
    "\n",
    "# h1 = histogram(diffs_OLD, title=\"OLD\", alpha=0.5, bins=bins_range_OLD, xticks=xticks, yticks=yticks, ylims=ylims, xlabel=\"Value\", ylabel=\"Frequency\")\n",
    "# h2 = histogram(diffs_MCN, title=\"MCN\",  alpha=0.5, bins=bins_range_MCN, xticks=xticks, yticks=yticks, ylims=ylims, xlabel=\"Value\", ylabel=\"Frequency\")\n",
    "\n",
    "# println(\"new neighbor - original neighbor::\")\n",
    "# println(\"old diffs=\", diffs_OLD)\n",
    "# println(\"MCN diffs=\", diffs_MCN)\n",
    "\n",
    "# plot(h1, h2, layout=(1, 2), size=(800, 400))"
   ]
  },
  {
   "cell_type": "markdown",
   "metadata": {},
   "source": [
    "3D plot of the difference (mean difference between new_neighbor - old_neighbor ; OLD defn) - (mean difference between new_neighbor - old_neighbor ; MGN defn) \n",
    "\n",
    "over varying values for rand_maps, max_neighbors"
   ]
  },
  {
   "cell_type": "code",
   "execution_count": 5,
   "metadata": {},
   "outputs": [
    {
     "data": {
      "text/plain": [
       "test_LS (generic function with 1 method)"
      ]
     },
     "execution_count": 5,
     "metadata": {},
     "output_type": "execute_result"
    }
   ],
   "source": [
    "function test_LS(rand_maps::Int, max_neighbors::Int, src::String, target::String, run_mode::String, dupchar_to_unique_chars::OrderedDict{Char, Vector{Char}}, min_change_neighbor::Bool)\n",
    "    mean_diff_data = zeros(rand_maps, max_neighbors)\n",
    "\n",
    "    for rm in 1:rand_maps \n",
    "        for n in 1:max_neighbors\n",
    "            # println(\"(\", rm, \", \", n, \")\")\n",
    "\n",
    "            _, _, _, _, _, diffs_MCN = localsearch(src, target, total_maps, rm, n, run_mode, dupchar_to_unique_chars, min_change_neighbor)\n",
    "            _, _, _, _, _, diffs_OLD = localsearch(src, target, total_maps, rm, n, run_mode, dupchar_to_unique_chars, !min_change_neighbor)\n",
    "\n",
    "            # println(\"new neighbor - original neighbor::\")\n",
    "            # println(\"old diffs=\", diffs_OLD)\n",
    "            # println(\"MCN diffs=\", diffs_MCN)\n",
    "\n",
    "\n",
    "            # better_min = minimum([minimum(diffs_MCN), minimum(diffs_OLD)])\n",
    "            # better_median = minimum([median(diffs_MCN), median(diffs_OLD)])\n",
    "            # print(better_min, better_median)\n",
    "\n",
    "            avg_OLD = mean(diffs_OLD)\n",
    "            avg_MCN = mean(diffs_MCN)\n",
    "            mean_diff = avg_OLD - avg_MCN \n",
    "\n",
    "            mean_diff_data[rm, n] = mean_diff\n",
    "        end \n",
    "    end \n",
    "    return mean_diff_data\n",
    "end "
   ]
  },
  {
   "cell_type": "code",
   "execution_count": 6,
   "metadata": {},
   "outputs": [
    {
     "name": "stdout",
     "output_type": "stream",
     "text": [
      "WARNING: ran out of neighbors to explore; only explored 7/10 for 1 rand maps & 1 max neighbors\n"
     ]
    },
    {
     "data": {
      "text/plain": [
       "9×9 Matrix{Float64}:\n",
       "  0.166667   0.0        0.888889  …  -0.555556   1.0        0.777778\n",
       " -0.125     -0.25      -0.875        -0.125     -0.25       0.5\n",
       "  1.0        0.0       -0.285714     -1.57143   -0.571429   0.857143\n",
       "  0.5       -0.333333   0.0           0.0        0.166667  -0.666667\n",
       " -0.8        0.0        1.0          -0.2        0.4       -0.2\n",
       "  0.0        0.75      -1.0       …  -1.25       0.0       -0.75\n",
       "  0.333333   0.333333   0.666667      1.0        1.0        0.0\n",
       "  0.5       -0.5       -0.5           0.0        1.5       -2.0\n",
       "  1.0        0.0       -3.0           0.0        0.0       -2.0"
      ]
     },
     "execution_count": 6,
     "metadata": {},
     "output_type": "execute_result"
    }
   ],
   "source": [
    "n = 5\n",
    "x = 5\n",
    "\n",
    "max_dcj_dist = n + x\n",
    "\n",
    "target = generate_target_with_xdup(n, x)\n",
    "src = scramble_target(target)\n",
    "\n",
    "run_mode = \"none\"\n",
    "dupchar_to_unique_chars = OrderedDict{Char, Vector{Char}}()\n",
    "min_change_neighbor = true \n",
    "\n",
    "total_maps = max_dcj_dist  # max\n",
    "rand_maps = total_maps-1\n",
    "max_neighbors = total_maps-1\n",
    "\n",
    "mean_diff_data = test_LS(rand_maps, max_neighbors, src, target, run_mode, dupchar_to_unique_chars, min_change_neighbor)\n"
   ]
  }
 ],
 "metadata": {
  "kernelspec": {
   "display_name": "Julia 1.10.3",
   "language": "julia",
   "name": "julia-1.10"
  },
  "language_info": {
   "file_extension": ".jl",
   "mimetype": "application/julia",
   "name": "julia",
   "version": "1.10.3"
  }
 },
 "nbformat": 4,
 "nbformat_minor": 2
}
