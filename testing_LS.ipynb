{
 "cells": [
  {
   "cell_type": "code",
   "execution_count": null,
   "metadata": {},
   "outputs": [],
   "source": [
    "# Define a function to subtract one list from another considering duplicates\n",
    "function list_difference_with_duplicates(list1, list2)\n",
    "    # Make a copy of list1 to avoid modifying the original\n",
    "    result = copy(list1)\n",
    "    \n",
    "    # Iterate through elements of list2\n",
    "    for elem in list2\n",
    "        # Find the index of the element in result, if it exists\n",
    "        index = findfirst(x -> x == elem, result)\n",
    "        if index !== nothing\n",
    "            # Remove the element at the found index\n",
    "            deleteat!(result, index)\n",
    "        end\n",
    "    end\n",
    "    \n",
    "    return result\n",
    "end\n",
    "\n",
    "# # Define two lists\n",
    "# list1 = [1, 2, 2, 3, 4, 5, 5, 5]\n",
    "# list2 = [2, 5]\n",
    "\n",
    "# # Subtract list2 from list1 considering duplicates\n",
    "# result = list_difference_with_duplicates(list1, list2)"
   ]
  },
  {
   "cell_type": "code",
   "execution_count": null,
   "metadata": {},
   "outputs": [],
   "source": [
    "rm_dcj_dists = [tupl[2] for tupl in values(og_rm)]\n",
    "dcjdists = [tupl[2] for tupl in values(map_to_dedupstr_dcjdist)]\n",
    "\n",
    "# dcjdists = list_difference_with_duplicates(dcjdists, rm_dcj_dists)\n",
    "\n",
    "bins_range = range(0, maximum(dcjdists)+1, maximum(dcjdists)+1)\n",
    "histogram(dcjdists, bins=bins_range, title=\"local search freq distribution\", label=\"local search maps\", xlabel=\"DCJ Dist\", ylabel=\"Frequency\", alpha=0.5, color=:blue)\n",
    "histogram!(rm_dcj_dists, bins=bins_range, label=\"random maps\", alpha=0.5, color=:green)"
   ]
  },
  {
   "cell_type": "code",
   "execution_count": null,
   "metadata": {},
   "outputs": [],
   "source": [
    "# Define the original list\n",
    "original_list = ['b', 'a', 'c']\n",
    "\n",
    "# Get the lexicographical order (permutation of indices)\n",
    "lexicographical_order = sortperm(original_list)\n",
    "\n",
    "# Sort the original list according to the lexicographical order\n",
    "sorted_list = original_list[lexicographical_order]\n",
    "\n",
    "println(\"Original list: \", original_list)\n",
    "println(\"Lexicographical order (indices): \", lexicographical_order)\n",
    "# println(\"Sorted list according to lexicographical order: \", sorted_list)\n"
   ]
  }
 ],
 "metadata": {
  "kernelspec": {
   "display_name": "Julia 1.10.3",
   "language": "julia",
   "name": "julia-1.10"
  },
  "language_info": {
   "name": "julia"
  }
 },
 "nbformat": 4,
 "nbformat_minor": 2
}
