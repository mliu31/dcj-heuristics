{
 "cells": [
  {
   "cell_type": "code",
   "execution_count": null,
   "metadata": {},
   "outputs": [],
   "source": [
    "# DP implementation of factorial\n",
    "function Base.factorial(n::Int, factorials::Vector{Int})\n",
    "    if n == 1 || n == 0 \n",
    "        return 1\n",
    "    end \n",
    "\n",
    "    if factorials[n] != 0  \n",
    "        return factorials[n]\n",
    "    else \n",
    "        fact =  n * factorial(n - 1, factorials)\n",
    "        factorials[n] = fact\n",
    "        return fact\n",
    "    end \n",
    "end\n",
    "\n",
    "# returns kth lexicogrpahical order of the first n ints \n",
    "# k ε [1,n!]\n",
    "function nth_lex_permutation(n::Int, k::Int)\n",
    "    k -= 1\n",
    "    factorials = zeros(Int, 26)\n",
    "        \n",
    "    numbers = collect(1:n)\n",
    "    permutation = Vector{Int}()\n",
    "\n",
    "    for i in 1:n\n",
    "        fact = factorial(n - i, factorials)\n",
    "        index = div(k, fact)\n",
    "        k %= fact\n",
    "\n",
    "        push!(permutation, numbers[index+1])\n",
    "        splice!(numbers, index+1)\n",
    "\n",
    "    end\n",
    "    \n",
    "    return permutation\n",
    "end\n",
    "\n",
    "\n",
    "# n = 5  # num duplicates \n",
    "# k = 45  #  kth lexicogrpahical order of the first n ints [1:n!]\n",
    "\n",
    "# perm = nth_lex_permutation(n, k)\n",
    "# println(perm)"
   ]
  },
  {
   "cell_type": "code",
   "execution_count": 11,
   "metadata": {},
   "outputs": [
    {
     "data": {
      "text/plain": [
       "Int64[]"
      ]
     },
     "execution_count": 11,
     "metadata": {},
     "output_type": "execute_result"
    }
   ],
   "source": [
    "using Plots\n",
    "\n",
    "# Create a matrix\n",
    "matrix = [1 2 1; 4 5 1; 7 1 9]\n",
    "\n",
    "# Create a 3D plot\n",
    "surface(matrix)\n"
   ]
  }
 ],
 "metadata": {
  "kernelspec": {
   "display_name": "Julia 1.10.3",
   "language": "julia",
   "name": "julia-1.10"
  },
  "language_info": {
   "file_extension": ".jl",
   "mimetype": "application/julia",
   "name": "julia",
   "version": "1.10.3"
  }
 },
 "nbformat": 4,
 "nbformat_minor": 2
}
