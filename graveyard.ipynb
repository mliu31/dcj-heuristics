{
 "cells": [
  {
   "cell_type": "code",
   "execution_count": null,
   "metadata": {},
   "outputs": [],
   "source": [
    "# DP implementation of factorial\n",
    "function Base.factorial(n::Int, factorials::Vector{Int})\n",
    "    if n == 1 || n == 0 \n",
    "        return 1\n",
    "    end \n",
    "\n",
    "    if factorials[n] != 0  \n",
    "        return factorials[n]\n",
    "    else \n",
    "        fact =  n * factorial(n - 1, factorials)\n",
    "        factorials[n] = fact\n",
    "        return fact\n",
    "    end \n",
    "end\n",
    "\n",
    "# returns kth lexicogrpahical order of the first n ints \n",
    "# k ε [1,n!]\n",
    "function nth_lex_permutation(n::Int, k::Int)\n",
    "    k -= 1\n",
    "    factorials = zeros(Int, 26)\n",
    "        \n",
    "    numbers = collect(1:n)\n",
    "    permutation = Vector{Int}()\n",
    "\n",
    "    for i in 1:n\n",
    "        fact = factorial(n - i, factorials)\n",
    "        index = div(k, fact)\n",
    "        k %= fact\n",
    "\n",
    "        push!(permutation, numbers[index+1])\n",
    "        splice!(numbers, index+1)\n",
    "\n",
    "    end\n",
    "    \n",
    "    return permutation\n",
    "end\n",
    "\n",
    "\n",
    "# n = 5  # num duplicates \n",
    "# k = 45  #  kth lexicogrpahical order of the first n ints [1:n!]\n",
    "\n",
    "# perm = nth_lex_permutation(n, k)\n",
    "# println(perm)"
   ]
  },
  {
   "cell_type": "code",
   "execution_count": 5,
   "metadata": {},
   "outputs": [
    {
     "name": "stderr",
     "output_type": "stream",
     "text": [
      "\u001b[32m\u001b[1m   Resolving\u001b[22m\u001b[39m package versions...\n",
      "\u001b[32m\u001b[1m   Installed\u001b[22m\u001b[39m Combinatorics ─ v1.0.2\n",
      "\u001b[32m\u001b[1m    Updating\u001b[22m\u001b[39m `C:\\Users\\mgnli\\.julia\\environments\\v1.10\\Project.toml`\n",
      "  \u001b[90m[861a8166] \u001b[39m\u001b[92m+ Combinatorics v1.0.2\u001b[39m\n",
      "\u001b[32m\u001b[1m    Updating\u001b[22m\u001b[39m `C:\\Users\\mgnli\\.julia\\environments\\v1.10\\Manifest.toml`\n",
      "  \u001b[90m[861a8166] \u001b[39m\u001b[92m+ Combinatorics v1.0.2\u001b[39m\n",
      "\u001b[32m\u001b[1mPrecompiling\u001b[22m\u001b[39m project...\n",
      "\u001b[32m  ✓ \u001b[39mCombinatorics\n",
      "  1 dependency successfully precompiled in 30 seconds. 199 already precompiled.\n"
     ]
    }
   ],
   "source": [
    "import Pkg; Pkg.add(\"Combinatorics\")"
   ]
  },
  {
   "cell_type": "code",
   "execution_count": 9,
   "metadata": {},
   "outputs": [
    {
     "data": {
      "text/plain": [
       "3-element Vector{Int64}:\n",
       " 2\n",
       " 1\n",
       " 3"
      ]
     },
     "execution_count": 9,
     "metadata": {},
     "output_type": "execute_result"
    }
   ],
   "source": [
    "using Combinatorics\n",
    "\n",
    "array = [1, 2, 3]\n",
    "k = 3\n",
    "\n",
    "nthperm(array, k)"
   ]
  }
 ],
 "metadata": {
  "kernelspec": {
   "display_name": "Julia 1.10.3",
   "language": "julia",
   "name": "julia-1.10"
  },
  "language_info": {
   "file_extension": ".jl",
   "mimetype": "application/julia",
   "name": "julia",
   "version": "1.10.3"
  }
 },
 "nbformat": 4,
 "nbformat_minor": 2
}
