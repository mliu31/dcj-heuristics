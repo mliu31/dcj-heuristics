{
 "cells": [
  {
   "cell_type": "code",
   "execution_count": null,
   "metadata": {},
   "outputs": [],
   "source": [
    "function setmode(mode::String)\n",
    "    if mode == \"trace\"\n",
    "        m = 2\n",
    "    elseif mode == \"info\"\n",
    "        m = 1\n",
    "    else  # none \n",
    "        m = 0 \n",
    "    end \n",
    "    \n",
    "    return m \n",
    "end "
   ]
  },
  {
   "cell_type": "code",
   "execution_count": null,
   "metadata": {},
   "outputs": [],
   "source": [
    "function cap_val(curr_maps::Int, max_maps::Int, maptype::String, top_off::Bool, m::Int)\n",
    "    if (top_off && curr_maps == 0) || curr_maps > max_maps  \n",
    "        curr_maps = max_maps \n",
    "        if m >= 1\n",
    "            println(\"WARNING: capping \", maptype, \" maps at \", max_maps)\n",
    "        end \n",
    "    end \n",
    "    return curr_maps\n",
    "end \n"
   ]
  }
 ],
 "metadata": {
  "kernelspec": {
   "display_name": "Julia 1.10.3",
   "language": "julia",
   "name": "julia-1.10"
  },
  "language_info": {
   "name": "julia"
  }
 },
 "nbformat": 4,
 "nbformat_minor": 2
}
