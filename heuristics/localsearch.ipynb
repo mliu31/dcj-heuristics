{
 "cells": [
  {
   "cell_type": "code",
   "execution_count": 38,
   "metadata": {},
   "outputs": [],
   "source": [
    "using Combinatorics\n",
    "\n",
    "using NBInclude\n",
    "@nbinclude(\"randommap.ipynb\")\n",
    "@nbinclude(\"helpers.ipynb\")\n",
    "# @nbinclude(\"testing_RM.ipynb\")"
   ]
  },
  {
   "cell_type": "code",
   "execution_count": 39,
   "metadata": {},
   "outputs": [
    {
     "data": {
      "text/plain": [
       "convert_maptodcjdist_to_converse (generic function with 1 method)"
      ]
     },
     "execution_count": 39,
     "metadata": {},
     "output_type": "execute_result"
    }
   ],
   "source": [
    "function convert_maptodcjdist_to_converse(map_to_dedupstr_dcjdist::Dict{Vector{Int}, Tuple{String, Int}})\n",
    "    dcjdist_to_map = Dict{Int, Vector{Vector{Int}}}()\n",
    "\n",
    "    for (map, tuple) in map_to_dedupstr_dcjdist\n",
    "        dcjdist = tuple[2]\n",
    "\n",
    "        if dcjdist in keys(dcjdist_to_map)\n",
    "            push!(dcjdist_to_map[dcjdist], map)\n",
    "        else \n",
    "            dcjdist_to_map[dcjdist] = [map]\n",
    "        end \n",
    "    end \n",
    "\n",
    "    return dcjdist_to_map\n",
    "end "
   ]
  },
  {
   "cell_type": "code",
   "execution_count": 40,
   "metadata": {},
   "outputs": [
    {
     "data": {
      "text/plain": [
       "insert_new_map_into_documentation (generic function with 1 method)"
      ]
     },
     "execution_count": 40,
     "metadata": {},
     "output_type": "execute_result"
    }
   ],
   "source": [
    "function insert_new_map_into_documentation(neighbor::Vector{Int}, dcjdist::Int, dedup_genome::String, map_to_dedupstr_dcjdist::Dict{Vector{Int}}, dcjdist_to_map::Dict{Int, Vector{Vector{Int}}}, sorted_dists::Vector{Int})\n",
    "    if neighbor in keys(map_to_dedupstr_dcjdist) \n",
    "        throw(ArgumentError(\"ERROR: generated a repeat map\"))\n",
    "    end\n",
    "\n",
    "    map_to_dedupstr_dcjdist[neighbor] = (dedup_genome, dcjdist)\n",
    "    \n",
    "    if dcjdist in keys(dcjdist_to_map)\n",
    "        push!(dcjdist_to_map[dcjdist], neighbor)\n",
    "    else \n",
    "        dcjdist_to_map[dcjdist] = [neighbor]\n",
    "    end \n",
    "\n",
    "    if dcjdist ∉ sorted_dists\n",
    "        idx = searchsortedfirst(sorted_dists, dcjdist)\n",
    "        insert!(sorted_dists, idx, dcjdist)    \n",
    "    end \n",
    "end "
   ]
  },
  {
   "cell_type": "code",
   "execution_count": 41,
   "metadata": {},
   "outputs": [
    {
     "data": {
      "text/plain": [
       "find_old_neighbor (generic function with 1 method)"
      ]
     },
     "execution_count": 41,
     "metadata": {},
     "output_type": "execute_result"
    }
   ],
   "source": [
    "# old neighbor definition (increment one element of the map by 1)\n",
    "function find_old_neighbor(idxs_of_neighbors::Set{Int}, map_to_explore::Vector{Int}, S_dupgene_to_multiplicity::OrderedDict{String, Int})\n",
    "    i = rand(idxs_of_neighbors)\n",
    "    pop!(idxs_of_neighbors, i)\n",
    "\n",
    "    neighbor = deepcopy(map_to_explore)\n",
    "    neighbor[i] += 1    \n",
    "\n",
    "    # mod(multiplicity!)\n",
    "    multiplicity = S_dupgene_to_multiplicity[collect(keys(S_dupgene_to_multiplicity))[i]]\n",
    "    if neighbor[i] > factorial(multiplicity) \n",
    "        neighbor[i] = 1 \n",
    "    end \n",
    "    return neighbor\n",
    "end  "
   ]
  },
  {
   "cell_type": "code",
   "execution_count": 42,
   "metadata": {},
   "outputs": [
    {
     "data": {
      "text/plain": [
       "permlexrank (generic function with 1 method)"
      ]
     },
     "execution_count": 42,
     "metadata": {},
     "output_type": "execute_result"
    }
   ],
   "source": [
    "function permlexrank(n::Int, perm::Vector{Int})\n",
    "    r = 1\n",
    "    p = deepcopy(perm) \n",
    "\n",
    "    for j in 1:n\n",
    "        r += (p[j]-1) * (factorial(n-j))\n",
    "\n",
    "        for i in j+1:n\n",
    "            if p[i] > p[j]\n",
    "                p[i] = p[i]-1\n",
    "            end \n",
    "        end \n",
    "    end \n",
    "    return r \n",
    "end \n",
    "\n",
    "# n = 4 \n",
    "# perm = [4, 3, 2, 1]\n",
    "\n",
    "# n = 2\n",
    "# perm = [1, 2]\n",
    "\n",
    "# permlexrank(n, perm)"
   ]
  },
  {
   "cell_type": "code",
   "execution_count": 43,
   "metadata": {},
   "outputs": [
    {
     "data": {
      "text/plain": [
       "swap2randints_fornewrank (generic function with 1 method)"
      ]
     },
     "execution_count": 43,
     "metadata": {},
     "output_type": "execute_result"
    }
   ],
   "source": [
    "function swap2randints_fornewrank(rank::Int, gene::String, mult::Int, details::String)\n",
    "    indices = collect(1:mult)\n",
    "    nthperm!(indices, rank)\n",
    "    \n",
    "    details = details * \" || order of \" * string(mult) * \" dups of '\" * gene * \"' \" * string(indices) * \" (rank \" * string(rank) * \")\"\n",
    "\n",
    "    # randomly choose two unique indices/ \n",
    "    rand_idx1 = rand(1:mult)\n",
    "    rand_idx2 = rand(1:mult)\n",
    "    while rand_idx2 == rand_idx1 \n",
    "        rand_idx2 = rand(1:mult)\n",
    "    end \n",
    "\n",
    "    # swap those two \n",
    "    tmp  = indices[rand_idx1]\n",
    "    indices[rand_idx1] = indices[rand_idx2]\n",
    "    indices[rand_idx2] = tmp\n",
    "\n",
    "    new_rank = permlexrank(mult, indices)\n",
    "\n",
    "    details = details * \" --> \" * string(indices) * \" (rank \" * string(new_rank) * \")\"   # swapped 2 rand elem\n",
    "\n",
    "    return new_rank, details\n",
    "\n",
    "end "
   ]
  },
  {
   "cell_type": "code",
   "execution_count": 44,
   "metadata": {},
   "outputs": [
    {
     "data": {
      "text/plain": [
       "find_min_change_neighbor (generic function with 1 method)"
      ]
     },
     "execution_count": 44,
     "metadata": {},
     "output_type": "execute_result"
    }
   ],
   "source": [
    "function find_min_change_neighbor(map_to_explore::Vector{Int}, dupgene_to_multiplicity::OrderedDict{String, Int}, mapidx_to_gene::Dict{Int, String})\n",
    "    neighbor = deepcopy(map_to_explore)\n",
    "\n",
    "    # choose dup gene \n",
    "    i = rand(1:length(neighbor))\n",
    "    rank = neighbor[i]\n",
    "    gene = mapidx_to_gene[i]\n",
    "    mult = dupgene_to_multiplicity[gene]\n",
    "\n",
    "    details = string(\"changing map for \" * gene * \" (idx \" * string(i) * \" in map)\")\n",
    "\n",
    "    new_rank, details = swap2randints_fornewrank(rank, gene, mult, details) \n",
    "    neighbor[i] = new_rank   \n",
    "    \n",
    "    return neighbor, details\n",
    "end "
   ]
  },
  {
   "cell_type": "code",
   "execution_count": 45,
   "metadata": {},
   "outputs": [
    {
     "data": {
      "text/plain": [
       "find_neighbors (generic function with 1 method)"
      ]
     },
     "execution_count": 45,
     "metadata": {},
     "output_type": "execute_result"
    }
   ],
   "source": [
    "# given string S and two maps m and v, v = neighbor(m) if \n",
    "    # for a replicated gene α at idx i in the maps, v[i] = (m[i] + 1) (mod occ(α,S)!)  \n",
    "    # all other genes (idx e) are mapped the same way v[e] = m[e]\n",
    "function find_neighbors(map_to_explore::Vector{Int}, max_neighbors_to_explore::Int, map_to_dedupstr_dcjdist::Dict{Vector{Int}, Tuple{String, Int}}, dupgene_to_multiplicity::OrderedDict{String, Int}, mapidx_to_gene::Dict{Int, String}, min_change_neighbor::Bool, m::Int)  \n",
    "    neighbors = Set{Vector{Int}}()\n",
    "    \n",
    "    if min_change_neighbor\n",
    "\n",
    "        #  cap neighbors to explore \n",
    "        max_possible_minchangeneigh = 0 \n",
    "        for v in values(dupgene_to_multiplicity)\n",
    "            max_possible_minchangeneigh += binomial(v, 2)\n",
    "        end \n",
    "        max_neighbors_to_explore = cap_val(max_neighbors_to_explore, max_possible_minchangeneigh, \"neighbor\", false, m) \n",
    "        seen_neighbors = Set{Vector{Int}}()\n",
    "        \n",
    "        # generate neighbors \n",
    "        neighbor = map_to_explore\n",
    "        for i in 1:max_neighbors_to_explore\n",
    "            details = \"\"\n",
    "            while (neighbor in neighbors) || (neighbor in keys(map_to_dedupstr_dcjdist))\n",
    "                if length(seen_neighbors) == max_possible_minchangeneigh\n",
    "                   return collect(neighbors) \n",
    "                end \n",
    "                \n",
    "                neighbor, details = find_min_change_neighbor(map_to_explore, dupgene_to_multiplicity, mapidx_to_gene)\n",
    "                if neighbor ∉ seen_neighbors\n",
    "                    push!(seen_neighbors, neighbor)\n",
    "                end \n",
    "            end \n",
    "            if m >= 2 \n",
    "                println(\"      found \", neighbor, \" by \", details)\n",
    "            end \n",
    "            push!(neighbors, neighbor)\n",
    "        end \n",
    "\n",
    "        return collect(neighbors)\n",
    "        \n",
    "    else # old definition of neighbors given in paper  \n",
    "        idxs_of_neighbors = Set(range(1, length(map_to_explore)))  # index of the dup gene in a map that's incremented \n",
    "    \n",
    "        # cap neighbors to explore\n",
    "        max_neighbors_to_explore = cap_val(max_neighbors_to_explore, length(map_to_explore), \"neighbor\", false, m) \n",
    "\n",
    "        # generate neighbors \n",
    "        neighbor = map_to_explore\n",
    "        for i in 1:max_neighbors_to_explore\n",
    "            while (neighbor in neighbors) || (neighbor in keys(map_to_dedupstr_dcjdist))\n",
    "                if length(idxs_of_neighbors) == 0\n",
    "                    return collect(neighbors)\n",
    "                end\n",
    "                neighbor = find_old_neighbor(idxs_of_neighbors, map_to_explore, dupgene_to_multiplicity)\n",
    "            end \n",
    "\n",
    "            push!(neighbors, neighbor)\n",
    "        end \n",
    "\n",
    "        return collect(neighbors)\n",
    "    end    \n",
    "end \n",
    "\n"
   ]
  },
  {
   "cell_type": "code",
   "execution_count": 46,
   "metadata": {},
   "outputs": [
    {
     "data": {
      "text/plain": [
       "explore_neighbors (generic function with 1 method)"
      ]
     },
     "execution_count": 46,
     "metadata": {},
     "output_type": "execute_result"
    }
   ],
   "source": [
    "# LS helpers \n",
    "\n",
    "function map_setup(rand_map_info::Vector, S::String, P::String, rand_maps::Int, m::Int)\n",
    "    S_arr = string_to_genomearr(S)\n",
    "    P_arr = string_to_genomearr(P)\n",
    "    \n",
    "    # if already created a set of random maps \n",
    "    if rand_map_info == Vector()\n",
    "        # create arbitrary map for P, a set of random maps S_M, rank maps using estimator algo \n",
    "        _, P_dedup, map_to_dedupstr_dcjdist, S_dupgene_to_multiplicity, mapidx_to_gene = generate_random_maps_and_calc_distances(S_arr, P_arr, rand_maps, m)\n",
    "    else \n",
    "        P_dedup, map_to_dedupstr_dcjdist, S_dupgene_to_multiplicity, mapidx_to_gene = deepcopy(rand_map_info)\n",
    "    end \n",
    "\n",
    "    return P_dedup, map_to_dedupstr_dcjdist, S_dupgene_to_multiplicity, mapidx_to_gene, S_arr\n",
    "end \n",
    "\n",
    "\n",
    "function cap_maps(total_maps::Int, rand_maps::Int, max_neighbors::Int, total_possible_maps::Int, m::Int)\n",
    "    total_maps = cap_val(total_maps, total_possible_maps, \"total\", true, m)\n",
    "    rand_maps = cap_val(rand_maps, total_possible_maps, \"total\", false, m)\n",
    "    max_neighbors = cap_val(max_neighbors, total_maps - rand_maps, \"neighbor\", false, m)\n",
    "\n",
    "    return total_maps, rand_maps, max_neighbors, rand_maps\n",
    "end \n",
    "\n",
    "\n",
    "function select_bestmap(sorted_dists::Vector{Int}, dcj_dist_to_map::Dict{Int, Vector{Vector{Int}}}, m::Int, num_generated_maps::Int, total_maps::Int)\n",
    "    smallest_dcj_dist = sorted_dists[1]\n",
    "    maps = dcj_dist_to_map[smallest_dcj_dist]\n",
    "    \n",
    "    map_smallestd = popfirst!(maps)\n",
    "    if m >= 1\n",
    "        printstyled(\"\\ngenerated \", string(num_generated_maps) * \"/\" * string(total_maps), \"\\n\", color=:green)\n",
    "        println(\"exploring neighborhood of \", map_smallestd)\n",
    "    end \n",
    "    # update documentation \n",
    "    if isempty(maps)\n",
    "        delete!(dcj_dist_to_map, smallest_dcj_dist)\n",
    "        popfirst!(sorted_dists)\n",
    "    end \n",
    "\n",
    "    return smallest_dcj_dist, map_smallestd\n",
    "\n",
    "end \n",
    "\n",
    "function explore_neighbors(neighbors:: Vector{Vector{Int}}, S_arr::Vector{Vector{String}}, S_dupgene_to_multiplicity::OrderedDict{String, Int}, P_dedup::String, map_to_dedupstr_dcjdist::Dict{Vector{Int}}, dcj_dist_to_map::Dict{Int, Vector{Vector{Int}}}, sorted_dists::Vector{Int}, diff_bt_neighbors::Vector{Int}, smallest_dcj_dist::Int, global_min_map::Vector{Int}, global_min_dcj::Int, global_min_dedupstr::String, m::Int)   \n",
    "    i = 1\n",
    "    for neighbor_map in neighbors  \n",
    "        s_dedup = deduplicate_genome(S_arr, S_dupgene_to_multiplicity, neighbor_map)\n",
    "        d = calculate_distance(P_dedup, s_dedup, \"none\")\n",
    "        insert_new_map_into_documentation(neighbor_map, d, s_dedup, map_to_dedupstr_dcjdist, dcj_dist_to_map, sorted_dists)\n",
    "        push!(diff_bt_neighbors, d-smallest_dcj_dist)\n",
    "        if m >= 1\n",
    "            println(\"     \", neighbor_map, \" dcj dist=\", d)\n",
    "        end \n",
    "\n",
    "        if d < global_min_dcj\n",
    "            global_min_map  = neighbor_map\n",
    "            global_min_dcj =  map_to_dedupstr_dcjdist[global_min_map][2]\n",
    "            global_min_dedupstr = map_to_dedupstr_dcjdist[global_min_map][1]\n",
    "\n",
    "            if m >= 1\n",
    "                print(\"    !!!!!found a min dcj mapping \", global_min_map, \" with distance \", global_min_dcj, \"   \")\n",
    "                println(P_dedup, \" --> \", global_min_dedupstr)\n",
    "            end \n",
    "        end \n",
    "        i += 1\n",
    "    end \n",
    "\n",
    "    return global_min_map, global_min_dcj, global_min_dedupstr\n",
    "end \n"
   ]
  },
  {
   "cell_type": "code",
   "execution_count": 47,
   "metadata": {},
   "outputs": [
    {
     "data": {
      "text/plain": [
       "localsearch (generic function with 1 method)"
      ]
     },
     "execution_count": 47,
     "metadata": {},
     "output_type": "execute_result"
    }
   ],
   "source": [
    "# local search heuristic\n",
    "\n",
    "# total_maps = total number of maps to be created \n",
    "# rand_maps = number of maps randomly generated \n",
    "# max_neighbors = max number of neighbors explored in each local search\n",
    "function localsearch(S::String, P::String, total_maps::Int, rand_maps::Int, max_neighbors::Int, mode::String, min_change_neighbor::Bool, rand_map_info::Vector)\n",
    "    m = setmode(mode)     \n",
    "\n",
    "    if m >= 1\n",
    "        printstyled(\"SRC \" * S * \" --> TARGET \" * P * \"\\n\", color=:cyan)\n",
    "        println(\"total maps=\", total_maps, \" || num_rand_maps=\", rand_maps, \" || max_neighbors=\", max_neighbors, \"\\n\")\n",
    "    end \n",
    "\n",
    "    P_dedup, map_to_dedupstr_dcjdist, S_dupgene_to_multiplicity, mapidx_to_gene, S_arr = map_setup(rand_map_info, S, P, rand_maps, m)\n",
    "\n",
    "    # cap maps explored \n",
    "    total_possible_maps = 1\n",
    "    for (_, mult) in S_dupgene_to_multiplicity\n",
    "        total_possible_maps *= factorial(mult)\n",
    "    end \n",
    "    total_maps, rand_maps, max_neighbors, num_generated_maps = cap_maps(total_maps, rand_maps, max_neighbors, total_possible_maps, m)\n",
    "    \n",
    "    # create data structures to find best map in O(1)\n",
    "    dcj_dist_to_map = convert_maptodcjdist_to_converse(map_to_dedupstr_dcjdist)\n",
    "    sorted_dists = sort(collect(keys(dcj_dist_to_map)))\n",
    "\n",
    "    # initialize vars storing best map and corresponding details (returned at the end)\n",
    "    smallest_dcj_dist = sorted_dists[1]\n",
    "    global_min_map = dcj_dist_to_map[smallest_dcj_dist][1]\n",
    "    global_min_dcj = sorted_dists[1]\n",
    "    global_min_dedupstr = map_to_dedupstr_dcjdist[global_min_map][1]\n",
    "    \n",
    "    diff_bt_neighbors = Vector{Int}()\n",
    "    \n",
    "    # until 'total_maps' maps are generated\n",
    "    while total_maps != num_generated_maps\n",
    "        if sorted_dists == Vector{Int}() \n",
    "            println(\"WARNING: ran out of neighbors to explore; only explored \", num_generated_maps, \"/\", total_maps, \" for \", rand_maps, \" rand maps & \", max_neighbors, \" max neighbors\") \n",
    "            break\n",
    "        end \n",
    "\n",
    "        # select best not yet explored map\n",
    "        smallest_dcj_dist, map_smallestd = select_bestmap(sorted_dists, dcj_dist_to_map, m, num_generated_maps, total_maps)\n",
    "        \n",
    "        # cap neighbors \n",
    "        max_neighbors = cap_val(max_neighbors, total_maps - num_generated_maps, \"neighbor\", false, m)\n",
    "\n",
    "        # searches up to 'max_neighbors' neighbor maps\n",
    "        neighbors = find_neighbors(map_smallestd, max_neighbors, map_to_dedupstr_dcjdist, S_dupgene_to_multiplicity, mapidx_to_gene, min_change_neighbor, m)\n",
    "        if m >= 1\n",
    "            println(\"neighbors: \")\n",
    "        end \n",
    "\n",
    "        # explore neighbors \n",
    "        global_min_map, global_min_dcj, global_min_dedupstr = explore_neighbors(neighbors, S_arr, S_dupgene_to_multiplicity, P_dedup, map_to_dedupstr_dcjdist, dcj_dist_to_map, sorted_dists, diff_bt_neighbors, smallest_dcj_dist, global_min_map, global_min_dcj, global_min_dedupstr, m)\n",
    "\n",
    "        # track # explored maps\n",
    "        num_generated_maps += length(neighbors)\n",
    "    end\n",
    "\n",
    "    return global_min_dcj, global_min_map, global_min_dedupstr, map_to_dedupstr_dcjdist, diff_bt_neighbors\n",
    "end \n"
   ]
  },
  {
   "cell_type": "code",
   "execution_count": 49,
   "metadata": {},
   "outputs": [],
   "source": [
    "# src = \".a.,a'ab,a'b'c\"  \n",
    "# target = \"ab,a,b,c'a'a\"\n",
    "\n",
    "# total_maps = 7\n",
    "# rand_maps = 3\n",
    "# max_neighbors = 3\n",
    "\n",
    "# mode = \"trace\"\n",
    "# min_change_neighbor = true \n",
    "\n",
    "# global_min_dcj, global_min_map, global_min_dedupstr, map_to_dedupstr_dcjdist, differences = localsearch(src, target, total_maps, rand_maps, max_neighbors, mode, min_change_neighbor, Vector())"
   ]
  }
 ],
 "metadata": {
  "kernelspec": {
   "display_name": "Julia 1.10.3",
   "language": "julia",
   "name": "julia-1.10"
  },
  "language_info": {
   "file_extension": ".jl",
   "mimetype": "application/julia",
   "name": "julia",
   "version": "1.10.3"
  }
 },
 "nbformat": 4,
 "nbformat_minor": 2
}
