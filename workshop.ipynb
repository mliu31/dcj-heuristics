{
 "cells": [
  {
   "cell_type": "markdown",
   "id": "11809fe2",
   "metadata": {},
   "source": [
    "# Calculating DCJ distance between two unsigned, circular and/or linear genomes with duplicates"
   ]
  },
  {
   "cell_type": "markdown",
   "id": "46ea4c69",
   "metadata": {},
   "source": [
    "Credit:\n",
    "- https://github.com/mlliou112/py-dcj (python version)\n",
    "- ChatGPT for converting to Julia "
   ]
  },
  {
   "cell_type": "code",
   "execution_count": 186,
   "id": "221c64a2",
   "metadata": {},
   "outputs": [],
   "source": [
    "using Base.Iterators\n",
    "using Parameters\n",
    "\n",
    "abstract type AbstractGene end"
   ]
  },
  {
   "cell_type": "code",
   "execution_count": 187,
   "id": "91f5f99c",
   "metadata": {},
   "outputs": [],
   "source": [
    "\"\"\"\n",
    "Representation for a telomere in DCJ model\n",
    "\"\"\"\n",
    "\n",
    "@with_kw struct Telomere <: AbstractGene\n",
    "    reverse::Bool=false\n",
    "end\n",
    "\n",
    "function Base.isequal(a::Telomere, b)\n",
    "    return typeof(a) == typeof(b)\n",
    "end\n",
    "\n",
    "function Base.show(t::Telomere)\n",
    "    return \".\"\n",
    "end\n",
    "\n",
    "# x = Telomere()\n",
    "# show(x)"
   ]
  },
  {
   "cell_type": "code",
   "execution_count": 188,
   "id": "b81dd52d",
   "metadata": {},
   "outputs": [
    {
     "name": "stdout",
     "output_type": "stream",
     "text": [
      "-1"
     ]
    }
   ],
   "source": [
    "\"\"\"\n",
    "Representation for DNA fragment (a gene) in DCJ model.\n",
    "\n",
    "    Parameters\n",
    "    ----------\n",
    "    id: int (required)\n",
    "        unique id\n",
    "\n",
    "    dna: str\n",
    "        What dna fragment does this gene represent?\n",
    "\n",
    "    reverse: boolean\n",
    "        Is the DNA fragment reversed?\n",
    "\"\"\"\n",
    "@with_kw struct Gene <: AbstractGene\n",
    "    id::Int\n",
    "    dna::String=\"\"\n",
    "    reverse::Bool=false\n",
    "end\n",
    "\n",
    "function Base.isequal(a::Gene, b::Gene)\n",
    "    return typeof(a) == typeof(b) && a.id == b.id\n",
    "end\n",
    "\n",
    "function Base.show(m::Gene)\n",
    "    if m.reverse\n",
    "        print(\"-\" * string(m.id))\n",
    "    else\n",
    "        print(string(m.ud))\n",
    "    end\n",
    "end\n",
    "\n",
    "y = Gene(1, \"d\", true)\n",
    "show(y)"
   ]
  },
  {
   "cell_type": "code",
   "execution_count": 189,
   "id": "a0864383",
   "metadata": {},
   "outputs": [
    {
     "name": "stdout",
     "output_type": "stream",
     "text": [
      "\u001b[0m\u001b[1mTest Summary: | \u001b[22m\u001b[32m\u001b[1mPass  \u001b[22m\u001b[39m\u001b[36m\u001b[1mTotal  \u001b[22m\u001b[39m\u001b[0m\u001b[1mTime\u001b[22m\n",
      "Gene Tests    | \u001b[32m   4  \u001b[39m\u001b[36m    4  \u001b[39m\u001b[0m0.1s\n"
     ]
    },
    {
     "data": {
      "text/plain": [
       "Test.DefaultTestSet(\"Gene Tests\", Any[], 4, false, false, true, 1.718295045623e9, 1.718295045749e9, false, \"In[189]\")"
      ]
     },
     "execution_count": 189,
     "metadata": {},
     "output_type": "execute_result"
    }
   ],
   "source": [
    "using Test \n",
    "\n",
    "function test_telomere_type()\n",
    "    a = Telomere()\n",
    "    @test typeof(a) == Telomere\n",
    "end\n",
    "\n",
    "function test_forward_reverse_gene()\n",
    "    @test isequal(Gene(0, \"d\", true), Gene(0, \"d\", false))\n",
    "end\n",
    "\n",
    "function test_telomere_repr()\n",
    "    @test show(Telomere()) == \".\"\n",
    "end\n",
    "\n",
    "function test_reverse_equality()\n",
    "    @test !isequal(Gene(0, \"D\", true), Gene(1, \"D\", true))\n",
    "end\n",
    "\n",
    "@testset \"Gene Tests\" begin\n",
    "    test_telomere_type()\n",
    "    test_forward_reverse_gene()\n",
    "    test_telomere_repr()\n",
    "    test_reverse_equality()\n",
    "end"
   ]
  },
  {
   "cell_type": "markdown",
   "id": "96c85772",
   "metadata": {},
   "source": [
    "EVERYTHING WORKS ABOVE THIS LINE*******************************************************************************************************************************************************************"
   ]
  },
  {
   "cell_type": "code",
   "execution_count": 194,
   "id": "7f20e9ce",
   "metadata": {},
   "outputs": [
    {
     "data": {
      "text/plain": [
       "Chromosome"
      ]
     },
     "execution_count": 194,
     "metadata": {},
     "output_type": "execute_result"
    }
   ],
   "source": [
    " \"\"\"The abstraction of a chromosome in DCJ model, a list of telomeres and genes\n",
    "\n",
    "    Parameters\n",
    "    ----------\n",
    "    genes: list of genes or string (req)\n",
    "        The object to be converted into a circular or linear chromosome.\n",
    "\n",
    "    \"\"\"\n",
    "mutable struct Chromosome\n",
    "    genes::Vector{AbstractGene}\n",
    "end\n",
    "\n",
    "function Chromosome(genes::Vector{AbstractGene}, id_set::Set{Int})\n",
    "    # print(\"entered Chromosome constructor for genes********************************************************\")\n",
    "    \n",
    "    for gene in genes\n",
    "        telomere = show(gene) == \".\"\n",
    "        if !telomere \n",
    "            if gene.id ∉ id_set \n",
    "                push!(id_set, gene.id)\n",
    "            else \n",
    "                throw(ArgumentError(\"There are duplicate genes with the same ID in this genome.\"))\n",
    "            end\n",
    "        end \n",
    "    end \n",
    "    content = genes\n",
    "\n",
    "    return Chromosome(content)\n",
    "\n",
    "end \n",
    "\n",
    "\n",
    "function Chromosome(genes::String, id_counter::Ref{Int64}, id_to_char::Dict{Char, Int64}, char_to_id::Dict{Char, Vector{Int64}})\n",
    "    content = AbstractGene[]\n",
    "\n",
    "    if !((genes[1] == '.') == (genes[end] == '.'))\n",
    "        throw(ArgumentError(\"Linear Chromosome must start and end with telomeres.\"))\n",
    "    end\n",
    "\n",
    "    for (i, gene) in pairs(genes)\n",
    "        dna = string(gene)\n",
    "        rev = isuppercase(gene)\n",
    "        telomere = gene == '.'        \n",
    "        if telomere \n",
    "            push!(content, Telomere())\n",
    "        else  # gene \n",
    "            id = id_counter[]\n",
    "\n",
    "            id_to_char[gene] = id\n",
    "            if gene in keys(char_to_id)\n",
    "                push!(char_to_id[gene], id)\n",
    "            else \n",
    "                char_to_id[gene] = [id]\n",
    "            end \n",
    "\n",
    "            push!(content, Gene(id, dna, rev))\n",
    "\n",
    "            id_counter[] += 1\n",
    "        end\n",
    "    end    \n",
    "    \n",
    "    print(content)\n",
    "    return Chromosome(content)\n",
    "end\n",
    "\n",
    "\n",
    "function Chromosome(::Any) \n",
    "    throw(TypeError(\"Chromosome must be a list of Gene instances with unique IDs or a string of genes.\"))\n",
    "end \n"
   ]
  },
  {
   "cell_type": "code",
   "execution_count": 191,
   "id": "a61806b1",
   "metadata": {},
   "outputs": [
    {
     "data": {
      "text/html": [
       "# 7 methods for type constructor:<ul><li> Chromosome(genes::<b>Vector{AbstractGene}</b>, id_set::<b>Set{Int64}</b>) in Main at In[190]:13</li> <li> Chromosome(genes::<b>Vector{AbstractGene}</b>) in Main at In[190]:10</li> <li> Chromosome(genes::<b>String</b>, id_counter::<b>Int64</b>, id_to_char::<b>Dict{String, Int64}</b>, dup_char_to_ids::<b>Dict{Char, Vector{Int64}}</b>) in Main at In[24]:18</li> <li> Chromosome(genes::<b>String</b>, id_counter::<b>Int64</b>, id_to_char::<b>Dict{Char, Int64}</b>, char_to_id::<b>Dict{Char, Vector{Int64}}</b>) in Main at In[75]:13</li> <li> Chromosome(genes::<b>String</b>, id_counter::<b>Ref{Int64}</b>, id_to_char::<b>Dict{Char, Int64}</b>, char_to_id::<b>Dict{Char, Vector{Int64}}</b>, id_set::<b>Set{Int64}</b>) in Main at In[106]:32</li> <li> Chromosome(genes::<b>String</b>, id_counter::<b>Ref{Int64}</b>, id_to_char::<b>Dict{Char, Int64}</b>, char_to_id::<b>Dict{Char, Vector{Int64}}</b>) in Main at In[190]:33</li> <li> Chromosome(::<b>Any</b>) in Main at In[190]:67</li> </ul>"
      ],
      "text/plain": [
       "# 7 methods for type constructor:\n",
       " [1] Chromosome(\u001b[90mgenes\u001b[39m::\u001b[1mVector\u001b[22m\u001b[0m{AbstractGene}, \u001b[90mid_set\u001b[39m::\u001b[1mSet\u001b[22m\u001b[0m{Int64})\n",
       "\u001b[90m     @\u001b[39m \u001b[90m\u001b[4mIn[190]:13\u001b[24m\u001b[39m\n",
       " [2] Chromosome(\u001b[90mgenes\u001b[39m::\u001b[1mVector\u001b[22m\u001b[0m{AbstractGene})\n",
       "\u001b[90m     @\u001b[39m \u001b[90m\u001b[4mIn[190]:10\u001b[24m\u001b[39m\n",
       " [3] Chromosome(\u001b[90mgenes\u001b[39m::\u001b[1mString\u001b[22m, \u001b[90mid_counter\u001b[39m::\u001b[1mInt64\u001b[22m, \u001b[90mid_to_char\u001b[39m::\u001b[1mDict\u001b[22m\u001b[0m{String, Int64}, \u001b[90mdup_char_to_ids\u001b[39m::\u001b[1mDict\u001b[22m\u001b[0m{Char, Vector{Int64}})\n",
       "\u001b[90m     @\u001b[39m \u001b[90m\u001b[4mIn[24]:18\u001b[24m\u001b[39m\n",
       " [4] Chromosome(\u001b[90mgenes\u001b[39m::\u001b[1mString\u001b[22m, \u001b[90mid_counter\u001b[39m::\u001b[1mInt64\u001b[22m, \u001b[90mid_to_char\u001b[39m::\u001b[1mDict\u001b[22m\u001b[0m{Char, Int64}, \u001b[90mchar_to_id\u001b[39m::\u001b[1mDict\u001b[22m\u001b[0m{Char, Vector{Int64}})\n",
       "\u001b[90m     @\u001b[39m \u001b[90m\u001b[4mIn[75]:13\u001b[24m\u001b[39m\n",
       " [5] Chromosome(\u001b[90mgenes\u001b[39m::\u001b[1mString\u001b[22m, \u001b[90mid_counter\u001b[39m::\u001b[1mRef\u001b[22m\u001b[0m{Int64}, \u001b[90mid_to_char\u001b[39m::\u001b[1mDict\u001b[22m\u001b[0m{Char, Int64}, \u001b[90mchar_to_id\u001b[39m::\u001b[1mDict\u001b[22m\u001b[0m{Char, Vector{Int64}}, \u001b[90mid_set\u001b[39m::\u001b[1mSet\u001b[22m\u001b[0m{Int64})\n",
       "\u001b[90m     @\u001b[39m \u001b[90m\u001b[4mIn[106]:32\u001b[24m\u001b[39m\n",
       " [6] Chromosome(\u001b[90mgenes\u001b[39m::\u001b[1mString\u001b[22m, \u001b[90mid_counter\u001b[39m::\u001b[1mRef\u001b[22m\u001b[0m{Int64}, \u001b[90mid_to_char\u001b[39m::\u001b[1mDict\u001b[22m\u001b[0m{Char, Int64}, \u001b[90mchar_to_id\u001b[39m::\u001b[1mDict\u001b[22m\u001b[0m{Char, Vector{Int64}})\n",
       "\u001b[90m     @\u001b[39m \u001b[90m\u001b[4mIn[190]:33\u001b[24m\u001b[39m\n",
       " [7] Chromosome(::\u001b[1mAny\u001b[22m)\n",
       "\u001b[90m     @\u001b[39m \u001b[90m\u001b[4mIn[190]:67\u001b[24m\u001b[39m"
      ]
     },
     "execution_count": 191,
     "metadata": {},
     "output_type": "execute_result"
    }
   ],
   "source": [
    "methods(Chromosome)"
   ]
  },
  {
   "cell_type": "code",
   "execution_count": 197,
   "id": "4177421b",
   "metadata": {},
   "outputs": [
    {
     "ename": "LoadError",
     "evalue": "MethodError: no method matching Chromosome(::Vector{Gene}, ::Set{Int64})\n\n\u001b[0mClosest candidates are:\n\u001b[0m  Chromosome(\u001b[91m::Vector{AbstractGene}\u001b[39m, ::Set{Int64})\n\u001b[0m\u001b[90m   @\u001b[39m \u001b[35mMain\u001b[39m \u001b[90m\u001b[4mIn[194]:13\u001b[24m\u001b[39m\n\u001b[0m  Chromosome(::Any)\n\u001b[0m\u001b[90m   @\u001b[39m \u001b[35mMain\u001b[39m \u001b[90m\u001b[4mIn[194]:67\u001b[24m\u001b[39m\n",
     "output_type": "error",
     "traceback": [
      "MethodError: no method matching Chromosome(::Vector{Gene}, ::Set{Int64})\n\n\u001b[0mClosest candidates are:\n\u001b[0m  Chromosome(\u001b[91m::Vector{AbstractGene}\u001b[39m, ::Set{Int64})\n\u001b[0m\u001b[90m   @\u001b[39m \u001b[35mMain\u001b[39m \u001b[90m\u001b[4mIn[194]:13\u001b[24m\u001b[39m\n\u001b[0m  Chromosome(::Any)\n\u001b[0m\u001b[90m   @\u001b[39m \u001b[35mMain\u001b[39m \u001b[90m\u001b[4mIn[194]:67\u001b[24m\u001b[39m\n",
      "",
      "Stacktrace:",
      " [1] top-level scope",
      "   @ In[197]:20"
     ]
    }
   ],
   "source": [
    "# testing strings \n",
    "\n",
    "# id_counter = Ref{Int}(1)\n",
    "# id_to_char = Dict{Char, Int}()\n",
    "# char_to_id = Dict{Char, Vector{Int}}()\n",
    "\n",
    "# Chromosome(\".AbcA.\", id_counter, id_to_char, char_to_id)\n",
    "\n",
    "# print(\"\\n\\n******************\\nid_counter: \", id_counter[], \"\\n\", \"id_to_char\", id_to_char, \"\\n\",\"char_to_id: \", char_to_id)\n",
    "\n",
    "\n",
    "# testing genes \n",
    "x = Telomere()\n",
    "y = Gene(1, \"A\", true)\n",
    "z = Gene(2, \"B\", true)\n",
    "v = Telomere()\n",
    "\n",
    "id_set = Set{Int}() \n",
    "\n",
    "Chromosome([y, y, z], id_set)  ## why doesn't it find the right constructor? \n",
    "\n",
    "# testing rand \n",
    "# x = 1 \n",
    "# Chromosome(x) ## why doesn't it throw error??? "
   ]
  },
  {
   "cell_type": "code",
   "execution_count": null,
   "id": "0db29f60",
   "metadata": {},
   "outputs": [],
   "source": [
    "# Genome\n",
    "\n",
    "mutable struct Genome\n",
    "    data::Vector{Chromosome}\n",
    "    # Genome(chromosomes::Chromosome...) = new(chromosomes)\n",
    "end\n"
   ]
  },
  {
   "cell_type": "code",
   "execution_count": null,
   "id": "bcd20ebf",
   "metadata": {},
   "outputs": [],
   "source": [
    "\"\"\"\n",
    "genomes A and B have the same letters of the same multiplicity; telomeres don't matter \n",
    "\"\"\"\n",
    "\n",
    "function calculate_distance(src::String, target::String)\n",
    "    check_conditions(src, target)\n",
    "\n",
    "    target_genome = string_to_genome(target)\n",
    "    # src_genome = string_to_genome(src)\n",
    "\n",
    "    print(genome_A)\n",
    "\n",
    "    # Chromosome.clear()\n",
    "    # genome_b, id_to_str = transform_genome(B)\n",
    "    # genome_a = transform_genome(A)\n",
    "    # ag = AdjacencyGraph(genome_a, genome_b)\n",
    "    # dcj_distance = length(ag.commonGenes) - ag.cycles - ag.ab_paths / 2\n",
    "end\n",
    "\n",
    "# function transform_genome(genome)\n",
    "#     return typeof(genome) == Genome ? genome : Genome([Chromosome(c) for c in genome]...)\n",
    "# end\n",
    "\n",
    "# Chromosome.clear() = (Chromosome.string_d = Dict(), Chromosome.id_counter = 0)\n",
    "\n",
    "\n",
    "\n",
    "println(calculate_distance(\".abcd.\", \".aCBd.\"))\n",
    "\n"
   ]
  },
  {
   "cell_type": "code",
   "execution_count": null,
   "id": "ef463477",
   "metadata": {},
   "outputs": [],
   "source": [
    "function genome_to_string(A)\n",
    "end\n",
    "\n",
    "\n",
    "function string_to_genome(s)\n",
    "     \"\"\"\n",
    "    Converts string to type Genome \n",
    "    \"\"\"\n",
    "\n",
    "    chrom_list = Vector{String}()\n",
    "\n",
    "    chrom = \"\"\n",
    "    new_chrom = true \n",
    "    linear = false\n",
    "\n",
    "    for (i, g) in pairs(s)\n",
    "        # if creating a new chromosome \n",
    "        if new_chrom \n",
    "            if chrom == \"\"\n",
    "                linear = g == '.'\n",
    "            else  # chrom isn't empty \n",
    "                linear = chrom[1] == '.'\n",
    "\n",
    "                # check if empty chromosome .. \n",
    "                if g == '.' \n",
    "                    chrom = chrom * g \n",
    "                    push!(chrom_list, chrom)\n",
    "                    chrom = \"\"\n",
    "                    continue \n",
    "                end \n",
    "            end \n",
    "            \n",
    "            chrom = chrom * g\n",
    "            new_chrom = false  \n",
    "        \n",
    "        # appending more genes to chromosome \n",
    "        else  \n",
    "            if linear  \n",
    "                chrom = chrom * g \n",
    "                if g == '.' || i == length(s)  # find another telomere or end of str\n",
    "                    push!(chrom_list, chrom) \n",
    "                    chrom = \"\"\n",
    "                    new_chrom = true \n",
    "                end \n",
    "            else  # circular\n",
    "                if g =='.'  # close circular chrom (won't incude telomere in chrom)\n",
    "                    push!(chrom_list, chrom)\n",
    "                    chrom = \".\"\n",
    "                    new_chrom = true \n",
    "                elseif i == length(s)  # reach end of str \n",
    "                    chrom = chrom * g\n",
    "                    push!(chrom_list, chrom)\n",
    "                    chrom = \".\"\n",
    "                    new_chrom = true \n",
    "                else \n",
    "                    chrom = chrom * g\n",
    "                end \n",
    "            end \n",
    "        end \n",
    "    end\n",
    "\n",
    "    print(chrom_list)\n",
    "    \n",
    "    return Genome(([Chromosome(c) for c in chrom_list]))\n",
    "end \n",
    "\n",
    "string_to_genome(\"abc.j...hiiii\")"
   ]
  }
 ],
 "metadata": {
  "kernelspec": {
   "display_name": "Julia 1.10.3",
   "language": "julia",
   "name": "julia-1.10"
  },
  "language_info": {
   "file_extension": ".jl",
   "mimetype": "application/julia",
   "name": "julia",
   "version": "1.10.3"
  }
 },
 "nbformat": 4,
 "nbformat_minor": 5
}
