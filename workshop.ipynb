{
 "cells": [
  {
   "cell_type": "markdown",
   "id": "11809fe2",
   "metadata": {},
   "source": [
    "# Calculating DCJ distance between two unsigned, circular and/or linear genomes with no duplicates"
   ]
  },
  {
   "cell_type": "markdown",
   "id": "46ea4c69",
   "metadata": {},
   "source": [
    "Credit:\n",
    "- https://github.com/mlliou112/py-dcj (python version)\n",
    "- ChatGPT for converting to Julia "
   ]
  },
  {
   "cell_type": "code",
   "execution_count": 1,
   "id": "221c64a2",
   "metadata": {},
   "outputs": [],
   "source": [
    "using Base.Iterators\n",
    "using Parameters\n",
    "\n",
    "abstract type AbstractGene end"
   ]
  },
  {
   "cell_type": "code",
   "execution_count": 36,
   "id": "91f5f99c",
   "metadata": {},
   "outputs": [],
   "source": [
    "\"\"\"\n",
    "Representation for a telomere in DCJ model\n",
    "\"\"\"\n",
    "\n",
    "@with_kw struct Telomere <: AbstractGene\n",
    "    reverse::Bool=false  # TODO\n",
    "end\n",
    "\n",
    "function Base.isequal(a::Telomere, b)\n",
    "    return typeof(a) == typeof(b)\n",
    "end\n",
    "\n",
    "function Base.show(t::Telomere)\n",
    "    return \".\"\n",
    "end\n",
    "\n",
    "# x = Telomere()\n",
    "# show(x)"
   ]
  },
  {
   "cell_type": "code",
   "execution_count": 37,
   "id": "b81dd52d",
   "metadata": {},
   "outputs": [],
   "source": [
    "\"\"\"\n",
    "Representation for DNA fragment (a gene) in DCJ model.\n",
    "\n",
    "    Parameters\n",
    "    ----------\n",
    "    id: int (required)\n",
    "        unique id\n",
    "\n",
    "    dna: str\n",
    "        What dna fragment does this gene represent?\n",
    "\n",
    "    reverse: boolean\n",
    "        Is the DNA fragment reversed?\n",
    "\"\"\"\n",
    "@with_kw struct Gene <: AbstractGene\n",
    "    id::Int\n",
    "    dna::String=\"\"\n",
    "    reverse::Bool=false\n",
    "end\n",
    "\n",
    "function Base.isequal(a::Gene, b::Gene)\n",
    "    return typeof(a) == typeof(b) && a.id == b.id\n",
    "end\n",
    "\n",
    "function Base.show(m::Gene)\n",
    "    if m.reverse\n",
    "        print(\"-\" * string(m.id))\n",
    "    else\n",
    "        print(string(m.ud))\n",
    "    end\n",
    "end\n",
    "\n",
    "# y = Gene(1, \"d\", true)\n",
    "# show(y)"
   ]
  },
  {
   "cell_type": "code",
   "execution_count": 49,
   "id": "7f20e9ce",
   "metadata": {},
   "outputs": [
    {
     "data": {
      "text/plain": [
       "Chromosome"
      ]
     },
     "execution_count": 49,
     "metadata": {},
     "output_type": "execute_result"
    }
   ],
   "source": [
    " \"\"\"The abstraction of a chromosome in DCJ model, a list of telomeres and genes\n",
    "\n",
    "    Parameters\n",
    "    ----------\n",
    "    genes: list of genes or string (req)\n",
    "        The object to be converted into a circular or linear chromosome.\n",
    "\n",
    "    \"\"\"\n",
    "mutable struct Chromosome\n",
    "    genes::Vector{AbstractGene}\n",
    "end\n",
    "\n",
    "function Chromosome(genes::String, id_counter::Ref{Int64}, id_to_char::Dict{Int, Char}, char_to_id::Dict{Char, Int64}, target::Bool)\n",
    "    content = AbstractGene[]\n",
    "\n",
    "    if !((genes[1] == '.') == (genes[end] == '.'))\n",
    "        throw(ArgumentError(\"Linear Chromosome must start and end with telomeres.\"))\n",
    "    end\n",
    "\n",
    "    for (i, gene) in pairs(genes)\n",
    "        dna = string(gene)\n",
    "        rev = isuppercase(gene)\n",
    "        telomere = gene == '.'        \n",
    "        if telomere \n",
    "            push!(content, Telomere())\n",
    "        else  # gene \n",
    "            id = id_counter[]\n",
    "\n",
    "            if target  \n",
    "                id_to_char[id] = gene\n",
    "                if gene in keys(char_to_id)\n",
    "                    push!(char_to_id[lowercase(gene)], id)\n",
    "                else \n",
    "                    char_to_id[lowercase(gene)] = id\n",
    "                end \n",
    "                id_counter[] += 1\n",
    "\n",
    "            else  # source str \n",
    "                ## assuming no duplicates\n",
    "                id = char_to_id[lowercase(gene)]\n",
    "            end\n",
    "            push!(content, Gene(id, dna, rev))\n",
    "        end \n",
    "    end    \n",
    "    \n",
    "    # print(content)\n",
    "    return Chromosome(content)\n",
    "end"
   ]
  },
  {
   "cell_type": "code",
   "execution_count": 9,
   "id": "0db29f60",
   "metadata": {},
   "outputs": [],
   "source": [
    "# Genome\n",
    "mutable struct Genome\n",
    "    data::Vector{Chromosome}\n",
    "end"
   ]
  },
  {
   "cell_type": "code",
   "execution_count": 63,
   "id": "ef463477",
   "metadata": {},
   "outputs": [
    {
     "data": {
      "text/plain": [
       "string_to_genome (generic function with 1 method)"
      ]
     },
     "execution_count": 63,
     "metadata": {},
     "output_type": "execute_result"
    }
   ],
   "source": [
    "function genome_to_string(A)\n",
    "end\n",
    "\n",
    "\n",
    "function string_to_genome(s, id_counter, id_to_char, char_to_id, target)\n",
    "     \"\"\"\n",
    "    Converts string to type Genome \n",
    "    \"\"\"\n",
    "\n",
    "    chrom_list = Vector{String}()\n",
    "\n",
    "    chrom = \"\"\n",
    "    new_chrom = true \n",
    "    linear = false\n",
    "\n",
    "    for (i, g) in pairs(s)\n",
    "        # if creating a new chromosome \n",
    "        if new_chrom \n",
    "            if chrom == \"\"\n",
    "                linear = g == '.'\n",
    "            else  # chrom isn't empty \n",
    "                linear = chrom[1] == '.'\n",
    "\n",
    "                # check if empty chromosome .. \n",
    "                if g == '.' \n",
    "                    chrom = chrom * g \n",
    "                    push!(chrom_list, chrom)\n",
    "                    chrom = \"\"\n",
    "                    continue \n",
    "                end \n",
    "            end \n",
    "            \n",
    "            chrom = chrom * g\n",
    "            new_chrom = false  \n",
    "        \n",
    "        # appending more genes to chromosome \n",
    "        else  \n",
    "            if linear  \n",
    "                chrom = chrom * g \n",
    "                if g == '.' || i == length(s)  # find another telomere or end of str\n",
    "                    push!(chrom_list, chrom) \n",
    "                    chrom = \"\"\n",
    "                    new_chrom = true \n",
    "                end \n",
    "            else  # circular\n",
    "                if g =='.'  # close circular chrom (won't incude telomere in chrom)\n",
    "                    push!(chrom_list, chrom)\n",
    "                    chrom = \".\"\n",
    "                    new_chrom = true \n",
    "                elseif i == length(s)  # reach end of str \n",
    "                    chrom = chrom * g\n",
    "                    push!(chrom_list, chrom)\n",
    "                    chrom = \".\"\n",
    "                    new_chrom = true \n",
    "                else \n",
    "                    chrom = chrom * g\n",
    "                end \n",
    "            end \n",
    "        end \n",
    "    end\n",
    "\n",
    "    print(chrom_list)\n",
    "\n",
    "    gene_list = Chromosome[]\n",
    "\n",
    "    for c in chrom_list\n",
    "        chrom = Chromosome(c, id_counter, id_to_char, char_to_id, target)\n",
    "        push!(gene_list, chrom)\n",
    "    end \n",
    "    \n",
    "    return Genome(gene_list)\n",
    "end "
   ]
  },
  {
   "cell_type": "code",
   "execution_count": null,
   "id": "9b91ea5d",
   "metadata": {},
   "outputs": [],
   "source": [
    "\"\"\"\n",
    "Gene head or tail end. Used in adjacencies\n",
    "\"\"\"\n",
    "@with_kw struct GeneEnd\n",
    "    gene::AbstractGene\n",
    "    head::Bool=true\n",
    "end\n",
    "\n",
    "\"\"\"Adjacency Data Structure\"\"\"\n",
    "mutable struct Adjacency \n",
    "    left_end_gene::GeneEnd\n",
    "    right_end_gene::GeneEnd\n",
    "    label::Vector{Gene}\n",
    "\n",
    "    # Adjacency(left_end_gene::GeneEnd = nothing, right_end_gene::GeneEnd = nothing; label::Vector{Gene} = nothing) = new([left_end_gene, right_end_gene], left_end_gene, right_end_gene, label)\n",
    "end\n",
    "\n",
    "function Base.isequal(a::GeneEnd, b::GeneEnd)\n",
    "    return a.gene == b.gene && a.head == b.head\n",
    "end\n",
    "\n",
    "function Base.show(me::GeneEnd)\n",
    "    if me.head\n",
    "        print(string(me.gene))\n",
    "    else\n",
    "        print(string(me.gene) * \"*\")\n",
    "    end\n",
    "end\n",
    "\n",
    "# function other_adjacency_end(me::GeneEnd, adj::Adjacency)\n",
    "#     if adj.left_end_gene == me\n",
    "#         return adj.right_end_gene\n",
    "#     else\n",
    "#         return adj.left_end_gene\n",
    "#     end\n",
    "# end"
   ]
  },
  {
   "cell_type": "code",
   "execution_count": 67,
   "id": "08982ad1",
   "metadata": {},
   "outputs": [
    {
     "data": {
      "text/plain": [
       "AdjacencyGraph (generic function with 1 method)"
      ]
     },
     "execution_count": 67,
     "metadata": {},
     "output_type": "execute_result"
    }
   ],
   "source": [
    "function AdjacencyGraph(src::Genome, target::Genome)\n",
    "    # store genome as tables (not explicitly creating the adj graph)\n",
    "    src_location_to_adj = Dict{Int, Vector{GeneEnd}}() \n",
    "    src_gene_to_location = Dict{Gene, Vector{Int}}()\n",
    "\n",
    "    print(src)\n",
    "\n",
    "\n",
    "\n",
    "\n",
    "\n",
    "    # target_location_to_adj = Dict{Int, Vector{GeneEnd}}() \n",
    "    # target_gene_to_location = Dict{Gene, Vector{Int}}()\n",
    "\n",
    "\n",
    "\n",
    "    # for each adj {p, q} in src genome \n",
    "        # create edge connecting {p, q} and vertex of genome B that contains p \n",
    "        # create edge connecting {p, q} and vertex of genome B that contains q\n",
    "\n",
    "\n",
    "    # for each telomere {p} in src genome \n",
    "        # create edge connecting {p} and the vertex of target that contains p\n",
    "\n",
    "\n",
    "\n",
    "end \n",
    "\n",
    "AdjacencyGraph()"
   ]
  },
  {
   "cell_type": "code",
   "execution_count": 69,
   "id": "bcd20ebf",
   "metadata": {},
   "outputs": [
    {
     "name": "stdout",
     "output_type": "stream",
     "text": [
      "[\".aCBd.\"][\".abcd.\"]"
     ]
    },
    {
     "ename": "LoadError",
     "evalue": "UndefVarError: `GeneEnd` not defined",
     "output_type": "error",
     "traceback": [
      "UndefVarError: `GeneEnd` not defined",
      "",
      "Stacktrace:",
      " [1] AdjacencyGraph(src::Genome, target::Genome)",
      "   @ Main .\\In[67]:3",
      " [2] calculate_distance(src::String, target::String)",
      "   @ Main .\\In[69]:15",
      " [3] top-level scope",
      "   @ In[69]:21"
     ]
    }
   ],
   "source": [
    "\"\"\"\n",
    "genomes A and B have the same letters of the same multiplicity; telomeres don't matter \n",
    "\"\"\"\n",
    "\n",
    "function calculate_distance(src::String, target::String)\n",
    "    # check_conditions(src, target)\n",
    "\n",
    "    id_counter = Ref{Int}(1)\n",
    "    id_to_char = Dict{Int, Char}()\n",
    "    char_to_id = Dict{Char, Int}()\n",
    "\n",
    "    target_genome = string_to_genome(target, id_counter, id_to_char, char_to_id, true)\n",
    "    src_genome = string_to_genome(src, id_counter, id_to_char, char_to_id, false)\n",
    "\n",
    "    ag = AdjacencyGraph(src_genome, target_genome)\n",
    "    # dcj_distance = length(ag.commonGenes) - ag.cycles - ag.ab_paths / 2\n",
    "end\n",
    "\n",
    "src = \".abcd.\"\n",
    "target = \".aCBd.\"\n",
    "calculate_distance(src, target)"
   ]
  }
 ],
 "metadata": {
  "kernelspec": {
   "display_name": "Julia 1.10.3",
   "language": "julia",
   "name": "julia-1.10"
  },
  "language_info": {
   "file_extension": ".jl",
   "mimetype": "application/julia",
   "name": "julia",
   "version": "1.10.3"
  }
 },
 "nbformat": 4,
 "nbformat_minor": 5
}
