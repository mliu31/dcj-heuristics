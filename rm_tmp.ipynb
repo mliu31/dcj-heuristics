{
 "cells": [
  {
   "cell_type": "code",
   "execution_count": 1,
   "metadata": {},
   "outputs": [
    {
     "data": {
      "text/plain": [
       "test_randommaps (generic function with 1 method)"
      ]
     },
     "execution_count": 1,
     "metadata": {},
     "output_type": "execute_result"
    }
   ],
   "source": [
    "using NBInclude\n",
    "@nbinclude(\"testing_RM.ipynb\")"
   ]
  },
  {
   "cell_type": "code",
   "execution_count": 2,
   "metadata": {},
   "outputs": [
    {
     "name": "stdout",
     "output_type": "stream",
     "text": [
      "(a1:h,a2:t)(a2:h,a1:t)\n",
      "\n",
      "\u001b[35mdeleting option to combine\u001b[39m\n",
      "DCJ SPLIT :: \u001b[34m(a2:h,a1:t)\u001b[39m --> \u001b[34m(a2:h,.)\u001b[39m\u001b[34m(a1:t,.)\u001b[39m\n",
      "   telos idxs Set([2, 3])\n",
      "   twogeneadjs idxs Set([1])    \n",
      "(a1:h,a2:t)(a2:h,.)(a1:t,.)\n",
      "\n",
      "DCJ SWAP :: \u001b[34m(a1:h,a2:t)\u001b[39m\u001b[34m(a1:t,.)\u001b[39m --> \u001b[34m(a1:h,a1:t)\u001b[39m\u001b[34m(a2:t,.)\u001b[39m\n",
      "   telos idxs Set([2, 3])\n",
      "   twogeneadjs idxs Set([1])    \n",
      "(a1:h,a1:t)(a2:h,.)(a2:t,.)\n",
      "\n",
      "DCJ COMBINE :: \u001b[34m(a2:h,.)\u001b[39m\u001b[34m(a2:t,.)\u001b[39m --> \u001b[34m(a2:h,a2:t)\u001b[39m\u001b[34m(.,.)\u001b[39m\n",
      "   telos idxs Set{Int64}()\n",
      "   twogeneadjs idxs Set([2, 1])    \n",
      "(a1:h,a1:t)(a2:h,a2:t)(.,.)\n",
      "\n",
      "\n",
      "\u001b[35mdeleting option to combine\u001b[39m\n",
      "DCJ SWAP :: \u001b[34m(a1:h,a1:t)\u001b[39m\u001b[34m(a2:h,a2:t)\u001b[39m --> \u001b[34m(a1:h,a2:t)\u001b[39m\u001b[34m(a1:t,a2:h)\u001b[39m\n",
      "   telos idxs Set{Int64}()\n",
      "   twogeneadjs idxs Set([2, 1])    \n",
      "(a1:h,a2:t)(a1:t,a2:h)(.,.)\n",
      "\n",
      "\n",
      "\u001b[35mdeleting option to combine\u001b[39m\n",
      "DCJ SWAP :: \u001b[34m(a1:h,a2:t)\u001b[39m\u001b[34m(a1:h,a2:t)\u001b[39m --> \u001b[34m(a1:h,a1:h)\u001b[39m\u001b[34m(a2:t,a2:t)\u001b[39m\n",
      "   telos idxs Set{Int64}()\n",
      "   twogeneadjs idxs Set([2, 1])    \n",
      "(a2:t,a2:t)(a1:t,a2:h)(.,.)\n",
      "\n",
      "\n",
      "\u001b[35mdeleting option to combine\u001b[39m\n",
      "DCJ SPLIT :: \u001b[34m(a2:t,a2:t)\u001b[39m --> \u001b[34m(a2:t,.)\u001b[39m\u001b[34m(a2:t,.)\u001b[39m\n",
      "   telos idxs Set([4, 1])\n",
      "   twogeneadjs idxs Set([2])    \n",
      "(a2:t,.)(a1:t,a2:h)(.,.)(a2:t,.)\n",
      "\n",
      "DCJ SWAP :: \u001b[34m(a1:t,a2:h)\u001b[39m\u001b[34m(a2:t,.)\u001b[39m --> \u001b[34m(a2:h,.)\u001b[39m\u001b[34m(a1:t,a2:t)\u001b[39m\n",
      "   telos idxs Set([2, 1])\n",
      "   twogeneadjs idxs Set([4])    \n",
      "(a2:t,.)(a2:h,.)(.,.)(a1:t,a2:t)\n",
      "\n",
      "DCJ COMBINE :: \u001b[34m(a2:t,.)\u001b[39m\u001b[34m(a2:h,.)\u001b[39m --> \u001b[34m(a2:t,a2:h)\u001b[39m\u001b[34m(.,.)\u001b[39m\n",
      "   telos idxs Set{Int64}()\n",
      "   twogeneadjs idxs Set([4, 1])    \n",
      "(a2:t,a2:h)(.,.)(.,.)(a1:t,a2:t)\n",
      "\n",
      "\n",
      "\u001b[35mdeleting option to combine\u001b[39m\n",
      "DCJ SPLIT :: \u001b[34m(a2:t,a2:h)\u001b[39m --> \u001b[34m(a2:t,.)\u001b[39m\u001b[34m(a2:h,.)\u001b[39m\n",
      "   telos idxs Set([5, 1])\n",
      "   twogeneadjs idxs Set([4])    \n",
      "(a2:t,.)(.,.)(.,.)(a1:t,a2:t)(a2:h,.)\n",
      "\n",
      "DCJ SWAP :: \u001b[34m(a1:t,a2:t)\u001b[39m\u001b[34m(a1:t,a2:t)\u001b[39m --> \u001b[34m(a2:t,a1:t)\u001b[39m\u001b[34m(a1:t,a2:t)\u001b[39m\n",
      "   telos idxs Set([5, 1])\n",
      "   twogeneadjs idxs Set([4])    \n",
      "(a2:t,.)(.,.)(.,.)(a1:t,a2:t)(a2:h,.)\n",
      "\n"
     ]
    },
    {
     "ename": "LoadError",
     "evalue": "type Telomere has no field id",
     "output_type": "error",
     "traceback": [
      "type Telomere has no field id",
      "",
      "Stacktrace:",
      " [1] getproperty",
      "   @ .\\Base.jl:37 [inlined]",
      " [2] find_next_adj(ge::GeneEnd, adj::Adjacency, reordered_adj_list::Vector{Adjacency}, src_gid_to_l::DefaultDict{Int64, Vector{Int64}, var\"#85#86\"}, src_adjs::Vector{Adjacency}, processed::Set{Int64})",
      "   @ Main c:\\Users\\mgnli\\OneDrive - Dartmouth College\\Documents\\dcj-heuristics\\logging.ipynb:In[2]:9",
      " [3] reorder_adjs(src_adjs::Vector{Adjacency}, src_gid_to_l::DefaultDict{Int64, Vector{Int64}, var\"#85#86\"})",
      "   @ Main c:\\Users\\mgnli\\OneDrive - Dartmouth College\\Documents\\dcj-heuristics\\logging.ipynb:In[2]:78",
      " [4] adjlist_to_str(adj_list::Vector{Adjacency}, gid_to_loc::DefaultDict{Int64, Vector{Int64}, var\"#85#86\"}, tar_wcounts::String)",
      "   @ Main c:\\Users\\mgnli\\OneDrive - Dartmouth College\\Documents\\dcj-heuristics\\helpers.ipynb:In[1]:79",
      " [5] apply_x_dcjops(target::String, x::Int64, m::Int64)",
      "   @ Main c:\\Users\\mgnli\\OneDrive - Dartmouth College\\Documents\\dcj-heuristics\\testing.ipynb:In[26]:45",
      " [6] test_randommaps(n::Int64, x::Int64, num_maps::Int64, iterations::Int64, mode::String)",
      "   @ Main c:\\Users\\mgnli\\OneDrive - Dartmouth College\\Documents\\dcj-heuristics\\testing_RM.ipynb:In[3]:27",
      " [7] top-level scope",
      "   @ In[2]:6"
     ]
    }
   ],
   "source": [
    "n = 1\n",
    "x = 1\n",
    "num_maps = 2  # == max\n",
    "num_iterations = 3\n",
    "\n",
    "difference = test_randommaps(n, x, num_maps, num_iterations, \"info\")\n"
   ]
  },
  {
   "cell_type": "code",
   "execution_count": null,
   "metadata": {},
   "outputs": [],
   "source": [
    "function gridsearchrm(n, x, num_maps, num_iterations)\n",
    "    max_diff_data = zeros(n, x)\n",
    "    # percentages = zeros(n, x)\n",
    "\n",
    "    for m in 1:n\n",
    "        for y in 1:x \n",
    "            println(\"(\", m, \",\", y, \")\")\n",
    "            \n",
    "            diff = test_randommaps(m, y, num_maps, num_iterations, \"none\")\n",
    "\n",
    "            max_diff_data[m, y] = diff\n",
    "            # percentages[m, y] = diff/(m+y)\n",
    "        end \n",
    "    end \n",
    "    return max_diff_data #, percentages\n",
    "end \n",
    "\n"
   ]
  },
  {
   "cell_type": "code",
   "execution_count": null,
   "metadata": {},
   "outputs": [],
   "source": [
    "n = 2  # num genes \n",
    "x = 2  # num duplicates \n",
    "num_maps = 3\n",
    "num_iterations = 2\n",
    "\n",
    "max_diff_data = gridsearchrm(n, x, num_maps, num_iterations)\n"
   ]
  },
  {
   "cell_type": "code",
   "execution_count": null,
   "metadata": {},
   "outputs": [],
   "source": [
    "using Plots \n",
    "\n",
    "x = x \n",
    "y = 1:n\n",
    "z = percentages\n",
    "\n",
    "surface(z)"
   ]
  }
 ],
 "metadata": {
  "kernelspec": {
   "display_name": "Julia 1.10.3",
   "language": "julia",
   "name": "julia-1.10"
  },
  "language_info": {
   "file_extension": ".jl",
   "mimetype": "application/julia",
   "name": "julia",
   "version": "1.10.3"
  }
 },
 "nbformat": 4,
 "nbformat_minor": 2
}
