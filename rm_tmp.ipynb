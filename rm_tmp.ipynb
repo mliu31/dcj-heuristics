{
 "cells": [
  {
   "cell_type": "code",
   "execution_count": 1,
   "metadata": {},
   "outputs": [
    {
     "data": {
      "text/plain": [
       "test_randommaps (generic function with 1 method)"
      ]
     },
     "execution_count": 1,
     "metadata": {},
     "output_type": "execute_result"
    }
   ],
   "source": [
    "using NBInclude\n",
    "@nbinclude(\"testing_RM.ipynb\")"
   ]
  },
  {
   "cell_type": "code",
   "execution_count": 2,
   "metadata": {},
   "outputs": [],
   "source": [
    "# n = 1\n",
    "# x = 1\n",
    "# num_maps = 2  # == max\n",
    "# num_iterations = 3\n",
    "\n",
    "# difference = test_randommaps(n, x, num_maps, num_iterations, \"info\")\n"
   ]
  },
  {
   "cell_type": "code",
   "execution_count": 3,
   "metadata": {},
   "outputs": [
    {
     "data": {
      "text/plain": [
       "gridsearchrm (generic function with 1 method)"
      ]
     },
     "execution_count": 3,
     "metadata": {},
     "output_type": "execute_result"
    }
   ],
   "source": [
    "function gridsearchrm(n, x, num_maps, num_iterations)\n",
    "    max_diff_data = zeros(n, x)\n",
    "    # percentages = zeros(n, x)\n",
    "\n",
    "    for m in 1:n\n",
    "        for y in 1:x \n",
    "            println(\"(\", m, \",\", y, \")\")\n",
    "            \n",
    "            diff = test_randommaps(m, y, num_maps, num_iterations, \"none\")\n",
    "\n",
    "            max_diff_data[m, y] = diff\n",
    "            # percentages[m, y] = diff/(m+y)\n",
    "        end \n",
    "    end \n",
    "    return max_diff_data #, percentages\n",
    "end \n",
    "\n"
   ]
  },
  {
   "cell_type": "code",
   "execution_count": 4,
   "metadata": {},
   "outputs": [],
   "source": [
    "n = 2  # num genes \n",
    "x = 2  # num duplicates \n",
    "num_maps = 3\n",
    "num_iterations = 2\n",
    "\n",
    "max_diff_data = gridsearchrm(n, x, num_maps, num_iterations)\n"
   ]
  },
  {
   "cell_type": "code",
   "execution_count": null,
   "metadata": {},
   "outputs": [],
   "source": [
    "using Plots \n",
    "\n",
    "x = x \n",
    "y = 1:n\n",
    "z = percentages\n",
    "\n",
    "surface(z)"
   ]
  }
 ],
 "metadata": {
  "kernelspec": {
   "display_name": "Julia 1.10.3",
   "language": "julia",
   "name": "julia-1.10"
  },
  "language_info": {
   "file_extension": ".jl",
   "mimetype": "application/julia",
   "name": "julia",
   "version": "1.10.3"
  }
 },
 "nbformat": 4,
 "nbformat_minor": 2
}
