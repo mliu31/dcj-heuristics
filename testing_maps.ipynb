{
 "cells": [
  {
   "cell_type": "code",
   "execution_count": null,
   "metadata": {},
   "outputs": [],
   "source": [
    "# random generation of genomes; distribution of dcj operations needed \n",
    "\n",
    "# one or two duplicated genes; just sample different deduplication permutations -- measure variability in dcj distance \n",
    "    # min and max \n",
    "    # probability distribution \n",
    "    # want to show there's a huge variability betewen what map you choose \n",
    "\n",
    "# rm and ls \n",
    "\n",
    "# nature one "
   ]
  }
 ],
 "metadata": {
  "language_info": {
   "name": "python"
  }
 },
 "nbformat": 4,
 "nbformat_minor": 2
}
