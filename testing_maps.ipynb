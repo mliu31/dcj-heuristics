{
 "cells": [
  {
   "cell_type": "code",
   "execution_count": 44,
   "metadata": {},
   "outputs": [],
   "source": [
    "using Random\n",
    "using NBInclude\n",
    "@nbinclude(\"dcj_algo.ipynb\")\n",
    "@nbinclude(\"testing_diameter.ipynb\")\n",
    "@nbinclude(\"randommap.ipynb\")"
   ]
  },
  {
   "cell_type": "code",
   "execution_count": 46,
   "metadata": {},
   "outputs": [
    {
     "name": "stdout",
     "output_type": "stream",
     "text": [
      "Ecbda,.c. --> abcdecSRC Ecbda,.c. --> TARGET abcdec\n",
      "\n",
      "\u001b[35mtarget\u001b[39m\n",
      "dup genes --> multiplicity\n",
      "OrderedDict('c' => 2)\n",
      "\n",
      "target map\n",
      "[1]\n",
      "\n",
      "\u001b[35msource\u001b[39m\n",
      "dup genes --> multiplicity\n",
      "OrderedDict('c' => 2, '.' => 2)\n",
      "\n",
      "source maps\n",
      "[1, 2]\n",
      "[2, 1]\n",
      "\n",
      "\u001b[35mdeduplication\u001b[39m\n",
      "deduplicated target abcdet\n",
      "\n"
     ]
    },
    {
     "ename": "LoadError",
     "evalue": "KeyError: key '.' not found",
     "output_type": "error",
     "traceback": [
      "KeyError: key '.' not found",
      "",
      "Stacktrace:",
      " [1] getindex",
      "   @ .\\dict.jl:498 [inlined]",
      " [2] convert_perm_to_ordered_unique_chars(dupchar::Char, dup_perm::Vector{Int64}, dupchar_to_unique_char::Dict{Char, Vector{Char}})",
      "   @ Main c:\\Users\\mgnli\\OneDrive - Dartmouth College\\Documents\\dcj-heuristics\\randommap.ipynb:In[10]:16",
      " [3] deduplicate_genome(map::Vector{Int64}, dup_genome::String, dupchar_to_multiplicity::OrderedDict{Char, Int64}, dupchar_to_unique_char::Dict{Char, Vector{Char}})",
      "   @ Main c:\\Users\\mgnli\\OneDrive - Dartmouth College\\Documents\\dcj-heuristics\\randommap.ipynb:In[10]:47",
      " [4] randommap(S::String, P::String, num_maps::Int64, mode::String)",
      "   @ Main c:\\Users\\mgnli\\OneDrive - Dartmouth College\\Documents\\dcj-heuristics\\randommap.ipynb:In[11]:62",
      " [5] top-level scope",
      "   @ In[46]:27"
     ]
    }
   ],
   "source": [
    "# random generation of genomes; distribution of #dcj operations \n",
    "\n",
    "function generate_genomes_with_1dup(n::Int)\n",
    "    genes = first_n_letters(n)\n",
    "    rand_dup_gene = genes[rand(1:n)]\n",
    "    push!(genes, rand_dup_gene)\n",
    "\n",
    "    target = join(genes)\n",
    "\n",
    "    linear = rand(Bool)\n",
    "    rand_idx = rand(1:n)\n",
    "    src = generate_genome_str(n)\n",
    "    if linear \n",
    "        rand_dup_gene = \".\" * rand_dup_gene * \".\"\n",
    "    end \n",
    "    src = src[1:rand_idx-1] * string(rand_dup_gene) * src[rand_idx:end]\n",
    "\n",
    "    print(src, \" --> \", target)\n",
    "    return src, target\n",
    "end \n",
    "\n",
    "n = 5  # num genes\n",
    "num_maps = 2\n",
    "\n",
    "src, target = generate_genomes_with_1dup(n)\n",
    "\n",
    "dcj_dist_list = randommap(src, target, num_maps, \"info\")\n",
    "\n",
    "# calculate_distance(src, target, \"none\")\n",
    "\n",
    "# one or two duplicated genes; just sample different deduplication permutations -- measure variability in dcj distance \n",
    "    # min and max \n",
    "    # probability distribution \n",
    "    # want to show there's a huge variability betewen what map you choose \n",
    "\n",
    "\n",
    "    "
   ]
  },
  {
   "cell_type": "code",
   "execution_count": null,
   "metadata": {},
   "outputs": [],
   "source": []
  }
 ],
 "metadata": {
  "kernelspec": {
   "display_name": "Julia 1.10.3",
   "language": "julia",
   "name": "julia-1.10"
  },
  "language_info": {
   "file_extension": ".jl",
   "mimetype": "application/julia",
   "name": "julia",
   "version": "1.10.3"
  }
 },
 "nbformat": 4,
 "nbformat_minor": 2
}
