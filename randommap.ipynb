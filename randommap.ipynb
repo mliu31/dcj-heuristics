{
 "cells": [
  {
   "cell_type": "code",
   "execution_count": 1,
   "metadata": {},
   "outputs": [],
   "source": [
    "using Random\n",
    "using DataStructures"
   ]
  },
  {
   "cell_type": "code",
   "execution_count": 2,
   "metadata": {},
   "outputs": [
    {
     "data": {
      "text/plain": [
       "find_dups_in_str (generic function with 1 method)"
      ]
     },
     "execution_count": 2,
     "metadata": {},
     "output_type": "execute_result"
    }
   ],
   "source": [
    "# returns dup char --> num instances dictionary, num of duplicate chars  \n",
    "##### returns 2 x N array (N = num dup char) of duplicate char & num instances, num of duplicate chars\n",
    "\n",
    "function find_dups_in_str(str::String)\n",
    "    alphabet = Set{Char}() \n",
    "    duplicates = OrderedDict{Char, Int}()  # duplicate char --> num instances \n",
    "\n",
    "    for char in str\n",
    "        char = lowercase(char)   \n",
    "        if char in alphabet \n",
    "            if char in keys(duplicates)\n",
    "                duplicates[char] += 1\n",
    "            else \n",
    "                duplicates[char] = 2 \n",
    "            end \n",
    "        else \n",
    "            push!(alphabet, char)\n",
    "        end \n",
    "    end \n",
    "\n",
    "    return duplicates, length(duplicates) \n",
    "end "
   ]
  },
  {
   "cell_type": "code",
   "execution_count": 3,
   "metadata": {},
   "outputs": [
    {
     "data": {
      "text/plain": [
       "generate_map (generic function with 1 method)"
      ]
     },
     "execution_count": 3,
     "metadata": {},
     "output_type": "execute_result"
    }
   ],
   "source": [
    "function generate_map(num_dups::Int, dup_to_num_instances::OrderedDict{Char, Int})\n",
    "    map = Array{Int}(undef, num_dups)\n",
    "    \n",
    "    idx = 1\n",
    "    # for each position of the map (each gene w >1 instances)\n",
    "    for (dup_char, num_instances) in pairs(dup_to_num_instances)\n",
    "        # an integer value is selcted uniformly from the interval [0, occ(α, S)! -1] \n",
    "        mapidx_for_dup_char = rand(1:factorial(num_instances))\n",
    "        \n",
    "        map[idx] = mapidx_for_dup_char\n",
    "        idx += 1\n",
    "    end \n",
    "    \n",
    "    return map\n",
    "end "
   ]
  },
  {
   "cell_type": "code",
   "execution_count": 8,
   "metadata": {},
   "outputs": [
    {
     "name": "stdout",
     "output_type": "stream",
     "text": [
      "[1, 2, 3]\n"
     ]
    }
   ],
   "source": [
    "# DP implementation of factorial\n",
    "function Base.factorial(n::Int, factorials::Vector{Int})\n",
    "    if n == 1 || n == 0 \n",
    "        return 1\n",
    "    end \n",
    "\n",
    "    if 1 <= n <= length(factorials) \n",
    "        return factorials[n]\n",
    "    else \n",
    "        fact =  n * factorial(n - 1, factorials)\n",
    "        push!(factorials, fact)\n",
    "        return fact\n",
    "    end \n",
    "end\n",
    "\n",
    "# returns kth lexicogrpahical order of the first n ints \n",
    "# k ε [1,n!]\n",
    "function nth_lex_permutation(n::Int, k::Int)\n",
    "    k -= 1\n",
    "    factorials = Vector{Int}()\n",
    "    \n",
    "    numbers = collect(1:n)\n",
    "    permutation = Vector{Int}()\n",
    "    \n",
    "    for i in 1:n\n",
    "        fact = factorial(n - i, factorials)\n",
    "        index = div(k, fact)\n",
    "        k %= fact\n",
    "        push!(permutation, numbers[index+1])\n",
    "        splice!(numbers, index+1)\n",
    "    end\n",
    "    \n",
    "    return permutation\n",
    "end\n",
    "\n",
    "# n = 3  # num duplicates \n",
    "# k = 1  #  kth lexicogrpahical order of the first n ints [1:n!]\n",
    "\n",
    "# perm = nth_lex_permutation(n, k)\n",
    "# println(perm)"
   ]
  },
  {
   "cell_type": "code",
   "execution_count": 34,
   "metadata": {},
   "outputs": [
    {
     "name": "stdout",
     "output_type": "stream",
     "text": [
      "Dict('a' => ['a', 'p', 'w'], 'b' => ['b', 'z'])\n",
      "b[1, 2]\n",
      "a[3, 2, 1]\n"
     ]
    }
   ],
   "source": [
    "function new_char(alphabet::Set{Char})\n",
    "    while true \n",
    "        c = Char(rand('a':'z'))\n",
    "        if c ∉ alphabet \n",
    "            push!(alphabet, c)\n",
    "            return c\n",
    "        end \n",
    "    end \n",
    "end \n",
    "\n",
    "\n",
    "function deduplicate_genome(map::Array{Int}, dup_genome::String, dupchar_to_multiplicity::OrderedDict{Char, Int}, dupchar_to_unique_char::Dict{Char, Vector{Char}})\n",
    "    if dupchar_to_unique_char == Dict{Char, Vector{Char}}()  # passed in target genome; need to assign dup chars to unique chars\n",
    "        alphabet = Set(dup_genome)\n",
    "        \n",
    "        idx = 1\n",
    "        # create mapping from duplicated chars (multiplicity k) --> [array of k unique chars], idx = idx of duplicate used in permutation \n",
    "        for (dupchar, mult) in pairs(dupchar_to_multiplicity)\n",
    "            unique_chars = [dupchar]\n",
    "            for i in 2:dupchar_to_multiplicity[dupchar]\n",
    "                c = new_char(alphabet)\n",
    "                push!(unique_chars, c)\n",
    "            end     \n",
    "            dupchar_to_unique_char[dupchar] = unique_chars\n",
    "            \n",
    "            idx += 1\n",
    "        end \n",
    "        println(dupchar_to_unique_char)\n",
    "    end \n",
    "\n",
    "    idx = 1\n",
    "    for (dupchar, mult) in pairs(dupchar_to_multiplicity)\n",
    "        dup_perm = nth_lex_permutation(mult, map[idx])\n",
    "        \n",
    "        println(dupchar, dup_perm)\n",
    "\n",
    "        \n",
    "\n",
    "        idx += 1\n",
    "    end \n",
    "\n",
    "    # for k in dupchar_to_multiplicity \n",
    "    #     permutation = nth_lex_permutation \n",
    "    # end \n",
    "    # return dedup_genome \n",
    "end \n",
    "\n",
    "\n",
    "P = \"abbAac\"\n",
    "P_dup_to_num_instances, P_num_dups = find_dups_in_str(P)\n",
    "P_map = generate_map(P_num_dups, P_dup_to_num_instances)\n",
    "dupchar_to_unique_char = Dict{Char, Vector{Char}}()\n",
    "\n",
    "deduplicate_genome(P_map, P, P_dup_to_num_instances, dupchar_to_unique_char)"
   ]
  },
  {
   "cell_type": "code",
   "execution_count": null,
   "metadata": {},
   "outputs": [],
   "source": [
    "# mapping S --> T, generates r random maps (RM)\n",
    "\n",
    "function randommap(S::String, P::String, num_maps::Int)\n",
    "    println(\"SRC \", S, \" --> TARGET \", P, \"\\n\")\n",
    "\n",
    "    ## GENERATE MAPS  \n",
    "\n",
    "    S_dupchar_to_multiplicity, S_num_dups = find_dups_in_str(S)\n",
    "    P_dupchar_to_multiplicity, P_num_dups = find_dups_in_str(P)\n",
    "\n",
    "    printstyled(\"target\", color=:magenta)\n",
    "    println(\"\\ndup genes --> multiplicity\")\n",
    "    println(P_dupchar_to_multiplicity, \"\\n\")\n",
    "\n",
    "    # arbitrary map p for target string \n",
    "    P_map = ones(Int, P_num_dups)\n",
    "    println(\"target map\")\n",
    "    print(P_map, \"\\n\")\n",
    "    \n",
    "\n",
    "    printstyled(\"\\nsource\", color=:magenta)\n",
    "    println(\"\\ndup genes --> multiplicity\")\n",
    "    println(S_dupchar_to_multiplicity, \"\\n\")\n",
    "\n",
    "    S_M = Array{Array{Int}}(undef, num_maps)  # TODO does copy elements or point to them? \n",
    "\n",
    "    # r RM of src str S are generated and stored in a set S_M \n",
    "    println(\"source maps\")\n",
    "    for i in 1:num_maps\n",
    "        s_map = generate_map(S_num_dups, S_dupchar_to_multiplicity)\n",
    "        println(s_map)\n",
    "        push!(S_M, s_map)\n",
    "    end \n",
    "\n",
    "    ## DEDUPICATION \n",
    "    dup_char_to_unique_char = Dict{Char:Vector{Char}}()\n",
    "    \n",
    "    # use maps to deduplicate genomes \n",
    "    # dedup_P = deduplicate_genome(P_map, P, P_dup_to_num_instances, dup_char_to_unique_char)\n",
    "\n",
    "    # lehmer code to convert string S and P --> deduplicated S and P using the generated maps  \n",
    "    # nth_lex_permutation(n, k)\n",
    "    \n",
    "        # for each elem in each map convert int n --> nth permutation of n ints in lexicographical order \n",
    "\n",
    "   \n",
    "        \n",
    "    # intiially the target string is mapped into permutation Pp using an arbitrary map p \n",
    "    \n",
    "    # for each map m in M \n",
    "        # distance between permutation Sm and Pp is computed using estimator algo \n",
    "\n",
    "    #return shortest map iwth shortest dist between permutations \n",
    "end \n",
    "\n",
    "\n",
    "src = \"aabc\"\n",
    "target = \"abAac\"\n",
    "num_maps = 3\n",
    "\n",
    "randommap(src, target, num_maps)"
   ]
  }
 ],
 "metadata": {
  "kernelspec": {
   "display_name": "Julia 1.10.3",
   "language": "julia",
   "name": "julia-1.10"
  },
  "language_info": {
   "file_extension": ".jl",
   "mimetype": "application/julia",
   "name": "julia",
   "version": "1.10.3"
  }
 },
 "nbformat": 4,
 "nbformat_minor": 2
}
