{
 "cells": [
  {
   "cell_type": "code",
   "execution_count": 2,
   "metadata": {},
   "outputs": [],
   "source": [
    "using Random\n",
    "using DataStructures"
   ]
  },
  {
   "cell_type": "code",
   "execution_count": 3,
   "metadata": {},
   "outputs": [
    {
     "data": {
      "text/plain": [
       "find_dups_in_str (generic function with 1 method)"
      ]
     },
     "execution_count": 3,
     "metadata": {},
     "output_type": "execute_result"
    }
   ],
   "source": [
    "# returns dup char --> num instances dictionary, num of duplicate chars  \n",
    "##### returns 2 x N array (N = num dup char) of duplicate char & num instances, num of duplicate chars\n",
    "\n",
    "function find_dups_in_str(str::String)\n",
    "    alphabet = Set{Char}() \n",
    "    duplicates = OrderedDict{Char, Int}()  # duplicate char --> num instances \n",
    "\n",
    "    for char in str   \n",
    "        # print(char)\n",
    "        if char in alphabet \n",
    "            if char in keys(duplicates)\n",
    "                duplicates[char] += 1\n",
    "            else \n",
    "                duplicates[char] = 2 \n",
    "            end \n",
    "        else \n",
    "            push!(alphabet, char)\n",
    "        end \n",
    "    end \n",
    "\n",
    "    return duplicates, length(duplicates)\n",
    "end "
   ]
  },
  {
   "cell_type": "code",
   "execution_count": 12,
   "metadata": {},
   "outputs": [
    {
     "name": "stdout",
     "output_type": "stream",
     "text": [
      "OrderedDict('a' => 3, 'b' => 2, 'f' => 4)\n",
      "[1, 0, 17]\n",
      "[1, 0, 12]\n",
      "[2, 0, 8]\n",
      "[4, 0, 11]\n",
      "[3, 1, 12]\n",
      "[3, 1, 22]\n",
      "[5, 1, 16]\n",
      "[4, 0, 21]\n",
      "[3, 1, 3]\n",
      "[2, 1, 11]\n",
      "\n",
      "***\n",
      "\n",
      " target string map(s)\n",
      "[21]\n"
     ]
    }
   ],
   "source": [
    "# mapping S --> T, generates r random maps \n",
    "\n",
    "function randommap(S::String, P::String, r::Int)\n",
    "    S_dup_to_num_instances, S_num_dups = find_dups_in_str(S)\n",
    "    P_dup_to_num_instances, P_num_dups = find_dups_in_str(P)\n",
    "    \n",
    "    print(S_dup_to_num_instances, \"\\n\")\n",
    "    # print(T_dup_to_num_instances)\n",
    "\n",
    "    S_M = Array{Array{Int}}(undef, r)  # does copy elements or point to them? \n",
    "\n",
    "    # r RM of src str S are generated and stored in a set S_M \n",
    "    for i in 1:r \n",
    "    # ONE MAP \n",
    "        S_map = Array{Int}(undef, S_num_dups)\n",
    "        \n",
    "        idx = 1\n",
    "        # for each position of the map (each gene w >1 instances)\n",
    "        for (dup_char, num_instances) in pairs(S_dup_to_num_instances)\n",
    "            # an integer value is selcted uniformly from the interval [0, occ(α, S)! -1] \n",
    "            mapidx_for_dup_char = rand(0:factorial(num_instances)-1)\n",
    "            \n",
    "            S_map[idx] = mapidx_for_dup_char\n",
    "            idx += 1\n",
    "        end \n",
    "            println(S_map)\n",
    "            push!(S_M, S_map)\n",
    "    \n",
    "    end \n",
    "        \n",
    "    # choose an arbitrary map p for target string \n",
    "    P_map = Array{Int}(undef, P_num_dups)\n",
    "        \n",
    "    idx = 1\n",
    "    # for each position of the map (each gene w >1 instances)\n",
    "    for (dup_char, num_instances) in pairs(P_dup_to_num_instances)\n",
    "        # an integer value is selcted uniformly from the interval [0, occ(α, S)! -1] \n",
    "        mapidx_for_dup_char = rand(0:factorial(num_instances)-1)\n",
    "        \n",
    "        P_map[idx] = mapidx_for_dup_char\n",
    "        idx += 1\n",
    "    end \n",
    "    println(\"\\n***\\n\\n target string map(s)\")\n",
    "    print(P_map, \"\\n\")\n",
    "        \n",
    "    \n",
    "\n",
    "    # lehmer code to convert int n --> nth permutation of n ints in lexicographical order \n",
    "\n",
    "   \n",
    "        \n",
    "    # intiially the target string is mapped into permutation Pp using an arbitrary map p \n",
    "    \n",
    "    # for each map m in M \n",
    "        # distance between permutation Sm and Pp is computed using estimator algo \n",
    "\n",
    "    #return shortest map iwth shortest dist between permutations \n",
    "end \n",
    "\n",
    "src = \"aaabbcdeffffgh\"\n",
    "target = \"cbaaaa\"\n",
    "\n",
    "randommap(src, target, 10)"
   ]
  },
  {
   "cell_type": "code",
   "execution_count": null,
   "metadata": {},
   "outputs": [],
   "source": []
  }
 ],
 "metadata": {
  "kernelspec": {
   "display_name": "Julia 1.10.3",
   "language": "julia",
   "name": "julia-1.10"
  },
  "language_info": {
   "file_extension": ".jl",
   "mimetype": "application/julia",
   "name": "julia",
   "version": "1.10.3"
  }
 },
 "nbformat": 4,
 "nbformat_minor": 2
}
