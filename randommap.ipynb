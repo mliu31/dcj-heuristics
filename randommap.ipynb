{
 "cells": [
  {
   "cell_type": "code",
   "execution_count": 62,
   "metadata": {},
   "outputs": [],
   "source": [
    "using Random\n",
    "using DataStructures"
   ]
  },
  {
   "cell_type": "code",
   "execution_count": 63,
   "metadata": {},
   "outputs": [
    {
     "data": {
      "text/plain": [
       "find_dups_in_str (generic function with 1 method)"
      ]
     },
     "execution_count": 63,
     "metadata": {},
     "output_type": "execute_result"
    }
   ],
   "source": [
    "# returns dup char --> num instances dictionary, num of duplicate chars  \n",
    "##### returns 2 x N array (N = num dup char) of duplicate char & num instances, num of duplicate chars\n",
    "\n",
    "function find_dups_in_str(str::String)\n",
    "    alphabet = Set{Char}() \n",
    "    duplicates = OrderedDict{Char, Int}()  # duplicate char --> num instances \n",
    "\n",
    "    for char in str   \n",
    "        # print(char)\n",
    "        if char in alphabet \n",
    "            if char in keys(duplicates)\n",
    "                duplicates[char] += 1\n",
    "            else \n",
    "                duplicates[char] = 2 \n",
    "            end \n",
    "        else \n",
    "            push!(alphabet, char)\n",
    "        end \n",
    "    end \n",
    "\n",
    "    return duplicates, length(duplicates)\n",
    "end "
   ]
  },
  {
   "cell_type": "code",
   "execution_count": 70,
   "metadata": {},
   "outputs": [
    {
     "name": "stdout",
     "output_type": "stream",
     "text": [
      "OrderedDict('a' => 3, 'b' => 2, 'f' => 4)\n",
      "[0, 1, 17]\n",
      "[2, 0, 0]\n",
      "[1, 1, 13]\n",
      "[2, 0, 6]\n",
      "[1, 0, 7]\n",
      "[2, 1, 9]\n",
      "[3, 0, 23]\n",
      "[0, 0, 12]\n",
      "[0, 0, 5]\n",
      "[2, 1, 13]\n"
     ]
    }
   ],
   "source": [
    "# mapping S --> T, generates r random maps \n",
    "\n",
    "function randommap(S::String, T::String, r::Int)\n",
    "    S_dup_to_num_instances, S_num_dups = find_dups_in_str(S)\n",
    "    T_dup_to_num_instances, T_num_dups = find_dups_in_str(T)\n",
    "    \n",
    "    print(S_dup_to_num_instances, \"\\n\")\n",
    "    # print(T_dup_to_num_instances)\n",
    "\n",
    "    S_M = Array{Array{Int}}(undef, r)  # does it create a copy? \n",
    "\n",
    "\n",
    "    for i in 1:r \n",
    "        # ONE MAP \n",
    "        S_map = Array{Int}(undef, S_num_dups)\n",
    "        # S_dup_char_to_map_idx = Dict{Char, Int}()\n",
    "\n",
    "        idx = 1\n",
    "        # for each position of the map (each gene w >1 instances)\n",
    "        for (dup_char, num_instances) in pairs(S_dup_to_num_instances)\n",
    "            # an integer value is selcted uniformly from the interval [0, occ(α, S)! -1] \n",
    "            mapidx_for_dup_char = rand(0:factorial(num_instances)-1)\n",
    "            \n",
    "            S_map[idx] = mapidx_for_dup_char\n",
    "            # next r RM of src str S are generated and stored in a set M \n",
    "            \n",
    "            # S_dup_char_to_map_idx[dup_char] = idx \n",
    "            idx += 1\n",
    "        end \n",
    "\n",
    "        # print(S_dup_char_to_map_idx, \"\\n\")\n",
    "        print(S_map, \"\\n\")\n",
    "\n",
    "        push!(S_map)\n",
    "    \n",
    "    end \n",
    "        \n",
    "\n",
    "\n",
    "    \n",
    "\n",
    "    # lehmer code to convert int n --> nth permutation in lexicographical order \n",
    "\n",
    "   \n",
    "        \n",
    "    # intiially the target string is mapped into permutation Pp using an arbitrary map p \n",
    "    \n",
    "    # for each map m in M \n",
    "        # distance between permutation Sm and Pp is computed using estimator algo \n",
    "\n",
    "    #return shortest map iwth shortest dist between permutations \n",
    "end \n",
    "\n",
    "src = \"aaabbcdeffffgh\"\n",
    "target = \"cbaa\"\n",
    "\n",
    "randommap(src, target, 10)"
   ]
  }
 ],
 "metadata": {
  "kernelspec": {
   "display_name": "Julia 1.10.3",
   "language": "julia",
   "name": "julia-1.10"
  },
  "language_info": {
   "file_extension": ".jl",
   "mimetype": "application/julia",
   "name": "julia",
   "version": "1.10.3"
  }
 },
 "nbformat": 4,
 "nbformat_minor": 2
}
