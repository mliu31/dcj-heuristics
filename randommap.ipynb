{
 "cells": [
  {
   "cell_type": "code",
   "execution_count": 115,
   "metadata": {},
   "outputs": [],
   "source": [
    "using Random\n",
    "using DataStructures"
   ]
  },
  {
   "cell_type": "code",
   "execution_count": 116,
   "metadata": {},
   "outputs": [
    {
     "data": {
      "text/plain": [
       "find_dups_in_str (generic function with 1 method)"
      ]
     },
     "execution_count": 116,
     "metadata": {},
     "output_type": "execute_result"
    }
   ],
   "source": [
    "# returns dup char --> num instances dictionary, num of duplicate chars  \n",
    "##### returns 2 x N array (N = num dup char) of duplicate char & num instances, num of duplicate chars\n",
    "\n",
    "function find_dups_in_str(str::String)\n",
    "    alphabet = Set{Char}() \n",
    "    duplicates = OrderedDict{Char, Int}()  # duplicate char --> num instances \n",
    "\n",
    "    for char in str\n",
    "        char = lowercase(char)   \n",
    "        if char in alphabet \n",
    "            if char in keys(duplicates)\n",
    "                duplicates[char] += 1\n",
    "            else \n",
    "                duplicates[char] = 2 \n",
    "            end \n",
    "        else \n",
    "            push!(alphabet, char)\n",
    "        end \n",
    "    end \n",
    "\n",
    "    return duplicates, length(duplicates) \n",
    "end "
   ]
  },
  {
   "cell_type": "code",
   "execution_count": 117,
   "metadata": {},
   "outputs": [
    {
     "data": {
      "text/plain": [
       "generate_map (generic function with 1 method)"
      ]
     },
     "execution_count": 117,
     "metadata": {},
     "output_type": "execute_result"
    }
   ],
   "source": [
    "function generate_map(num_dups::Int, dup_to_num_instances::OrderedDict{Char, Int})\n",
    "    map = Array{Int}(undef, num_dups)\n",
    "    \n",
    "    idx = 1\n",
    "    # for each position of the map (each gene w >1 instances)\n",
    "    for (dup_char, num_instances) in pairs(dup_to_num_instances)\n",
    "        # an integer value is selcted uniformly from the interval [0, occ(α, S)! -1] \n",
    "        mapidx_for_dup_char = rand(0:factorial(num_instances)-1)\n",
    "        \n",
    "        map[idx] = mapidx_for_dup_char\n",
    "        idx += 1\n",
    "    end \n",
    "    \n",
    "    return map\n",
    "end "
   ]
  },
  {
   "cell_type": "code",
   "execution_count": 118,
   "metadata": {},
   "outputs": [
    {
     "data": {
      "text/plain": [
       "nth_lex_permutation (generic function with 1 method)"
      ]
     },
     "execution_count": 118,
     "metadata": {},
     "output_type": "execute_result"
    }
   ],
   "source": [
    "# DP implementation of factorial\n",
    "function Base.factorial(n::Int, factorials::Vector{Int})\n",
    "    if n == 1 || n == 0 \n",
    "        return 1\n",
    "    end \n",
    "\n",
    "    if 1 <= n <= length(factorials) \n",
    "        return factorials[n]\n",
    "    else \n",
    "        fact =  n * factorial(n - 1, factorials)\n",
    "        push!(factorials, fact)\n",
    "        return fact\n",
    "    end \n",
    "end\n",
    "\n",
    "# returns kth lexicogrpahical order of the first n ints \n",
    "# k ε [1,n!]\n",
    "function nth_lex_permutation(n::Int, k::Int)\n",
    "    # Adjust n to 0-based indexing for convenience\n",
    "    k -= 1\n",
    "    factorials = Vector{Int}()\n",
    "    \n",
    "    numbers = collect(1:n)\n",
    "    permutation = Vector{Int}()\n",
    "    \n",
    "    for i in 0:(n - 1)\n",
    "        fact = factorial(n - 1 - i, factorials)\n",
    "        index = div(k, fact)\n",
    "        k %= fact\n",
    "\n",
    "        push!(permutation, numbers[index + 1])\n",
    "        splice!(numbers, index + 1)\n",
    "    end\n",
    "    \n",
    "    return permutation\n",
    "end\n",
    "\n",
    "# n = 3  # num duplicates \n",
    "# k = 2  #  kth lexicogrpahical order of the first n ints [1:n!]\n",
    "\n",
    "# perm = nth_lexicographical_permutation(n, k)\n",
    "# println(perm)"
   ]
  },
  {
   "cell_type": "code",
   "execution_count": 119,
   "metadata": {},
   "outputs": [
    {
     "name": "stdout",
     "output_type": "stream",
     "text": [
      "[3]a31[2, 1, 3]"
     ]
    }
   ],
   "source": [
    "function deduplicate_genome(map::Array{Int}, dup_genome::String, dupchar_to_multiplicity::OrderedDict{Char, Int})\n",
    "    idx = 1\n",
    "    for (dupchar, mult) in pairs(dupchar_to_multiplicity)\n",
    "        print(dupchar, mult, idx) \n",
    "        # print(map[idx])\n",
    "        dup_perm = nth_lex_permutation(mult, map[idx])\n",
    "        \n",
    "        print(dup_perm)\n",
    "\n",
    "        idx += 1\n",
    "    end \n",
    "\n",
    "    # for k in dupchar_to_multiplicity \n",
    "    #     permutation = nth_lex_permutation\n",
    "    # end \n",
    "    # return dedup_genome \n",
    "end \n",
    "\n",
    "\n",
    "P = \"abAac\"\n",
    "P_dup_to_num_instances, P_num_dups = find_dups_in_str(P)\n",
    "P_map = generate_map(P_num_dups, P_dup_to_num_instances)\n",
    "print(P_map)\n",
    "\n",
    "deduplicate_genome(P_map, P, P_dup_to_num_instances)"
   ]
  },
  {
   "cell_type": "code",
   "execution_count": 120,
   "metadata": {},
   "outputs": [
    {
     "name": "stdout",
     "output_type": "stream",
     "text": [
      "SRC aabc --> TARGET abAc\n",
      "\n",
      "\u001b[35mtarget\u001b[39m\n",
      "dup genes --> multiplicity\n",
      "OrderedDict('a' => 2)\n",
      "\n",
      "target map\n",
      "[1]\n",
      "\n",
      "\u001b[35msource\u001b[39m\n",
      "dup genes --> multiplicity\n",
      "OrderedDict('a' => 2)\n",
      "\n",
      "source maps\n",
      "[1]\n",
      "[0]\n",
      "[1]\n"
     ]
    }
   ],
   "source": [
    "# mapping S --> T, generates r random maps (RM)\n",
    "\n",
    "function randommap(S::String, P::String, num_maps::Int)\n",
    "    println(\"SRC \", S, \" --> TARGET \", P, \"\\n\")\n",
    "\n",
    "    S_dupchar_to_multiplicity, S_num_dups = find_dups_in_str(S)\n",
    "    P_dupchar_to_multiplicity, P_num_dups = find_dups_in_str(P)\n",
    "    \n",
    "    ## TARGET \n",
    "    printstyled(\"target\", color=:magenta)\n",
    "    println(\"\\ndup genes --> multiplicity\")\n",
    "    println(P_dupchar_to_multiplicity, \"\\n\")\n",
    "\n",
    "    # arbitrary map p for target string \n",
    "    P_map = generate_map(P_num_dups, P_dupchar_to_multiplicity)\n",
    "    println(\"target map\")\n",
    "    print(P_map, \"\\n\")\n",
    "    \n",
    "\n",
    "    ## SOURCE\n",
    "    printstyled(\"\\nsource\", color=:magenta)\n",
    "    println(\"\\ndup genes --> multiplicity\")\n",
    "    println(S_dupchar_to_multiplicity, \"\\n\")\n",
    "\n",
    "    S_M = Array{Array{Int}}(undef, num_maps)  # TODO does copy elements or point to them? \n",
    "\n",
    "    # r RM of src str S are generated and stored in a set S_M \n",
    "    println(\"source maps\")\n",
    "    for i in 1:num_maps\n",
    "        s_map = generate_map(S_num_dups, S_dupchar_to_multiplicity)\n",
    "        println(s_map)\n",
    "        push!(S_M, s_map)\n",
    "    end \n",
    "\n",
    "    # use maps to deduplicate genomes \n",
    "    # dedup_P = deduplicate_genome(P_map, P, P_dup_to_num_instances)\n",
    "\n",
    "    # lehmer code to convert string S and P --> deduplicated S and P using the generated maps  \n",
    "    # nth_lex_permutation(n, k)\n",
    "    \n",
    "        # for each elem in each map convert int n --> nth permutation of n ints in lexicographical order \n",
    "\n",
    "   \n",
    "        \n",
    "    # intiially the target string is mapped into permutation Pp using an arbitrary map p \n",
    "    \n",
    "    # for each map m in M \n",
    "        # distance between permutation Sm and Pp is computed using estimator algo \n",
    "\n",
    "    #return shortest map iwth shortest dist between permutations \n",
    "end \n",
    "\n",
    "\n",
    "src = \"aabc\"\n",
    "target = \"abAc\"\n",
    "num_maps = 3\n",
    "\n",
    "randommap(src, target, num_maps)"
   ]
  }
 ],
 "metadata": {
  "kernelspec": {
   "display_name": "Julia 1.10.3",
   "language": "julia",
   "name": "julia-1.10"
  },
  "language_info": {
   "file_extension": ".jl",
   "mimetype": "application/julia",
   "name": "julia",
   "version": "1.10.3"
  }
 },
 "nbformat": 4,
 "nbformat_minor": 2
}
