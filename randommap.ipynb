{
 "cells": [
  {
   "cell_type": "code",
   "execution_count": null,
   "metadata": {},
   "outputs": [],
   "source": [
    "# mapping S --> T, generates r random maps \n",
    "\n",
    "function randommap(S::String, T::String, r::Int)\n",
    "    # for each position of the map (each gene w >1 instances)\n",
    "        # an integer value is selcted uniformly from the interval [0, occ(alpha, S)! -1] \n",
    "        # intiially the target string is mapped into permutation Pp using an arbitrary map p \n",
    "        # next r RM of src str S are generated and stored in a set M \n",
    "\n",
    "    # for each map m in M \n",
    "        # distance between permutation Sm and Pp is computed using estimator algo \n",
    "\n",
    "    #return shortest map iwth shortest dist between permutations \n",
    "end "
   ]
  }
 ],
 "metadata": {
  "kernelspec": {
   "display_name": "Julia 1.10.3",
   "language": "julia",
   "name": "julia-1.10"
  },
  "language_info": {
   "name": "julia"
  }
 },
 "nbformat": 4,
 "nbformat_minor": 2
}
