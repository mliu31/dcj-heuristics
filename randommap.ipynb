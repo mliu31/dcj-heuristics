{
 "cells": [
  {
   "cell_type": "code",
   "execution_count": 1,
   "metadata": {},
   "outputs": [],
   "source": [
    "using Random\n",
    "using DataStructures\n",
    "using Plots\n",
    "using Statistics\n",
    "using Combinatorics\n",
    "\n",
    "using NBInclude\n",
    "@nbinclude(\"dcj_algo.ipynb\")\n",
    "@nbinclude(\"testing_diameter.ipynb\")"
   ]
  },
  {
   "cell_type": "code",
   "execution_count": 2,
   "metadata": {},
   "outputs": [
    {
     "data": {
      "text/plain": [
       "setmode (generic function with 1 method)"
      ]
     },
     "execution_count": 2,
     "metadata": {},
     "output_type": "execute_result"
    }
   ],
   "source": [
    "function setmode(mode::String)\n",
    "    if mode == \"info\"\n",
    "        m = 1\n",
    "    else  # none \n",
    "        m = 0 \n",
    "    end \n",
    "    \n",
    "    return m \n",
    "end "
   ]
  },
  {
   "cell_type": "code",
   "execution_count": 3,
   "metadata": {},
   "outputs": [
    {
     "data": {
      "text/plain": [
       "1-element Vector{Vector{String}}:\n",
       " [\"a\", \"b\", \"c\", \"a\"]"
      ]
     },
     "execution_count": 3,
     "metadata": {},
     "output_type": "execute_result"
    }
   ],
   "source": [
    "function string_to_genomearr(genome::String)\n",
    "    chroms = split(genome, \",\")\n",
    "    genome_array = Vector{Vector{String}}() \n",
    "\n",
    "    for c in chroms \n",
    "        genes = Vector{String}() \n",
    "        if c[1] == '.' \n",
    "            if length(c) == 2\n",
    "                push!(genes, \".\")\n",
    "                push!(genes, \".\")\n",
    "            else \n",
    "                c = String(c[2:end-1])\n",
    "                g = split(c, \"'\")\n",
    "\n",
    "                push!(genes, \".\")\n",
    "                append!(genes, g)\n",
    "                push!(genes, \".\")\n",
    "            end \n",
    "        else \n",
    "            genes = split(c, \"'\")\n",
    "        end\n",
    "        push!(genome_array, genes)\n",
    "    end \n",
    "    return genome_array\n",
    "end\n",
    "\n",
    "# src = \".a.,a'ab,..,B'c'b\"  \n",
    "src = \"a'b'c'a\"\n",
    "g_arr = string_to_genomearr(src)"
   ]
  },
  {
   "cell_type": "code",
   "execution_count": 4,
   "metadata": {},
   "outputs": [
    {
     "data": {
      "text/plain": [
       "find_dups_in_genome_arr (generic function with 1 method)"
      ]
     },
     "execution_count": 4,
     "metadata": {},
     "output_type": "execute_result"
    }
   ],
   "source": [
    "# returns dup char --> num instances dictionary, num of duplicate chars  \n",
    "##### returns 2 x N array (N = num dup char) of duplicate char & num instances, num of duplicate chars\n",
    "\n",
    "function find_dups_in_genome_arr(genome::Vector{Vector{String}})\n",
    "    seen_genes = Set{String}() \n",
    "    duplicates = OrderedDict{String, Int}()  # duplicate char --> num instances \n",
    "\n",
    "    for chrom in genome\n",
    "        for gene in chrom     \n",
    "            if gene == \".\"\n",
    "                continue \n",
    "            end     \n",
    "            gene = lowercase(gene)   \n",
    "            if gene in seen_genes \n",
    "                if gene in keys(duplicates)\n",
    "                    duplicates[gene] += 1\n",
    "                else \n",
    "                    duplicates[gene] = 2 \n",
    "                end \n",
    "            else \n",
    "                push!(seen_genes, gene)\n",
    "            end \n",
    "        end \n",
    "    end \n",
    "\n",
    "    return duplicates, length(duplicates) \n",
    "end \n",
    "\n",
    "# find_dups_in_genome_arr(g_arr)"
   ]
  },
  {
   "cell_type": "code",
   "execution_count": 5,
   "metadata": {},
   "outputs": [
    {
     "data": {
      "text/plain": [
       "generate_map (generic function with 1 method)"
      ]
     },
     "execution_count": 5,
     "metadata": {},
     "output_type": "execute_result"
    }
   ],
   "source": [
    "function generate_map(num_dups::Int, dup_to_num_instances::OrderedDict{String, Int}, S_M_set::Set{Array{Int}}, mapidx_to_str::Dict{Int, String})\n",
    "    if isempty(mapidx_to_str)\n",
    "        first = true   \n",
    "    else \n",
    "        first = false          \n",
    "    end \n",
    "    while true \n",
    "        map = Array{Int}(undef, num_dups)\n",
    "        \n",
    "        idx = 1\n",
    "        # for each position of the map (each gene w >1 instances)\n",
    "        for (dupgene, num_instances) in pairs(dup_to_num_instances)\n",
    "            # an integer value is selcted uniformly from the interval [0, occ(α, S)! -1] \n",
    "            rank_for_dupgene = rand(1:factorial(num_instances))\n",
    "            \n",
    "            map[idx] = rank_for_dupgene\n",
    "            \n",
    "            if first \n",
    "                mapidx_to_str[idx] = dupgene\n",
    "            end \n",
    "            idx += 1\n",
    "        end \n",
    "        if map ∉ S_M_set\n",
    "            println(\"Breaking\")\n",
    "            return map\n",
    "        end \n",
    "    end \n",
    "end \n",
    "\n",
    "# S = \"aabc\"\n",
    "# S_dupchar_to_multiplicity, S_num_dups = find_dups_in_str(S)\n",
    "# S_M_set = Set{Array{Int}}()\n",
    "# map = generate_map(S_num_dups, S_dupchar_to_multiplicity, S_M_set)\n",
    "# push!(S_M_set, map)\n",
    "# map = generate_map(S_num_dups, S_dupchar_to_multiplicity, S_M_set)\n",
    "# push!(S_M_set, map)\n",
    "# map = generate_map(S_num_dups, S_dupchar_to_multiplicity, S_M_set) # should throw error bc alr generated all possible maps"
   ]
  },
  {
   "cell_type": "code",
   "execution_count": 6,
   "metadata": {},
   "outputs": [
    {
     "data": {
      "text/plain": [
       "generate_maps (generic function with 1 method)"
      ]
     },
     "execution_count": 6,
     "metadata": {},
     "output_type": "execute_result"
    }
   ],
   "source": [
    "function generate_maps(S_dupstr_to_multiplicity::OrderedDict{String, Int}, S_num_dups::Int, P_dupstr_to_multiplicity::OrderedDict{String, Int}, P_num_dups::Int, num_maps::Int, m::Int)\n",
    "    # check max num of maps \n",
    "    max_maps = 1\n",
    "    for (dup, mult) in S_dupstr_to_multiplicity\n",
    "        max_maps *= factorial(mult)\n",
    "    end \n",
    "    if num_maps == 0 || num_maps > max_maps  \n",
    "        num_maps = max_maps \n",
    "        println(\"warning: capping maps at \", max_maps)\n",
    "    end \n",
    "\n",
    "    # target map\n",
    "    P_map = ones(Int, P_num_dups)\n",
    "\n",
    "    if m >= 1\n",
    "        printstyled(\"target\", color=:magenta)\n",
    "        println(\"\\ndup genes --> multiplicity\")\n",
    "        println(P_dupstr_to_multiplicity, \"\\n\")\n",
    "\n",
    "        # arbitrary map p for target string \n",
    "        println(\"target map\")\n",
    "        print(P_map, \"\\n\")\n",
    "    end   \n",
    "    \n",
    "    # source maps \n",
    "    S_M = Array{Array{Int}}(undef, num_maps)  \n",
    "    S_M_set = Set{Array{Int}}()\n",
    "\n",
    "\n",
    "    # r RM of src str S are generated and stored in a set S_M \n",
    "    if m >= 1\n",
    "        printstyled(\"\\nsource\", color=:magenta)\n",
    "        println(\"\\ndup genes --> multiplicity\")\n",
    "        println(S_dupstr_to_multiplicity, \"\\n\")\n",
    "        # println(\"source maps\")\n",
    "    end \n",
    "    \n",
    "    mapidx_to_str = Dict{Int, String}()\n",
    "    for i in 1:num_maps\n",
    "        s_map = generate_map(S_num_dups, S_dupstr_to_multiplicity, S_M_set, mapidx_to_str)\n",
    "        S_M[i] = s_map\n",
    "        push!(S_M_set, s_map)\n",
    "    end \n",
    "\n",
    "    return P_map, S_M, mapidx_to_str\n",
    "end "
   ]
  },
  {
   "cell_type": "code",
   "execution_count": 7,
   "metadata": {},
   "outputs": [
    {
     "data": {
      "text/plain": [
       "deduplicate_genome (generic function with 1 method)"
      ]
     },
     "execution_count": 7,
     "metadata": {},
     "output_type": "execute_result"
    }
   ],
   "source": [
    "function reorder_dupgenes_lexicographically(map::Array{Int}, dupgene_to_multiplicity::OrderedDict{String, Int})\n",
    "    dup_to_uniq = OrderedDict{String, Vector{String}}()\n",
    "\n",
    "    # for each duplicated gene's array of unique genes, reorder lexicographically\n",
    "    idx = 1\n",
    "    for (dupgene, mult) in pairs(dupgene_to_multiplicity)  # need to process dup genes in the order of ordereddict dupchar_to_mult \n",
    "        uniq_genes = Vector{String}() \n",
    "        for i in 1:mult\n",
    "            uniq = string(dupgene) * string(i)\n",
    "            push!(uniq_genes, uniq)\n",
    "        end \n",
    "        dup_to_uniq[dupgene] = uniq_genes\n",
    "\n",
    "        # for each elem i in map, convert i --> ith permutation of k ints in lexicographical order (k = multiplicity)\n",
    "        nthperm!(dup_to_uniq[dupgene], map[idx])  \n",
    "        idx += 1\n",
    "    end \n",
    "\n",
    "    return dup_to_uniq\n",
    "end \n",
    "\n",
    "# deduplicate the genome with the orderings in dup_to_uniq \n",
    "function deduplicate_genome(genome::Vector{Vector{String}}, dupgene_to_multiplicity::OrderedDict{String, Int}, map::Array{Int})\n",
    "    dup_to_uniq = reorder_dupgenes_lexicographically(map, dupgene_to_multiplicity)\n",
    "    dedup_genome = \"\"\n",
    "    \n",
    "    for chrom in genome \n",
    "        dedup_chrom = \"\"\n",
    "        for gene in chrom\n",
    "            if lowercase(gene) in keys(dup_to_uniq)\n",
    "                unique_gene = dup_to_uniq[lowercase(gene)][1]\n",
    "                if all(isuppercase, gene) \n",
    "                    unique_gene = uppercase(unique_gene)\n",
    "                end \n",
    "                \n",
    "                dedup_chrom *= unique_gene\n",
    "                splice!(dup_to_uniq[lowercase(gene)], 1)\n",
    "            else \n",
    "                if gene == \".\"\n",
    "                    dedup_chrom *= gene\n",
    "                else\n",
    "                    dedup_chrom *= gene*\"1\"\n",
    "                end \n",
    "            end \n",
    "        end\n",
    "        dedup_genome *= dedup_chrom*\",\"\n",
    "    end \n",
    "\n",
    "    return dedup_genome[1:end-1]\n",
    "end \n",
    "\n",
    "\n",
    "\n",
    "# P = \"a1b1b2A2a3c1\"\n",
    "# P_dup_to_num_instances, P_num_dups = find_dups_in_str(P)\n",
    "# P_map = generate_map(P_num_dups, P_dup_to_num_instances, Set{Array{Int64}}(), Dict{Int, String}() )\n",
    "\n",
    "# deduplicate_genome(P, P_dup_to_num_instances, P_map)"
   ]
  },
  {
   "cell_type": "code",
   "execution_count": 8,
   "metadata": {},
   "outputs": [
    {
     "data": {
      "text/plain": [
       "generate_random_maps_and_calc_distances (generic function with 1 method)"
      ]
     },
     "execution_count": 8,
     "metadata": {},
     "output_type": "execute_result"
    }
   ],
   "source": [
    "function generate_random_maps_and_calc_distances(S::Vector{Vector{String}}, P::Vector{Vector{String}}, num_maps::Int, m::Int)\n",
    "    P_dupgene_to_multiplicity, P_num_dups = find_dups_in_genome_arr(P)\n",
    "    S_dupgene_to_multiplicity, S_num_dups = find_dups_in_genome_arr(S)\n",
    "    \n",
    "    # ## GENERATE MAPS  \n",
    "    P_map, S_M, mapidx_to_gene = generate_maps(S_dupgene_to_multiplicity, S_num_dups, P_dupgene_to_multiplicity, P_num_dups, num_maps, m)\n",
    "\n",
    "    # ## DEDUPICATION & DISTANCE CALCULATION\n",
    "    if m >= 1\n",
    "        printstyled(\"deduplication of RM\\n\", color=:magenta)\n",
    "    end \n",
    "\n",
    "    # target genome \n",
    "    P_dedup = deduplicate_genome(P, P_dupgene_to_multiplicity, P_map)\n",
    "\n",
    "    # src genomes \n",
    "    map_to_dedupstr_dcjdist = Dict{Vector{Int}, Tuple{String, Int}}()\n",
    "\n",
    "    for s_map in S_M \n",
    "        s_dedup = deduplicate_genome(S, S_dupgene_to_multiplicity, s_map)\n",
    "        # print(P_dedup, s_dedup)\n",
    "        d = calculate_distance(P_dedup, s_dedup, \"none\")\n",
    "        \n",
    "        map_to_dedupstr_dcjdist[s_map] = (s_dedup, d)\n",
    "\n",
    "        if m >= 1\n",
    "            println(s_map, \" \", s_dedup, \" --> \", P_dedup, \" \", d)\n",
    "        end \n",
    "    end\n",
    "    \n",
    "    return P_map, P_dedup, map_to_dedupstr_dcjdist, S_dupgene_to_multiplicity, mapidx_to_gene\n",
    "end "
   ]
  },
  {
   "cell_type": "code",
   "execution_count": 9,
   "metadata": {},
   "outputs": [
    {
     "data": {
      "text/plain": [
       "randommap (generic function with 1 method)"
      ]
     },
     "execution_count": 9,
     "metadata": {},
     "output_type": "execute_result"
    }
   ],
   "source": [
    "# mapping S --> T, generates r random maps (RM)\n",
    "# mode options: \"none\", \"info\"\n",
    "function randommap(S::String, P::String, num_maps::Int, mode::String)\n",
    "    m = setmode(mode)\n",
    "\n",
    "    if m >= 1\n",
    "        printstyled(\"\\nSRC \" * S * \" --> TARGET \" * P * \"\\n\", color=:cyan)\n",
    "    end \n",
    "    \n",
    "    S_arr = string_to_genomearr(S)\n",
    "    P_arr = string_to_genomearr(P)\n",
    "\n",
    "    # generate maps and calculate DCJ distance\n",
    "    P_map, P_dedup, map_to_dedupstr_dcjdist, _, _ = generate_random_maps_and_calc_distances(S_arr, P_arr, num_maps, m)\n",
    "\n",
    "    return P_dedup, map_to_dedupstr_dcjdist \n",
    "end "
   ]
  },
  {
   "cell_type": "markdown",
   "metadata": {},
   "source": [
    "use ' to separate genes within a chromosome"
   ]
  },
  {
   "cell_type": "code",
   "execution_count": 1,
   "metadata": {},
   "outputs": [],
   "source": [
    "# # src = \".a.,a'ab,b'c\"  \n",
    "# # target = \"ab,a,b,c'a\"\n",
    "# # num_maps = 8\n",
    "\n",
    "# # n = 3\n",
    "# # x = 2\n",
    "# # num_maps = 0\n",
    "# # src, target = generate_genomes_with_xdup(n, x)\n",
    "\n",
    "\n",
    "# src = \"a'a'b'c\"\n",
    "# target = \".a'a'b.,c\"\n",
    "# num_maps = 2\n",
    "\n",
    "# target, map_to_dedupstr_dcjdist = randommap(src, target, num_maps, \"info\")"
   ]
  }
 ],
 "metadata": {
  "kernelspec": {
   "display_name": "Julia 1.10.3",
   "language": "julia",
   "name": "julia-1.10"
  },
  "language_info": {
   "file_extension": ".jl",
   "mimetype": "application/julia",
   "name": "julia",
   "version": "1.10.3"
  }
 },
 "nbformat": 4,
 "nbformat_minor": 2
}
