{
 "cells": [
  {
   "cell_type": "code",
   "execution_count": 9,
   "metadata": {},
   "outputs": [],
   "source": [
    "using Random\n",
    "using DataStructures\n",
    "using Plots\n",
    "using Statistics\n",
    "using Combinatorics\n",
    "\n",
    "using NBInclude\n",
    "@nbinclude(\"dcj_algo.ipynb\")\n",
    "@nbinclude(\"testing_diameter.ipynb\")"
   ]
  },
  {
   "cell_type": "code",
   "execution_count": 10,
   "metadata": {},
   "outputs": [
    {
     "data": {
      "text/plain": [
       "find_dups_in_str (generic function with 1 method)"
      ]
     },
     "execution_count": 10,
     "metadata": {},
     "output_type": "execute_result"
    }
   ],
   "source": [
    "# returns dup char --> num instances dictionary, num of duplicate chars  \n",
    "##### returns 2 x N array (N = num dup char) of duplicate char & num instances, num of duplicate chars\n",
    "\n",
    "function find_dups_in_str(str::String)\n",
    "    alphabet = Set{Char}() \n",
    "    duplicates = OrderedDict{Char, Int}()  # duplicate char --> num instances \n",
    "\n",
    "    for char in str\n",
    "        if char == '.' || char == ','\n",
    "            continue \n",
    "        end \n",
    "        \n",
    "        char = lowercase(char)   \n",
    "        if char in alphabet \n",
    "            if char in keys(duplicates)\n",
    "                duplicates[char] += 1\n",
    "            else \n",
    "                duplicates[char] = 2 \n",
    "            end \n",
    "        else \n",
    "            push!(alphabet, char)\n",
    "        end \n",
    "    end \n",
    "\n",
    "    return duplicates, length(duplicates) \n",
    "end "
   ]
  },
  {
   "cell_type": "code",
   "execution_count": 11,
   "metadata": {},
   "outputs": [
    {
     "data": {
      "text/plain": [
       "generate_map (generic function with 1 method)"
      ]
     },
     "execution_count": 11,
     "metadata": {},
     "output_type": "execute_result"
    }
   ],
   "source": [
    "function generate_map(num_dups::Int, dup_to_num_instances::OrderedDict{Char, Int}, S_M_set::Set{Array{Int}})\n",
    "    while true \n",
    "        map = Array{Int}(undef, num_dups)\n",
    "        \n",
    "        idx = 1\n",
    "        # for each position of the map (each gene w >1 instances)\n",
    "        for (dup_char, num_instances) in pairs(dup_to_num_instances)\n",
    "            # an integer value is selcted uniformly from the interval [0, occ(α, S)! -1] \n",
    "            mapidx_for_dup_char = rand(1:factorial(num_instances))\n",
    "            \n",
    "            map[idx] = mapidx_for_dup_char\n",
    "            idx += 1\n",
    "        end \n",
    "        if map ∉ S_M_set\n",
    "            return map \n",
    "        end \n",
    "    end \n",
    "end \n",
    "\n",
    "# S = \"aabc\"\n",
    "# S_dupchar_to_multiplicity, S_num_dups = find_dups_in_str(S)\n",
    "# S_M_set = Set{Array{Int}}()\n",
    "# map = generate_map(S_num_dups, S_dupchar_to_multiplicity, S_M_set)\n",
    "# push!(S_M_set, map)\n",
    "# map = generate_map(S_num_dups, S_dupchar_to_multiplicity, S_M_set)\n",
    "# push!(S_M_set, map)\n",
    "# map = generate_map(S_num_dups, S_dupchar_to_multiplicity, S_M_set) # should throw error bc alr generated all possible maps"
   ]
  },
  {
   "cell_type": "code",
   "execution_count": 12,
   "metadata": {},
   "outputs": [
    {
     "data": {
      "text/plain": [
       "deduplicate_genome (generic function with 1 method)"
      ]
     },
     "execution_count": 12,
     "metadata": {},
     "output_type": "execute_result"
    }
   ],
   "source": [
    "function new_char(alphabet::Set{Char})\n",
    "    while length(alphabet) != 26 \n",
    "        c = Char(rand('a':'z'))\n",
    "        if c ∉ alphabet \n",
    "            push!(alphabet, c)\n",
    "            return c\n",
    "        end \n",
    "    end \n",
    "    throw(ArgumentError(\"Ran out of unique characters in the alphabet\"))\n",
    "    \n",
    "end \n",
    "\n",
    "function create_map_duptouniquechar(dupchar_to_unique_chars::OrderedDict{Char, Vector{Char}}, dup_genome::String, dupchar_to_multiplicity::OrderedDict{Char, Int})\n",
    "    alphabet = Set(dup_genome)\n",
    "        \n",
    "    # create mapping from duplicated chars (multiplicity k) --> [array of k unique chars], idx = idx of duplicate (referenced by permutation) \n",
    "    idx = 1\n",
    "    for (dupchar, mult) in pairs(dupchar_to_multiplicity)\n",
    "        unique_chars = [dupchar]\n",
    "        for i in 2:dupchar_to_multiplicity[dupchar]\n",
    "            c = new_char(alphabet)\n",
    "            push!(unique_chars, c)\n",
    "        end     \n",
    "        dupchar_to_unique_chars[dupchar] = unique_chars\n",
    "        \n",
    "        idx += 1\n",
    "    end \n",
    "end \n",
    "\n",
    "function reorder_dup_chars_lexicographically(map::Array{Int}, dupchar_to_multiplicity::OrderedDict{Char, Int}, dupchar_to_unique_chars::OrderedDict{Char, Vector{Char}})\n",
    "    dup_to_uniq = deepcopy(dupchar_to_unique_chars)\n",
    "\n",
    "    # for each duplicated char's array of unique chars, reorder lexicographically\n",
    "    idx = 1\n",
    "    for (dupchar, unique_chars) in pairs(dupchar_to_multiplicity)  # need to process dup chars in the order of ordereddict dupchar_to_mult \n",
    "        # for each elem i in map, convert i --> ith permutation of k ints in lexicographical order (k = multiplicity)\n",
    "        nthperm!(dup_to_uniq[dupchar], map[idx])  \n",
    "        idx += 1\n",
    "    end \n",
    "\n",
    "    return dup_to_uniq\n",
    "end \n",
    "\n",
    "# deduplicate the genome with the orderings in dup_to_uniq \n",
    "function deduplicate_genome(dup_genome::String, dupchar_to_multiplicity::OrderedDict{Char, Int}, dup_to_uniq::OrderedDict{Char, Vector{Char}})\n",
    "    dedup_genome = Vector{Char}()\n",
    "    for char in dup_genome\n",
    "        if char in keys(dupchar_to_multiplicity)\n",
    "            unique_char = dup_to_uniq[lowercase(char)][1]\n",
    "            if isuppercase(char) \n",
    "                unique_char = uppercase(unique_char)\n",
    "            end \n",
    "\n",
    "            push!(dedup_genome, unique_char)\n",
    "            splice!(dup_to_uniq[lowercase(char)], 1)\n",
    "        else \n",
    "            push!(dedup_genome, char)\n",
    "        end \n",
    "    end\n",
    "\n",
    "    return join(dedup_genome)\n",
    "end \n",
    "\n",
    "\n",
    "\n",
    "# P = \"abbAac\"\n",
    "# P_dup_to_num_instances, P_num_dups = find_dups_in_str(P)\n",
    "# P_map = generate_map(P_num_dups, P_dup_to_num_instances, Set{Array{Int64}}())\n",
    "# dupchar_to_unique_char = OrderedDict{Char, Vector{Char}}()\n",
    "\n",
    "# deduplicate_genome(P_map, P, P_dup_to_num_instances, dupchar_to_unique_char)"
   ]
  },
  {
   "cell_type": "code",
   "execution_count": 13,
   "metadata": {},
   "outputs": [
    {
     "data": {
      "text/plain": [
       "describe_dcj_distribution (generic function with 1 method)"
      ]
     },
     "execution_count": 13,
     "metadata": {},
     "output_type": "execute_result"
    }
   ],
   "source": [
    "function generate_maps(S_dupchar_to_multiplicity::OrderedDict{Char, Int}, S_num_dups::Int, P_dupchar_to_multiplicity::OrderedDict{Char, Int}, P_num_dups::Int, num_maps::Int, m::Int)\n",
    "    # check max num of maps \n",
    "    max_maps = 0 \n",
    "    for (dup, num_instances) in S_dupchar_to_multiplicity\n",
    "        max_maps += factorial(num_instances)\n",
    "    end \n",
    "\n",
    "    if num_maps == 0 || num_maps > max_maps  \n",
    "        num_maps = max_maps \n",
    "        # println(\"warning: maps to generate exceeds max number of unique maps possible for the given string\")\n",
    "    end \n",
    "\n",
    "    # target map\n",
    "    P_map = ones(Int, P_num_dups)\n",
    "\n",
    "    if m >= 1\n",
    "        printstyled(\"target\", color=:magenta)\n",
    "        println(\"\\ndup genes --> multiplicity\")\n",
    "        println(P_dupchar_to_multiplicity, \"\\n\")\n",
    "\n",
    "        # arbitrary map p for target string \n",
    "        println(\"target map\")\n",
    "        print(P_map, \"\\n\")\n",
    "    end   \n",
    "    \n",
    "    # source maps \n",
    "    S_M = Array{Array{Int}}(undef, num_maps)  \n",
    "    S_M_set = Set{Array{Int}}()\n",
    "\n",
    "\n",
    "    # r RM of src str S are generated and stored in a set S_M \n",
    "    if m >= 1\n",
    "        printstyled(\"\\nsource\", color=:magenta)\n",
    "        println(\"\\ndup genes --> multiplicity\")\n",
    "        println(S_dupchar_to_multiplicity, \"\\n\")\n",
    "        println(\"source maps\")\n",
    "    end \n",
    "    for i in 1:num_maps\n",
    "        s_map = generate_map(S_num_dups, S_dupchar_to_multiplicity, S_M_set)\n",
    "        S_M[i] = s_map\n",
    "        push!(S_M_set, s_map)\n",
    "        if m >= 1\n",
    "            println(s_map)\n",
    "        end \n",
    "    end \n",
    "\n",
    "    return P_map, S_M\n",
    "end \n",
    "\n",
    "\n",
    "\n",
    "function describe_dcj_distribution(map_to_dedupstr_dcjdist::Dict{Vector{Int64}, Tuple{String, Int64}})\n",
    "    \n",
    "    # min \n",
    "    min_dist = Inf\n",
    "    min_src = \"\"\n",
    "    min_map = Vector{Int}()\n",
    "\n",
    "    # max\n",
    "    max_dist = -1\n",
    "    max_src = \"\"\n",
    "    max_map = Vector{Int}()\n",
    "\n",
    "    idx = 1\n",
    "    for (map, tuple) in map_to_dedupstr_dcjdist\n",
    "        dedupstr = tuple[1]\n",
    "        dcjdist = tuple[2]\n",
    "\n",
    "        if dcjdist < min_dist\n",
    "            min_dist = dcjdist\n",
    "            min_src = dedupstr\n",
    "            min_map = map\n",
    "        end \n",
    "\n",
    "        if dcjdist > max_dist \n",
    "            max_dist = dcjdist \n",
    "            max_src = dedupstr\n",
    "            max_map = map\n",
    "        end \n",
    "\n",
    "        idx += 1\n",
    "    end\n",
    "\n",
    "    return min_dist, min_src, min_map, max_dist, max_src, max_map\n",
    "end \n",
    "\n"
   ]
  },
  {
   "cell_type": "code",
   "execution_count": 17,
   "metadata": {},
   "outputs": [
    {
     "data": {
      "text/plain": [
       "generate_random_maps_and_calc_distances (generic function with 1 method)"
      ]
     },
     "execution_count": 17,
     "metadata": {},
     "output_type": "execute_result"
    }
   ],
   "source": [
    "function generate_random_maps_and_calc_distances(S::String, P::String, num_maps::Int, dupchar_to_unique_chars::OrderedDict{Char, Vector{Char}}, m::Int)\n",
    "    P_dupchar_to_multiplicity, P_num_dups = find_dups_in_str(P)\n",
    "    S_dupchar_to_multiplicity, S_num_dups = find_dups_in_str(S)\n",
    "    \n",
    "    ## GENERATE MAPS  \n",
    "    P_map, S_M = generate_maps(S_dupchar_to_multiplicity, S_num_dups, P_dupchar_to_multiplicity, P_num_dups, num_maps, m)\n",
    "\n",
    "    ## DEDUPICATION & DISTANCE CALCULATION\n",
    "    if m >= 1\n",
    "        printstyled(\"\\ndeduplication\\n\", color=:magenta)\n",
    "    end \n",
    "    \n",
    "    # target genome \n",
    "    if dupchar_to_unique_chars == OrderedDict{Char, Vector{Char}}()  # is there a preexisting deduplication mapping?   \n",
    "        create_map_duptouniquechar(dupchar_to_unique_chars, P, P_dupchar_to_multiplicity)\n",
    "    end \n",
    "    P_dup_to_uniq = reorder_dup_chars_lexicographically(P_map, P_dupchar_to_multiplicity, dupchar_to_unique_chars)\n",
    "    P_dedup = deduplicate_genome(P, P_dupchar_to_multiplicity, P_dup_to_uniq)\n",
    "\n",
    "    # src genomes \n",
    "    map_to_dedupstr_dcjdist = Dict{Vector{Int}, Tuple{String, Int}}()\n",
    "\n",
    "    for s_map in S_M \n",
    "        s_dup_to_uniq = reorder_dup_chars_lexicographically(s_map, S_dupchar_to_multiplicity, dupchar_to_unique_chars)\n",
    "        s_dedup = deduplicate_genome(S, S_dupchar_to_multiplicity, s_dup_to_uniq)\n",
    "        \n",
    "        d = calculate_distance(P_dedup, s_dedup, \"none\")\n",
    "        \n",
    "        map_to_dedupstr_dcjdist[s_map] = (s_dedup, d)\n",
    "\n",
    "        if m >= 1\n",
    "            println(\"[deduplicated] \", s_dedup, \" --> \", P_dedup, \" \", d, \" \", s_map)\n",
    "        end \n",
    "    end \n",
    "    return P_map, P_dedup, map_to_dedupstr_dcjdist, S_dupchar_to_multiplicity\n",
    "\n",
    "end "
   ]
  },
  {
   "cell_type": "code",
   "execution_count": 15,
   "metadata": {},
   "outputs": [
    {
     "data": {
      "text/plain": [
       "setmode (generic function with 1 method)"
      ]
     },
     "execution_count": 15,
     "metadata": {},
     "output_type": "execute_result"
    }
   ],
   "source": [
    "function setmode(mode::String)\n",
    "    if mode == \"info\"\n",
    "        m = 1\n",
    "    else  # none \n",
    "        m = 0 \n",
    "    end \n",
    "    \n",
    "    return m \n",
    "end "
   ]
  },
  {
   "cell_type": "code",
   "execution_count": 18,
   "metadata": {},
   "outputs": [
    {
     "name": "stdout",
     "output_type": "stream",
     "text": [
      "\n",
      "\u001b[36mSRC .a.,aab,bc --> TARGET ba,a,b,ca\u001b[39m\n",
      "\u001b[35mtarget\u001b[39m\n",
      "dup genes --> multiplicity\n",
      "OrderedDict('a' => 3, 'b' => 2)\n",
      "\n",
      "target map\n",
      "[1, 1]\n",
      "\n",
      "\u001b[35msource\u001b[39m\n",
      "dup genes --> multiplicity\n",
      "OrderedDict('a' => 3, 'b' => 2)\n",
      "\n",
      "source maps\n",
      "[1, 2]\n",
      "[4, 2]\n",
      "[6, 2]\n",
      "[5, 1]\n",
      "[5, 2]\n",
      "[4, 1]\n",
      "[2, 1]\n",
      "[1, 1]\n",
      "\n",
      "\u001b[35mdeduplication\u001b[39m\n",
      "[deduplicated] .a.,xuw,bc --> ba,x,w,cu 6 [1, 2]\n",
      "[deduplicated] .x.,uaw,bc --> ba,x,w,cu 4 [4, 2]\n",
      "[deduplicated] .u.,xaw,bc --> ba,x,w,cu 6 [6, 2]\n",
      "[deduplicated] .u.,axb,wc --> ba,x,w,cu 4 [5, 1]\n",
      "[deduplicated] .u.,axw,bc --> ba,x,w,cu 6 [5, 2]\n",
      "[deduplicated] .x.,uab,wc --> ba,x,w,cu 4 [4, 1]\n",
      "[deduplicated] .a.,uxb,wc --> ba,x,w,cu 6 [2, 1]\n",
      "[deduplicated] .a.,xub,wc --> ba,x,w,cu 6 [1, 1]\n"
     ]
    },
    {
     "data": {
      "text/plain": [
       "(\"ba,x,w,cu\", 4, \".u.,axb,wc\", [5, 1], 6, \".a.,uxb,wc\", [2, 1], OrderedDict('a' => ['a', 'x', 'u'], 'b' => ['b', 'w']))"
      ]
     },
     "execution_count": 18,
     "metadata": {},
     "output_type": "execute_result"
    }
   ],
   "source": [
    "# mapping S --> T, generates r random maps (RM)\n",
    "# mode options: \"none\", \"info\"\n",
    "function randommap(S::String, P::String, num_maps::Int, mode::String, dupchar_to_unique_chars::OrderedDict{Char, Vector{Char}})\n",
    "    m = setmode(mode)\n",
    "\n",
    "    if m >= 1\n",
    "        printstyled(\"\\nSRC \" * S * \" --> TARGET \" * P * \"\\n\", color=:cyan)\n",
    "    end \n",
    "\n",
    "    # generate maps and calculate DCJ distance\n",
    "    P_map, P_dedup, map_to_dedupstr_dcjdist, _ = generate_random_maps_and_calc_distances(S, P, num_maps, dupchar_to_unique_chars, m)\n",
    "\n",
    "    # process dcj distance distribution\n",
    "    min_dist, min_src, min_map, max_dist, max_src, max_map = describe_dcj_distribution(map_to_dedupstr_dcjdist)\n",
    "\n",
    "    return P_dedup, min_dist, min_src, min_map, max_dist, max_src, max_map, dupchar_to_unique_chars\n",
    "end \n",
    "\n",
    "\n",
    "# src = \"aaAAaAbbbBbbccd\"  # 6a, 6b, 2c, 1d\n",
    "# target = \"abcdabbaacbabab\"\n",
    "# num_maps = 100\n",
    "\n",
    "src = \".a.,aab,bc\"  \n",
    "target = \"ba,a,b,ca\"\n",
    "num_maps = 8\n",
    "\n",
    "# n = 3\n",
    "# x = 2\n",
    "# num_maps = 0\n",
    "# src, target = generate_genomes_with_xdup(n, x)\n",
    "\n",
    "dupchar_to_unique_chars = OrderedDict{Char, Vector{Char}}()\n",
    "target, min_dist, min_src, min_map, max_dist, max_src, max_map, dupchar_to_unique_chars = randommap(src, target, num_maps, \"info\", dupchar_to_unique_chars)"
   ]
  }
 ],
 "metadata": {
  "kernelspec": {
   "display_name": "Julia 1.10.3",
   "language": "julia",
   "name": "julia-1.10"
  },
  "language_info": {
   "file_extension": ".jl",
   "mimetype": "application/julia",
   "name": "julia",
   "version": "1.10.3"
  }
 },
 "nbformat": 4,
 "nbformat_minor": 2
}
