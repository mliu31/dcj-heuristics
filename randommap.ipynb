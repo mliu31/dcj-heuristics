{
 "cells": [
  {
   "cell_type": "code",
   "execution_count": 73,
   "metadata": {},
   "outputs": [],
   "source": [
    "using Random\n",
    "using DataStructures"
   ]
  },
  {
   "cell_type": "code",
   "execution_count": 74,
   "metadata": {},
   "outputs": [
    {
     "data": {
      "text/plain": [
       "find_dups_in_str (generic function with 1 method)"
      ]
     },
     "execution_count": 74,
     "metadata": {},
     "output_type": "execute_result"
    }
   ],
   "source": [
    "# returns dup char --> num instances dictionary, num of duplicate chars  \n",
    "##### returns 2 x N array (N = num dup char) of duplicate char & num instances, num of duplicate chars\n",
    "\n",
    "function find_dups_in_str(str::String)\n",
    "    alphabet = Set{Char}() \n",
    "    duplicates = OrderedDict{Char, Int}()  # duplicate char --> num instances \n",
    "\n",
    "    for char in str   \n",
    "        if char in alphabet \n",
    "            if char in keys(duplicates)\n",
    "                duplicates[char] += 1\n",
    "            else \n",
    "                duplicates[char] = 2 \n",
    "            end \n",
    "        else \n",
    "            push!(alphabet, char)\n",
    "        end \n",
    "    end \n",
    "\n",
    "    return duplicates, length(duplicates) \n",
    "end "
   ]
  },
  {
   "cell_type": "code",
   "execution_count": 75,
   "metadata": {},
   "outputs": [
    {
     "data": {
      "text/plain": [
       "generate_map (generic function with 2 methods)"
      ]
     },
     "execution_count": 75,
     "metadata": {},
     "output_type": "execute_result"
    }
   ],
   "source": [
    "function generate_map(num_dups::Int, dup_to_num_instances::OrderedDict{Char, Int})\n",
    "    map = Array{Int}(undef, num_dups)\n",
    "    \n",
    "    idx = 1\n",
    "    # for each position of the map (each gene w >1 instances)\n",
    "    for (dup_char, num_instances) in pairs(dup_to_num_instances)\n",
    "        # an integer value is selcted uniformly from the interval [0, occ(α, S)! -1] \n",
    "        mapidx_for_dup_char = rand(0:factorial(num_instances)-1)\n",
    "        \n",
    "        map[idx] = mapidx_for_dup_char\n",
    "        idx += 1\n",
    "    end \n",
    "    \n",
    "    return map\n",
    "end "
   ]
  },
  {
   "cell_type": "code",
   "execution_count": 81,
   "metadata": {},
   "outputs": [
    {
     "name": "stdout",
     "output_type": "stream",
     "text": [
      "SRC aaabbcdeffffgh --> TARGET cbaaaa\n",
      "\n",
      "\u001b[35msource\u001b[39m\n",
      "\n",
      "dup genes --> multiplicity\n",
      "OrderedDict('a' => 3, 'b' => 2, 'f' => 4)\n",
      "\n",
      "source maps\n",
      "[3, 1, 13]\n",
      "[5, 1, 11]\n",
      "[3, 0, 7]\n",
      "[4, 0, 19]\n",
      "[2, 0, 18]\n",
      "[4, 0, 5]\n",
      "[4, 1, 10]\n",
      "[4, 1, 7]\n",
      "[4, 0, 17]\n",
      "[1, 1, 11]\n",
      "\n",
      "\u001b[35mtarget\u001b[39m\n",
      "dup genes --> multiplicity\n",
      "OrderedDict('a' => 4)\n",
      "\n",
      "target map\n",
      "[16]\n"
     ]
    }
   ],
   "source": [
    "# mapping S --> T, generates r random maps (RM)\n",
    "\n",
    "function randommap(S::String, P::String, num_maps::Int)\n",
    "    println(\"SRC \", S, \" --> TARGET \", P, \"\\n\")\n",
    "\n",
    "    S_dup_to_num_instances, S_num_dups = find_dups_in_str(S)\n",
    "    P_dup_to_num_instances, P_num_dups = find_dups_in_str(P)\n",
    "    \n",
    "    printstyled(\"source\\n\", color=:magenta)\n",
    "    println(\"\\ndup genes --> multiplicity\")\n",
    "    println(S_dup_to_num_instances, \"\\n\")\n",
    "\n",
    "    S_M = Array{Array{Int}}(undef, num_maps)  # does copy elements or point to them? \n",
    "\n",
    "    # r RM of src str S are generated and stored in a set S_M \n",
    "    println(\"source maps\")\n",
    "    for i in 1:num_maps\n",
    "        s_map = generate_map(S_num_dups, S_dup_to_num_instances)\n",
    "        println(s_map)\n",
    "        push!(S_M, s_map)\n",
    "    end \n",
    "        \n",
    "    printstyled(\"\\ntarget\", color=:magenta)\n",
    "    println(\"\\ndup genes --> multiplicity\")\n",
    "    println(P_dup_to_num_instances, \"\\n\")\n",
    "\n",
    "    # choose an arbitrary map p for target string \n",
    "    P_map = generate_map(P_num_dups, P_dup_to_num_instances)\n",
    "    println(\"target map\")\n",
    "    print(P_map, \"\\n\")\n",
    "\n",
    "    # lehmer code to convert S/P --> mapped S/P for each map \n",
    "    # convert int n --> nth permutation of n ints in lexicographical order \n",
    "\n",
    "   \n",
    "        \n",
    "    # intiially the target string is mapped into permutation Pp using an arbitrary map p \n",
    "    \n",
    "    # for each map m in M \n",
    "        # distance between permutation Sm and Pp is computed using estimator algo \n",
    "\n",
    "    #return shortest map iwth shortest dist between permutations \n",
    "end \n",
    "\n",
    "src = \"aaabbcdeffffgh\"\n",
    "target = \"cbaaaa\"\n",
    "num_maps = 10\n",
    "\n",
    "randommap(src, target, num_maps)"
   ]
  }
 ],
 "metadata": {
  "kernelspec": {
   "display_name": "Julia 1.10.3",
   "language": "julia",
   "name": "julia-1.10"
  },
  "language_info": {
   "file_extension": ".jl",
   "mimetype": "application/julia",
   "name": "julia",
   "version": "1.10.3"
  }
 },
 "nbformat": 4,
 "nbformat_minor": 2
}
